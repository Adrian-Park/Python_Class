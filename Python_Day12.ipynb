{
 "cells": [
  {
   "cell_type": "markdown",
   "id": "ae7ec82c",
   "metadata": {},
   "source": [
    "# 시계열 데이터\n",
    "## 날짜, 시간"
   ]
  },
  {
   "cell_type": "code",
   "execution_count": 1,
   "id": "infectious-exhibit",
   "metadata": {
    "ExecuteTime": {
     "end_time": "2021-06-05T05:16:49.334803Z",
     "start_time": "2021-06-05T05:16:48.353883Z"
    }
   },
   "outputs": [
    {
     "name": "stdout",
     "output_type": "stream",
     "text": [
      "2021-06-05 14:16:49.309265\n",
      "<class 'datetime.datetime'>\n",
      "2021\n",
      "6\n",
      "5\n"
     ]
    }
   ],
   "source": [
    "import pandas as pd\n",
    "from datetime import datetime\n",
    "\n",
    "now = datetime.now()\n",
    "print(now)\n",
    "print(type(now))\n",
    "print(now.year)\n",
    "print(now.month)\n",
    "print(now.day)"
   ]
  },
  {
   "cell_type": "code",
   "execution_count": 2,
   "id": "increasing-league",
   "metadata": {
    "ExecuteTime": {
     "end_time": "2021-06-05T05:16:49.352105Z",
     "start_time": "2021-06-05T05:16:49.334803Z"
    }
   },
   "outputs": [
    {
     "name": "stdout",
     "output_type": "stream",
     "text": [
      "926 days, 15:45:00\n",
      "<class 'datetime.timedelta'>\n",
      "926\n",
      "56700\n"
     ]
    }
   ],
   "source": [
    "delta = datetime(2011, 1, 7) - datetime(2008, 6, 24, 8, 15)\n",
    "print(delta)\n",
    "print(type(delta))\n",
    "print(delta.days)\n",
    "print(delta.seconds)"
   ]
  },
  {
   "cell_type": "code",
   "execution_count": 3,
   "id": "offshore-alexander",
   "metadata": {
    "ExecuteTime": {
     "end_time": "2021-06-05T05:16:51.229075Z",
     "start_time": "2021-06-05T05:16:51.208460Z"
    }
   },
   "outputs": [
    {
     "name": "stdout",
     "output_type": "stream",
     "text": [
      "2011-01-07 00:00:00\n",
      "2011-01-19 00:00:00\n",
      "2010-12-14 00:00:00\n"
     ]
    }
   ],
   "source": [
    "from datetime import timedelta\n",
    "start = datetime(2011, 1, 7)\n",
    "print(start)\n",
    "print(start + timedelta(12))\n",
    "print(start - 2 * timedelta(12))"
   ]
  },
  {
   "cell_type": "code",
   "execution_count": 4,
   "id": "behavioral-swaziland",
   "metadata": {
    "ExecuteTime": {
     "end_time": "2021-06-05T05:16:51.797516Z",
     "start_time": "2021-06-05T05:16:51.779447Z"
    }
   },
   "outputs": [
    {
     "name": "stdout",
     "output_type": "stream",
     "text": [
      "<class 'str'>\n",
      "2011-01-03 00:00:00\n",
      "<class 'datetime.datetime'>\n"
     ]
    }
   ],
   "source": [
    "from dateutil.parser import parse\n",
    "print(type('2011-01-03'))\n",
    "print(parse('2011-01-03'))\n",
    "print(type(parse('2011-01-03')))"
   ]
  },
  {
   "cell_type": "code",
   "execution_count": 5,
   "id": "quantitative-startup",
   "metadata": {
    "ExecuteTime": {
     "end_time": "2021-06-05T05:16:53.625727Z",
     "start_time": "2021-06-05T05:16:53.610870Z"
    }
   },
   "outputs": [
    {
     "name": "stdout",
     "output_type": "stream",
     "text": [
      "1997-01-31 22:45:00\n",
      "2011-12-06 00:00:00\n"
     ]
    }
   ],
   "source": [
    "print(parse('Jan 31, 1997 10:45 PM'))\n",
    "print(parse('6/12/2011', dayfirst = True))"
   ]
  },
  {
   "cell_type": "code",
   "execution_count": 6,
   "id": "weekly-thumbnail",
   "metadata": {
    "ExecuteTime": {
     "end_time": "2021-06-05T05:16:54.035018Z",
     "start_time": "2021-06-05T05:16:54.027041Z"
    }
   },
   "outputs": [
    {
     "name": "stdout",
     "output_type": "stream",
     "text": [
      "<class 'str'>\n"
     ]
    }
   ],
   "source": [
    "value = '2011-01-03'\n",
    "print(type(value))"
   ]
  },
  {
   "cell_type": "code",
   "execution_count": 7,
   "id": "atmospheric-garden",
   "metadata": {
    "ExecuteTime": {
     "end_time": "2021-06-05T05:16:54.575726Z",
     "start_time": "2021-06-05T05:16:54.566112Z"
    }
   },
   "outputs": [
    {
     "name": "stdout",
     "output_type": "stream",
     "text": [
      "2011-01-03 00:00:00\n",
      "<class 'datetime.datetime'>\n"
     ]
    }
   ],
   "source": [
    "value2=datetime.strptime(value, '%Y-%m-%d')\n",
    "print(value2)\n",
    "print(type(value2))"
   ]
  },
  {
   "cell_type": "code",
   "execution_count": 8,
   "id": "suburban-watson",
   "metadata": {
    "ExecuteTime": {
     "end_time": "2021-06-05T05:16:54.908853Z",
     "start_time": "2021-06-05T05:16:54.889003Z"
    }
   },
   "outputs": [
    {
     "name": "stdout",
     "output_type": "stream",
     "text": [
      "DatetimeIndex(['2011-07-06 12:00:00', '2011-08-06 00:00:00'], dtype='datetime64[ns]', freq=None)\n",
      "<class 'pandas.core.indexes.datetimes.DatetimeIndex'>\n"
     ]
    }
   ],
   "source": [
    "datestrs=['2011-07-06 12:00:00', '2011-08-06 00:00:00']\n",
    "d1=pd.to_datetime(datestrs)\n",
    "print(d1)\n",
    "print(type(d1))"
   ]
  },
  {
   "cell_type": "code",
   "execution_count": 9,
   "id": "homeless-elite",
   "metadata": {
    "ExecuteTime": {
     "end_time": "2021-06-05T05:16:55.255391Z",
     "start_time": "2021-06-05T05:16:55.235649Z"
    }
   },
   "outputs": [
    {
     "name": "stdout",
     "output_type": "stream",
     "text": [
      "DatetimeIndex(['2011-07-06 12:00:00', '2011-08-06 00:00:00', 'NaT'], dtype='datetime64[ns]', freq=None)\n",
      "NaT\n",
      "[False False  True]\n"
     ]
    }
   ],
   "source": [
    "idx=pd.to_datetime(datestrs+[None])\n",
    "print(idx)\n",
    "print(idx[2])\n",
    "print(pd.isnull(idx))"
   ]
  },
  {
   "cell_type": "code",
   "execution_count": 10,
   "id": "dependent-composer",
   "metadata": {
    "ExecuteTime": {
     "end_time": "2021-06-05T05:16:55.594672Z",
     "start_time": "2021-06-05T05:16:55.578660Z"
    }
   },
   "outputs": [],
   "source": [
    "import numpy as np\n",
    "date_strings = np.array(['03-04-2005 11:35 PM',\n",
    "'23-05-2010 12:01 AM',\n",
    "'04-09-2009 09:09 PM'])"
   ]
  },
  {
   "cell_type": "code",
   "execution_count": 11,
   "id": "adopted-victim",
   "metadata": {
    "ExecuteTime": {
     "end_time": "2021-06-05T05:16:55.943743Z",
     "start_time": "2021-06-05T05:16:55.907959Z"
    }
   },
   "outputs": [
    {
     "data": {
      "text/plain": [
       "DatetimeIndex(['2005-03-04 23:35:00', '2010-05-23 00:01:00',\n",
       "               '2009-04-09 21:09:00'],\n",
       "              dtype='datetime64[ns]', freq=None)"
      ]
     },
     "execution_count": 11,
     "metadata": {},
     "output_type": "execute_result"
    }
   ],
   "source": [
    "# Timestamp 객체로 변환\n",
    "[pd.to_datetime(date, format='%d-%m-%Y %I:%M %p') for date in date_strings] \n",
    "[pd.to_datetime(date, format=\"%d-%m-%Y %I:%M %p\", errors=\"ignore\") for date in date_strings]\n",
    "pd.to_datetime(date_strings)"
   ]
  },
  {
   "cell_type": "code",
   "execution_count": 12,
   "id": "descending-sperm",
   "metadata": {
    "ExecuteTime": {
     "end_time": "2021-06-05T05:16:56.286919Z",
     "start_time": "2021-06-05T05:16:56.250541Z"
    }
   },
   "outputs": [
    {
     "data": {
      "text/plain": [
       "2011-01-02    2.625942\n",
       "2011-01-05    0.914933\n",
       "2011-01-07    0.166588\n",
       "2011-01-08    0.048898\n",
       "2011-01-10   -0.109124\n",
       "2011-01-12    1.386299\n",
       "dtype: float64"
      ]
     },
     "metadata": {},
     "output_type": "display_data"
    },
    {
     "name": "stdout",
     "output_type": "stream",
     "text": [
      "<class 'pandas.core.series.Series'>\n",
      "DatetimeIndex(['2011-01-02', '2011-01-05', '2011-01-07', '2011-01-08',\n",
      "               '2011-01-10', '2011-01-12'],\n",
      "              dtype='datetime64[ns]', freq=None)\n",
      "2011-01-02    5.251884\n",
      "2011-01-05         NaN\n",
      "2011-01-07    0.333176\n",
      "2011-01-08         NaN\n",
      "2011-01-10   -0.218248\n",
      "2011-01-12         NaN\n",
      "dtype: float64\n",
      "datetime64[ns]\n",
      "2011-01-02 00:00:00\n"
     ]
    }
   ],
   "source": [
    "from datetime import datetime\n",
    "dates = [datetime(2011, 1, 2), datetime(2011, 1, 5),\n",
    "datetime(2011, 1, 7), datetime(2011, 1, 8),\n",
    "datetime(2011, 1, 10), datetime(2011, 1, 12)]\n",
    "ts = pd.Series(np.random.randn(6), index=dates)\n",
    "display(ts ) \n",
    "print(type(ts))\n",
    "print(ts.index ) \n",
    "print(ts + ts[::2])\n",
    "print(ts.index.dtype) # DatetimeIndex의 스칼라 값은 pandas의 Timestamp 객체\n",
    "stamp = ts.index[0]\n",
    "print(stamp)\n"
   ]
  },
  {
   "cell_type": "code",
   "execution_count": 13,
   "id": "functioning-laugh",
   "metadata": {
    "ExecuteTime": {
     "end_time": "2021-06-05T05:16:58.713012Z",
     "start_time": "2021-06-05T05:16:58.652869Z"
    }
   },
   "outputs": [
    {
     "name": "stdout",
     "output_type": "stream",
     "text": [
      "-0.10912424609733772\n",
      "-0.10912424609733772\n",
      "2000-01-01   -0.232353\n",
      "2000-01-02   -0.719293\n",
      "2000-01-03    1.529203\n",
      "2000-01-04    1.070041\n",
      "2000-01-05    0.087630\n",
      "                ...   \n",
      "2002-09-22   -1.663493\n",
      "2002-09-23    1.766738\n",
      "2002-09-24    0.299752\n",
      "2002-09-25    1.490621\n",
      "2002-09-26   -1.926746\n",
      "Freq: D, Length: 1000, dtype: float64\n",
      "2001-01-01   -0.096058\n",
      "2001-01-02    0.480746\n",
      "2001-01-03   -0.149176\n",
      "2001-01-04   -0.306949\n",
      "2001-01-05    0.685156\n",
      "                ...   \n",
      "2001-12-27    1.163743\n",
      "2001-12-28    1.058593\n",
      "2001-12-29    0.789276\n",
      "2001-12-30    2.067811\n",
      "2001-12-31   -0.302885\n",
      "Freq: D, Length: 365, dtype: float64\n",
      "2001-05-01    2.055673\n",
      "2001-05-02    1.856166\n",
      "2001-05-03    0.330859\n",
      "2001-05-04    0.651700\n",
      "2001-05-05   -0.541938\n",
      "2001-05-06    2.548394\n",
      "2001-05-07   -0.100714\n",
      "2001-05-08    0.010056\n",
      "2001-05-09   -0.489900\n",
      "2001-05-10    0.374397\n",
      "2001-05-11    0.113579\n",
      "2001-05-12    0.278486\n",
      "2001-05-13   -0.566312\n",
      "2001-05-14    0.430189\n",
      "2001-05-15   -0.077400\n",
      "2001-05-16   -1.893973\n",
      "2001-05-17    0.604031\n",
      "2001-05-18   -1.649773\n",
      "2001-05-19    2.044573\n",
      "2001-05-20   -0.572071\n",
      "2001-05-21   -0.652401\n",
      "2001-05-22   -1.064116\n",
      "2001-05-23   -0.639565\n",
      "2001-05-24    1.450859\n",
      "2001-05-25    0.015528\n",
      "2001-05-26   -0.892853\n",
      "2001-05-27   -1.620096\n",
      "2001-05-28    0.392947\n",
      "2001-05-29    0.295679\n",
      "2001-05-30   -0.299470\n",
      "2001-05-31    2.013463\n",
      "Freq: D, dtype: float64\n",
      "2011-01-07    0.166588\n",
      "2011-01-08    0.048898\n",
      "2011-01-10   -0.109124\n",
      "2011-01-12    1.386299\n",
      "dtype: float64\n",
      "2011-01-02    2.625942\n",
      "2011-01-05    0.914933\n",
      "2011-01-07    0.166588\n",
      "2011-01-08    0.048898\n",
      "2011-01-10   -0.109124\n",
      "2011-01-12    1.386299\n",
      "dtype: float64\n",
      "2011-01-07    0.166588\n",
      "2011-01-08    0.048898\n",
      "2011-01-10   -0.109124\n",
      "dtype: float64\n"
     ]
    }
   ],
   "source": [
    "from datetime import datetime\n",
    "#해석할 수 있는 날짜를 문자열로 넘겨서 편리하게 사용할 수 있다. \n",
    "print( ts['1/10/2011'] )\n",
    "print(ts['20110110'])\n",
    "#긴 시계열에서는 년을 넘기거나, 월만 넘겨서 데이터의 일부 구간만 선택할 수도 있다. \n",
    "longer_ts = pd.Series(np.random.randn(1000),\n",
    "index=pd.date_range('1/1/2000', periods=1000))\n",
    "print(longer_ts)\n",
    "print(longer_ts['2001'])\n",
    "print(longer_ts['2001-05'])\n",
    "print(ts[datetime(2011, 1, 7):])\n",
    "#시계열 데이터는 연대순으로 정렬되기 때문에 범위를 지정하기 위해 \n",
    "#시계열에 포함하지 않고 타임스탬프를 이용해서 Series를 나눌 수 있다\n",
    "print(ts)\n",
    "print(ts['1/6/2011':'1/11/2011'])"
   ]
  },
  {
   "cell_type": "code",
   "execution_count": 14,
   "id": "sudden-education",
   "metadata": {
    "ExecuteTime": {
     "end_time": "2021-06-05T05:16:59.861871Z",
     "start_time": "2021-06-05T05:16:59.840940Z"
    }
   },
   "outputs": [
    {
     "name": "stdout",
     "output_type": "stream",
     "text": [
      "2000-01-01    1.067717\n",
      "2000-01-02   -0.865872\n",
      "2000-01-03   -0.318640\n",
      "2000-01-04   -0.878120\n",
      "2000-01-05    0.219004\n",
      "                ...   \n",
      "2002-09-22   -0.091877\n",
      "2002-09-23    0.357018\n",
      "2002-09-24    0.733337\n",
      "2002-09-25   -0.593982\n",
      "2002-09-26    1.286794\n",
      "Freq: D, Length: 1000, dtype: float64\n"
     ]
    }
   ],
   "source": [
    "longer_ts = pd.Series(np.random.randn(1000),\n",
    "index=pd.date_range('1/1/2000', periods=1000))\n",
    "print(longer_ts)"
   ]
  },
  {
   "cell_type": "code",
   "execution_count": 15,
   "id": "chubby-maximum",
   "metadata": {
    "ExecuteTime": {
     "end_time": "2021-06-05T05:17:00.702904Z",
     "start_time": "2021-06-05T05:17:00.682037Z"
    }
   },
   "outputs": [
    {
     "name": "stdout",
     "output_type": "stream",
     "text": [
      "2001-01-01   -0.463638\n",
      "2001-01-02    0.463119\n",
      "2001-01-03    0.189936\n",
      "2001-01-04   -1.250186\n",
      "2001-01-05   -0.366605\n",
      "                ...   \n",
      "2001-12-27   -0.104031\n",
      "2001-12-28   -0.583023\n",
      "2001-12-29   -0.182649\n",
      "2001-12-30   -1.679320\n",
      "2001-12-31    1.371497\n",
      "Freq: D, Length: 365, dtype: float64\n"
     ]
    }
   ],
   "source": [
    "print(longer_ts['2001'])"
   ]
  },
  {
   "cell_type": "code",
   "execution_count": 16,
   "id": "complicated-maintenance",
   "metadata": {
    "ExecuteTime": {
     "end_time": "2021-06-05T05:17:01.100489Z",
     "start_time": "2021-06-05T05:17:01.085849Z"
    }
   },
   "outputs": [
    {
     "name": "stdout",
     "output_type": "stream",
     "text": [
      "2011-01-07    0.166588\n",
      "2011-01-08    0.048898\n",
      "2011-01-10   -0.109124\n",
      "2011-01-12    1.386299\n",
      "dtype: float64\n"
     ]
    }
   ],
   "source": [
    "print(ts[datetime(2011, 1, 7):])"
   ]
  },
  {
   "cell_type": "code",
   "execution_count": 17,
   "id": "dominican-henry",
   "metadata": {
    "ExecuteTime": {
     "end_time": "2021-06-05T05:17:01.434695Z",
     "start_time": "2021-06-05T05:17:01.413854Z"
    }
   },
   "outputs": [
    {
     "name": "stdout",
     "output_type": "stream",
     "text": [
      "2011-01-02    2.625942\n",
      "2011-01-05    0.914933\n",
      "2011-01-07    0.166588\n",
      "2011-01-08    0.048898\n",
      "dtype: float64\n"
     ]
    }
   ],
   "source": [
    "print(ts.truncate(after='1/9/2011'))"
   ]
  },
  {
   "cell_type": "code",
   "execution_count": 18,
   "id": "separate-lancaster",
   "metadata": {
    "ExecuteTime": {
     "end_time": "2021-06-05T05:17:02.364318Z",
     "start_time": "2021-06-05T05:17:02.349990Z"
    }
   },
   "outputs": [
    {
     "name": "stdout",
     "output_type": "stream",
     "text": [
      "DatetimeIndex(['2000-01-05', '2000-01-12', '2000-01-19', '2000-01-26',\n",
      "               '2000-02-02', '2000-02-09', '2000-02-16', '2000-02-23',\n",
      "               '2000-03-01', '2000-03-08', '2000-03-15', '2000-03-22',\n",
      "               '2000-03-29', '2000-04-05', '2000-04-12', '2000-04-19',\n",
      "               '2000-04-26', '2000-05-03', '2000-05-10', '2000-05-17',\n",
      "               '2000-05-24', '2000-05-31', '2000-06-07', '2000-06-14',\n",
      "               '2000-06-21', '2000-06-28', '2000-07-05', '2000-07-12',\n",
      "               '2000-07-19', '2000-07-26', '2000-08-02', '2000-08-09',\n",
      "               '2000-08-16', '2000-08-23', '2000-08-30', '2000-09-06',\n",
      "               '2000-09-13', '2000-09-20', '2000-09-27', '2000-10-04',\n",
      "               '2000-10-11', '2000-10-18', '2000-10-25', '2000-11-01',\n",
      "               '2000-11-08', '2000-11-15', '2000-11-22', '2000-11-29',\n",
      "               '2000-12-06', '2000-12-13', '2000-12-20', '2000-12-27',\n",
      "               '2001-01-03', '2001-01-10', '2001-01-17', '2001-01-24',\n",
      "               '2001-01-31', '2001-02-07', '2001-02-14', '2001-02-21',\n",
      "               '2001-02-28', '2001-03-07', '2001-03-14', '2001-03-21',\n",
      "               '2001-03-28', '2001-04-04', '2001-04-11', '2001-04-18',\n",
      "               '2001-04-25', '2001-05-02', '2001-05-09', '2001-05-16',\n",
      "               '2001-05-23', '2001-05-30', '2001-06-06', '2001-06-13',\n",
      "               '2001-06-20', '2001-06-27', '2001-07-04', '2001-07-11',\n",
      "               '2001-07-18', '2001-07-25', '2001-08-01', '2001-08-08',\n",
      "               '2001-08-15', '2001-08-22', '2001-08-29', '2001-09-05',\n",
      "               '2001-09-12', '2001-09-19', '2001-09-26', '2001-10-03',\n",
      "               '2001-10-10', '2001-10-17', '2001-10-24', '2001-10-31',\n",
      "               '2001-11-07', '2001-11-14', '2001-11-21', '2001-11-28'],\n",
      "              dtype='datetime64[ns]', freq='W-WED')\n"
     ]
    }
   ],
   "source": [
    "dates = pd.date_range('1/1/2000', periods=100, freq='W-WED')\n",
    "print(dates)"
   ]
  },
  {
   "cell_type": "code",
   "execution_count": 19,
   "id": "freelance-india",
   "metadata": {
    "ExecuteTime": {
     "end_time": "2021-06-05T05:17:02.782845Z",
     "start_time": "2021-06-05T05:17:02.750188Z"
    }
   },
   "outputs": [
    {
     "name": "stdout",
     "output_type": "stream",
     "text": [
      "            Colorado     Texas  New York      Ohio\n",
      "2000-01-05  0.066501  0.433747 -0.106357  0.755638\n",
      "2000-01-12  0.612081 -0.186070  1.486645  0.244620\n",
      "2000-01-19 -1.576646 -0.945346  0.008946 -1.058003\n",
      "2000-01-26 -0.522100 -0.515302 -0.070036  2.572299\n",
      "2000-02-02 -3.416916 -2.027827  1.024306  1.550611\n",
      "...              ...       ...       ...       ...\n",
      "2001-10-31 -0.153575  0.697572  0.282413  0.002618\n",
      "2001-11-07  1.845822 -1.311661 -1.157577 -1.134409\n",
      "2001-11-14 -2.031716 -0.029097  0.767022  0.905924\n",
      "2001-11-21 -0.565911 -1.122431  0.333653  1.875723\n",
      "2001-11-28 -0.077465  0.467312  0.598878 -0.178711\n",
      "\n",
      "[100 rows x 4 columns]\n",
      "            Colorado     Texas  New York      Ohio\n",
      "2001-05-02 -0.846333 -0.943651  2.852791 -0.117869\n",
      "2001-05-09 -0.021183 -1.433847 -1.213382  0.170503\n",
      "2001-05-16 -1.584354 -2.203764 -1.169147  1.140565\n",
      "2001-05-23 -1.358632 -0.808054 -1.058739 -1.147469\n",
      "2001-05-30 -0.498418  0.326645 -1.193691  0.875117\n"
     ]
    }
   ],
   "source": [
    "long_df = pd.DataFrame(np.random.randn(100, 4),\n",
    "index=dates,\n",
    "columns=['Colorado', 'Texas',\n",
    "'New York', 'Ohio'])\n",
    "print(long_df)\n",
    "print(long_df.loc['5-2001'])"
   ]
  },
  {
   "cell_type": "code",
   "execution_count": 20,
   "id": "responsible-daniel",
   "metadata": {
    "ExecuteTime": {
     "end_time": "2021-06-05T05:17:03.544699Z",
     "start_time": "2021-06-05T05:17:03.534533Z"
    }
   },
   "outputs": [
    {
     "name": "stdout",
     "output_type": "stream",
     "text": [
      "2000-01-01    0\n",
      "2000-01-02    1\n",
      "2000-01-02    2\n",
      "2000-01-02    3\n",
      "2000-01-03    4\n",
      "dtype: int32\n"
     ]
    }
   ],
   "source": [
    "dates = pd.DatetimeIndex(['1/1/2000', '1/2/2000', '1/2/2000', '1/2/2000', '1/3/2000'])\n",
    "dup_ts = pd.Series(np.arange(5), index=dates)\n",
    "print(dup_ts)"
   ]
  },
  {
   "cell_type": "code",
   "execution_count": 21,
   "id": "uniform-appraisal",
   "metadata": {
    "ExecuteTime": {
     "end_time": "2021-06-05T05:17:04.030111Z",
     "start_time": "2021-06-05T05:17:04.010979Z"
    }
   },
   "outputs": [
    {
     "name": "stdout",
     "output_type": "stream",
     "text": [
      "False\n",
      "4\n",
      "2000-01-02    1\n",
      "2000-01-02    2\n",
      "2000-01-02    3\n",
      "dtype: int32\n"
     ]
    }
   ],
   "source": [
    "#is_unique 속성으로 색인 유일 여부 확인\n",
    "print( dup_ts.index.is_unique )\n",
    "print(dup_ts['1/3/2000'] ) # not duplicated\n",
    "print(dup_ts['1/2/2000'] ) # duplicated"
   ]
  },
  {
   "cell_type": "code",
   "execution_count": 22,
   "id": "metric-manufacturer",
   "metadata": {
    "ExecuteTime": {
     "end_time": "2021-06-05T05:17:04.743665Z",
     "start_time": "2021-06-05T05:17:04.713784Z"
    }
   },
   "outputs": [
    {
     "data": {
      "text/plain": [
       "2000-01-01    1\n",
       "2000-01-02    3\n",
       "2000-01-03    1\n",
       "dtype: int64"
      ]
     },
     "execution_count": 22,
     "metadata": {},
     "output_type": "execute_result"
    }
   ],
   "source": [
    "# 유일하지 않은 타임스탬프를 가지는 데이터 집계\n",
    "#groupby에 level=0(단일 단계 인덱싱)을 넘긴다\n",
    "grouped = dup_ts.groupby(level=0)\n",
    "grouped.mean()\n",
    "grouped.count()"
   ]
  },
  {
   "cell_type": "code",
   "execution_count": 23,
   "id": "artificial-african",
   "metadata": {
    "ExecuteTime": {
     "end_time": "2021-06-05T05:17:05.205157Z",
     "start_time": "2021-06-05T05:17:05.173136Z"
    }
   },
   "outputs": [
    {
     "data": {
      "text/plain": [
       "2011-01-02    2.625942\n",
       "2011-01-05    0.914933\n",
       "2011-01-07    0.166588\n",
       "2011-01-08    0.048898\n",
       "2011-01-10   -0.109124\n",
       "2011-01-12    1.386299\n",
       "dtype: float64"
      ]
     },
     "metadata": {},
     "output_type": "display_data"
    },
    {
     "name": "stdout",
     "output_type": "stream",
     "text": [
      "DatetimeIndexResampler [freq=<Day>, axis=0, closed=left, label=left, convention=start, origin=start_day]\n"
     ]
    }
   ],
   "source": [
    "display(ts)\n",
    "resampler = ts.resample('D')\n",
    "print(resampler)"
   ]
  },
  {
   "cell_type": "code",
   "execution_count": 24,
   "id": "assisted-sandwich",
   "metadata": {
    "ExecuteTime": {
     "end_time": "2021-06-05T05:17:05.508850Z",
     "start_time": "2021-06-05T05:17:05.494517Z"
    }
   },
   "outputs": [
    {
     "name": "stdout",
     "output_type": "stream",
     "text": [
      "DatetimeIndex(['2012-04-01', '2012-04-02', '2012-04-03', '2012-04-04',\n",
      "               '2012-04-05', '2012-04-06', '2012-04-07', '2012-04-08',\n",
      "               '2012-04-09', '2012-04-10', '2012-04-11', '2012-04-12',\n",
      "               '2012-04-13', '2012-04-14', '2012-04-15', '2012-04-16',\n",
      "               '2012-04-17', '2012-04-18', '2012-04-19', '2012-04-20'],\n",
      "              dtype='datetime64[ns]', freq='D')\n",
      "DatetimeIndex(['2012-05-13', '2012-05-14', '2012-05-15', '2012-05-16',\n",
      "               '2012-05-17', '2012-05-18', '2012-05-19', '2012-05-20',\n",
      "               '2012-05-21', '2012-05-22', '2012-05-23', '2012-05-24',\n",
      "               '2012-05-25', '2012-05-26', '2012-05-27', '2012-05-28',\n",
      "               '2012-05-29', '2012-05-30', '2012-05-31', '2012-06-01'],\n",
      "              dtype='datetime64[ns]', freq='D')\n"
     ]
    }
   ],
   "source": [
    "print(pd.date_range(start='2012-04-01', periods=20))\n",
    "print(pd.date_range(end='2012-06-01', periods=20))\n"
   ]
  },
  {
   "cell_type": "code",
   "execution_count": 25,
   "id": "wireless-service",
   "metadata": {
    "ExecuteTime": {
     "end_time": "2021-06-05T05:17:05.903371Z",
     "start_time": "2021-06-05T05:17:05.887100Z"
    }
   },
   "outputs": [
    {
     "name": "stdout",
     "output_type": "stream",
     "text": [
      "DatetimeIndex(['2000-01-31', '2000-02-29', '2000-03-31', '2000-04-28',\n",
      "               '2000-05-31', '2000-06-30', '2000-07-31', '2000-08-31',\n",
      "               '2000-09-29', '2000-10-31', '2000-11-30'],\n",
      "              dtype='datetime64[ns]', freq='BM')\n"
     ]
    }
   ],
   "source": [
    "#빈도값 BM은 각 월의 마지막 영업일을 포함\n",
    "print(pd.date_range('2000-01-01', '2000-12-01', freq='BM') )\n"
   ]
  },
  {
   "cell_type": "code",
   "execution_count": 26,
   "id": "english-professor",
   "metadata": {
    "ExecuteTime": {
     "end_time": "2021-06-05T05:17:06.296898Z",
     "start_time": "2021-06-05T05:17:06.288896Z"
    }
   },
   "outputs": [
    {
     "name": "stdout",
     "output_type": "stream",
     "text": [
      "<Hour>\n"
     ]
    }
   ],
   "source": [
    "from pandas.tseries.offsets import Hour, Minute\n",
    "hour = Hour()\n",
    "print(hour)"
   ]
  },
  {
   "cell_type": "code",
   "execution_count": 27,
   "id": "specific-sapphire",
   "metadata": {
    "ExecuteTime": {
     "end_time": "2021-06-05T05:17:07.610732Z",
     "start_time": "2021-06-05T05:17:07.586369Z"
    }
   },
   "outputs": [
    {
     "name": "stdout",
     "output_type": "stream",
     "text": [
      "<4 * Hours>\n",
      "DatetimeIndex(['2000-01-01 00:00:00', '2000-01-01 04:00:00',\n",
      "               '2000-01-01 08:00:00', '2000-01-01 12:00:00',\n",
      "               '2000-01-01 16:00:00', '2000-01-01 20:00:00',\n",
      "               '2000-01-02 00:00:00', '2000-01-02 04:00:00',\n",
      "               '2000-01-02 08:00:00', '2000-01-02 12:00:00',\n",
      "               '2000-01-02 16:00:00', '2000-01-02 20:00:00',\n",
      "               '2000-01-03 00:00:00', '2000-01-03 04:00:00',\n",
      "               '2000-01-03 08:00:00', '2000-01-03 12:00:00',\n",
      "               '2000-01-03 16:00:00', '2000-01-03 20:00:00'],\n",
      "              dtype='datetime64[ns]', freq='4H')\n",
      "<150 * Minutes>\n"
     ]
    }
   ],
   "source": [
    "four_hours = Hour(4)\n",
    "print(four_hours)\n",
    "pd.date_range('2000-01-01', '2000-01-03 23:59', freq='4h')\n",
    "#print(pd.date_range('2000-01-01', '2000-01-03 23:59', freq='4h'))\n",
    "print(pd.date_range('2000-01-01', '2000-01-03 23:59', freq=four_hours))\n",
    "#print(pd.date_range('2000-01-01', '2000-01-03 23:59', freq=hour))\n",
    "#여러 오프셋을 덧셈으로 합칠 수 있다\n",
    "print(Hour(2) + Minute(30))\n"
   ]
  },
  {
   "cell_type": "code",
   "execution_count": 28,
   "id": "arbitrary-reform",
   "metadata": {
    "ExecuteTime": {
     "end_time": "2021-06-05T05:17:07.971495Z",
     "start_time": "2021-06-05T05:17:07.948003Z"
    }
   },
   "outputs": [
    {
     "name": "stdout",
     "output_type": "stream",
     "text": [
      "DatetimeIndex(['2000-01-01 00:00:00', '2000-01-01 01:30:00',\n",
      "               '2000-01-01 03:00:00', '2000-01-01 04:30:00',\n",
      "               '2000-01-01 06:00:00', '2000-01-01 07:30:00',\n",
      "               '2000-01-01 09:00:00', '2000-01-01 10:30:00',\n",
      "               '2000-01-01 12:00:00', '2000-01-01 13:30:00'],\n",
      "              dtype='datetime64[ns]', freq='90T')\n"
     ]
    },
    {
     "data": {
      "text/plain": [
       "[Timestamp('2012-01-20 00:00:00', freq='WOM-3FRI'),\n",
       " Timestamp('2012-02-17 00:00:00', freq='WOM-3FRI'),\n",
       " Timestamp('2012-03-16 00:00:00', freq='WOM-3FRI'),\n",
       " Timestamp('2012-04-20 00:00:00', freq='WOM-3FRI'),\n",
       " Timestamp('2012-05-18 00:00:00', freq='WOM-3FRI'),\n",
       " Timestamp('2012-06-15 00:00:00', freq='WOM-3FRI'),\n",
       " Timestamp('2012-07-20 00:00:00', freq='WOM-3FRI'),\n",
       " Timestamp('2012-08-17 00:00:00', freq='WOM-3FRI')]"
      ]
     },
     "execution_count": 28,
     "metadata": {},
     "output_type": "execute_result"
    }
   ],
   "source": [
    "print(pd.date_range('2000-01-01', periods=10, freq='1h30min'))\n",
    "rng = pd.date_range('2012-01-01', '2012-09-01', freq='WOM-3FRI')\n",
    "list(rng)"
   ]
  },
  {
   "cell_type": "code",
   "execution_count": 29,
   "id": "buried-constitutional",
   "metadata": {
    "ExecuteTime": {
     "end_time": "2021-06-05T05:17:08.556380Z",
     "start_time": "2021-06-05T05:17:08.529650Z"
    }
   },
   "outputs": [
    {
     "name": "stdout",
     "output_type": "stream",
     "text": [
      "2000-01-31   -1.300897\n",
      "2000-02-29    0.813968\n",
      "2000-03-31   -0.946791\n",
      "2000-04-30    1.246820\n",
      "Freq: M, dtype: float64\n",
      "2000-01-31         NaN\n",
      "2000-02-29         NaN\n",
      "2000-03-31   -1.300897\n",
      "2000-04-30    0.813968\n",
      "Freq: M, dtype: float64\n",
      "2000-01-31   -0.946791\n",
      "2000-02-29    1.246820\n",
      "2000-03-31         NaN\n",
      "2000-04-30         NaN\n",
      "Freq: M, dtype: float64\n",
      "2000-03-31   -1.300897\n",
      "2000-04-30    0.813968\n",
      "2000-05-31   -0.946791\n",
      "2000-06-30    1.246820\n",
      "Freq: M, dtype: float64\n",
      "2000-02-03   -1.300897\n",
      "2000-03-03    0.813968\n",
      "2000-04-03   -0.946791\n",
      "2000-05-03    1.246820\n",
      "dtype: float64\n",
      "2000-01-31 01:30:00   -1.300897\n",
      "2000-02-29 01:30:00    0.813968\n",
      "2000-03-31 01:30:00   -0.946791\n",
      "2000-04-30 01:30:00    1.246820\n",
      "dtype: float64\n"
     ]
    }
   ],
   "source": [
    "ts = pd.Series(np.random.randn(4),\n",
    "index=pd.date_range('1/1/2000', periods=4, freq='M'))\n",
    "print(ts)\n",
    "print(ts.shift(2)) #날짜 범위 이동\n",
    "print(ts.shift(-2))\n",
    "print(ts.shift(2, freq='M'))\n",
    "print(ts.shift(3, freq='D'))\n",
    "print(ts.shift(1, freq='90T'))"
   ]
  },
  {
   "cell_type": "code",
   "execution_count": 30,
   "id": "brutal-joint",
   "metadata": {
    "ExecuteTime": {
     "end_time": "2021-06-05T05:17:09.334521Z",
     "start_time": "2021-06-05T05:17:09.291730Z"
    }
   },
   "outputs": [
    {
     "name": "stdout",
     "output_type": "stream",
     "text": [
      "2018-03-22   -0.863053\n",
      "2018-03-23    1.205145\n",
      "2018-03-24   -0.610282\n",
      "2018-03-25    0.631322\n",
      "2018-03-26    1.016386\n",
      "2018-03-27   -0.896855\n",
      "2018-03-28    1.085809\n",
      "2018-03-29    0.472063\n",
      "2018-03-30    0.105001\n",
      "2018-03-31   -0.973753\n",
      "2018-04-01    1.146924\n",
      "2018-04-02   -0.027995\n",
      "2018-04-03    1.415856\n",
      "2018-04-04   -0.286401\n",
      "2018-04-05   -1.470140\n",
      "2018-04-06    1.126292\n",
      "2018-04-07    0.994612\n",
      "2018-04-08   -0.549843\n",
      "2018-04-09   -1.350781\n",
      "2018-04-10   -1.734080\n",
      "Freq: D, dtype: float64\n",
      "2018-01-07   -0.127041\n",
      "2018-01-14    0.386277\n",
      "2018-01-21   -0.463522\n",
      "2018-01-28    0.223668\n",
      "2018-02-04    0.721178\n",
      "2018-02-11   -0.177941\n",
      "2018-02-18   -0.110498\n",
      "2018-02-25   -0.113302\n",
      "2018-03-04   -0.400771\n",
      "2018-03-11    0.371175\n",
      "2018-03-18   -0.415242\n",
      "2018-03-25   -0.029878\n",
      "2018-04-01    0.279368\n",
      "2018-04-08    0.171769\n",
      "2018-04-15   -1.542431\n",
      "Freq: W-SUN, dtype: float64\n",
      "2018-01-31    0.394594\n",
      "2018-02-28    1.521630\n",
      "2018-03-31   -2.370036\n",
      "2018-04-30    1.146924\n",
      "Freq: M, dtype: float64\n"
     ]
    }
   ],
   "source": [
    "ts = pd.Series(np.random.randn(100), index=pd.date_range( \"2018-1-1\", periods=100, freq=\"D\"))\n",
    "print(ts.tail(20))\n",
    "print(ts.resample('W').mean())\n",
    "print(ts.resample('M').first())\n"
   ]
  },
  {
   "cell_type": "code",
   "execution_count": 31,
   "id": "political-impossible",
   "metadata": {
    "ExecuteTime": {
     "end_time": "2021-06-05T05:17:09.756884Z",
     "start_time": "2021-06-05T05:17:09.724495Z"
    }
   },
   "outputs": [
    {
     "name": "stdout",
     "output_type": "stream",
     "text": [
      "2018-01-01 00:00:00   -2.293644\n",
      "2018-01-01 00:01:00   -0.983750\n",
      "2018-01-01 00:02:00    1.619373\n",
      "2018-01-01 00:03:00    1.070567\n",
      "2018-01-01 00:04:00    0.035261\n",
      "2018-01-01 00:05:00   -0.369085\n",
      "2018-01-01 00:06:00   -0.487087\n",
      "2018-01-01 00:07:00   -0.619387\n",
      "2018-01-01 00:08:00   -1.015608\n",
      "2018-01-01 00:09:00   -0.806271\n",
      "2018-01-01 00:10:00    0.603643\n",
      "2018-01-01 00:11:00   -0.998649\n",
      "2018-01-01 00:12:00    0.845128\n",
      "2018-01-01 00:13:00    1.770467\n",
      "2018-01-01 00:14:00    0.459902\n",
      "2018-01-01 00:15:00    1.149205\n",
      "2018-01-01 00:16:00    1.322572\n",
      "2018-01-01 00:17:00   -0.608646\n",
      "2018-01-01 00:18:00    0.282800\n",
      "2018-01-01 00:19:00    1.816862\n",
      "Freq: T, dtype: float64\n",
      "                         open      high       low     close\n",
      "2018-01-01 00:00:00 -2.293644  1.619373 -2.293644  0.035261\n",
      "2018-01-01 00:05:00 -0.369085 -0.369085 -1.015608 -0.806271\n",
      "2018-01-01 00:10:00  0.603643  1.770467 -0.998649  0.459902\n",
      "2018-01-01 00:15:00  1.149205  1.816862 -0.608646  1.816862\n",
      "2018-01-01 00:20:00  0.894319  1.339571 -1.083674 -1.052734\n",
      "2018-01-01 00:25:00  0.702666  0.702666 -1.108490  0.039253\n",
      "2018-01-01 00:30:00 -0.177503  0.980332 -0.677908 -0.624258\n",
      "2018-01-01 00:35:00 -2.107629  1.720101 -2.107629  0.350859\n",
      "2018-01-01 00:40:00  0.025008  1.668209 -0.459428  1.668209\n",
      "2018-01-01 00:45:00 -0.947353  0.534270 -0.947353  0.121842\n",
      "2018-01-01 00:50:00 -0.252637  1.130593 -1.467496  1.130593\n",
      "2018-01-01 00:55:00  0.176383  1.856600  0.104562  0.104562\n"
     ]
    }
   ],
   "source": [
    "ts = pd.Series(np.random.randn(60), index=pd.date_range( \"2018-1-1\", periods=60, freq=\"T\"))\n",
    "print(ts.head(20))\n",
    "#rint(ts.resample('10T').sum())\n",
    "#rint(ts.resample('10T', closed=\"right\").sum())\n",
    "print(ts.resample('5T').ohlc())"
   ]
  },
  {
   "cell_type": "code",
   "execution_count": 32,
   "id": "organized-injury",
   "metadata": {
    "ExecuteTime": {
     "end_time": "2021-06-05T05:17:10.161416Z",
     "start_time": "2021-06-05T05:17:10.129391Z"
    },
    "scrolled": true
   },
   "outputs": [
    {
     "name": "stdout",
     "output_type": "stream",
     "text": [
      "2018-01-01 00:00:00   -2.293644\n",
      "2018-01-01 00:00:30   -2.293644\n",
      "2018-01-01 00:01:00   -0.983750\n",
      "2018-01-01 00:01:30   -0.983750\n",
      "2018-01-01 00:02:00    1.619373\n",
      "2018-01-01 00:02:30    1.619373\n",
      "2018-01-01 00:03:00    1.070567\n",
      "2018-01-01 00:03:30    1.070567\n",
      "2018-01-01 00:04:00    0.035261\n",
      "2018-01-01 00:04:30    0.035261\n",
      "2018-01-01 00:05:00   -0.369085\n",
      "2018-01-01 00:05:30   -0.369085\n",
      "2018-01-01 00:06:00   -0.487087\n",
      "2018-01-01 00:06:30   -0.487087\n",
      "2018-01-01 00:07:00   -0.619387\n",
      "2018-01-01 00:07:30   -0.619387\n",
      "2018-01-01 00:08:00   -1.015608\n",
      "2018-01-01 00:08:30   -1.015608\n",
      "2018-01-01 00:09:00   -0.806271\n",
      "2018-01-01 00:09:30   -0.806271\n",
      "Freq: 30S, dtype: float64\n",
      "2018-01-01 00:00:00   -2.293644\n",
      "2018-01-01 00:00:30   -0.983750\n",
      "2018-01-01 00:01:00   -0.983750\n",
      "2018-01-01 00:01:30    1.619373\n",
      "2018-01-01 00:02:00    1.619373\n",
      "2018-01-01 00:02:30    1.070567\n",
      "2018-01-01 00:03:00    1.070567\n",
      "2018-01-01 00:03:30    0.035261\n",
      "2018-01-01 00:04:00    0.035261\n",
      "2018-01-01 00:04:30   -0.369085\n",
      "2018-01-01 00:05:00   -0.369085\n",
      "2018-01-01 00:05:30   -0.487087\n",
      "2018-01-01 00:06:00   -0.487087\n",
      "2018-01-01 00:06:30   -0.619387\n",
      "2018-01-01 00:07:00   -0.619387\n",
      "2018-01-01 00:07:30   -1.015608\n",
      "2018-01-01 00:08:00   -1.015608\n",
      "2018-01-01 00:08:30   -0.806271\n",
      "2018-01-01 00:09:00   -0.806271\n",
      "2018-01-01 00:09:30    0.603643\n",
      "Freq: 30S, dtype: float64\n"
     ]
    }
   ],
   "source": [
    "print(ts.resample('30s').ffill().head(20))\n",
    "print(ts.resample('30s').bfill().head(20))\n"
   ]
  },
  {
   "cell_type": "code",
   "execution_count": 33,
   "id": "assigned-school",
   "metadata": {
    "ExecuteTime": {
     "end_time": "2021-06-05T05:17:10.767993Z",
     "start_time": "2021-06-05T05:17:10.742315Z"
    }
   },
   "outputs": [
    {
     "name": "stdout",
     "output_type": "stream",
     "text": [
      "0     2020\n",
      "1     2020\n",
      "2     2020\n",
      "3     2020\n",
      "4     2020\n",
      "      ... \n",
      "95    2021\n",
      "96    2021\n",
      "97    2021\n",
      "98    2021\n",
      "99    2021\n",
      "Length: 100, dtype: int64\n",
      "0     4\n",
      "1     5\n",
      "2     6\n",
      "3     0\n",
      "4     1\n",
      "     ..\n",
      "95    1\n",
      "96    2\n",
      "97    3\n",
      "98    4\n",
      "99    5\n",
      "Length: 100, dtype: int64\n",
      "0     2020-12-25 00:00:00\n",
      "1     2020-12-26 00:00:00\n",
      "2     2020-12-27 00:00:00\n",
      "3     2020-12-28 00:00:00\n",
      "4     2020-12-29 00:00:00\n",
      "             ...         \n",
      "95    2021-03-30 00:00:00\n",
      "96    2021-03-31 00:00:00\n",
      "97    2021-04-01 00:00:00\n",
      "98    2021-04-02 00:00:00\n",
      "99    2021-04-03 00:00:00\n",
      "Length: 100, dtype: object\n"
     ]
    }
   ],
   "source": [
    "s = pd.Series(pd.date_range(\"2020-12-25\", periods=100, freq=\"D\"))\n",
    "#print(s)\n",
    "print(s.dt.year)\n",
    "print(s.dt.weekday)\n",
    "#strftime() - 문자열을 만듬\n",
    "print(s.dt.strftime(\"%Y년 %m월 %d일\"))"
   ]
  },
  {
   "cell_type": "code",
   "execution_count": 34,
   "id": "flexible-teaching",
   "metadata": {
    "ExecuteTime": {
     "end_time": "2021-06-05T05:17:11.174925Z",
     "start_time": "2021-06-05T05:17:11.142380Z"
    }
   },
   "outputs": [
    {
     "name": "stdout",
     "output_type": "stream",
     "text": [
      "            Sales\n",
      "2010-01-31    1.0\n",
      "2010-02-28    2.0\n",
      "2010-03-31    NaN\n",
      "2010-04-30    NaN\n",
      "2010-05-31    5.0\n",
      "            Sales\n",
      "2010-01-31    1.0\n",
      "2010-02-28    2.0\n",
      "2010-03-31    3.0\n",
      "2010-04-30    NaN\n",
      "2010-05-31    5.0\n"
     ]
    }
   ],
   "source": [
    "time_index = pd.date_range(\"01/01/2010\", periods=5, freq=\"M\")\n",
    "dataframe = pd.DataFrame(index=time_index) # 데이터프레임을 만들고 인덱스를 지정\n",
    "dataframe[\"Sales\"] = [1.0,2.0,np.nan,np.nan,5.0] # 누락된 값이 있는 특성을 만듦\n",
    "print(dataframe)\n",
    "#print(dataframe.interpolate()) # 누락된 값을 보간\n",
    "#print(dataframe.ffill()) # 앞쪽으로 채우기(Forward-fill)\n",
    "#print(dataframe.bfill()) # 뒤쪽으로 채우기(Back-fill)\n",
    "#print(dataframe.interpolate(method=\"quadratic\")) # 비선형의 경우 보간 방법 변경\n",
    "print(dataframe.interpolate(limit=1, limit_direction=\"forward\")) #보간 방향 "
   ]
  },
  {
   "cell_type": "code",
   "execution_count": 35,
   "id": "dirty-mouth",
   "metadata": {
    "ExecuteTime": {
     "end_time": "2021-06-05T05:17:11.835442Z",
     "start_time": "2021-06-05T05:17:11.806078Z"
    },
    "scrolled": true
   },
   "outputs": [
    {
     "name": "stdout",
     "output_type": "stream",
     "text": [
      "            Stock_Price\n",
      "2010-01-31            1\n",
      "2010-02-28            2\n",
      "2010-03-31            3\n",
      "2010-04-30            4\n",
      "2010-05-31            5\n",
      "            Stock_Price\n",
      "2010-01-31          NaN\n",
      "2010-02-28          1.5\n",
      "2010-03-31          2.5\n",
      "2010-04-30          3.5\n",
      "2010-05-31          4.5\n",
      "            Stock_Price\n",
      "2010-01-31     1.000000\n",
      "2010-02-28     1.666667\n",
      "2010-03-31     2.428571\n",
      "2010-04-30     3.266667\n",
      "2010-05-31     4.161290\n"
     ]
    }
   ],
   "source": [
    "import pandas as pd\n",
    "# datetime을 만듭니다. \n",
    "time_index = pd.date_range(\"01/01/2010\", periods=5, freq=\"M\") \n",
    "# 데이터프레임을 만들고 인덱스를 설정합니다. \n",
    "dataframe = pd.DataFrame(index=time_index)\n",
    "\n",
    "dataframe[\"Stock_Price\"] = [1,2,3,4,5] # 특성을 만듭니다. \n",
    "print(dataframe)\n",
    "print(dataframe.rolling(window=2).mean()) # 이동 평균을 계산\n",
    "\n",
    "print(dataframe.ewm(alpha=0.5).mean())\n"
   ]
  }
 ],
 "metadata": {
  "kernelspec": {
   "display_name": "Python 3",
   "language": "python",
   "name": "python3"
  },
  "language_info": {
   "codemirror_mode": {
    "name": "ipython",
    "version": 3
   },
   "file_extension": ".py",
   "mimetype": "text/x-python",
   "name": "python",
   "nbconvert_exporter": "python",
   "pygments_lexer": "ipython3",
   "version": "3.7.10"
  },
  "toc": {
   "base_numbering": 1,
   "nav_menu": {},
   "number_sections": true,
   "sideBar": true,
   "skip_h1_title": false,
   "title_cell": "Table of Contents",
   "title_sidebar": "Contents",
   "toc_cell": false,
   "toc_position": {},
   "toc_section_display": true,
   "toc_window_display": false
  }
 },
 "nbformat": 4,
 "nbformat_minor": 5
}
