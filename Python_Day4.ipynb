{
 "cells": [
  {
   "cell_type": "markdown",
   "id": "db854571",
   "metadata": {},
   "source": [
    "# 시퀀스 자료형 활용"
   ]
  },
  {
   "cell_type": "code",
   "execution_count": 2,
   "id": "independent-trace",
   "metadata": {
    "ExecuteTime": {
     "end_time": "2021-06-05T02:29:29.860932Z",
     "start_time": "2021-06-05T02:29:29.847918Z"
    }
   },
   "outputs": [
    {
     "name": "stdout",
     "output_type": "stream",
     "text": [
      "{'orange', 'apple', 'cherry'}\n"
     ]
    }
   ],
   "source": [
    "print( set({'apple' : 'red', 'orange' : 'orange', 'cherry': 'red'}))"
   ]
  },
  {
   "cell_type": "code",
   "execution_count": 3,
   "id": "acting-universe",
   "metadata": {
    "ExecuteTime": {
     "end_time": "2021-06-05T02:29:30.234937Z",
     "start_time": "2021-06-05T02:29:30.216921Z"
    }
   },
   "outputs": [
    {
     "name": "stdout",
     "output_type": "stream",
     "text": [
      "{1, 2, 3, 4, 5}\n",
      "{3}\n"
     ]
    }
   ],
   "source": [
    "a = {1, 2, 3}\n",
    "b = {3, 4, 5}\n",
    "\n",
    "print(a.union(b))\n",
    "print(a.intersection(b))"
   ]
  },
  {
   "cell_type": "code",
   "execution_count": 4,
   "id": "entertaining-issue",
   "metadata": {
    "ExecuteTime": {
     "end_time": "2021-06-05T02:29:30.673822Z",
     "start_time": "2021-06-05T02:29:30.655819Z"
    }
   },
   "outputs": [
    {
     "name": "stdout",
     "output_type": "stream",
     "text": [
      "<class 'set'> {0, 1, 2, 3}\n"
     ]
    }
   ],
   "source": [
    "d = [1, 0, 3, 1, 2, 3]\n",
    "f = set(d)\n",
    "print(type(f), f)"
   ]
  },
  {
   "cell_type": "code",
   "execution_count": 5,
   "id": "uniform-liquid",
   "metadata": {
    "ExecuteTime": {
     "end_time": "2021-06-05T02:29:31.311916Z",
     "start_time": "2021-06-05T02:29:31.293901Z"
    }
   },
   "outputs": [
    {
     "data": {
      "text/plain": [
       "{1, 3}"
      ]
     },
     "execution_count": 5,
     "metadata": {},
     "output_type": "execute_result"
    }
   ],
   "source": [
    "a = {1, 2}\n",
    "b = {2, 3}\n",
    "\n",
    "a ^ b\n"
   ]
  },
  {
   "cell_type": "code",
   "execution_count": 6,
   "id": "enabling-ministry",
   "metadata": {
    "ExecuteTime": {
     "end_time": "2021-06-05T02:29:32.036898Z",
     "start_time": "2021-06-05T02:29:32.022896Z"
    }
   },
   "outputs": [
    {
     "name": "stdout",
     "output_type": "stream",
     "text": [
      "{1, 2}\n"
     ]
    }
   ],
   "source": [
    "print(a)"
   ]
  },
  {
   "cell_type": "code",
   "execution_count": 7,
   "id": "extra-roberts",
   "metadata": {
    "ExecuteTime": {
     "end_time": "2021-06-05T02:29:32.754460Z",
     "start_time": "2021-06-05T02:29:32.746458Z"
    }
   },
   "outputs": [
    {
     "name": "stdout",
     "output_type": "stream",
     "text": [
      "__class__\n",
      "__contains__\n",
      "__delattr__\n",
      "__delitem__\n",
      "__dir__\n",
      "__doc__\n",
      "__eq__\n",
      "__format__\n",
      "__ge__\n",
      "__getattribute__\n",
      "__getitem__\n",
      "__gt__\n",
      "__hash__\n",
      "__init__\n",
      "__init_subclass__\n",
      "__iter__\n",
      "__le__\n",
      "__len__\n",
      "__lt__\n",
      "__ne__\n",
      "__new__\n",
      "__reduce__\n",
      "__reduce_ex__\n",
      "__repr__\n",
      "__setattr__\n",
      "__setitem__\n",
      "__sizeof__\n",
      "__str__\n",
      "__subclasshook__\n",
      "clear\n",
      "copy\n",
      "fromkeys\n",
      "get\n",
      "items\n",
      "keys\n",
      "pop\n",
      "popitem\n",
      "setdefault\n",
      "update\n",
      "values\n"
     ]
    }
   ],
   "source": [
    "for i in dir(dict):\n",
    "    if not i.startswith(\"-\"):\n",
    "        print(i)"
   ]
  },
  {
   "cell_type": "code",
   "execution_count": 8,
   "id": "under-department",
   "metadata": {
    "ExecuteTime": {
     "end_time": "2021-06-05T02:30:58.018905Z",
     "start_time": "2021-06-05T02:30:58.013896Z"
    }
   },
   "outputs": [
    {
     "name": "stdout",
     "output_type": "stream",
     "text": [
      "cherry red\n",
      "apple green\n",
      "banana yellow\n",
      "('cherry', 'red') <class 'tuple'>\n",
      "('apple', 'green') <class 'tuple'>\n",
      "('banana', 'yellow') <class 'tuple'>\n"
     ]
    }
   ],
   "source": [
    "color = {'cherry' : 'red', 'apple' : 'green', 'banana' : 'yellow'}\n",
    "for k, v in color.items():\n",
    "    print(k,v)\n",
    "\n",
    "for item in color.items():\n",
    "    print(item, type(item))"
   ]
  },
  {
   "cell_type": "code",
   "execution_count": 9,
   "id": "persistent-renaissance",
   "metadata": {
    "ExecuteTime": {
     "end_time": "2021-06-05T02:31:00.280189Z",
     "start_time": "2021-06-05T02:31:00.272199Z"
    }
   },
   "outputs": [
    {
     "name": "stdout",
     "output_type": "stream",
     "text": [
      "('cherry', 'red')\n",
      "('apple', 'green')\n",
      "('banana', 'yellow')\n"
     ]
    }
   ],
   "source": [
    "for k in color.items():\n",
    "    print(k)"
   ]
  },
  {
   "cell_type": "code",
   "execution_count": 10,
   "id": "comprehensive-exposure",
   "metadata": {
    "ExecuteTime": {
     "end_time": "2021-06-05T02:31:01.877242Z",
     "start_time": "2021-06-05T02:31:01.868236Z"
    }
   },
   "outputs": [
    {
     "name": "stdout",
     "output_type": "stream",
     "text": [
      "dict_keys(['cherry', 'apple', 'banana']) <class 'dict_keys'>\n"
     ]
    }
   ],
   "source": [
    "ks = color.keys()\n",
    "print(ks, type(ks))"
   ]
  },
  {
   "cell_type": "code",
   "execution_count": 11,
   "id": "every-container",
   "metadata": {
    "ExecuteTime": {
     "end_time": "2021-06-05T02:31:02.436658Z",
     "start_time": "2021-06-05T02:31:02.432659Z"
    }
   },
   "outputs": [
    {
     "name": "stdout",
     "output_type": "stream",
     "text": [
      "dict_values(['red', 'green', 'yellow']) <class 'dict_values'>\n"
     ]
    }
   ],
   "source": [
    "vs = color.values()\n",
    "print(vs, type(vs))"
   ]
  },
  {
   "cell_type": "code",
   "execution_count": 12,
   "id": "quarterly-recycling",
   "metadata": {
    "ExecuteTime": {
     "end_time": "2021-06-05T02:31:03.033030Z",
     "start_time": "2021-06-05T02:31:03.029025Z"
    }
   },
   "outputs": [
    {
     "name": "stdout",
     "output_type": "stream",
     "text": [
      "defaults\n"
     ]
    }
   ],
   "source": [
    "d = {'a' : 1, 'b' : 2}\n",
    "print(d.get('c', \"defaults\"))"
   ]
  },
  {
   "cell_type": "code",
   "execution_count": 13,
   "id": "liable-truck",
   "metadata": {
    "ExecuteTime": {
     "end_time": "2021-06-05T02:31:10.180039Z",
     "start_time": "2021-06-05T02:31:10.139769Z"
    }
   },
   "outputs": [
    {
     "ename": "KeyError",
     "evalue": "'c'",
     "output_type": "error",
     "traceback": [
      "\u001b[1;31m---------------------------------------------------------------------------\u001b[0m",
      "\u001b[1;31mKeyError\u001b[0m                                  Traceback (most recent call last)",
      "\u001b[1;32m<ipython-input-13-432b107f50f2>\u001b[0m in \u001b[0;36m<module>\u001b[1;34m\u001b[0m\n\u001b[0;32m      1\u001b[0m \u001b[0md\u001b[0m \u001b[1;33m=\u001b[0m \u001b[1;33m{\u001b[0m\u001b[1;34m'a'\u001b[0m \u001b[1;33m:\u001b[0m \u001b[1;36m1\u001b[0m\u001b[1;33m,\u001b[0m \u001b[1;34m'b'\u001b[0m \u001b[1;33m:\u001b[0m \u001b[1;36m2\u001b[0m\u001b[1;33m}\u001b[0m\u001b[1;33m\u001b[0m\u001b[1;33m\u001b[0m\u001b[0m\n\u001b[1;32m----> 2\u001b[1;33m \u001b[0mprint\u001b[0m\u001b[1;33m(\u001b[0m\u001b[0md\u001b[0m\u001b[1;33m[\u001b[0m\u001b[1;34m'c'\u001b[0m\u001b[1;33m]\u001b[0m\u001b[1;33m)\u001b[0m\u001b[1;33m\u001b[0m\u001b[1;33m\u001b[0m\u001b[0m\n\u001b[0m",
      "\u001b[1;31mKeyError\u001b[0m: 'c'"
     ]
    }
   ],
   "source": [
    "d = {'a' : 1, 'b' : 2}\n",
    "print(d['c'])"
   ]
  },
  {
   "cell_type": "code",
   "execution_count": 14,
   "id": "informational-berkeley",
   "metadata": {
    "ExecuteTime": {
     "end_time": "2021-06-05T02:31:14.411458Z",
     "start_time": "2021-06-05T02:31:14.407469Z"
    }
   },
   "outputs": [
    {
     "name": "stdout",
     "output_type": "stream",
     "text": [
      "1 89\n",
      "2 0\n",
      "4 5\n"
     ]
    }
   ],
   "source": [
    "import collections\n",
    "d = {2:3, 1:89, 4:5, 2:0}\n",
    "od = collections.OrderedDict(sorted(d.items()))\n",
    "od\n",
    "for k, v in od.items():\n",
    "    print(k,v)"
   ]
  },
  {
   "cell_type": "code",
   "execution_count": 15,
   "id": "ordinary-drain",
   "metadata": {
    "ExecuteTime": {
     "end_time": "2021-06-05T02:31:15.146759Z",
     "start_time": "2021-06-05T02:31:15.135763Z"
    }
   },
   "outputs": [
    {
     "name": "stdout",
     "output_type": "stream",
     "text": [
      "{'a': None, 'b': None, 'c': None, 'd': None}\n",
      "{'a': 1, 'b': 1, 'c': 1, 'd': 1}\n"
     ]
    }
   ],
   "source": [
    "k = ['a', 'b', 'c', 'd']\n",
    "dic1, dic2 = {}, {}\n",
    "dic1 = dic1.fromkeys(k)\n",
    "dic2 = dic2.fromkeys(k, 1)\n",
    "print(dic1)\n",
    "print(dic2)"
   ]
  },
  {
   "cell_type": "code",
   "execution_count": 16,
   "id": "simplified-footage",
   "metadata": {
    "ExecuteTime": {
     "end_time": "2021-06-05T02:31:15.706259Z",
     "start_time": "2021-06-05T02:31:15.698257Z"
    }
   },
   "outputs": [
    {
     "name": "stdout",
     "output_type": "stream",
     "text": [
      "['a', 'b', 'c', 'd']\n"
     ]
    }
   ],
   "source": [
    "print(k)"
   ]
  },
  {
   "cell_type": "code",
   "execution_count": 17,
   "id": "fixed-tract",
   "metadata": {
    "ExecuteTime": {
     "end_time": "2021-06-05T02:31:16.064250Z",
     "start_time": "2021-06-05T02:31:16.054241Z"
    }
   },
   "outputs": [
    {
     "name": "stdout",
     "output_type": "stream",
     "text": [
      "{'a': None, 'b': None, 'c': None, 'd': None} <class 'dict'>\n",
      "{'a': 1, 'b': 1, 'c': 1, 'd': 1} <class 'dict'>\n"
     ]
    }
   ],
   "source": [
    "k = ['a', 'b', 'c', 'd']\n",
    "dic1, dic2 = {}, {}\n",
    "dic1 = dic1.fromkeys(k)\n",
    "dic2 = dic2.fromkeys(k, 1)\n",
    "print(dic1, type(dic1))\n",
    "print(dic2, type(dic2))"
   ]
  },
  {
   "cell_type": "code",
   "execution_count": 19,
   "id": "cellular-oakland",
   "metadata": {
    "ExecuteTime": {
     "end_time": "2021-06-05T02:33:10.795473Z",
     "start_time": "2021-06-05T02:33:10.786472Z"
    }
   },
   "outputs": [
    {
     "name": "stdout",
     "output_type": "stream",
     "text": [
      "Yesterday all my troubles\n",
      "seemed so far away.\n",
      "Now it looks\n",
      "as though they're here to stay.\n",
      "Oh, I believe in yesterday.\n",
      "\n",
      "Suddenly I'm not half\n",
      "the man I used to be.\n",
      "There's a shadow hanging over me.\n",
      "Oh, yesterday came suddenly.\n",
      "\n",
      "Why she had to go,\n",
      "I don't know,\n",
      "she wouldn't say.\n",
      "I said something wrong,\n",
      "now I long for yesterday.\n",
      "\n",
      "Yesterday love was\n",
      "such an easy game to play.\n",
      "Now I need a place to hide away.\n",
      "Oh, I believe in yesterday.\n",
      "\n",
      "Why she had to go,\n",
      "I don't know,\n",
      "she wouldn't say.\n",
      "I said something wrong,\n",
      "now I long for yesterday.\n",
      "\n",
      "Yesterday love was\n",
      "such an easy game to play.\n",
      "Now I need a place to hide away.\n",
      "Oh, I believe in yesterday.\n",
      "\n",
      "Mm mm mm mm mm mm mm\n",
      "\n"
     ]
    }
   ],
   "source": [
    "from collections import Counter\n",
    "\n",
    "f = open(\"C:/workspace/basic/yesterday.txt\", 'r')\n",
    "\n",
    "lyric = f.read()\n",
    "\n",
    "f.close()\n",
    "\n",
    "lst = [word for word in lyric.lower().split()]\n",
    "\n",
    "cnt = Counter(lst)\n",
    "\n",
    "print(lyric)"
   ]
  },
  {
   "cell_type": "code",
   "execution_count": 21,
   "id": "gorgeous-youth",
   "metadata": {
    "ExecuteTime": {
     "end_time": "2021-06-05T02:33:29.996652Z",
     "start_time": "2021-06-05T02:33:29.990658Z"
    }
   },
   "outputs": [
    {
     "name": "stdout",
     "output_type": "stream",
     "text": [
      "Counter({'i': 12, 'yesterday': 9, 'to': 8, 'mm': 7, 'now': 5, 'oh,': 4, 'she': 4, 'away': 3, 'believe': 3, 'in': 3, 'a': 3, 'suddenly': 2, 'why': 2, 'had': 2, 'go,': 2, \"don't\": 2, 'know,': 2, \"wouldn't\": 2, 'say': 2, 'said': 2, 'something': 2, 'wrong,': 2, 'long': 2, 'for': 2, 'love': 2, 'was': 2, 'such': 2, 'an': 2, 'easy': 2, 'game': 2, 'play': 2, 'need': 2, 'place': 2, 'hide': 2, 'all': 1, 'my': 1, 'troubles': 1, 'seemed': 1, 'so': 1, 'far': 1, 'it': 1, 'looks': 1, 'as': 1, 'though': 1, \"they're\": 1, 'here': 1, 'stay': 1, \"i'm\": 1, 'not': 1, 'half': 1, 'the': 1, 'man': 1, 'used': 1, 'be': 1, \"there's\": 1, 'shadow': 1, 'hanging': 1, 'over': 1, 'me': 1, 'came': 1})\n"
     ]
    }
   ],
   "source": [
    "from collections import Counter\n",
    "\n",
    "f = open(\"C:/workspace/basic/yesterday.txt\", 'r')\n",
    "yesterday_lyric = f.read()\n",
    "f.close()\n",
    "lst = [word.strip('.') for word in yesterday_lyric.lower().split()]\n",
    "cnt = Counter(lst)\n",
    "print(cnt)"
   ]
  },
  {
   "cell_type": "markdown",
   "id": "1fc6a112",
   "metadata": {},
   "source": [
    "# 사용자 정의 함수"
   ]
  },
  {
   "cell_type": "code",
   "execution_count": 22,
   "id": "differential-birthday",
   "metadata": {
    "ExecuteTime": {
     "end_time": "2021-06-05T02:33:30.712794Z",
     "start_time": "2021-06-05T02:33:30.695785Z"
    }
   },
   "outputs": [
    {
     "name": "stdout",
     "output_type": "stream",
     "text": [
      "7\n"
     ]
    }
   ],
   "source": [
    "def calc (a, b, c):\n",
    "    if c == '+':\n",
    "        return(a + b)\n",
    "    elif c == '/':\n",
    "        return(a / b)\n",
    "print(calc(3, 4, '+'))"
   ]
  },
  {
   "cell_type": "code",
   "execution_count": 23,
   "id": "accepting-stream",
   "metadata": {
    "ExecuteTime": {
     "end_time": "2021-06-05T02:33:31.523474Z",
     "start_time": "2021-06-05T02:33:31.515471Z"
    }
   },
   "outputs": [
    {
     "name": "stdout",
     "output_type": "stream",
     "text": [
      "10.0\n"
     ]
    }
   ],
   "source": [
    "print(calc(20, 2, '/'))"
   ]
  },
  {
   "cell_type": "code",
   "execution_count": 24,
   "id": "graduate-illness",
   "metadata": {
    "ExecuteTime": {
     "end_time": "2021-06-05T02:33:32.271422Z",
     "start_time": "2021-06-05T02:33:32.253418Z"
    }
   },
   "outputs": [
    {
     "name": "stdout",
     "output_type": "stream",
     "text": [
      "20 2\n",
      "2 20\n",
      "20 2\n"
     ]
    }
   ],
   "source": [
    "a = 20\n",
    "b = 2\n",
    "\n",
    "def change (x, y):\n",
    "    print(x, y)\n",
    "    temp = x\n",
    "    x = y\n",
    "    y = temp\n",
    "    print(x,y)\n",
    "    \n",
    "change(a, b)\n",
    "print(a, b)"
   ]
  },
  {
   "cell_type": "code",
   "execution_count": 27,
   "id": "killing-search",
   "metadata": {
    "ExecuteTime": {
     "end_time": "2021-06-05T02:34:24.175865Z",
     "start_time": "2021-06-05T02:34:24.155854Z"
    }
   },
   "outputs": [
    {
     "name": "stdout",
     "output_type": "stream",
     "text": [
      "20 2\n",
      "2 20\n",
      "[2] [20]\n"
     ]
    }
   ],
   "source": [
    "#CallByReference\n",
    "a = [20]\n",
    "b = [2]\n",
    "\n",
    "def change(x, y):\n",
    "    print(x[0], y[0])\n",
    "    temp = x[0]\n",
    "    x[0] = y[0]\n",
    "    y[0] = temp\n",
    "    print(x[0], y[0])\n",
    "    \n",
    "change(a, b)\n",
    "print(a, b)"
   ]
  },
  {
   "cell_type": "code",
   "execution_count": 28,
   "id": "plain-independence",
   "metadata": {
    "ExecuteTime": {
     "end_time": "2021-06-05T02:34:25.018484Z",
     "start_time": "2021-06-05T02:34:24.999468Z"
    }
   },
   "outputs": [
    {
     "name": "stdout",
     "output_type": "stream",
     "text": [
      "100\n",
      "5\n"
     ]
    },
    {
     "ename": "NameError",
     "evalue": "name 'l' is not defined",
     "output_type": "error",
     "traceback": [
      "\u001b[1;31m---------------------------------------------------------------------------\u001b[0m",
      "\u001b[1;31mNameError\u001b[0m                                 Traceback (most recent call last)",
      "\u001b[1;32m<ipython-input-28-e99fecbeffa0>\u001b[0m in \u001b[0;36m<module>\u001b[1;34m\u001b[0m\n\u001b[0;32m     10\u001b[0m \u001b[1;33m\u001b[0m\u001b[0m\n\u001b[0;32m     11\u001b[0m \u001b[0mf1\u001b[0m\u001b[1;33m(\u001b[0m\u001b[1;33m)\u001b[0m\u001b[1;33m\u001b[0m\u001b[1;33m\u001b[0m\u001b[0m\n\u001b[1;32m---> 12\u001b[1;33m \u001b[0mprint\u001b[0m\u001b[1;33m(\u001b[0m\u001b[0ml\u001b[0m\u001b[1;33m)\u001b[0m \u001b[1;31m#오류 발생\u001b[0m\u001b[1;33m\u001b[0m\u001b[1;33m\u001b[0m\u001b[0m\n\u001b[0m",
      "\u001b[1;31mNameError\u001b[0m: name 'l' is not defined"
     ]
    }
   ],
   "source": [
    "#함수 내부에서 함수 밖의 변수가 보임(=사용 가능)\n",
    "#함수 내부에서 선언된 변수는 함수 밖에서 사용 불가 (sandbox 형태)\n",
    "\n",
    "z = 100 #전역변수\n",
    "\n",
    "def f1():\n",
    "    l = 5 #로컬변수\n",
    "    print(z)\n",
    "    print(l)\n",
    "    \n",
    "f1()\n",
    "print(l) #오류 발생"
   ]
  },
  {
   "cell_type": "code",
   "execution_count": 29,
   "id": "younger-conditions",
   "metadata": {
    "ExecuteTime": {
     "end_time": "2021-06-05T02:34:30.694182Z",
     "start_time": "2021-06-05T02:34:30.685181Z"
    }
   },
   "outputs": [
    {
     "name": "stdout",
     "output_type": "stream",
     "text": [
      "5\n",
      "100\n"
     ]
    }
   ],
   "source": [
    "#전역변수와 동일한 이름의 로컬변수를 선언하면?    로컬변수가 우선\n",
    "#함수 밖에서 z변수를 출력하면 전역변수가 나올지 로컬변수가 나올지?    전역변수 출력\n",
    "  \n",
    "z = 100\n",
    "\n",
    "def f2():\n",
    "    z = 5\n",
    "    print(z)\n",
    "    \n",
    "f2()\n",
    "print(z)"
   ]
  },
  {
   "cell_type": "code",
   "execution_count": 30,
   "id": "civic-tucson",
   "metadata": {
    "ExecuteTime": {
     "end_time": "2021-06-05T02:34:34.328781Z",
     "start_time": "2021-06-05T02:34:31.425746Z"
    }
   },
   "outputs": [
    {
     "name": "stdout",
     "output_type": "stream",
     "text": [
      "Input Number for Factorial Calculation: 5\n",
      "120\n"
     ]
    }
   ],
   "source": [
    "def factorial(n):\n",
    "    if n == 1:\n",
    "        return 1\n",
    "    else:\n",
    "        return n * factorial(n - 1)\n",
    "\n",
    "print(factorial(int(input(\"Input Number for Factorial Calculation: \"))))"
   ]
  },
  {
   "cell_type": "code",
   "execution_count": 31,
   "id": "novel-difference",
   "metadata": {
    "ExecuteTime": {
     "end_time": "2021-06-05T02:34:35.878135Z",
     "start_time": "2021-06-05T02:34:35.862213Z"
    }
   },
   "outputs": [
    {
     "name": "stdout",
     "output_type": "stream",
     "text": [
      "<class 'tuple'>\n",
      "3\n",
      "<class 'tuple'>\n",
      "6\n",
      "<class 'tuple'>\n",
      "28\n"
     ]
    }
   ],
   "source": [
    "def hap(a, b, *args):\n",
    "        total = a + b\n",
    "        print(type(args))\n",
    "        for arg in args :\n",
    "            total += arg\n",
    "        return total\n",
    "\n",
    "print(hap(1, 2))\n",
    "print(hap(1, 2, 3))\n",
    "print(hap(1, 2, 3, 4, 5, 6, 7))"
   ]
  },
  {
   "cell_type": "code",
   "execution_count": 32,
   "id": "exclusive-actor",
   "metadata": {
    "ExecuteTime": {
     "end_time": "2021-06-05T02:34:38.873832Z",
     "start_time": "2021-06-05T02:34:38.859830Z"
    }
   },
   "outputs": [
    {
     "name": "stdout",
     "output_type": "stream",
     "text": [
      "0 tic\n",
      "1 tac\n",
      "2 toe\n"
     ]
    }
   ],
   "source": [
    "for i, v in enumerate(['tic', 'tac', 'toe']):\n",
    "    print(i, v)"
   ]
  },
  {
   "cell_type": "code",
   "execution_count": 34,
   "id": "boolean-bunch",
   "metadata": {
    "ExecuteTime": {
     "end_time": "2021-06-05T02:34:42.585008Z",
     "start_time": "2021-06-05T02:34:42.566998Z"
    }
   },
   "outputs": [
    {
     "ename": "ValueError",
     "evalue": "not enough values to unpack (expected 3, got 2)",
     "output_type": "error",
     "traceback": [
      "\u001b[1;31m---------------------------------------------------------------------------\u001b[0m",
      "\u001b[1;31mValueError\u001b[0m                                Traceback (most recent call last)",
      "\u001b[1;32m<ipython-input-34-33c1b4b7f1b2>\u001b[0m in \u001b[0;36m<module>\u001b[1;34m\u001b[0m\n\u001b[1;32m----> 1\u001b[1;33m \u001b[0ma\u001b[0m\u001b[1;33m,\u001b[0m \u001b[0mb\u001b[0m\u001b[1;33m,\u001b[0m \u001b[0mc\u001b[0m \u001b[1;33m=\u001b[0m \u001b[0mzip\u001b[0m\u001b[1;33m(\u001b[0m\u001b[1;33m(\u001b[0m\u001b[1;36m1\u001b[0m\u001b[1;33m,\u001b[0m \u001b[1;36m2\u001b[0m\u001b[1;33m)\u001b[0m\u001b[1;33m,\u001b[0m \u001b[1;33m(\u001b[0m\u001b[1;36m10\u001b[0m\u001b[1;33m,\u001b[0m \u001b[1;36m20\u001b[0m\u001b[1;33m,\u001b[0m \u001b[1;36m30\u001b[0m\u001b[1;33m)\u001b[0m\u001b[1;33m,\u001b[0m \u001b[1;33m(\u001b[0m\u001b[1;36m100\u001b[0m\u001b[1;33m,\u001b[0m \u001b[1;36m400\u001b[0m\u001b[1;33m,\u001b[0m \u001b[1;36m500\u001b[0m\u001b[1;33m)\u001b[0m\u001b[1;33m)\u001b[0m\u001b[1;33m\u001b[0m\u001b[1;33m\u001b[0m\u001b[0m\n\u001b[0m\u001b[0;32m      2\u001b[0m \u001b[0mprint\u001b[0m\u001b[1;33m(\u001b[0m\u001b[0ma\u001b[0m\u001b[1;33m,\u001b[0m \u001b[0mb\u001b[0m\u001b[1;33m,\u001b[0m \u001b[0mc\u001b[0m\u001b[1;33m)\u001b[0m\u001b[1;33m\u001b[0m\u001b[1;33m\u001b[0m\u001b[0m\n",
      "\u001b[1;31mValueError\u001b[0m: not enough values to unpack (expected 3, got 2)"
     ]
    }
   ],
   "source": [
    "a, b, c = zip((1, 2), (10, 20, 30), (100, 400, 500))\n",
    "print(a, b, c)"
   ]
  },
  {
   "cell_type": "code",
   "execution_count": 35,
   "id": "conditional-consultancy",
   "metadata": {
    "ExecuteTime": {
     "end_time": "2021-06-05T02:34:43.085331Z",
     "start_time": "2021-06-05T02:34:43.068332Z"
    }
   },
   "outputs": [
    {
     "name": "stdout",
     "output_type": "stream",
     "text": [
      "6\n"
     ]
    }
   ],
   "source": [
    "print((lambda x: x + 1)(5))"
   ]
  },
  {
   "cell_type": "code",
   "execution_count": 36,
   "id": "proprietary-distinction",
   "metadata": {
    "ExecuteTime": {
     "end_time": "2021-06-05T02:35:01.915241Z",
     "start_time": "2021-06-05T02:34:46.941716Z"
    }
   },
   "outputs": [
    {
     "name": "stdout",
     "output_type": "stream",
     "text": [
      "떡볶이, 짜장면, 라면, 피자, 맥주, 치킨, 삼겹살 중 좋아하는 음식을 입력하세요 : 치킨\n",
      "치킨무\n",
      "떡볶이, 짜장면, 라면, 피자, 맥주, 치킨, 삼겹살 중 좋아하는 음식을 입력하세요 : 삼겹살\n",
      "밥\n",
      "떡볶이, 짜장면, 라면, 피자, 맥주, 치킨, 삼겹살 중 좋아하는 음식을 입력하세요 : 바보\n",
      "그런 음식이 없습니다. 확인해보세요.\n",
      "떡볶이, 짜장면, 라면, 피자, 맥주, 치킨, 삼겹살 중 좋아하는 음식을 입력하세요 : 끝\n"
     ]
    }
   ],
   "source": [
    "food = {'떡볶이':'순대', '짜장면':'탕수육', '라면':'김치','피자':'피클','맥주':'소주','치킨':'치킨무','삼겹살':'밥'}\n",
    "\n",
    "while True:\n",
    "    ans = input(\"떡볶이, 짜장면, 라면, 피자, 맥주, 치킨, 삼겹살 중 좋아하는 음식을 입력하세요 : \")\n",
    "    if ans == \"끝\":\n",
    "        break\n",
    "    if ans in food.keys():\n",
    "        print(food[ans])\n",
    "    else:\n",
    "        print(\"그런 음식이 없습니다. 확인해보세요.\")"
   ]
  },
  {
   "cell_type": "code",
   "execution_count": 38,
   "id": "7862dcae",
   "metadata": {
    "ExecuteTime": {
     "end_time": "2021-06-05T02:35:31.084000Z",
     "start_time": "2021-06-05T02:35:30.060230Z"
    }
   },
   "outputs": [
    {
     "name": "stdout",
     "output_type": "stream",
     "text": [
      "떡볶이, 짜장면, 라면, 피자, 맥주, 치킨, 삼겹살 중 좋아하는 음식을 입력하세요 : 라면\n"
     ]
    },
    {
     "ename": "AttributeError",
     "evalue": "'str' object has no attribute 'get'",
     "output_type": "error",
     "traceback": [
      "\u001b[1;31m---------------------------------------------------------------------------\u001b[0m",
      "\u001b[1;31mAttributeError\u001b[0m                            Traceback (most recent call last)",
      "\u001b[1;32m<ipython-input-38-a781f1bc6bd9>\u001b[0m in \u001b[0;36m<module>\u001b[1;34m\u001b[0m\n\u001b[0;32m      6\u001b[0m         \u001b[0mprint\u001b[0m\u001b[1;33m(\u001b[0m\u001b[1;34m\"끝\"\u001b[0m\u001b[1;33m)\u001b[0m\u001b[1;33m\u001b[0m\u001b[1;33m\u001b[0m\u001b[0m\n\u001b[0;32m      7\u001b[0m     \u001b[1;32melif\u001b[0m \u001b[0mans\u001b[0m \u001b[1;32min\u001b[0m \u001b[0mfood\u001b[0m\u001b[1;33m.\u001b[0m\u001b[0mkeys\u001b[0m\u001b[1;33m(\u001b[0m\u001b[1;33m)\u001b[0m\u001b[1;33m:\u001b[0m\u001b[1;33m\u001b[0m\u001b[1;33m\u001b[0m\u001b[0m\n\u001b[1;32m----> 8\u001b[1;33m         \u001b[0mprint\u001b[0m\u001b[1;33m(\u001b[0m\u001b[0mans\u001b[0m\u001b[1;33m.\u001b[0m\u001b[0mget\u001b[0m\u001b[1;33m(\u001b[0m\u001b[0mfood\u001b[0m\u001b[1;33m)\u001b[0m\u001b[1;33m)\u001b[0m\u001b[1;33m\u001b[0m\u001b[1;33m\u001b[0m\u001b[0m\n\u001b[0m\u001b[0;32m      9\u001b[0m     \u001b[1;32melse\u001b[0m\u001b[1;33m:\u001b[0m\u001b[1;33m\u001b[0m\u001b[1;33m\u001b[0m\u001b[0m\n\u001b[0;32m     10\u001b[0m         \u001b[0mprint\u001b[0m\u001b[1;33m(\u001b[0m\u001b[1;34m\"그런 음식은 없다.\"\u001b[0m\u001b[1;33m)\u001b[0m\u001b[1;33m\u001b[0m\u001b[1;33m\u001b[0m\u001b[0m\n",
      "\u001b[1;31mAttributeError\u001b[0m: 'str' object has no attribute 'get'"
     ]
    }
   ],
   "source": [
    "food = {'떡볶이':'순대', '짜장면':'탕수육', '라면':'김치','피자':'피클','맥주':'소주','치킨':'치킨무','삼겹살':'밥'}\n",
    "\n",
    "for ans in food:\n",
    "    ans = input(\"떡볶이, 짜장면, 라면, 피자, 맥주, 치킨, 삼겹살 중 좋아하는 음식을 입력하세요 : \")\n",
    "    if ans == \"끝\":\n",
    "        print(\"끝\")\n",
    "    elif ans in food.keys():\n",
    "        print(ans.get(food))\n",
    "    else:\n",
    "        print(\"그런 음식은 없다.\")"
   ]
  },
  {
   "cell_type": "code",
   "execution_count": 39,
   "id": "7833d631",
   "metadata": {
    "ExecuteTime": {
     "end_time": "2021-06-05T02:36:02.919595Z",
     "start_time": "2021-06-05T02:36:02.894577Z"
    }
   },
   "outputs": [
    {
     "name": "stdout",
     "output_type": "stream",
     "text": [
      "--------------------------------------\n",
      "기차          총수송량    순위\n",
      "--------------------------------------\n",
      "헨리 \t 15 \t 1\n",
      "에밀리 \t 13 \t 2\n",
      "고든 \t 13 \t 2\n",
      "토마스 \t 12 \t 4\n",
      "에드워드 \t 9 \t 5\n",
      "퍼시 \t 5 \t 6\n"
     ]
    }
   ],
   "source": [
    "trainTupleList =  [('토마스', 5), ('헨리', 8), ('에드워드', 9), \n",
    "('에밀리', 5), ('토마스', 4), ('헨리', 7), ('토마스', 3), ('에밀리', 8), ('퍼시', 5), ('고든', 13)]\n",
    "trainDic = {} \n",
    "trainList = []\n",
    "for tmpTup in trainTupleList :\n",
    "    tName = tmpTup[0]\n",
    "    tWeight = tmpTup[1]\n",
    "    if tName in trainDic :\n",
    "        trainDic[tName] += tWeight\n",
    "    else :\n",
    "        trainDic[tName] = tWeight\n",
    "\n",
    "#print(trainDic)\n",
    "import operator\n",
    "trainList = sorted(trainDic.items(), key = operator.itemgetter(1), reverse = True)\n",
    "#print(trainList)\n",
    "print('--------------------------------------')\n",
    "print(\"기차          총수송량    순위\")\n",
    "print('--------------------------------------')\n",
    "totalRank, currentRank = 0, 0\n",
    "for idx in  range(len(trainList)) :\n",
    "    totalRank +=1\n",
    "    if trainList[idx][1] == trainList[idx-1][1] :\n",
    "        pass\n",
    "    else :\n",
    "        currentRank = totalRank\n",
    "    print(trainList[idx][0], '\\t' ,trainList[idx][1],'\\t', currentRank)"
   ]
  },
  {
   "cell_type": "code",
   "execution_count": 40,
   "id": "cc40f51a",
   "metadata": {
    "ExecuteTime": {
     "end_time": "2021-06-05T02:36:11.130681Z",
     "start_time": "2021-06-05T02:36:11.120679Z"
    }
   },
   "outputs": [
    {
     "name": "stdout",
     "output_type": "stream",
     "text": [
      "Counter({' ': 56, '이': 9, '의': 8, '나': 8, '그': 7, '다': 7, '에': 6, '는': 6, '가': 5, '을': 5, '내': 4, '름': 4, '불': 4, '러': 4, '지': 4, '.': 4, '게': 4, '되': 4, '고': 3, '싶': 3, '주': 2, '기': 2, '하': 2, '짓': 2, '않': 2, '었': 2, '로': 2, '꽃': 2, '은': 2, '너': 2, '전': 1, '만': 1, '몸': 1, '았': 1, '때': 1, ',': 1, '와': 1, '준': 1, '것': 1, '처': 1, '럼': 1, '빛': 1, '깔': 1, '과': 1, '향': 1, '알': 1, '맞': 1, '누': 1, '오': 1, '서': 1, '도': 1, '우': 1, '리': 1, '들': 1, '모': 1, '두': 1, '무': 1, '엇': 1, '잊': 1, '혀': 1, '눈': 1})\n"
     ]
    }
   ],
   "source": [
    "from collections import Counter\n",
    "\n",
    "poet = ['내가 그의 이름을 불러주기 전에는 그는 다만 하나의 몸짓에 지나지 않았다. 내가 그의 이름을 불러주었을 때, 그는 내게로 와 꽃이 되었다 내가 그의 이름을 불러준 것처럼 나의 이 빛깔과 향기에 알맞은 누가 나의 이름을 불러다오. 그에게로 가서 나도 그의 꽃이 되고 싶다. 우리들은 모두 무엇이 되고 싶다. 나는 너에게 너는 나에게 잊혀지지 않는 하나의 눈짓이 되고 싶다']\n",
    "for i in poet:\n",
    "    c = Counter(i)\n",
    "    print(c)\n",
    "    if '' in c:\n",
    "        pass"
   ]
  },
  {
   "cell_type": "code",
   "execution_count": 41,
   "id": "dc7042dc",
   "metadata": {
    "ExecuteTime": {
     "end_time": "2021-06-05T02:36:16.642515Z",
     "start_time": "2021-06-05T02:36:16.635519Z"
    }
   },
   "outputs": [
    {
     "name": "stdout",
     "output_type": "stream",
     "text": [
      "LG TV\n",
      "<class '__main__.TV'>\n",
      "400\n",
      "띠로링~ 전원이 켜졌습니다.\n"
     ]
    }
   ],
   "source": [
    "#클래스를 정의\n",
    "\n",
    "class TV:\n",
    "    def __init__(self, inch, channel, volume, power):\n",
    "        self.inch = inch\n",
    "        self.channel = channel\n",
    "        self.volume = volume\n",
    "        self.power = power\n",
    "        \n",
    "    def __str__(self): #객체를 식별, 표현하는 문자열 반환 목적\n",
    "        return \"LG TV\"\n",
    "    \n",
    "    def __repr__(self): #사람이 이해할 수 있는 표현을 반환\n",
    "        return \"LG OLED TV\"\n",
    "    \n",
    "    def powerOn(self):\n",
    "        self.power = True\n",
    "        print(\"띠로링~ 전원이 켜졌습니다.\")\n",
    "        \n",
    "\n",
    "LG = TV(55, 400, 20, False) #객체 생성\n",
    "print(LG)\n",
    "print(type(LG))\n",
    "print(LG.channel)\n",
    "LG.powerOn()"
   ]
  },
  {
   "cell_type": "code",
   "execution_count": 42,
   "id": "8c16a671",
   "metadata": {
    "ExecuteTime": {
     "end_time": "2021-06-05T02:36:20.882549Z",
     "start_time": "2021-06-05T02:36:20.864549Z"
    }
   },
   "outputs": [
    {
     "name": "stdout",
     "output_type": "stream",
     "text": [
      "세탁기 : 10000000\n",
      "TV : 2000000\n",
      "냉장고 : 1500000\n",
      "노트북 : 1200000\n",
      "책상 : 350000\n",
      "가스레인지 : 200000\n"
     ]
    }
   ],
   "source": [
    "import operator\n",
    "\n",
    "cosas = {\"TV\":2000000, \"냉장고\":1500000, \"책상\":350000, \n",
    "       \"노트북\":1200000, \"가스레인지\":200000, \"세탁기\":10000000}\n",
    "\n",
    "cosas = dict(sorted(cosas.items(), key = operator.itemgetter(1), reverse = True))\n",
    "\n",
    "for cosas, precio in cosas.items():\n",
    "    print(\"{0} : {1}\".format(cosas, precio))"
   ]
  },
  {
   "cell_type": "code",
   "execution_count": 43,
   "id": "ef963041",
   "metadata": {
    "ExecuteTime": {
     "end_time": "2021-06-05T02:36:24.296630Z",
     "start_time": "2021-06-05T02:36:24.285625Z"
    }
   },
   "outputs": [
    {
     "name": "stdout",
     "output_type": "stream",
     "text": [
      "{'카페모카': 3300, '밀크커피': 3300, '샷크린티라떼': 3300}\n"
     ]
    }
   ],
   "source": [
    "menu_1 = {'아메리카노':1900, '카페모카':3300, '에스프레소':1900, \n",
    "          '카페라떼':2500, '카푸치노':2500, '바닐라라떼':2900}\n",
    "menu_2 = {'헤이즐럿라떼':2900, '카페모카':3300, '밀크커피':3300, '아메리카노':1900,\n",
    "         '샷크린티라떼':3300}\n",
    "\n",
    "menu_2.update(menu_1)\n",
    "\n",
    "result = dict(filter(lambda item: item[1] >= 3000, menu_2.items()))\n",
    "\n",
    "print(result)"
   ]
  },
  {
   "cell_type": "code",
   "execution_count": 44,
   "id": "3277394e",
   "metadata": {
    "ExecuteTime": {
     "end_time": "2021-06-05T02:36:32.647476Z",
     "start_time": "2021-06-05T02:36:28.331675Z"
    }
   },
   "outputs": [
    {
     "name": "stdout",
     "output_type": "stream",
     "text": [
      "50\n",
      "문자 0개 입니다.\n",
      "숫자 2개 입니다.\n"
     ]
    }
   ],
   "source": [
    "frase = input().strip()\n",
    "\n",
    "letra = 0\n",
    "numero = 0\n",
    "\n",
    "for i in frase:\n",
    "    if i >= 'a' and i <= 'z' or i >= 'A' and i <= 'Z':\n",
    "        letra += 1\n",
    "    elif '가' <= i <= '하':\n",
    "        letra += 1\n",
    "    elif '0' <= i <= '9':\n",
    "        numero += 1\n",
    "    \n",
    "print('문자 %d개 입니다.' % letra)\n",
    "print('숫자 %d개 입니다.' % numero)"
   ]
  },
  {
   "cell_type": "code",
   "execution_count": null,
   "id": "0f558555",
   "metadata": {},
   "outputs": [],
   "source": []
  }
 ],
 "metadata": {
  "kernelspec": {
   "display_name": "Python 3",
   "language": "python",
   "name": "python3"
  },
  "language_info": {
   "codemirror_mode": {
    "name": "ipython",
    "version": 3
   },
   "file_extension": ".py",
   "mimetype": "text/x-python",
   "name": "python",
   "nbconvert_exporter": "python",
   "pygments_lexer": "ipython3",
   "version": "3.7.10"
  },
  "toc": {
   "base_numbering": 1,
   "nav_menu": {},
   "number_sections": true,
   "sideBar": true,
   "skip_h1_title": false,
   "title_cell": "Table of Contents",
   "title_sidebar": "Contents",
   "toc_cell": false,
   "toc_position": {},
   "toc_section_display": true,
   "toc_window_display": false
  }
 },
 "nbformat": 4,
 "nbformat_minor": 5
}
