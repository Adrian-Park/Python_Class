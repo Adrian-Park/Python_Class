{
 "cells": [
  {
   "cell_type": "markdown",
   "id": "fcb2c8b8",
   "metadata": {},
   "source": [
    "# 표현식"
   ]
  },
  {
   "cell_type": "code",
   "execution_count": 1,
   "id": "cosmetic-easter",
   "metadata": {},
   "outputs": [
    {
     "name": "stdout",
     "output_type": "stream",
     "text": [
      "True\n"
     ]
    }
   ],
   "source": [
    "print((3.14 == 314e-2))"
   ]
  },
  {
   "cell_type": "code",
   "execution_count": 3,
   "id": "modern-console",
   "metadata": {},
   "outputs": [
    {
     "name": "stdout",
     "output_type": "stream",
     "text": [
      "sys.int_info(bits_per_digit=30, sizeof_digit=4)\n",
      "sys.float_info(max=1.7976931348623157e+308, max_exp=1024, max_10_exp=308, min=2.2250738585072014e-308, min_exp=-1021, min_10_exp=-307, dig=15, mant_dig=53, epsilon=2.220446049250313e-16, radix=2, rounds=1)\n",
      "10963\n",
      "max 1.7976931348623157e+308\n",
      "min 2.2250738585072014e-308\n"
     ]
    }
   ],
   "source": [
    "import sys\n",
    "print(sys.int_info)\n",
    "print(sys.float_info)\n",
    "a = 10 ** 3300\n",
    "print(a.bit_length())\n",
    "\n",
    "print(\"max\", sys.float_info.max)\n",
    "print(\"min\", sys.float_info.min)"
   ]
  },
  {
   "cell_type": "code",
   "execution_count": 5,
   "id": "differential-ancient",
   "metadata": {
    "ExecuteTime": {
     "end_time": "2021-06-05T02:04:47.775865Z",
     "start_time": "2021-06-05T02:04:47.759844Z"
    }
   },
   "outputs": [
    {
     "ename": "TypeError",
     "evalue": "can only concatenate str (not \"int\") to str",
     "output_type": "error",
     "traceback": [
      "\u001b[1;31m---------------------------------------------------------------------------\u001b[0m",
      "\u001b[1;31mTypeError\u001b[0m                                 Traceback (most recent call last)",
      "\u001b[1;32m<ipython-input-5-1e9eb51b8876>\u001b[0m in \u001b[0;36m<module>\u001b[1;34m\u001b[0m\n\u001b[0;32m      1\u001b[0m \u001b[0ma\u001b[0m \u001b[1;33m=\u001b[0m \u001b[1;34m\"py\"\u001b[0m\u001b[1;33m\u001b[0m\u001b[1;33m\u001b[0m\u001b[0m\n\u001b[1;32m----> 2\u001b[1;33m \u001b[0mc\u001b[0m \u001b[1;33m=\u001b[0m \u001b[0ma\u001b[0m \u001b[1;33m+\u001b[0m \u001b[1;36m3\u001b[0m\u001b[1;33m\u001b[0m\u001b[1;33m\u001b[0m\u001b[0m\n\u001b[0m",
      "\u001b[1;31mTypeError\u001b[0m: can only concatenate str (not \"int\") to str"
     ]
    }
   ],
   "source": [
    "a = \"py\"\n",
    "c = a + 3"
   ]
  },
  {
   "cell_type": "code",
   "execution_count": 2,
   "id": "lonely-explosion",
   "metadata": {
    "ExecuteTime": {
     "end_time": "2021-06-05T02:04:36.890880Z",
     "start_time": "2021-06-05T02:04:36.880890Z"
    }
   },
   "outputs": [
    {
     "name": "stdout",
     "output_type": "stream",
     "text": [
      "True\n",
      "True\n",
      "140728037188288 140728037188288\n",
      "False\n",
      "True\n",
      "2244856668368 2244856668560\n"
     ]
    }
   ],
   "source": [
    "vari = 10\n",
    "varb = 10\n",
    "print(vari is varb)\n",
    "print(vari == varb)\n",
    "print(id(vari), id(varb))\n",
    "\n",
    "vari = 1000\n",
    "varb = 1000\n",
    "print(vari is varb)\n",
    "print(vari == varb)\n",
    "print(id(vari), id(varb))"
   ]
  },
  {
   "cell_type": "code",
   "execution_count": 6,
   "id": "differential-presentation",
   "metadata": {
    "ExecuteTime": {
     "end_time": "2021-06-05T02:05:31.541675Z",
     "start_time": "2021-06-05T02:05:31.524678Z"
    }
   },
   "outputs": [
    {
     "name": "stdout",
     "output_type": "stream",
     "text": [
      "None\n"
     ]
    }
   ],
   "source": [
    "def func():\n",
    "    pass\n",
    "a = func()\n",
    "print(a)"
   ]
  },
  {
   "cell_type": "code",
   "execution_count": 7,
   "id": "75d6096c",
   "metadata": {
    "ExecuteTime": {
     "end_time": "2021-06-05T02:05:37.251800Z",
     "start_time": "2021-06-05T02:05:37.232803Z"
    }
   },
   "outputs": [
    {
     "name": "stdout",
     "output_type": "stream",
     "text": [
      "1\n",
      "7\n",
      "6\n"
     ]
    }
   ],
   "source": [
    "a = 3\n",
    "b = 5\n",
    "print(a & b)\n",
    "print(a | b)\n",
    "print(a ^ b)"
   ]
  },
  {
   "cell_type": "code",
   "execution_count": 8,
   "id": "3c26b4d9",
   "metadata": {
    "ExecuteTime": {
     "end_time": "2021-06-05T02:05:57.230502Z",
     "start_time": "2021-06-05T02:05:57.219483Z"
    }
   },
   "outputs": [
    {
     "name": "stdout",
     "output_type": "stream",
     "text": [
      "-4\n",
      "24\n"
     ]
    }
   ],
   "source": [
    "print(~a)\n",
    "print( a << 3)"
   ]
  },
  {
   "cell_type": "code",
   "execution_count": 9,
   "id": "3dbb9dfc",
   "metadata": {
    "ExecuteTime": {
     "end_time": "2021-06-05T02:06:01.636647Z",
     "start_time": "2021-06-05T02:06:01.626655Z"
    }
   },
   "outputs": [
    {
     "name": "stdout",
     "output_type": "stream",
     "text": [
      "-4\n",
      "24\n"
     ]
    }
   ],
   "source": [
    "a = 3\n",
    "print(~a)\n",
    "print( a << 3)"
   ]
  },
  {
   "cell_type": "code",
   "execution_count": 10,
   "id": "aba3b90f",
   "metadata": {
    "ExecuteTime": {
     "end_time": "2021-06-05T02:06:06.360493Z",
     "start_time": "2021-06-05T02:06:06.348488Z"
    }
   },
   "outputs": [
    {
     "name": "stdout",
     "output_type": "stream",
     "text": [
      "24\n"
     ]
    }
   ],
   "source": [
    "print(a<<3)"
   ]
  },
  {
   "cell_type": "code",
   "execution_count": 11,
   "id": "81574f14",
   "metadata": {
    "ExecuteTime": {
     "end_time": "2021-06-05T02:06:10.144335Z",
     "start_time": "2021-06-05T02:06:10.130341Z"
    }
   },
   "outputs": [
    {
     "name": "stdout",
     "output_type": "stream",
     "text": [
      "32\n"
     ]
    }
   ],
   "source": [
    "c = 256\n",
    "print(c >> 3)"
   ]
  },
  {
   "cell_type": "code",
   "execution_count": 12,
   "id": "019d6d18",
   "metadata": {
    "ExecuteTime": {
     "end_time": "2021-06-05T02:06:15.248919Z",
     "start_time": "2021-06-05T02:06:15.236916Z"
    }
   },
   "outputs": [
    {
     "name": "stdout",
     "output_type": "stream",
     "text": [
      "96\n"
     ]
    }
   ],
   "source": [
    "a = 3\n",
    "print(a << 5)"
   ]
  },
  {
   "cell_type": "code",
   "execution_count": 13,
   "id": "851bcf64",
   "metadata": {
    "ExecuteTime": {
     "end_time": "2021-06-05T02:06:18.875622Z",
     "start_time": "2021-06-05T02:06:18.864621Z"
    }
   },
   "outputs": [
    {
     "name": "stdout",
     "output_type": "stream",
     "text": [
      "TEAMLA AND ME Python\n",
      "TEAMLAB MOOC, AWESOME Python\n",
      "TEAMLAB MOOC, AWESOME Python\n",
      "TALBMO,AEOEPto AND nohtyP EMOSEWA ,COOM BALMAET\n"
     ]
    }
   ],
   "source": [
    "a = \"TEAMLAB MOOC, AWESOME Python\"\n",
    "print(a[0:6], \"AND\", a[-9:])\n",
    "\n",
    "print(a[:])\n",
    "\n",
    "print(a[-50:50])\n",
    "\n",
    "print(a[::2], \"AND\", a[::-1])"
   ]
  },
  {
   "cell_type": "code",
   "execution_count": 14,
   "id": "da2e90ee",
   "metadata": {
    "ExecuteTime": {
     "end_time": "2021-06-05T02:06:22.316793Z",
     "start_time": "2021-06-05T02:06:22.304797Z"
    }
   },
   "outputs": [
    {
     "name": "stdout",
     "output_type": "stream",
     "text": [
      "11\n",
      "HELLO WORLD\n",
      "Hello World\n",
      "Hello world\n",
      "4\n",
      "2\n",
      "4\n",
      "7\n"
     ]
    }
   ],
   "source": [
    "a = \"hello world\"\n",
    "print(len(a))\n",
    "print(a.upper())\n",
    "print(a.title())\n",
    "print(a.capitalize())\n",
    "print(a.find(\"o\"))\n",
    "print(a.count(\"o\"))\n",
    "print(a.find(\"o\"))\n",
    "print(a.rfind(\"o\"))"
   ]
  },
  {
   "cell_type": "code",
   "execution_count": 15,
   "id": "888163bb",
   "metadata": {
    "ExecuteTime": {
     "end_time": "2021-06-05T02:06:26.569784Z",
     "start_time": "2021-06-05T02:06:26.554798Z"
    }
   },
   "outputs": [
    {
     "name": "stdout",
     "output_type": "stream",
     "text": [
      "True\n",
      "False\n"
     ]
    }
   ],
   "source": [
    "a = \"Hello world\"\n",
    "print(a.startswith(\"H\"))\n",
    "print(a.startswith(\"h\"))"
   ]
  },
  {
   "cell_type": "code",
   "execution_count": 16,
   "id": "ace64009",
   "metadata": {
    "ExecuteTime": {
     "end_time": "2021-06-05T02:06:29.844784Z",
     "start_time": "2021-06-05T02:06:29.834782Z"
    }
   },
   "outputs": [
    {
     "name": "stdout",
     "output_type": "stream",
     "text": [
      "hello  world\n",
      "16 12\n",
      "['hello', 'world']\n",
      "['  hello ', ' world  ']\n"
     ]
    }
   ],
   "source": [
    "b = \"  hello  world  \"\n",
    "print(b.strip())\n",
    "print(len(b), len(b.strip()))\n",
    "print(b.split())\n",
    "\n",
    "c = \"  hello | world  \"\n",
    "print(c.split(\"|\"))"
   ]
  },
  {
   "cell_type": "code",
   "execution_count": 17,
   "id": "9cfa94e2",
   "metadata": {
    "ExecuteTime": {
     "end_time": "2021-06-05T02:06:34.760985Z",
     "start_time": "2021-06-05T02:06:34.751990Z"
    }
   },
   "outputs": [
    {
     "name": "stdout",
     "output_type": "stream",
     "text": [
      "대._.한._.민._.국\n"
     ]
    }
   ],
   "source": [
    "s = \"._.\"\n",
    "print(s.join(\"대한민국\"))"
   ]
  },
  {
   "cell_type": "code",
   "execution_count": 18,
   "id": "9ba1517a",
   "metadata": {
    "ExecuteTime": {
     "end_time": "2021-06-05T02:06:40.313955Z",
     "start_time": "2021-06-05T02:06:40.299740Z"
    }
   },
   "outputs": [
    {
     "name": "stdout",
     "output_type": "stream",
     "text": [
      "['짜장', '짬뽕', '탕슉']\n"
     ]
    }
   ],
   "source": [
    "s = \"짜장 짬뽕 탕슉\"\n",
    "print(s.split())"
   ]
  },
  {
   "cell_type": "code",
   "execution_count": 19,
   "id": "ab3eabca",
   "metadata": {
    "ExecuteTime": {
     "end_time": "2021-06-05T02:06:54.441987Z",
     "start_time": "2021-06-05T02:06:54.422973Z"
    }
   },
   "outputs": [
    {
     "name": "stdout",
     "output_type": "stream",
     "text": [
      "['서울', '대전', '대구', '부산']\n",
      "서울 찍고 대전 찍고 대구 찍고 부산 찍고 "
     ]
    }
   ],
   "source": [
    "s2 = \"서울->대전->대구->부산\"\n",
    "city = s2.split(\"->\")\n",
    "print(city)\n",
    "for c in city:\n",
    "    print(c, \"찍고\", end = ' ')"
   ]
  },
  {
   "cell_type": "code",
   "execution_count": 20,
   "id": "90177920",
   "metadata": {
    "ExecuteTime": {
     "end_time": "2021-06-05T02:07:06.140130Z",
     "start_time": "2021-06-05T02:07:06.118106Z"
    }
   },
   "outputs": [
    {
     "name": "stdout",
     "output_type": "stream",
     "text": [
      "           강나루 건너서            \n",
      "            밀밭 길을             \n",
      "                              \n",
      "          구름에 달 가듯이           \n",
      "            가는 나그네            \n",
      "                              \n",
      "            길은 외줄기            \n",
      "           남도 삼백리             \n",
      "                              \n",
      "          술 익는 마을마다           \n",
      "            타는 저녁놀            \n",
      "                              \n",
      "          구름에 달 가듯이           \n",
      "            가는 나그네            \n"
     ]
    }
   ],
   "source": [
    "traveler = \"\"\"강나루 건너서\\n밀밭 길을 \\n\\n구름에 달 가듯이\\n가는 나그네\\n\n",
    "길은 외줄기\\n남도 삼백리 \\n\\n술 익는 마을마다\\n타는 저녁놀\\n\n",
    "구름에 달 가듯이\\n가는 나그네\"\"\"\n",
    "poet = traveler.splitlines()\n",
    "for line in poet:\n",
    "    print(line.center(30))"
   ]
  },
  {
   "cell_type": "code",
   "execution_count": 21,
   "id": "bf9e309c",
   "metadata": {
    "ExecuteTime": {
     "end_time": "2021-06-05T02:07:11.774552Z",
     "start_time": "2021-06-05T02:07:11.768570Z"
    }
   },
   "outputs": [
    {
     "name": "stdout",
     "output_type": "stream",
     "text": [
      "['강나루 건너서', '밀밭 길을 ', '', '구름에 달 가듯이', '가는 나그네', '', '길은 외줄기', '남도 삼백리 ', '', '술 익는 마을마다', '타는 저녁놀', '', '구름에 달 가듯이', '가는 나그네']\n"
     ]
    }
   ],
   "source": [
    "print(poet)"
   ]
  },
  {
   "cell_type": "markdown",
   "id": "7d2a4f5d",
   "metadata": {},
   "source": [
    "# 정규표현식"
   ]
  },
  {
   "cell_type": "code",
   "execution_count": 22,
   "id": "98689908",
   "metadata": {
    "ExecuteTime": {
     "end_time": "2021-06-05T02:07:15.613187Z",
     "start_time": "2021-06-05T02:07:15.606172Z"
    }
   },
   "outputs": [
    {
     "name": "stdout",
     "output_type": "stream",
     "text": [
      "30 36 1e\n"
     ]
    }
   ],
   "source": [
    "print('%d %o %x' % (30, 30, 30))"
   ]
  },
  {
   "cell_type": "code",
   "execution_count": 23,
   "id": "8961510a",
   "metadata": {
    "ExecuteTime": {
     "end_time": "2021-06-05T02:07:19.142759Z",
     "start_time": "2021-06-05T02:07:19.124755Z"
    }
   },
   "outputs": [
    {
     "name": "stdout",
     "output_type": "stream",
     "text": [
      "a, A\n"
     ]
    }
   ],
   "source": [
    "print('{:x}, {:X}'.format(10,10))"
   ]
  },
  {
   "cell_type": "code",
   "execution_count": 24,
   "id": "c9d5a6e3",
   "metadata": {
    "ExecuteTime": {
     "end_time": "2021-06-05T02:07:38.663543Z",
     "start_time": "2021-06-05T02:07:38.659537Z"
    }
   },
   "outputs": [
    {
     "name": "stdout",
     "output_type": "stream",
     "text": [
      "<class 'str'> '가을', '동화'\n",
      "('가을', '동화')\n"
     ]
    }
   ],
   "source": [
    "a = \"%r, %r\" % (\"가을\", \"동화\")\n",
    "print( type( a ), a )\n",
    "print( eval( a ) )"
   ]
  },
  {
   "cell_type": "code",
   "execution_count": 25,
   "id": "39d3afc9",
   "metadata": {
    "ExecuteTime": {
     "end_time": "2021-06-05T02:07:42.454555Z",
     "start_time": "2021-06-05T02:07:42.440552Z"
    }
   },
   "outputs": [
    {
     "name": "stdout",
     "output_type": "stream",
     "text": [
      "<class 'str'> '가을', '동화'\n",
      "('가을', '동화') <class 'tuple'>\n"
     ]
    }
   ],
   "source": [
    "a = \"%r, %r\" % (\"가을\", \"동화\")\n",
    "print( type( a ), a )\n",
    "result = eval(a)\n",
    "print( result, type(result))"
   ]
  },
  {
   "cell_type": "code",
   "execution_count": 26,
   "id": "b43736e7",
   "metadata": {
    "ExecuteTime": {
     "end_time": "2021-06-05T02:07:45.318393Z",
     "start_time": "2021-06-05T02:07:45.302395Z"
    }
   },
   "outputs": [
    {
     "name": "stdout",
     "output_type": "stream",
     "text": [
      "<class 'str'> 100, 99.99\n",
      "(100, 99.99)\n"
     ]
    }
   ],
   "source": [
    "a= \"{!s}, {!s}\".format(str(100), str(99.99) )\n",
    "print( type( a ), a )\n",
    "print( eval( a ) )"
   ]
  },
  {
   "cell_type": "markdown",
   "id": "2147822d",
   "metadata": {},
   "source": [
    "# 문자 검색 및 카운팅"
   ]
  },
  {
   "cell_type": "code",
   "execution_count": 31,
   "id": "6afcc386",
   "metadata": {
    "ExecuteTime": {
     "end_time": "2021-06-05T02:08:32.266378Z",
     "start_time": "2021-06-05T02:08:32.243374Z"
    }
   },
   "outputs": [],
   "source": [
    "f = open(\"C:/workspace/basic/yesterday.txt\", 'r')\n",
    "yesterday_lyric = f.readlines()\n",
    "f.close()"
   ]
  },
  {
   "cell_type": "code",
   "execution_count": 36,
   "id": "3f190b10",
   "metadata": {
    "ExecuteTime": {
     "end_time": "2021-06-05T02:08:52.325661Z",
     "start_time": "2021-06-05T02:08:52.307670Z"
    }
   },
   "outputs": [
    {
     "name": "stdout",
     "output_type": "stream",
     "text": [
      "<class '_io.TextIOWrapper'>\n",
      "<class 'str'>\n",
      "3\n",
      "6\n"
     ]
    }
   ],
   "source": [
    "f = open(\"C:/workspace/basic/yesterday.txt\", 'r')\n",
    "contents = f.read()\n",
    "print(type(f))\n",
    "#print(contents)\n",
    "print(type(contents))\n",
    "f.close()\n",
    "print(contents.count('Yesterday'))\n",
    "print(contents.count('yesterday'))"
   ]
  },
  {
   "cell_type": "code",
   "execution_count": 38,
   "id": "3edea122",
   "metadata": {
    "ExecuteTime": {
     "end_time": "2021-06-05T02:09:34.678581Z",
     "start_time": "2021-06-05T02:09:34.662584Z"
    }
   },
   "outputs": [
    {
     "name": "stdout",
     "output_type": "stream",
     "text": [
      "6\n",
      "3\n"
     ]
    }
   ],
   "source": [
    "f = open(\"C:/workspace/basic/yesterday.txt\", 'r')\n",
    "lyrics = f.read()\n",
    "print(lyrics.count('yesterday'))\n",
    "print(lyrics.count('Yesterday'))"
   ]
  },
  {
   "cell_type": "code",
   "execution_count": 39,
   "id": "a51bab5d",
   "metadata": {
    "ExecuteTime": {
     "end_time": "2021-06-05T02:09:49.177677Z",
     "start_time": "2021-06-05T02:09:49.159662Z"
    }
   },
   "outputs": [
    {
     "name": "stdout",
     "output_type": "stream",
     "text": [
      "Number of Word Yesterday  9\n"
     ]
    }
   ],
   "source": [
    "f = open('C:/workspace/basic/yesterday.txt', 'r')\n",
    "contents = f.readlines()\n",
    "cnt = 0\n",
    "for word in contents:\n",
    "    cnt += word.lower().count('yesterday')\n",
    "    \n",
    "print('Number of Word Yesterday ', cnt)"
   ]
  },
  {
   "cell_type": "markdown",
   "id": "fe225a44",
   "metadata": {},
   "source": [
    "# input으로 입력 받은 숫자 연산"
   ]
  },
  {
   "cell_type": "code",
   "execution_count": 40,
   "id": "ec23c497",
   "metadata": {
    "ExecuteTime": {
     "end_time": "2021-06-05T02:09:56.726330Z",
     "start_time": "2021-06-05T02:09:52.675556Z"
    }
   },
   "outputs": [
    {
     "name": "stdout",
     "output_type": "stream",
     "text": [
      "1~100사이의 정수를 입력하세요: 4\n",
      "4는 짝수입니다\n"
     ]
    }
   ],
   "source": [
    "a = int(input(\"1~100사이의 정수를 입력하세요: \"))\n",
    "if a % 2 == 0:\n",
    "    print(str(a) + '는 짝수입니다')\n",
    "else:\n",
    "    print(str(a) + '는 홀수입니다')"
   ]
  },
  {
   "cell_type": "code",
   "execution_count": 41,
   "id": "a594eafe",
   "metadata": {
    "ExecuteTime": {
     "end_time": "2021-06-05T02:10:04.357187Z",
     "start_time": "2021-06-05T02:10:01.282893Z"
    }
   },
   "outputs": [
    {
     "name": "stdout",
     "output_type": "stream",
     "text": [
      "Enter your score: 59\n",
      "F\n"
     ]
    }
   ],
   "source": [
    "a = int(input(\"Enter your score: \"))\n",
    "if a <= 100 and a >= 90:\n",
    "    print(\"A\")\n",
    "elif a >= 80:\n",
    "    print(\"B\")\n",
    "elif a >= 70:\n",
    "    print(\"C\")\n",
    "elif a >= 60:\n",
    "    print(\"D\")\n",
    "else:\n",
    "    print(\"F\")"
   ]
  },
  {
   "cell_type": "code",
   "execution_count": 42,
   "id": "6efa8d45",
   "metadata": {
    "ExecuteTime": {
     "end_time": "2021-06-05T02:10:21.264088Z",
     "start_time": "2021-06-05T02:10:09.015142Z"
    }
   },
   "outputs": [
    {
     "name": "stdout",
     "output_type": "stream",
     "text": [
      "정수 1의 값을 입력하세요 : 100\n",
      "정수 2의 값을 입력하세요 : 3\n",
      "연산자(+, -, *, //)를 입력하세요 : -\n",
      "97\n"
     ]
    }
   ],
   "source": [
    "a = int(input('정수 1의 값을 입력하세요 : '))\n",
    "b = int(input('정수 2의 값을 입력하세요 : '))\n",
    "c = input('연산자(+, -, *, //)를 입력하세요 : ')\n",
    "\n",
    "if c == '+':\n",
    "    print(a + b)\n",
    "elif c == '-':\n",
    "    print(a - b)\n",
    "elif c == '*':\n",
    "    print(a * b)\n",
    "elif c == '//':\n",
    "    print(a // b)"
   ]
  },
  {
   "cell_type": "code",
   "execution_count": 43,
   "id": "e74e82e3",
   "metadata": {
    "ExecuteTime": {
     "end_time": "2021-06-05T02:10:30.418212Z",
     "start_time": "2021-06-05T02:10:26.462364Z"
    }
   },
   "outputs": [
    {
     "name": "stdout",
     "output_type": "stream",
     "text": [
      "문자열을 입력하세요 : Hello World\n",
      "dlroW olleH\n"
     ]
    }
   ],
   "source": [
    "a = input('문자열을 입력하세요 : ')\n",
    "print(a[::-1])"
   ]
  },
  {
   "cell_type": "code",
   "execution_count": 44,
   "id": "228b9b88",
   "metadata": {
    "ExecuteTime": {
     "end_time": "2021-06-05T02:10:37.926029Z",
     "start_time": "2021-06-05T02:10:36.104587Z"
    }
   },
   "outputs": [
    {
     "name": "stdout",
     "output_type": "stream",
     "text": [
      "동전으로 교환할 금액을 입력하세요 : 5400\n",
      "500원 10 개\n",
      "100원 4 개\n",
      "50원 0 개\n",
      "10원 0 개\n"
     ]
    }
   ],
   "source": [
    "a = int(input('동전으로 교환할 금액을 입력하세요 : '))\n",
    "\n",
    "print('500원', int(a/500),'개')\n",
    "a %= 500\n",
    "print('100원', int(a/100),'개')\n",
    "a %= 100\n",
    "print('50원', int(a/50),'개')\n",
    "a %= 50\n",
    "print('10원', int(a/10),'개')"
   ]
  },
  {
   "cell_type": "code",
   "execution_count": 45,
   "id": "6f6669d1",
   "metadata": {
    "ExecuteTime": {
     "end_time": "2021-06-05T02:10:55.019518Z",
     "start_time": "2021-06-05T02:10:51.529111Z"
    }
   },
   "outputs": [
    {
     "name": "stdout",
     "output_type": "stream",
     "text": [
      "동전으로 교환할 금액을 입력하시오:\n",
      "6780\n",
      "500원 13개, 100원 2개, 50원 1개, 10원 3개\n"
     ]
    }
   ],
   "source": [
    "print(\"동전으로 교환할 금액을 입력하시오:\")\n",
    "num = int(input())\n",
    "a = (num//500)\n",
    "b = (num%500)//100\n",
    "c = (num%100)//50\n",
    "d = (num%50)//10\n",
    "print(\"500원 %d개, 100원 %d개, 50원 %d개, 10원 %d개\"%(a,b,c,d))"
   ]
  },
  {
   "cell_type": "code",
   "execution_count": 46,
   "id": "34419e38",
   "metadata": {
    "ExecuteTime": {
     "end_time": "2021-06-05T02:12:05.612752Z",
     "start_time": "2021-06-05T02:12:05.598738Z"
    }
   },
   "outputs": [
    {
     "name": "stdout",
     "output_type": "stream",
     "text": [
      "55\n"
     ]
    }
   ],
   "source": [
    "hap = 0\n",
    "for i in range(1, 11):\n",
    "    hap = hap + i\n",
    "    \n",
    "print(hap)"
   ]
  },
  {
   "cell_type": "code",
   "execution_count": 47,
   "id": "86ed4cc6",
   "metadata": {
    "ExecuteTime": {
     "end_time": "2021-06-05T02:12:13.461083Z",
     "start_time": "2021-06-05T02:12:10.643410Z"
    }
   },
   "outputs": [
    {
     "name": "stdout",
     "output_type": "stream",
     "text": [
      "정수를 입력하세요17\n",
      "17  is Prime Number\n"
     ]
    }
   ],
   "source": [
    "num = int(input('정수를 입력하세요'))\n",
    "end = (num + 1) // 2\n",
    "for n in range(2, end):\n",
    "    if num % n == 0:\n",
    "        print(num, \" is Not Prime Number\")\n",
    "        break;\n",
    "else:\n",
    "    print(num, \" is Prime Number\")"
   ]
  },
  {
   "cell_type": "code",
   "execution_count": 48,
   "id": "89827d2f",
   "metadata": {
    "ExecuteTime": {
     "end_time": "2021-06-05T02:12:18.398788Z",
     "start_time": "2021-06-05T02:12:18.392804Z"
    }
   },
   "outputs": [
    {
     "name": "stdout",
     "output_type": "stream",
     "text": [
      "2 3 4 5 7 11 13 17 19 23 29 31 37 41 43 47 53 59 61 67 71 73 79 83 89 97 \n",
      "1~100사이의 소수의 개수는  28\n"
     ]
    }
   ],
   "source": [
    "cnt = 2 #소수의 개수를 저장할 변수 선언\n",
    "for num in range(2, 100): #소수 찾을 정수 범위 2~100 수행\n",
    "    #소수 판단 로직\n",
    "    for n in range(2, round(num/2)):\n",
    "        if num % n == 0:\n",
    "            break\n",
    "    else:\n",
    "        print(num, end = \" \")\n",
    "        cnt = cnt + 1\n",
    "else:\n",
    "    print(\"\\n1~100사이의 소수의 개수는 \", cnt)"
   ]
  },
  {
   "cell_type": "code",
   "execution_count": null,
   "id": "6ec0cc12",
   "metadata": {},
   "outputs": [],
   "source": []
  }
 ],
 "metadata": {
  "kernelspec": {
   "display_name": "Python 3",
   "language": "python",
   "name": "python3"
  },
  "language_info": {
   "codemirror_mode": {
    "name": "ipython",
    "version": 3
   },
   "file_extension": ".py",
   "mimetype": "text/x-python",
   "name": "python",
   "nbconvert_exporter": "python",
   "pygments_lexer": "ipython3",
   "version": "3.7.10"
  },
  "toc": {
   "base_numbering": 1,
   "nav_menu": {},
   "number_sections": true,
   "sideBar": true,
   "skip_h1_title": false,
   "title_cell": "Table of Contents",
   "title_sidebar": "Contents",
   "toc_cell": false,
   "toc_position": {},
   "toc_section_display": true,
   "toc_window_display": false
  }
 },
 "nbformat": 4,
 "nbformat_minor": 5
}
