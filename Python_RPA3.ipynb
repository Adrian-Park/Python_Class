{
 "cells": [
  {
   "cell_type": "code",
   "execution_count": 1,
   "id": "d41fd3c3",
   "metadata": {
    "ExecuteTime": {
     "end_time": "2021-06-07T09:52:23.325727Z",
     "start_time": "2021-06-07T09:52:23.137495Z"
    }
   },
   "outputs": [
    {
     "name": "stdout",
     "output_type": "stream",
     "text": [
      "('text/x-python', None)\n"
     ]
    }
   ],
   "source": [
    "import os\n",
    "import shutil\n",
    "import time\n",
    "import mimetypes\n",
    "import chardet\n",
    "\n",
    "print(mimetypes.guess_type('test.py')) #작업 디렉토리 아래, .png, xlsx\n",
    "#text/...\n",
    "#image/...\n",
    "#application/..."
   ]
  },
  {
   "cell_type": "code",
   "execution_count": 2,
   "id": "5fed121e",
   "metadata": {
    "ExecuteTime": {
     "end_time": "2021-06-07T09:52:25.089341Z",
     "start_time": "2021-06-07T09:52:25.071318Z"
    }
   },
   "outputs": [
    {
     "name": "stdout",
     "output_type": "stream",
     "text": [
      "b'The asyncio package, ... is in the stdlib in Python 3.4 but not in 3'\n",
      "{'encoding': 'ascii', 'confidence': 1.0, 'language': ''}\n"
     ]
    }
   ],
   "source": [
    "content = b'The asyncio package, ... is in the stdlib in Python 3.4 but not in 3'\n",
    "print(content)\n",
    "print(chardet.detect(content))"
   ]
  },
  {
   "cell_type": "code",
   "execution_count": 3,
   "id": "f1a73d2d",
   "metadata": {
    "ExecuteTime": {
     "end_time": "2021-06-07T09:52:26.540018Z",
     "start_time": "2021-06-07T09:52:26.522516Z"
    }
   },
   "outputs": [
    {
     "name": "stdout",
     "output_type": "stream",
     "text": [
      "The asyncio package, ... is in the stdlib in Python 3.4 but not in 3\n"
     ]
    }
   ],
   "source": [
    "result = str(content, 'ascii') #문자열 변환\n",
    "print(result)"
   ]
  },
  {
   "cell_type": "code",
   "execution_count": 4,
   "id": "e4bc46af",
   "metadata": {
    "ExecuteTime": {
     "end_time": "2021-06-07T09:52:28.256662Z",
     "start_time": "2021-06-07T09:52:28.237947Z"
    }
   },
   "outputs": [],
   "source": [
    "search_str = 'Zen of Python'.lower()\n",
    "flist = []\n",
    "for curdir, dirs, files in os.walk(r'C:\\ProgramData\\Anaconda3\\Lib\\asyncio'):\n",
    "    for fname in files:\n",
    "        fpath = os.path.join(curdir, fname)\n",
    "        mime = mimetypes.guess_type(fpaht)\n",
    "        if not mime[0] or not mime[0].startswith('text'):\n",
    "            continue\n",
    "        content = open(fpath, 'rb').read()  #bytes로 읽어서\n",
    "        encoding = chardet.detect(contetn)['encoding'] #인코딩 테스트\n",
    "        try:\n",
    "            txt = str(content, encoding) #str로 변환\n",
    "        except:\n",
    "            continue\n",
    "        if search_str in txt.lower(): #특정 문자열이 포함되었는지 테스트 하기\n",
    "            print(fpath)\n",
    "            flist.append(fpath)"
   ]
  },
  {
   "cell_type": "markdown",
   "id": "a69e2d75",
   "metadata": {},
   "source": [
    "# 워드 문서 자동화"
   ]
  },
  {
   "cell_type": "code",
   "execution_count": 5,
   "id": "d03f3ae1",
   "metadata": {
    "ExecuteTime": {
     "end_time": "2021-06-07T09:52:32.546666Z",
     "start_time": "2021-06-07T09:52:32.153700Z"
    },
    "scrolled": true
   },
   "outputs": [
    {
     "ename": "NameError",
     "evalue": "name 'document' is not defined",
     "output_type": "error",
     "traceback": [
      "\u001b[1;31m---------------------------------------------------------------------------\u001b[0m",
      "\u001b[1;31mNameError\u001b[0m                                 Traceback (most recent call last)",
      "\u001b[1;32m<ipython-input-5-cb557ec6af5c>\u001b[0m in \u001b[0;36m<module>\u001b[1;34m\u001b[0m\n\u001b[0;32m     56\u001b[0m \u001b[1;33m\u001b[0m\u001b[0m\n\u001b[0;32m     57\u001b[0m \u001b[1;31m#표 정렬 코드 예시\u001b[0m\u001b[1;33m\u001b[0m\u001b[1;33m\u001b[0m\u001b[1;33m\u001b[0m\u001b[0m\n\u001b[1;32m---> 58\u001b[1;33m \u001b[0mtable\u001b[0m \u001b[1;33m=\u001b[0m \u001b[0mdocument\u001b[0m\u001b[1;33m.\u001b[0m\u001b[0madd_table\u001b[0m\u001b[1;33m(\u001b[0m\u001b[1;36m3\u001b[0m\u001b[1;33m,\u001b[0m\u001b[1;36m3\u001b[0m\u001b[1;33m)\u001b[0m\u001b[1;33m\u001b[0m\u001b[1;33m\u001b[0m\u001b[0m\n\u001b[0m\u001b[0;32m     59\u001b[0m \u001b[0mtable\u001b[0m\u001b[1;33m.\u001b[0m\u001b[0mcell\u001b[0m\u001b[1;33m(\u001b[0m\u001b[1;36m0\u001b[0m\u001b[1;33m,\u001b[0m\u001b[1;36m0\u001b[0m\u001b[1;33m)\u001b[0m\u001b[1;33m.\u001b[0m\u001b[0mvertical_alignment\u001b[0m \u001b[1;33m=\u001b[0m \u001b[0mWD_ALIGN_VERTICAL\u001b[0m\u001b[1;33m.\u001b[0m\u001b[0mCENTER\u001b[0m \u001b[1;31m#TOP, BOTTOM, BOTH\u001b[0m\u001b[1;33m\u001b[0m\u001b[1;33m\u001b[0m\u001b[0m\n\u001b[0;32m     60\u001b[0m \u001b[1;33m\u001b[0m\u001b[0m\n",
      "\u001b[1;31mNameError\u001b[0m: name 'document' is not defined"
     ]
    }
   ],
   "source": [
    "from docx import Document\n",
    "from docx.enum.text import WD_ALIGN_PARAGRAPH\n",
    "from docx.shared import Mm\n",
    "\n",
    "doc = Document() #파이썬 프로그램에서 워드 문서 객체 생성\n",
    "#add_paragraph(content, style=)\n",
    "p = doc.add_heading('왕방산 국제 MTB대회', 0) #제목 스타일\n",
    "p = doc.add_paragraph('왕방산에 만들어진 산악자전거 도로를 돌아보는 자전거 경주대회인',\n",
    "                     style = 'Normal')\n",
    "p.add_run('왕방산 국제 MTB대회').bold = True\n",
    "p.add_run('는 명실상부한 최고의 산악자전거 대회로 자리매김하였습니다.')\n",
    "p.add_run('천혜의 자연경관').italic = True\n",
    "p.add_run('과 함께 왕방산의 정취를 느껴보시기 바랍니다.')\n",
    "\n",
    "doc.add_heading('대회소개', level=1)\n",
    "doc.add_paragraph('화이팅', style = 'Intense Quote')\n",
    "\n",
    "doc.add_heading('대회 상세 안내', level=1)\n",
    "doc.add_paragraph('접수처: 대한자전거연맹', style = 'List Bullet')\n",
    "doc.add_paragraph('문의사항: 02-420-4247', style = 'List Bullet')\n",
    "\n",
    "\n",
    "\n",
    "my_image = doc.add_picture('./img/cal_1.png', width=Mm(100))  #사진추가\n",
    "last_paragraph = doc.paragraphs[-1]\n",
    "last_paragraph.alignment = WD_ALIGN_PARAGRAPH.CENTER\n",
    "\n",
    "doc.add_page_break()\n",
    "\n",
    "my_image = doc.add_picture('./img/btn02.png', width=Mm(100))  #단위 Cm, Mm, Px, Emu\n",
    "last_paragraph = doc.paragraphs[-1]\n",
    "last_paragraph.alignment = WD_ALIGN_PARAGRAPH.CENTER\n",
    "\n",
    "records = (\n",
    "('XC10', '690,000', '14.5kg'),\n",
    "    ('XC20', '790,000', '13.5kg'),\n",
    "    ('XC30', '890,000', '14.5kg')\n",
    ")\n",
    "table = doc.add_table(rows=1, cols=3)\n",
    "table.style = 'Table Grid'\n",
    "hdr_cells = table.rows[0].cells #첫 행의 모든 셀 반환\n",
    "hdr_cells[0].text = '모델명' #첫번째 셀\n",
    "hdr_cells[0].paragraphs[0].runs[0].font.bold = True\n",
    "hdr_cells[1].text = '가격'\n",
    "hdr_cells[1].paragraphs[0].runs[0].font.bold = True\n",
    "hdr_cells[2].text = '무게'\n",
    "hdr_cells[2].paragraphs[0].runs[0].font.bold = True\n",
    "\n",
    "for qty, id ,desc in records:\n",
    "    row_cells = table.add_row().cells\n",
    "    row_cells[0].text = str(qty)\n",
    "    row_cells[1].text = id\n",
    "    row_cells[2].text = desc\n",
    "\n",
    "doc.save('demo1.docx')\n",
    "\n",
    "#표 정렬 코드 예시\n",
    "table = document.add_table(3,3)\n",
    "table.cell(0,0).vertical_alignment = WD_ALIGN_VERTICAL.CENTER #TOP, BOTTOM, BOTH\n",
    "\n",
    "#표 정렬 코드 예시\n",
    "from docx.enum.table import WD_TABLE_ALIGNMENT\n",
    "table = document.add_table(3,3)\n",
    "table.alignment = WD_TABLE_ALIGNMENT.CENTER"
   ]
  },
  {
   "cell_type": "code",
   "execution_count": null,
   "id": "774d5dee",
   "metadata": {
    "ExecuteTime": {
     "end_time": "2021-04-19T03:06:21.495967Z",
     "start_time": "2021-04-19T03:06:17.859558Z"
    },
    "scrolled": true
   },
   "outputs": [],
   "source": [
    "import os\n",
    "from win32com.client import Dispatch\n",
    "\n",
    "wordapp = Dispatch(\"Word.Application\")\n",
    "\n",
    "fpath = os.path.join(os.getcwd(), 'demo1.docx') #파일 경로\n",
    "myDoc = wordapp.Documents.Open(FileName=fpath)\n",
    "\n",
    "pdf_path = os.path.join(os.getcwd(), 'demo1.pdf') #PDF로 저장\n",
    "myDoc.SaveAs(pdf_path, FileFormat=17)\n",
    "\n",
    "myDoc.Close()\n",
    "wordapp.Quit()"
   ]
  },
  {
   "cell_type": "code",
   "execution_count": null,
   "id": "66ccc31e",
   "metadata": {
    "ExecuteTime": {
     "end_time": "2021-04-19T03:17:11.126169Z",
     "start_time": "2021-04-19T03:17:09.344850Z"
    }
   },
   "outputs": [],
   "source": [
    "from subprocess import Popen\n",
    "\n",
    "pdf_without_pass = \"demo1.pdf\"\n",
    "pdf_with_pass = \"demo2.pdf\"\n",
    "password = \"1234\" \n",
    "\n",
    "Popen(r\"qpdf-10.3.1\\bin\\qpdf.exe --encrypt {0} {0} 128 -- {1} {2}\".format(\n",
    "    password, pdf_without_pass, pdf_with_pass).split())"
   ]
  },
  {
   "cell_type": "code",
   "execution_count": 1,
   "id": "03dbc512",
   "metadata": {
    "ExecuteTime": {
     "end_time": "2021-04-19T04:17:00.280524Z",
     "start_time": "2021-04-19T04:16:59.726381Z"
    }
   },
   "outputs": [
    {
     "data": {
      "text/plain": [
       "True"
      ]
     },
     "execution_count": 1,
     "metadata": {},
     "output_type": "execute_result"
    }
   ],
   "source": [
    "import pdfkit\n",
    "\n",
    "options = {'quiet': ''} # wkhtmltopdf 출력값을 화면에 표시하지 않는다\n",
    "config = pdfkit.configuration(wkhtmltopdf=r'C:\\Program Files\\wkhtmltopdf\\bin\\wkhtmltopdf.exe')\n",
    "\n",
    "#pdfkit.from_url('http://naver.com', 'naver.pdf', options=options, configuration=config)\n",
    "#pdfkit.from_string('Hello!', 'string.pdf', options=options, configuration=config)\n",
    "pdfkit.from_file('test.html', 'html.pdf', options=options, configuration=config)"
   ]
  },
  {
   "cell_type": "code",
   "execution_count": 2,
   "id": "ad94c83f",
   "metadata": {
    "ExecuteTime": {
     "end_time": "2021-04-19T04:17:08.256812Z",
     "start_time": "2021-04-19T04:17:04.601356Z"
    }
   },
   "outputs": [],
   "source": [
    "import os\n",
    "from win32com.client import Dispatch\n",
    "\n",
    "wordapp = Dispatch(\"Word.Application\")\n",
    "wordapp.Visible = False\n",
    "\n",
    "fpath = os.path.join(os.getcwd(), \"demo1.docx\") # 파일 경로\n",
    "myDoc = wordapp.Documents.Open(FileName=fpath)\n",
    "\n",
    "pdf_path = os.path.join(os.getcwd(), \"demo1.pdf\") # PDF로 저장\n",
    "myDoc.SaveAs(pdf_path, FileFormat=17)\n",
    "\n",
    "myDoc.Close()\n",
    "wordapp.Quit()"
   ]
  },
  {
   "cell_type": "code",
   "execution_count": 3,
   "id": "9a3493f0",
   "metadata": {
    "ExecuteTime": {
     "end_time": "2021-04-19T04:17:15.192037Z",
     "start_time": "2021-04-19T04:17:11.159201Z"
    }
   },
   "outputs": [
    {
     "data": {
      "text/plain": [
       "True"
      ]
     },
     "execution_count": 3,
     "metadata": {},
     "output_type": "execute_result"
    }
   ],
   "source": [
    "import pdfkit\n",
    "options = {'quiet': ''} # wkhtmltopdf 출력값을 화면에 표시하지 않는다\n",
    "config = pdfkit.configuration(wkhtmltopdf=r'C:\\Program Files\\wkhtmltopdf\\bin\\wkhtmltopdf.exe')\n",
    "pdfkit.from_url(['https://www.whufc.com', 'https://www.google.com'], 'naver_daum.pdf', options=options, configuration=config)\n",
    "#pdfkit.from_file(['test.html', 'test_2.html'], 'out/out5.pdf', options=options, configuration=config)"
   ]
  },
  {
   "cell_type": "code",
   "execution_count": 4,
   "id": "984f4ae9",
   "metadata": {
    "ExecuteTime": {
     "end_time": "2021-04-19T04:17:36.974776Z",
     "start_time": "2021-04-19T04:17:36.505748Z"
    }
   },
   "outputs": [
    {
     "ename": "com_error",
     "evalue": "(-2147352567, '예외가 발생했습니다.', (0, 'Microsoft PowerPoint', 'Application.Visible : Invalid request.  Hiding the application window is not allowed.', '', 0, -2147188160), None)",
     "output_type": "error",
     "traceback": [
      "\u001b[1;31m---------------------------------------------------------------------------\u001b[0m",
      "\u001b[1;31mcom_error\u001b[0m                                 Traceback (most recent call last)",
      "\u001b[1;32m<ipython-input-4-8dffe263539d>\u001b[0m in \u001b[0;36m<module>\u001b[1;34m\u001b[0m\n\u001b[0;32m      2\u001b[0m \u001b[1;32mfrom\u001b[0m \u001b[0mwin32com\u001b[0m\u001b[1;33m.\u001b[0m\u001b[0mclient\u001b[0m \u001b[1;32mimport\u001b[0m \u001b[0mDispatch\u001b[0m\u001b[1;33m\u001b[0m\u001b[1;33m\u001b[0m\u001b[0m\n\u001b[0;32m      3\u001b[0m \u001b[0mPPTApplication\u001b[0m \u001b[1;33m=\u001b[0m \u001b[0mDispatch\u001b[0m\u001b[1;33m(\u001b[0m\u001b[1;34m\"PowerPoint.Application\"\u001b[0m\u001b[1;33m)\u001b[0m \u001b[1;31m# 엑셀 시작\u001b[0m\u001b[1;33m\u001b[0m\u001b[1;33m\u001b[0m\u001b[0m\n\u001b[1;32m----> 4\u001b[1;33m \u001b[0mPPTApplication\u001b[0m\u001b[1;33m.\u001b[0m\u001b[0mVisible\u001b[0m \u001b[1;33m=\u001b[0m \u001b[1;32mFalse\u001b[0m\u001b[1;33m\u001b[0m\u001b[1;33m\u001b[0m\u001b[0m\n\u001b[0m\u001b[0;32m      5\u001b[0m \u001b[1;33m\u001b[0m\u001b[0m\n\u001b[0;32m      6\u001b[0m \u001b[0mfpath\u001b[0m \u001b[1;33m=\u001b[0m \u001b[0mos\u001b[0m\u001b[1;33m.\u001b[0m\u001b[0mpath\u001b[0m\u001b[1;33m.\u001b[0m\u001b[0mabspath\u001b[0m\u001b[1;33m(\u001b[0m\u001b[1;34m'sample.pptx'\u001b[0m\u001b[1;33m)\u001b[0m \u001b[1;31m# 읽어오기\u001b[0m\u001b[1;33m\u001b[0m\u001b[1;33m\u001b[0m\u001b[0m\n",
      "\u001b[1;32m~\\anaconda3\\envs\\basic\\lib\\site-packages\\win32com\\client\\dynamic.py\u001b[0m in \u001b[0;36m__setattr__\u001b[1;34m(self, attr, value)\u001b[0m\n\u001b[0;32m    563\u001b[0m                                         \u001b[0mentry\u001b[0m \u001b[1;33m=\u001b[0m \u001b[0mself\u001b[0m\u001b[1;33m.\u001b[0m\u001b[0m_olerepr_\u001b[0m\u001b[1;33m.\u001b[0m\u001b[0mpropMapPut\u001b[0m\u001b[1;33m[\u001b[0m\u001b[0mattr\u001b[0m\u001b[1;33m]\u001b[0m\u001b[1;33m\u001b[0m\u001b[1;33m\u001b[0m\u001b[0m\n\u001b[0;32m    564\u001b[0m                                         \u001b[0minvoke_type\u001b[0m \u001b[1;33m=\u001b[0m \u001b[0m_GetDescInvokeType\u001b[0m\u001b[1;33m(\u001b[0m\u001b[0mentry\u001b[0m\u001b[1;33m,\u001b[0m \u001b[0mpythoncom\u001b[0m\u001b[1;33m.\u001b[0m\u001b[0mINVOKE_PROPERTYPUT\u001b[0m\u001b[1;33m)\u001b[0m\u001b[1;33m\u001b[0m\u001b[1;33m\u001b[0m\u001b[0m\n\u001b[1;32m--> 565\u001b[1;33m                                         \u001b[0mself\u001b[0m\u001b[1;33m.\u001b[0m\u001b[0m_oleobj_\u001b[0m\u001b[1;33m.\u001b[0m\u001b[0mInvoke\u001b[0m\u001b[1;33m(\u001b[0m\u001b[0mentry\u001b[0m\u001b[1;33m.\u001b[0m\u001b[0mdispid\u001b[0m\u001b[1;33m,\u001b[0m \u001b[1;36m0\u001b[0m\u001b[1;33m,\u001b[0m \u001b[0minvoke_type\u001b[0m\u001b[1;33m,\u001b[0m \u001b[1;36m0\u001b[0m\u001b[1;33m,\u001b[0m \u001b[0mvalue\u001b[0m\u001b[1;33m)\u001b[0m\u001b[1;33m\u001b[0m\u001b[1;33m\u001b[0m\u001b[0m\n\u001b[0m\u001b[0;32m    566\u001b[0m                                         \u001b[1;32mreturn\u001b[0m\u001b[1;33m\u001b[0m\u001b[1;33m\u001b[0m\u001b[0m\n\u001b[0;32m    567\u001b[0m                         \u001b[1;32mtry\u001b[0m\u001b[1;33m:\u001b[0m\u001b[1;33m\u001b[0m\u001b[1;33m\u001b[0m\u001b[0m\n",
      "\u001b[1;31mcom_error\u001b[0m: (-2147352567, '예외가 발생했습니다.', (0, 'Microsoft PowerPoint', 'Application.Visible : Invalid request.  Hiding the application window is not allowed.', '', 0, -2147188160), None)"
     ]
    }
   ],
   "source": [
    "import os\n",
    "from win32com.client import Dispatch\n",
    "PPTApplication = Dispatch(\"PowerPoint.Application\") # 엑셀 시작\n",
    "PPTApplication.Visible = False\n",
    "\n",
    "fpath = os.path.abspath('sample.pptx') # 읽어오기\n",
    "ppt = PPTApplication.Presentations.Open(fpath)\n",
    "\n",
    "fpath = os.path.abspath('sample_ppt.pdf') # pdf 포맷으로 저장하기\n",
    "ppt.SaveAs(fpath, 32) # ppSaveAsPDF\n",
    "\n",
    "ppt.Close()\n",
    "PPTApplication.Quit()"
   ]
  },
  {
   "cell_type": "markdown",
   "id": "15b5979c",
   "metadata": {},
   "source": [
    "# PDF 파일 읽기"
   ]
  },
  {
   "cell_type": "code",
   "execution_count": 13,
   "id": "26c9155c",
   "metadata": {
    "ExecuteTime": {
     "end_time": "2021-04-19T05:58:13.756435Z",
     "start_time": "2021-04-19T05:58:13.656878Z"
    }
   },
   "outputs": [],
   "source": [
    "import glob\n",
    "from reportlab.pdfgen import canvas\n",
    "from reportlab.lib.pagesizes import A4\n",
    "from PIL import Image\n",
    "flist = glob.glob('cartoon/*.jpg') # 이미지 파일 목록을 가져오기, 이미지가 있는 폴더로 경로 변경\n",
    "pgsize = A4 # 용지 설정\n",
    "c = canvas.Canvas('cartoon.pdf', pagesize=pgsize) # 파일 저장을 위한 Canvas 객체 생성 출력 파일, 페이지 크기 변경\n",
    "w2 = pgsize[0] # 용지의 폭\n",
    "for fpath in flist:\n",
    "    im = Image.open(fpath) # 이미지를 읽는다\n",
    "    w, h = im.size # 가로, 세로 이미지 크기를 가져온다\n",
    "    r = w / h # 가로, 세로 비를 계산한다\n",
    "    h2 = w2 / r # 용지 폭에 맞추어 높이를 계산한다(비율 유지)\n",
    "    c.drawImage(fpath, 0, 0, w2, h2) # 이미지를 페이지에 그린다 \n",
    "    c.showPage() # 한 페이지 정리하고 다음 페이지로 넘어간다\n",
    "c.save()"
   ]
  },
  {
   "cell_type": "code",
   "execution_count": 25,
   "id": "9b4d2abd",
   "metadata": {
    "ExecuteTime": {
     "end_time": "2021-04-19T06:12:47.469181Z",
     "start_time": "2021-04-19T06:12:47.451173Z"
    }
   },
   "outputs": [],
   "source": [
    "import glob\n",
    "from PyPDF2 import PdfFileMerger, PdfFileReader\n",
    "\n",
    "filenames = glob.glob('/*.pdf')\n",
    "merger = PdfFileMerger()\n",
    "for filename in filenames:\n",
    "    merger.append(PdfFileReader(open(filename, 'rb')))\n",
    "    merger.write(\"one_book.pdf\")"
   ]
  },
  {
   "cell_type": "code",
   "execution_count": 30,
   "id": "8871b65b",
   "metadata": {
    "ExecuteTime": {
     "end_time": "2021-04-19T06:16:58.006702Z",
     "start_time": "2021-04-19T06:16:57.989682Z"
    }
   },
   "outputs": [],
   "source": [
    "from PyPDF2 import PdfFileMerger, PdfFileReader\n",
    "from PyPDF2 import PdfFileWriter\n",
    "\n",
    "inputpdf = PdfFileReader('one_book.pdf', 'rb')\n",
    "\n",
    "parts = [(0,2), (2,4)]\n",
    "for k, (start, end) in enumerate(parts):\n",
    "    end = min(end, inputpdf.numPages)\n",
    "    output = PdfFileWriter()\n",
    "    for i in range(start, end):\n",
    "        output.addPage(inputpdf.getPage(i))\n",
    "        \n",
    "    with open('datas/splitbook_%s.pdf' % k, 'wb') as outputStream:\n",
    "        output.write(outputStream)"
   ]
  },
  {
   "cell_type": "code",
   "execution_count": 32,
   "id": "90b47b5d",
   "metadata": {
    "ExecuteTime": {
     "end_time": "2021-04-19T06:22:07.853824Z",
     "start_time": "2021-04-19T06:22:07.593764Z"
    }
   },
   "outputs": [],
   "source": [
    "import pikepdf\n",
    "\n",
    "with pikepdf.open('one_book.pdf') as pdf:\n",
    "    num_pages = len(pdf.pages)\n",
    "    pages_to_delete = [2, 4, 6, num_pages-1] #첫 페이지는 0부터 시작한다\n",
    "    for pg in sorted(pages_to_delete, reverse = True): #역으로 제거해야 한다\n",
    "        del pdf.pages[pg]\n",
    "    pdf.save('one_book_deleted_pages.pdf')"
   ]
  },
  {
   "cell_type": "code",
   "execution_count": 33,
   "id": "b5911639",
   "metadata": {
    "ExecuteTime": {
     "end_time": "2021-04-19T06:24:28.839007Z",
     "start_time": "2021-04-19T06:24:28.695717Z"
    }
   },
   "outputs": [],
   "source": [
    "import pikepdf\n",
    "\n",
    "my_pdf = pikepdf.Pdf.open('sample_book.pdf')\n",
    "num_pages = len(my_pdf.pages)\n",
    "pages_to_rotate = [0, 2, 4, 6, num_pages-1]\n",
    "for pg in pages_to_rotate:\n",
    "    my_pdf.pages[pg].Rotate = 90\n",
    "my_pdf.save('sample_book_rotated.pdf')"
   ]
  },
  {
   "cell_type": "markdown",
   "id": "effa766a",
   "metadata": {},
   "source": [
    "# PPT 자동화"
   ]
  },
  {
   "cell_type": "code",
   "execution_count": 34,
   "id": "2ed9c7fa",
   "metadata": {
    "ExecuteTime": {
     "end_time": "2021-04-19T06:42:30.031529Z",
     "start_time": "2021-04-19T06:42:29.662025Z"
    }
   },
   "outputs": [],
   "source": [
    "from pptx import Presentation # 라이브러리\n",
    "from pptx.util import Inches # 사진, 표등을 그리기 위해\n",
    "\n",
    "prs = Presentation() # 파워포인트 객체 선언\n",
    "\n",
    "for i in range(0, 11):\n",
    "    title_slide_layout = prs.slide_layouts[i] # 슬라이드 종류 선택\n",
    "    slide = prs.slides.add_slide(title_slide_layout) # 슬라이드 추가\n",
    "    \n",
    "prs.save('all_slides.pptx')"
   ]
  },
  {
   "cell_type": "code",
   "execution_count": 35,
   "id": "4d7e856a",
   "metadata": {
    "ExecuteTime": {
     "end_time": "2021-04-19T06:45:19.202995Z",
     "start_time": "2021-04-19T06:45:19.095981Z"
    },
    "scrolled": false
   },
   "outputs": [
    {
     "name": "stdout",
     "output_type": "stream",
     "text": [
      "--------[0] ------ \n",
      "0 Title 1\n",
      "1 Subtitle 2\n",
      "--------[1] ------ \n",
      "0 Title 1\n",
      "1 Content Placeholder 2\n",
      "--------[2] ------ \n",
      "0 Title 1\n",
      "1 Text Placeholder 2\n",
      "--------[3] ------ \n",
      "0 Title 1\n",
      "1 Content Placeholder 2\n",
      "2 Content Placeholder 3\n",
      "--------[4] ------ \n",
      "0 Title 1\n",
      "1 Text Placeholder 2\n",
      "2 Content Placeholder 3\n",
      "3 Text Placeholder 4\n",
      "4 Content Placeholder 5\n",
      "--------[5] ------ \n",
      "0 Title 1\n",
      "--------[6] ------ \n",
      "--------[7] ------ \n",
      "0 Title 1\n",
      "1 Content Placeholder 2\n",
      "2 Text Placeholder 3\n",
      "--------[8] ------ \n",
      "0 Title 1\n",
      "1 Picture Placeholder 2\n",
      "2 Text Placeholder 3\n",
      "--------[9] ------ \n",
      "0 Title 1\n",
      "1 Vertical Text Placeholder 2\n",
      "--------[10] ------ \n",
      "0 Vertical Title 1\n",
      "1 Vertical Text Placeholder 2\n"
     ]
    }
   ],
   "source": [
    "from pptx import Presentation # 라이브러리\n",
    "from pptx.util import Inches # 사진, 표등을 그리기 위해\n",
    "\n",
    "prs = Presentation() # 파워포인트 객체 선언\n",
    "\n",
    "for i in range(0, 11): #placeholder의 index(순서)와 이름을 출력\n",
    "    print(\"--------[%d] ------ \"%(i))\n",
    "    slide = prs.slides.add_slide(prs.slide_layouts[i])\n",
    "    for shape in slide.placeholders:\n",
    "        print('%d %s' % (shape.placeholder_format.idx, shape.name))\n",
    "        \n",
    "prs.save('all_slides.pptx')"
   ]
  },
  {
   "cell_type": "code",
   "execution_count": 36,
   "id": "02a2274d",
   "metadata": {
    "ExecuteTime": {
     "end_time": "2021-04-19T06:53:25.443205Z",
     "start_time": "2021-04-19T06:53:25.397776Z"
    }
   },
   "outputs": [],
   "source": [
    "from pptx import Presentation # 라이브러리\n",
    "from pptx.util import Inches # 사진, 표등을 그리기 위해\n",
    "\n",
    "prs = Presentation() # 파워포인트 객체 선언\n",
    "\n",
    "title_slide_layout = prs.slide_layouts[0] # 0 : 제목슬라이드에 해당\n",
    "slide = prs.slides.add_slide(title_slide_layout) # 슬라이드 추가\n",
    "\n",
    "title = slide.placeholders[0] # 제목 - 제목에 값넣기\n",
    "title.text = \"Hello, World!\" # 제목에 값 넣기\n",
    "\n",
    "subtitle = slide.placeholders[1] # 부제목 -제목상자는 placeholders[0], 부제목상자는 [1]\n",
    "subtitle.text = \"python-pptx was here!\" \n",
    "\n",
    "prs.save('test.pptx') # 저장"
   ]
  },
  {
   "cell_type": "code",
   "execution_count": 52,
   "id": "6ec55a87",
   "metadata": {
    "ExecuteTime": {
     "end_time": "2021-04-19T07:03:06.255122Z",
     "start_time": "2021-04-19T07:03:06.206109Z"
    }
   },
   "outputs": [],
   "source": [
    "from pptx import Presentation # 라이브러리\n",
    "from pptx.util import Inches # 사진, 표등을 그리기 위해\n",
    "prs = Presentation() # 파워포인트 객체 선언\n",
    "\n",
    "bullet_slide_layout = prs.slide_layouts[1] # slide_layouts 1은 제목+내용 슬라이드를 의미\n",
    "slide = prs.slides.add_slide(bullet_slide_layout) # 기존에 있던 슬라이드에 추가\n",
    "title_shape = slide.placeholders[0] # 제목\n",
    "title_shape.text = 'Adding a Bullet Slide'\n",
    "body_shape = slide.placeholders[1] # 내용\n",
    "tf = body_shape.text_frame\n",
    "tf.text = 'Find the bullet slide layout'\n",
    "p = tf.add_paragraph() # 단락 추가\n",
    "p.text = 'Use _TextFrame.text for first bullet'\n",
    "p.level = 1 # 1 : 들여쓰기 레벨\n",
    "p = tf.add_paragraph() # 단락 추가\n",
    "p.text = 'Use _TextFrame.add_paragraph() for subsequent bullets'\n",
    "p.level = 2 # 2 : 들여쓰기 레벨\n",
    "prs.save('test_4.pptx')"
   ]
  },
  {
   "cell_type": "code",
   "execution_count": 48,
   "id": "057bad66",
   "metadata": {
    "ExecuteTime": {
     "end_time": "2021-04-19T07:00:03.175709Z",
     "start_time": "2021-04-19T07:00:03.129685Z"
    }
   },
   "outputs": [],
   "source": [
    "from pptx import Presentation\n",
    "from pptx.util import Inches, Pt\n",
    "\n",
    "prs = Presentation()\n",
    "blank_slide_layout = prs.slide_layouts[6]\n",
    "slide = prs.slides.add_slide(blank_slide_layout)\n",
    "\n",
    "left = top = width = height = Inches(1)\n",
    "txBox = slide.shapes.add_textbox(left, top, width, height)\n",
    "tf = txBox.text_frame\n",
    "\n",
    "tf.text = \"Yo tengo 30anñs en la edad coreana\"\n",
    "\n",
    "p = tf.add_paragraph()\n",
    "p.text = \"Pero afuera de Corea, tengo 28años jeje\"\n",
    "p.font.bold = True\n",
    "\n",
    "p = tf.add_paragraph()\n",
    "p.text = \"Yo tengo de ganas de volver \\na Valencia Amunt Valencia\"\n",
    "p.font.size = Pt(40)\n",
    "\n",
    "prs.save('test.pptx')"
   ]
  },
  {
   "cell_type": "code",
   "execution_count": 49,
   "id": "c6b39b23",
   "metadata": {
    "ExecuteTime": {
     "end_time": "2021-04-19T07:00:24.063558Z",
     "start_time": "2021-04-19T07:00:24.019539Z"
    }
   },
   "outputs": [],
   "source": [
    "from pptx import Presentation # 라이브러리\n",
    "from pptx.util import Inches # 사진, 표등을 그리기 위해\n",
    "prs = Presentation() # 파워포인트 객체 선언\n",
    "\n",
    "img_path = 'valencia.jpg'\n",
    "\n",
    "blank_slide_layout = prs.slide_layouts[6] # 6 : 제목/내용이 없는 '빈' 슬라이드\n",
    "slide = prs.slides.add_slide(blank_slide_layout)\n",
    "left = top = Inches(1)\n",
    "width = height = Inches(1)\n",
    "# width, hegith가 없을 경우 원본 사이즈로\n",
    "pic = slide.shapes.add_picture(img_path, left, top, width=width,height=height)\n",
    "left = Inches(3)\n",
    "width = Inches(5.5)\n",
    "height = Inches(4)\n",
    "pic = slide.shapes.add_picture(img_path, left, top, width=width,height=height)\n",
    "\n",
    "prs.save('test_1.pptx')\n"
   ]
  },
  {
   "cell_type": "code",
   "execution_count": 51,
   "id": "0ade054a",
   "metadata": {
    "ExecuteTime": {
     "end_time": "2021-04-19T07:00:52.259214Z",
     "start_time": "2021-04-19T07:00:52.205202Z"
    }
   },
   "outputs": [],
   "source": [
    "prs = Presentation() # 파워포인트 객체 선언\n",
    "title_only_slide_layout = prs.slide_layouts[5]\n",
    "slide = prs.slides.add_slide(title_only_slide_layout)\n",
    "shapes = slide.shapes\n",
    "title_shape = slide.placeholders[0] \n",
    "title_shape.text = 'Adding a Table'\n",
    "rows = cols = 2\n",
    "left = top = Inches(2.0)\n",
    "width = Inches(6.0)\n",
    "height = Inches(0.8)\n",
    "table = shapes.add_table(rows, cols, left, top, width, height).table\n",
    "# set column widths\n",
    "table.columns[0].width = Inches(2.0)\n",
    "table.columns[1].width = Inches(4.0)\n",
    "# write column headings\n",
    "table.cell(0, 0).text = 'Foo'\n",
    "table.cell(0, 1).text = 'Bar'\n",
    "# write body cells\n",
    "table.cell(1, 0).text = 'Baz'\n",
    "table.cell(1, 1).text = 'Qux'\n",
    "\n",
    "prs.save('test_2.pptx')"
   ]
  },
  {
   "cell_type": "markdown",
   "id": "eba16da9",
   "metadata": {},
   "source": [
    "# 엑셀 읽고 시각화"
   ]
  },
  {
   "cell_type": "code",
   "execution_count": 55,
   "id": "33c04e3b",
   "metadata": {
    "ExecuteTime": {
     "end_time": "2021-04-19T07:17:19.739076Z",
     "start_time": "2021-04-19T07:17:19.555409Z"
    }
   },
   "outputs": [
    {
     "name": "stdout",
     "output_type": "stream",
     "text": [
      "        Date Region                 Type  Units  Sales\n",
      "0 2020-07-11   East  Children's Clothing   18.0    306\n",
      "1 2020-09-23  North  Children's Clothing   14.0    448\n",
      "2 2020-04-02  South     Women's Clothing   17.0    425\n",
      "3 2020-02-28   East  Children's Clothing   26.0    832\n",
      "4 2020-03-19   West     Women's Clothing    3.0     33\n"
     ]
    }
   ],
   "source": [
    "import pandas as pd\n",
    "\n",
    "df = pd.read_excel('sample.xlsx', parse_dates = ['Date'])\n",
    "print(df.head())"
   ]
  },
  {
   "cell_type": "code",
   "execution_count": 61,
   "id": "ee3e5439",
   "metadata": {
    "ExecuteTime": {
     "end_time": "2021-04-19T07:24:00.857852Z",
     "start_time": "2021-04-19T07:24:00.803615Z"
    }
   },
   "outputs": [],
   "source": [
    "f = df.pivot_table(df, index = 'Type', columns = 'Region', aggfunc = 'sum')"
   ]
  },
  {
   "cell_type": "code",
   "execution_count": 67,
   "id": "dff70199",
   "metadata": {
    "ExecuteTime": {
     "end_time": "2021-04-19T07:31:14.258725Z",
     "start_time": "2021-04-19T07:31:14.240721Z"
    }
   },
   "outputs": [],
   "source": [
    "f_1 = f.iloc[:1].reset_index(drop=True)"
   ]
  },
  {
   "cell_type": "code",
   "execution_count": 151,
   "id": "72574a3e",
   "metadata": {
    "ExecuteTime": {
     "end_time": "2021-04-19T08:39:39.794517Z",
     "start_time": "2021-04-19T08:39:39.739504Z"
    }
   },
   "outputs": [
    {
     "name": "stdout",
     "output_type": "stream",
     "text": [
      "                     Sales                        Units                  \\\n",
      "Region                East  North  South   West    East   North   South   \n",
      "Type                                                                      \n",
      "Children's Clothing  45849  37306  18570  20182  2318.0  1763.0  1017.0   \n",
      "Men's Clothing       51685  39975  18542  19077  2420.0     0.0   725.0   \n",
      "Women's Clothing     70229  61419  22203  22217  3372.0  2596.0  1056.0   \n",
      "\n",
      "                             \n",
      "Region                 West  \n",
      "Type                         \n",
      "Children's Clothing   789.0  \n",
      "Men's Clothing        829.0  \n",
      "Women's Clothing     1006.0  \n"
     ]
    },
    {
     "data": {
      "text/html": [
       "<div>\n",
       "<style scoped>\n",
       "    .dataframe tbody tr th:only-of-type {\n",
       "        vertical-align: middle;\n",
       "    }\n",
       "\n",
       "    .dataframe tbody tr th {\n",
       "        vertical-align: top;\n",
       "    }\n",
       "\n",
       "    .dataframe thead th {\n",
       "        text-align: right;\n",
       "    }\n",
       "</style>\n",
       "<table border=\"1\" class=\"dataframe\">\n",
       "  <thead>\n",
       "    <tr style=\"text-align: right;\">\n",
       "      <th>Region</th>\n",
       "      <th>East</th>\n",
       "      <th>North</th>\n",
       "      <th>South</th>\n",
       "      <th>West</th>\n",
       "    </tr>\n",
       "    <tr>\n",
       "      <th>Type</th>\n",
       "      <th></th>\n",
       "      <th></th>\n",
       "      <th></th>\n",
       "      <th></th>\n",
       "    </tr>\n",
       "  </thead>\n",
       "  <tbody>\n",
       "    <tr>\n",
       "      <th>Children's Clothing</th>\n",
       "      <td>2318.0</td>\n",
       "      <td>1763.0</td>\n",
       "      <td>1017.0</td>\n",
       "      <td>789.0</td>\n",
       "    </tr>\n",
       "    <tr>\n",
       "      <th>Men's Clothing</th>\n",
       "      <td>2420.0</td>\n",
       "      <td>0.0</td>\n",
       "      <td>725.0</td>\n",
       "      <td>829.0</td>\n",
       "    </tr>\n",
       "    <tr>\n",
       "      <th>Women's Clothing</th>\n",
       "      <td>3372.0</td>\n",
       "      <td>2596.0</td>\n",
       "      <td>1056.0</td>\n",
       "      <td>1006.0</td>\n",
       "    </tr>\n",
       "  </tbody>\n",
       "</table>\n",
       "</div>"
      ],
      "text/plain": [
       "Region                 East   North   South    West\n",
       "Type                                               \n",
       "Children's Clothing  2318.0  1763.0  1017.0   789.0\n",
       "Men's Clothing       2420.0     0.0   725.0   829.0\n",
       "Women's Clothing     3372.0  2596.0  1056.0  1006.0"
      ]
     },
     "execution_count": 151,
     "metadata": {},
     "output_type": "execute_result"
    }
   ],
   "source": [
    "f = pd.pivot_table(df, index='Type',    # 행 위치에 들어갈 열\n",
    "                     columns = 'Region',aggfunc = 'sum')\n",
    "print(f)\n",
    "f2 = f['Units']\n",
    "f2\n"
   ]
  },
  {
   "cell_type": "code",
   "execution_count": 81,
   "id": "90d670a8",
   "metadata": {
    "ExecuteTime": {
     "end_time": "2021-04-19T07:42:31.487554Z",
     "start_time": "2021-04-19T07:42:31.238512Z"
    }
   },
   "outputs": [
    {
     "data": {
      "image/png": "[encoded data removed]",
      "text/plain": [
       "<Figure size 432x288 with 1 Axes>"
      ]
     },
     "metadata": {
      "needs_background": "light"
     },
     "output_type": "display_data"
    }
   ],
   "source": [
    "import pandas as pd\n",
    "import matplotlib.pyplot as plt\n",
    "\n",
    "ax = f2.plot(kind='bar')\n",
    "#plt.show()\n",
    "plt.savefig('wow.png')"
   ]
  },
  {
   "cell_type": "code",
   "execution_count": 136,
   "id": "025cced2",
   "metadata": {
    "ExecuteTime": {
     "end_time": "2021-04-19T08:18:59.154540Z",
     "start_time": "2021-04-19T08:18:59.114532Z"
    }
   },
   "outputs": [],
   "source": [
    "from pptx import Presentation\n",
    "from pptx.util import Inches\n",
    "prs = Presentation()\n",
    "img_path = 'wow.png'\n",
    "blank_slide_layout = prs.slide_layouts[8] # 6 : 제목/내용이 없는 '빈' 슬라이드\n",
    "slide = prs.slides.add_slide(blank_slide_layout)\n",
    "\n",
    "title_shape = slide.placeholders[0] # 제목\n",
    "title_shape.text = 'Sales by account'\n",
    "body_shape = slide.placeholders[2] # 내용\n",
    "tf = body_shape.text_frame\n",
    "tf.text = 'results consistent with last quarter'\n",
    "\n",
    "left = Inches(3)\n",
    "width = Inches(5)\n",
    "height = Inches(5)\n",
    "pic = slide.shapes.add_picture(img_path, left, top, width=width,height=height)\n",
    "top = left = Inches(1)\n",
    "\n",
    "prs.save('wow.pptx')"
   ]
  },
  {
   "cell_type": "code",
   "execution_count": 144,
   "id": "609bac5d",
   "metadata": {
    "ExecuteTime": {
     "end_time": "2021-04-19T08:28:21.342561Z",
     "start_time": "2021-04-19T08:28:21.008117Z"
    }
   },
   "outputs": [
    {
     "name": "stdout",
     "output_type": "stream",
     "text": [
      "        Date Region                 Type  Units  Sales\n",
      "0 2020-07-11   East  Children's Clothing   18.0    306\n",
      "1 2020-09-23  North  Children's Clothing   14.0    448\n",
      "2 2020-04-02  South     Women's Clothing   17.0    425\n",
      "3 2020-02-28   East  Children's Clothing   26.0    832\n",
      "4 2020-03-19   West     Women's Clothing    3.0     33\n",
      "Region                 East   North   South    West\n",
      "Type                                               \n",
      "Children's Clothing  2318.0  1763.0  1017.0   789.0\n",
      "Men's Clothing       2420.0     0.0   725.0   829.0\n",
      "Women's Clothing     3372.0  2596.0  1056.0  1006.0\n"
     ]
    },
    {
     "data": {
      "image/png": "[encoded data removed]",
      "text/plain": [
       "<Figure size 432x288 with 1 Axes>"
      ]
     },
     "metadata": {
      "needs_background": "light"
     },
     "output_type": "display_data"
    }
   ],
   "source": [
    "import pandas as pd\n",
    "import matplotlib.pyplot as plt\n",
    "from pptx import Presentation\n",
    "from pptx.util import Inches\n",
    "\n",
    "df = pd.read_excel('sample.xlsx', parse_dates=['Date'])\n",
    "print(df.head())\n",
    "\n",
    "#multi_index = pd.pivot_table(df, index = ['Region', 'Type'], values = 'Sales', aggfunc = 'sum')\n",
    "#print(multi_index)\n",
    "#multi_functions = pd.pivot_table(df, index = ['Region', 'Type'], values = 'Sales', aggfunc = ['sum', len])\n",
    "#print(multi_functions)\n",
    "\n",
    "columns_example = pd.pivot_table(df, index='Type', columns = 'Region', values = 'Units', aggfunc = 'sum')\n",
    "print(columns_example)\n",
    "\n",
    "fig_plot = columns_example.plot(kind='bar')\n",
    "fig = fig_plot.get_figure()\n",
    "fig.savefig('wow.png')\n",
    "\n",
    "prs = Presentation()\n",
    "graph_slide_layout = prs.slide_layouts[8]\n",
    "slide = prs.slides.add_slide(graph_slide_layout)\n",
    "title = slide.shapes.title\n",
    "title.text = 'Sales by account'\n",
    "placeholder = slide.placeholders[1]\n",
    "pic = placeholder.insert_picture('wow.png')\n",
    "subtitle = slide.placeholders[2]\n",
    "subtitle.text = 'Results consistent with last quarter'\n",
    "prs.save('wow.pptx')"
   ]
  }
 ],
 "metadata": {
  "kernelspec": {
   "display_name": "Python 3",
   "language": "python",
   "name": "python3"
  },
  "language_info": {
   "codemirror_mode": {
    "name": "ipython",
    "version": 3
   },
   "file_extension": ".py",
   "mimetype": "text/x-python",
   "name": "python",
   "nbconvert_exporter": "python",
   "pygments_lexer": "ipython3",
   "version": "3.7.10"
  },
  "toc": {
   "base_numbering": 1,
   "nav_menu": {},
   "number_sections": true,
   "sideBar": true,
   "skip_h1_title": false,
   "title_cell": "Table of Contents",
   "title_sidebar": "Contents",
   "toc_cell": false,
   "toc_position": {},
   "toc_section_display": true,
   "toc_window_display": false
  }
 },
 "nbformat": 4,
 "nbformat_minor": 5
}
