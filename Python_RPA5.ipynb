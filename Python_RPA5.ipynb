{
 "cells": [
  {
   "cell_type": "markdown",
   "id": "8203fc92",
   "metadata": {},
   "source": [
    "# 셀레니움"
   ]
  },
  {
   "cell_type": "code",
   "execution_count": 11,
   "id": "b0f866cb",
   "metadata": {
    "ExecuteTime": {
     "end_time": "2021-04-21T01:06:23.629558Z",
     "start_time": "2021-04-21T01:06:15.574318Z"
    }
   },
   "outputs": [
    {
     "name": "stdout",
     "output_type": "stream",
     "text": [
      "Alert shows following message: Hi!! I am Confirmation Alert.\n",
      "You pressed OK!\n",
      "You pressed CANCEL!\n"
     ]
    }
   ],
   "source": [
    "from selenium import webdriver \n",
    "import time\n",
    "driver = webdriver.Chrome() # 구글 드라이버 불러오기\n",
    "driver.maximize_window()\n",
    "location = 'file:///c:/workspace/basic/alert2.html'\n",
    "driver.get(location)\n",
    "\n",
    "button = driver.find_element_by_name('alert') # 커서 지정\n",
    "button.click()\n",
    "\n",
    "obj = driver.switch_to.alert\n",
    "message = obj.text\n",
    "print('Alert shows following message: ' + message)\n",
    "\n",
    "time.sleep(2) # time으로 실행될 시간 부여\n",
    "obj.accept()\n",
    "\n",
    "txt = driver.find_element_by_id('msg')\n",
    "print(txt.text)\n",
    "\n",
    "time.sleep(2)\n",
    "driver.refresh()\n",
    "\n",
    "button = driver.find_element_by_name('alert')\n",
    "button.click()\n",
    "obj = driver.switch_to.alert\n",
    "obj.dismiss()\n",
    "txt = driver.find_element_by_id('msg')\n",
    "print(txt.text)\n",
    "time.sleep(2)\n",
    "driver.close()"
   ]
  },
  {
   "cell_type": "code",
   "execution_count": 23,
   "id": "68becbd6",
   "metadata": {
    "ExecuteTime": {
     "end_time": "2021-04-21T01:29:13.445921Z",
     "start_time": "2021-04-21T01:29:03.062789Z"
    }
   },
   "outputs": [
    {
     "name": "stdout",
     "output_type": "stream",
     "text": [
      "Alert shows following message: You have logged in successfully !!\n",
      "Welcome Adrian!! How can I help you?\n"
     ]
    }
   ],
   "source": [
    "from selenium import webdriver\n",
    "import time\n",
    "\n",
    "driver = webdriver.Chrome()\n",
    "driver.maximize_window()\n",
    "location = 'file:///c:/workspace/basic/alert3.html'\n",
    "driver.get(location)\n",
    "\n",
    "button = driver.find_element_by_name('employeeLogin')\n",
    "button.click()\n",
    "\n",
    "obj = driver.switch_to.alert\n",
    "time.sleep(2)\n",
    "obj.send_keys('Adrian')\n",
    "time.sleep(2)\n",
    "obj.accept()\n",
    "message = obj.text\n",
    "print('Alert shows following message: ' + message)\n",
    "time.sleep(2)\n",
    "obj.accept()\n",
    "\n",
    "txt = driver.find_element_by_id('msg')\n",
    "print(txt.text)\n",
    "time.sleep(0.5)\n",
    "driver.quit()"
   ]
  },
  {
   "cell_type": "markdown",
   "id": "60579061",
   "metadata": {},
   "source": [
    "## iframe handling"
   ]
  },
  {
   "cell_type": "code",
   "execution_count": 36,
   "id": "b3af5394",
   "metadata": {
    "ExecuteTime": {
     "end_time": "2021-04-21T02:00:06.087570Z",
     "start_time": "2021-04-21T02:00:02.642439Z"
    },
    "scrolled": false
   },
   "outputs": [
    {
     "name": "stdout",
     "output_type": "stream",
     "text": [
      "I am normal\n",
      "I am red\n",
      "I am blue\n",
      "I am big\n"
     ]
    }
   ],
   "source": [
    "from selenium import webdriver\n",
    "from selenium.webdriver.common.keys import Keys\n",
    "\n",
    "driver = webdriver.Chrome()\n",
    "url = 'https://www.w3schools.com/html/tryit.asp?filename=tryhtml_styles_intro'\n",
    "driver.get(url)\n",
    "\n",
    "#iframe 요소 태그가 몇개인지 찾음\n",
    "len(driver.find_elements_by_tag_name('iframe'))\n",
    "#iframe 요소 중에서 iframeResult만 driver로 가져옴\n",
    "driver.switch_to.frame(driver.find_element_by_id(\"iframeResult\"))\n",
    "\n",
    "#그 중 body 태그의 내용만 elem 변수로 저장\n",
    "elem = driver.find_element_by_tag_name('body')\n",
    "print(elem.text)"
   ]
  },
  {
   "cell_type": "markdown",
   "id": "1aedf0aa",
   "metadata": {},
   "source": [
    "## 자동로그인\n",
    "### g마켓 연습문제\n",
    "#### 파이썬 프로그램에서 g마켓 로그인\n",
    "#### 검색어 '컴퓨터'로 검색"
   ]
  },
  {
   "cell_type": "code",
   "execution_count": 49,
   "id": "d88c69af",
   "metadata": {
    "ExecuteTime": {
     "end_time": "2021-04-21T02:17:42.928991Z",
     "start_time": "2021-04-21T02:17:23.777084Z"
    }
   },
   "outputs": [],
   "source": [
    "from selenium import webdriver\n",
    "from selenium.webdriver.common.keys import Keys\n",
    "import time\n",
    "\n",
    "driver = webdriver.Chrome()\n",
    "driver.get('http://gmarket.co.kr')\n",
    "\n",
    "#로그인 링크 클릭\n",
    "ele = driver.find_element_by_link_text('로그인')\n",
    "ele.click()\n",
    "\n",
    "import getpass\n",
    "\n",
    "uid = 'korhammers'\n",
    "pw = 'parkbang3577!'\n",
    "\n",
    "driver.find_element_by_name('id').send_keys(uid)\n",
    "driver.find_element_by_id('pwd').send_keys(pw)\n",
    "\n",
    "elem = driver.find_element_by_id('pwd')\n",
    "elem.send_keys(Keys.RETURN)\n",
    "\n",
    "time.sleep(2)\n",
    "elem1 = driver.find_element_by_name('keyword')\n",
    "elem1.send_keys('컴퓨터')\n",
    "elem1.send_keys(Keys.RETURN)\n",
    "\n",
    "#파이썬(python) getpass 모듈을 이용하여 입력값 감추기\n",
    "#파이썬 셀에서 실행\n",
    "import getpass\n",
    "word = getpass.getpass('Input Word: ')"
   ]
  },
  {
   "cell_type": "markdown",
   "id": "ae8604ad",
   "metadata": {},
   "source": [
    "## YouTube에서 'hero' 음악 검색\n",
    "### 검색 결과 중 첫번재 링크 url만 출력"
   ]
  },
  {
   "cell_type": "code",
   "execution_count": 80,
   "id": "0efc3124",
   "metadata": {
    "ExecuteTime": {
     "end_time": "2021-04-21T03:09:31.683315Z",
     "start_time": "2021-04-21T03:09:25.960114Z"
    }
   },
   "outputs": [],
   "source": [
    "#내가 짠거\n",
    "from selenium import webdriver\n",
    "from selenium.webdriver.common.keys import Keys\n",
    "import time\n",
    "\n",
    "driver = webdriver.Chrome()\n",
    "driver.get('https://www.youtube.com/')\n",
    "\n",
    "elem = driver.find_element_by_id('search')\n",
    "elem.send_keys('fantasias remix')\n",
    "elem.send_keys(Keys.RETURN)\n",
    "time.sleep(2)\n",
    "\n",
    "driver.find_element_by_css_selector(\"a#video-title\").click()\n",
    "\n",
    "# title = driver.find_element_by_css_selector(\"a#video-title\").get_attribute(\"href\")\n",
    "# print(title)\n",
    "# time.sleep(1)\n",
    "\n",
    "# driver.quit()"
   ]
  },
  {
   "cell_type": "code",
   "execution_count": 81,
   "id": "1612de72",
   "metadata": {
    "ExecuteTime": {
     "end_time": "2021-04-21T03:11:38.811127Z",
     "start_time": "2021-04-21T03:11:27.926774Z"
    }
   },
   "outputs": [
    {
     "name": "stdout",
     "output_type": "stream",
     "text": [
      "https://www.youtube.com/watch?v=qsTr-P2uXVs\n"
     ]
    }
   ],
   "source": [
    "#강사님 답\n",
    "\n",
    "from selenium import webdriver\n",
    "from selenium.webdriver.common.keys import Keys\n",
    "import requests\n",
    "import time\n",
    "\n",
    "options = webdriver.ChromeOptions()\n",
    "options.headless = True #headless chrome 실행\n",
    "driver = webdriver.Chrome(options = options)\n",
    "driver.get('https://www.youtube.com/')\n",
    "\n",
    "qstr = 'hero' #검색 질의어\n",
    "driver.find_element_by_id('search').send_keys('qstr') #질의어 입력\n",
    "driver.find_element_by_id('search-icon-legacy').click() #검색 버튼 클릭\n",
    "time.sleep(3) #검색 결과가 나올 때 까지 약간 대기\n",
    "\n",
    "for elem in driver.find_elements_by_css_selector('a#video-title'):\n",
    "    if qstr in elem.text.lower():\n",
    "        print(elem.text)\n",
    "        break\n",
    "url = elem.get_attribute('href') #결과 중에서 처음 것의 url만 얻음.\n",
    "driver.close() #헤드리스 크롬을 종료\n",
    "print(url)"
   ]
  },
  {
   "cell_type": "markdown",
   "id": "e1d869cf",
   "metadata": {
    "ExecuteTime": {
     "end_time": "2021-04-21T03:50:23.728013Z",
     "start_time": "2021-04-21T03:50:23.700989Z"
    }
   },
   "source": [
    "## 파이썬에서 이메일 보내기\n",
    "### gmail\n",
    "#### 구글은 코드를 따로 실행해도 가능"
   ]
  },
  {
   "cell_type": "code",
   "execution_count": 85,
   "id": "85e48a98",
   "metadata": {
    "ExecuteTime": {
     "end_time": "2021-04-21T03:55:00.782440Z",
     "start_time": "2021-04-21T03:54:58.576425Z"
    },
    "scrolled": true
   },
   "outputs": [
    {
     "data": {
      "text/plain": [
       "(235, b'2.7.0 Accepted')"
      ]
     },
     "execution_count": 85,
     "metadata": {},
     "output_type": "execute_result"
    }
   ],
   "source": [
    "import smtplib\n",
    "smtp = smtplib.SMTP('smtp.gmail.com', 587) #gmail SMTP 서버에 접속\n",
    "#print(type(smtp))\n",
    "smtp.ehlo() #SMTP 서버에 대화 시작 signal 보냄\n",
    "smtp.starttls() #tls 암호화 사용\n",
    "smtp.login('korhammers@gmail.com', 'hammers3577') #로그인에 성공하면 235 반환\n"
   ]
  },
  {
   "cell_type": "markdown",
   "id": "f4ba49ad",
   "metadata": {},
   "source": [
    "## 파이썬에서 이메일 보내기\n",
    "## naver, daum\n",
    "### 네이버와 다음은 코드를 항상 같이 실행해야 함"
   ]
  },
  {
   "cell_type": "code",
   "execution_count": 98,
   "id": "c1703a0b",
   "metadata": {
    "ExecuteTime": {
     "end_time": "2021-04-21T04:08:45.987170Z",
     "start_time": "2021-04-21T04:08:45.847130Z"
    }
   },
   "outputs": [
    {
     "data": {
      "text/plain": [
       "(235, b'2.7.0 Accepted O2MTjeZaSbGiQApadEqy8g - nsmtp')"
      ]
     },
     "execution_count": 98,
     "metadata": {},
     "output_type": "execute_result"
    }
   ],
   "source": [
    "import smtplib\n",
    "smtp = smtplib.SMTP('smtp.naver.com', 587) #gmail SMTP 서버에 접속\n",
    "#print(type(smtp))\n",
    "smtp.ehlo() #SMTP 서버에 대화 시작 signal 보냄\n",
    "smtp.starttls() #tls 암호화 사용\n",
    "smtp.login('hammers35@naver.com', '(parkbang3577)') #로그인에 성공하면 235 반환\n"
   ]
  },
  {
   "cell_type": "code",
   "execution_count": 99,
   "id": "e6677951",
   "metadata": {
    "ExecuteTime": {
     "end_time": "2021-04-21T04:08:47.749071Z",
     "start_time": "2021-04-21T04:08:46.894945Z"
    }
   },
   "outputs": [
    {
     "data": {
      "text/plain": [
       "(235, b'2.7.0 Accepted')"
      ]
     },
     "execution_count": 99,
     "metadata": {},
     "output_type": "execute_result"
    }
   ],
   "source": [
    "import smtplib\n",
    "\n",
    "smtp = smtplib.SMTP_SSL('smtp.gmail.com', 465)\n",
    "smtp.ehlo() \n",
    "smtp.login('korhammers@gmail.com', 'hammers3577') #SMTP 서버로부터 235 응답코드 성공"
   ]
  },
  {
   "cell_type": "code",
   "execution_count": 107,
   "id": "74a3a732",
   "metadata": {
    "ExecuteTime": {
     "end_time": "2021-04-21T04:11:34.665014Z",
     "start_time": "2021-04-21T04:11:31.611246Z"
    }
   },
   "outputs": [
    {
     "data": {
      "text/plain": [
       "(221, b'2.0.0 closing connection m20sm417359pfk.133 - gsmtp')"
      ]
     },
     "execution_count": 107,
     "metadata": {},
     "output_type": "execute_result"
    }
   ],
   "source": [
    "import smtplib\n",
    "from email.mime.multipart import MIMEMultipart\n",
    "from email.mime.text import MIMEText\n",
    "from email.header import Header\n",
    "\n",
    "smtp = smtplib.SMTP('smtp.gmail.com', 587)\n",
    "smtp.ehlo()\n",
    "smtp.starttls()\n",
    "smtp.login('korhammers@gmail.com', 'hammers3577')\n",
    "\n",
    "me = 'korhammers@gmail.com'\n",
    "you = 'hammers35@naver.com'\n",
    "\n",
    "subject = '제목...python 메일 테스트'\n",
    "message = '본문내용...python 메일 테스트'\n",
    "msg = MIMEText(message.encode('utf-8'), _subtype='plain', _charset='utf-8')\n",
    "msg['Subject']=Header(subject.encode('utf-8'), 'utf-8')\n",
    "msg['From']=me\n",
    "msg['To']=you\n",
    "\n",
    "smtp.sendmail(me, you, msg.as_string())\n",
    "smtp.quit() #SMTP 서버로부터 221 응답코드 : 성공"
   ]
  },
  {
   "cell_type": "markdown",
   "id": "b9b05a0d",
   "metadata": {},
   "source": [
    "## 메일 보내기"
   ]
  },
  {
   "cell_type": "code",
   "execution_count": 131,
   "id": "a926b764",
   "metadata": {
    "ExecuteTime": {
     "end_time": "2021-04-21T06:00:43.617437Z",
     "start_time": "2021-04-21T06:00:40.011778Z"
    }
   },
   "outputs": [
    {
     "name": "stdout",
     "output_type": "stream",
     "text": [
      "Send Mail Success!\n"
     ]
    }
   ],
   "source": [
    "import smtplib\n",
    "from email.utils import formataddr\n",
    "from email.mime.text import MIMEText\n",
    "from email.header import Header\n",
    "\n",
    "\n",
    "smtp_info = {                       # SMTP 서버\n",
    "    'gmail.com': ('smtp.gmail.com', 587),\n",
    "    'naver.com': ('smtp.naver.com', 587),\n",
    "    'daum.net': ('smtp.daum.net', 465),\n",
    "    'hanmail.net': ('smtp.daum.net', 465),\n",
    "    'nate.com': ('smtp.mail.nate.com', 465),\n",
    "    'hotmail.com': ('smtp-mail.outlook.com', 587),\n",
    "    'outlook.com': ('smtp-mail.outlook.com', 587),\n",
    "    'yahoo.com': ('smtp.mail.yahoo.com', 587),\n",
    "    }\n",
    "\n",
    "def send_text_email(sender_tup, receivers, subject, message, passwd, subtype='plain'):\n",
    "    '''\n",
    "    sender_tup: (display_name, email_address)\n",
    "    receivers: [(display_name, email_address), (display_name, email_address), ...]\n",
    "    subject: str\n",
    "    message: str\n",
    "    passwd: str\n",
    "    '''\n",
    "\n",
    "    # 보내는 사람 주소를 'Hong <hong@gmail.com>' 형식으로 변환\n",
    "    # 예: ('Hong', 'hong@somemail.com') -> 'Hong <hong@gmail.com>'\n",
    "    sender_form = formataddr(sender_tup) \n",
    "    mail_to = [formataddr(rec) for rec in receivers]\n",
    "    \n",
    "    #SMTP 서버 선택\n",
    "    host = sender_tup[1].split('@')[1]   \n",
    "    smtp_server, port = smtp_info[host]\n",
    "    \n",
    "    #서버 연결\n",
    "    if port == 587:\n",
    "        smtp = smtplib.SMTP(smtp_server, port)\n",
    "        rcode1, _ = smtp.ehlo()\n",
    "        rcode2, _ = smtp.starttls()\n",
    "        \n",
    "    else: # if port == 465:\n",
    "        smtp = smtplib.SMTP(smtp_server, port)\n",
    "        rcode1, _ = smtp.ehlo()\n",
    "        rcode2, _ = 220\n",
    "        \n",
    "     # 로그인\n",
    "    rcode3, _ = smtp.login(sender_tup[1], passwd)\n",
    "    if rcode3 != 235:\n",
    "        smtp.quit()\n",
    "        return 'login failed'\n",
    "\n",
    "    # 메일 구성 및 전송\n",
    "    msg = MIMEText(message.encode('utf-8'), _subtype=subtype, _charset='utf-8')\n",
    "    msg['Subject'] = Header(subject.encode('utf-8'), 'utf-8')\n",
    "    msg['From'] = sender_form\n",
    "    msg['To'] = ','.join(mail_to)\n",
    "\n",
    "    smtp.sendmail(sender_form, mail_to, msg.as_string( ))\n",
    "    print(\"Send Mail Success!\")\n",
    "    smtp.quit()\n",
    "\n",
    "myemail = ('아드리안', 'korhammers@gmail.com')  #내주소\n",
    "receivers = [('박병현1', 'hammers35@naver.com'), ('박병현2', 'hamers@daum.net')]\n",
    "\n",
    "subject = 'hola buenos dias'\n",
    "message = '''\n",
    "        hoy hace buen tiemp aunque poco calor y esta nublando\n",
    "        '''\n",
    "\n",
    "send_text_email(myemail, receivers, subject, message, 'hammers3577')"
   ]
  },
  {
   "cell_type": "markdown",
   "id": "a17d82cb",
   "metadata": {},
   "source": [
    "## 메일 HTML로 보내기"
   ]
  },
  {
   "cell_type": "code",
   "execution_count": 133,
   "id": "4c680d2b",
   "metadata": {
    "ExecuteTime": {
     "end_time": "2021-04-21T06:07:41.069979Z",
     "start_time": "2021-04-21T06:07:38.208282Z"
    }
   },
   "outputs": [
    {
     "name": "stdout",
     "output_type": "stream",
     "text": [
      "Send Mail Success!\n"
     ]
    }
   ],
   "source": [
    "import smtplib\n",
    "from email.utils import formataddr\n",
    "from email.mime.text import MIMEText\n",
    "from email.header import Header\n",
    "\n",
    "\n",
    "smtp_info = {                       # SMTP 서버\n",
    "    'gmail.com': ('smtp.gmail.com', 587),\n",
    "    'naver.com': ('smtp.naver.com', 587),\n",
    "    'daum.net': ('smtp.daum.net', 465),\n",
    "    'hanmail.net': ('smtp.daum.net', 465),\n",
    "    'nate.com': ('smtp.mail.nate.com', 465),\n",
    "    'hotmail.com': ('smtp-mail.outlook.com', 587),\n",
    "    'outlook.com': ('smtp-mail.outlook.com', 587),\n",
    "    'yahoo.com': ('smtp.mail.yahoo.com', 587),\n",
    "    }\n",
    "\n",
    "def send_text_email(sender_tup, receivers, subject, message, passwd, subtype='plain'):\n",
    "    '''\n",
    "    sender_tup: (display_name, email_address)\n",
    "    receivers: [(display_name, email_address), (display_name, email_address), ...]\n",
    "    subject: str\n",
    "    message: str\n",
    "    passwd: str\n",
    "    '''\n",
    "\n",
    "    # 보내는 사람 주소를 'Hong <hong@gmail.com>' 형식으로 변환\n",
    "    # 예: ('Hong', 'hong@somemail.com') -> 'Hong <hong@gmail.com>'\n",
    "    sender_form = formataddr(sender_tup) \n",
    "    mail_to = [formataddr(rec) for rec in receivers]\n",
    "    \n",
    "    #SMTP 서버 선택\n",
    "    host = sender_tup[1].split('@')[1]   \n",
    "    smtp_server, port = smtp_info[host]\n",
    "    \n",
    "    #서버 연결\n",
    "    if port == 587:\n",
    "        smtp = smtplib.SMTP(smtp_server, port)\n",
    "        rcode1, _ = smtp.ehlo()\n",
    "        rcode2, _ = smtp.starttls()\n",
    "        \n",
    "    else: # if port == 465:\n",
    "        smtp = smtplib.SMTP(smtp_server, port)\n",
    "        rcode1, _ = smtp.ehlo()\n",
    "        rcode2, _ = 220\n",
    "        \n",
    "     # 로그인\n",
    "    rcode3, _ = smtp.login(sender_tup[1], passwd)\n",
    "    if rcode3 != 235:\n",
    "        smtp.quit()\n",
    "        return 'login failed'\n",
    "\n",
    "    # 메일 구성 및 전송\n",
    "    msg = MIMEText(message.encode('utf-8'), _subtype=subtype, _charset='utf-8')\n",
    "    msg['Subject'] = Header(subject.encode('utf-8'), 'utf-8')\n",
    "    msg['From'] = sender_form\n",
    "    msg['To'] = ','.join(mail_to)\n",
    "\n",
    "    smtp.sendmail(sender_form, mail_to, msg.as_string( ))\n",
    "    print(\"Send Mail Success!\")\n",
    "    smtp.quit()\n",
    "\n",
    "myemail = ('아드리안', 'korhammers@gmail.com')  #내주소\n",
    "receivers = [('박병현1', 'hammers35@naver.com'), ('박병현2', 'hamers@daum.net')]\n",
    "\n",
    "subject = 'hola buenos dias'\n",
    "message = '''\n",
    "<html>\n",
    "<head></head>\n",
    "<body>\n",
    "<p style = 'color:blue'> 좋은 하루되세요 </p>\n",
    "<p style = 'color:red'> 좋은 하루되세요 </p>\n",
    "<p style = 'color:yellow'> 좋은 하루되세요 </p>\n",
    "</body>\n",
    "</html>\n",
    "        '''\n",
    "\n",
    "send_text_email(myemail, receivers, subject, message, 'hammers3577', subtype = 'html')"
   ]
  },
  {
   "cell_type": "markdown",
   "id": "089ab360",
   "metadata": {},
   "source": [
    "## 첨부파일을 포함한 메일 보내기"
   ]
  },
  {
   "cell_type": "code",
   "execution_count": 144,
   "id": "a1301f4c",
   "metadata": {
    "ExecuteTime": {
     "end_time": "2021-04-21T06:50:01.297749Z",
     "start_time": "2021-04-21T06:49:57.550712Z"
    },
    "scrolled": true
   },
   "outputs": [],
   "source": [
    "import smtplib\n",
    "import mimetypes\n",
    "import os\n",
    "import chardet   # pip install chardet로 설치\n",
    "\n",
    "from email.utils import formataddr\n",
    "from email.header import Header\n",
    "from email.message import Message\n",
    "from email.mime.base import MIMEBase\n",
    "from email.mime.audio import MIMEAudio\n",
    "from email.mime.image import MIMEImage\n",
    "from email.mime.text import MIMEText\n",
    "from email.mime.application import MIMEApplication\n",
    "\n",
    "#첨부파일을 포함한 경우의 메일 보낼 함수\n",
    "def send_email(sender_tup, receivers, subject, message, attach_files=(), passwd='', subtype='plain'):\n",
    "    # 보내는 사람 주소 정리\n",
    "    sender = formataddr(sender_tup)\n",
    "    # 수신인들 주소 정리\n",
    "    mail_to = [formataddr(rec) for rec in receivers]\n",
    "\n",
    "    outer = MIMEBase('multipart', 'mixed')\n",
    "    outer['Subject'] = Header(subject.encode('utf-8'), 'utf-8')\n",
    "    outer['From'] = sender\n",
    "    outer['To'] = ', '.join(mail_to) \n",
    "    outer.preamble = 'This is a multi-part message in MIME format.\\n\\n'\n",
    "    outer.epilogue = ''\t \n",
    "    msg = MIMEText(message.encode('utf-8'), _subtype=subtype, _charset='utf-8')\n",
    "    outer.attach(msg)\n",
    "    \n",
    "    for fpath in attach_files:\n",
    "        folder, file_name = os.path.split(fpath)\n",
    "        ctype, _ = mimetypes.guess_type(file_name) # 파일 종류 추측\n",
    "        if ctype is None:\n",
    "            ctype = 'application/octet-stream'  #바이너리 파일\n",
    "        maintype, subtype = ctype.split('/', 1)\n",
    "        with open(fpath, 'rb') as f:\n",
    "            body = f.read()\n",
    "        if maintype == 'text':\n",
    "            encoding = chardet.detect(body)['encoding']\n",
    "            msg = MIMEText(body, _subtype=subtype, _charset=encoding)\n",
    "        elif maintype == 'image':\n",
    "            msg = MIMEImage(body, _subtype=subtype)\n",
    "        elif maintype == 'audio':\n",
    "            msg = MIMEAudio(body, _subtype=subtype)\n",
    "        else:\n",
    "            msg = MIMEApplication(body, _subtype=subtype)\n",
    "        msg.add_header('Content-Disposition', 'attachment', \n",
    "                       filename=(Header(file_name, 'utf-8').encode()))\n",
    "        outer.attach(msg) # 파일 첨부\n",
    "\n",
    "    # SMTP 서버를 통해서 메일 보내기\n",
    "    _, host = sender_tup[1].rsplit('@', 1)\n",
    "    smtp_server, port = smtp_info[host]\n",
    "    \n",
    "    if port == 587:\n",
    "        smtp = smtplib.SMTP(smtp_server, port)\n",
    "        rcode1, _ = smtp.ehlo()\n",
    "        rcode2, _ = smtp.starttls()\n",
    "    else: # if port == 465:\n",
    "        smtp = smtplib.SMTP_SSL(smtp_server, port)\n",
    "        rcode1, _ = smtp.ehlo()\n",
    "        rcode2 = 220\n",
    "        \n",
    "    if rcode1 != 250 or rcode2 != 220:\n",
    "        smtp.quit()\n",
    "        return 'conection failed'\n",
    "        \n",
    "    smtp.login(sender_tup[1], passwd)\n",
    "    smtp.sendmail(sender, mail_to, outer.as_string())\n",
    "    smtp.quit()\n",
    "\n",
    "myemail = ('아드리안', 'korhammers@gmail.com')  #내주소\n",
    "receivers = [('박병현1', 'hammers35@naver.com'), ('박병현2', 'hamers@daum.net')]\n",
    "\n",
    "subject = 'valencia'\n",
    "message = '''\n",
    "amunt valencia!!!!!\n",
    "'''\n",
    "attach_files = ['valencia.jpg']\n",
    "send_email(myemail, receivers, subject, message, attach_files, 'hammers3577')"
   ]
  },
  {
   "cell_type": "code",
   "execution_count": 167,
   "id": "097bf96f",
   "metadata": {
    "ExecuteTime": {
     "end_time": "2021-04-21T07:21:44.042918Z",
     "start_time": "2021-04-21T07:21:31.302091Z"
    }
   },
   "outputs": [
    {
     "name": "stdout",
     "output_type": "stream",
     "text": [
      "10000 심세경 fbvl@naver.com\n",
      "10001 정다은 tree2974@naver.com\n",
      "10002 박병현 korhammers@gmail.com\n",
      "('심세경', 'fbvl@naver.com') ['고지서_10000_202104.pdf']\n",
      "Email Send Completed!\n",
      "('정다은', 'tree2974@naver.com') ['고지서_10001_202104.pdf']\n",
      "Email Send Completed!\n",
      "('박병현', 'korhammers@gmail.com') ['고지서_10002_202104.pdf']\n",
      "Email Send Completed!\n"
     ]
    }
   ],
   "source": [
    "import pandas as pd\n",
    "\n",
    "df = pd.read_excel('회원명단.xlsx', sheet_name=0, index_col=0)\n",
    "df\n",
    "\n",
    "for index, row in df.iterrows():\n",
    "    print(index, row['이름'], row['이메일'])\n",
    "    \n",
    "sender = ('돈내놔', 'korhammers@gmail.com')\n",
    "subject = '2021년 4월 고지서'\n",
    "message_fmt = '''\n",
    "회원번호: {0}\n",
    "이름: {1}\n",
    "이메일 : {2}\n",
    "\n",
    "{0}고객,\n",
    "\n",
    "이번 달 고지서 보내다.\n",
    "감사.\n",
    "\n",
    "인공지능 드림\n",
    "'''\n",
    "\n",
    "for index, row in df.iterrows():\n",
    "    receiver = (row['이름'], row['이메일'])\n",
    "    fname = f'고지서_{index}_202104.pdf'\n",
    "    #if not os.path.exists(attach_files[0]):  #첨부 파일이 없으면 메일을 보내지 않는다\n",
    "    #    continue\n",
    "    msg = message_fmt.format(index, row['이름'], row['이메일'])\n",
    "    attach_files = [fname]\n",
    "    print(receiver, attach_files)\n",
    "    #print(msg)\n",
    "    send_email(sender, [receiver], subject, msg, attach_files, passwd= 'hammers3577')\n",
    "    print(\"Email Send Completed!\")"
   ]
  },
  {
   "cell_type": "code",
   "execution_count": 171,
   "id": "e6a451cf",
   "metadata": {
    "ExecuteTime": {
     "end_time": "2021-04-21T07:52:06.285698Z",
     "start_time": "2021-04-21T07:51:56.823006Z"
    }
   },
   "outputs": [
    {
     "name": "stdout",
     "output_type": "stream",
     "text": [
      "10000 심세경 fbvl@naver.com nan\n",
      "10001 정다은 tree2974@naver.com T\n",
      "10002 박병현 korhammers@gmail.com T\n",
      "('정다은', 'tree2974@naver.com') ['고지서_10001_202104.pdf']\n",
      "Email Send Completed!\n",
      "('박병현', 'korhammers@gmail.com') ['고지서_10002_202104.pdf']\n",
      "Email Send Completed!\n"
     ]
    }
   ],
   "source": [
    "import pandas as pd\n",
    "\n",
    "df = pd.read_excel('회원명단2.xlsx', sheet_name=0, index_col=0)\n",
    "df\n",
    "\n",
    "for index, row in df.iterrows():\n",
    "    print(index, row['이름'], row['이메일'], row['메일수신동의'])\n",
    "    \n",
    "sender = ('독촉메일', 'korhammers@gmail.com')\n",
    "subject = '2021년 4월 고지서'\n",
    "message_fmt = '''\n",
    "회원번호: {0}\n",
    "이름: {1}\n",
    "이메일 : {2}\n",
    "\n",
    "{0}고객,\n",
    "\n",
    "이번 달 고지서 보내다.\n",
    "감사.\n",
    "\n",
    "인공지능 드림\n",
    "'''\n",
    "\n",
    "for index, row in df.iterrows():\n",
    "    receiver = (row['이름'], row['이메일'])\n",
    "    fname = f'고지서_{index}_202104.pdf'\n",
    "    if not row['메일수신동의'] == 'T':  #메일수신동의를 하지 않으면 보내지 않는다\n",
    "        continue\n",
    "    #if not os.path.exists(attach_files[0]):  #첨부 파일이 없으면 메일을 보내지 않는다\n",
    "    #    continue\n",
    "    msg = message_fmt.format(index, row['이름'], row['이메일'])\n",
    "    attach_files = [fname]\n",
    "    print(receiver, attach_files)\n",
    "    #print(msg)\n",
    "    send_email(sender, [receiver], subject, msg, attach_files, passwd= 'hammers3577')\n",
    "    print(\"Email Send Completed!\")"
   ]
  },
  {
   "cell_type": "code",
   "execution_count": null,
   "id": "16b40744",
   "metadata": {},
   "outputs": [],
   "source": []
  }
 ],
 "metadata": {
  "kernelspec": {
   "display_name": "Python 3",
   "language": "python",
   "name": "python3"
  },
  "language_info": {
   "codemirror_mode": {
    "name": "ipython",
    "version": 3
   },
   "file_extension": ".py",
   "mimetype": "text/x-python",
   "name": "python",
   "nbconvert_exporter": "python",
   "pygments_lexer": "ipython3",
   "version": "3.7.10"
  },
  "toc": {
   "base_numbering": 1,
   "nav_menu": {},
   "number_sections": true,
   "sideBar": true,
   "skip_h1_title": false,
   "title_cell": "Table of Contents",
   "title_sidebar": "Contents",
   "toc_cell": false,
   "toc_position": {},
   "toc_section_display": true,
   "toc_window_display": false
  }
 },
 "nbformat": 4,
 "nbformat_minor": 5
}
