{
 "cells": [
  {
   "cell_type": "markdown",
   "id": "f13c90a5",
   "metadata": {},
   "source": [
    "# 객체지향과 예외처리"
   ]
  },
  {
   "cell_type": "code",
   "execution_count": null,
   "id": "stone-haven",
   "metadata": {
    "ExecuteTime": {
     "end_time": "2021-06-05T02:40:11.184919Z",
     "start_time": "2021-06-05T02:40:11.166682Z"
    }
   },
   "outputs": [],
   "source": [
    "names = [\"Messi\", \"Ramos\", \"Ronaldo\", \"Park\", \"Buffon\"]\n",
    "positions = [\"MF\", \"DF\", \"CF\", \"WF\", \"GK\"]\n",
    "numbers = [10, 4, 7, 13, 1]\n",
    "\n",
    "class SoccerPlayer(object):\n",
    "    def __init__(self, name, position, back_number):\n",
    "        self.name = name\n",
    "        self.position = position\n",
    "        self.back_number = back_number\n",
    "    def change_back_number(self, new_number):\n",
    "        print(\"선수의 등 번호를 변경한다: From %d to %d\" % (self.back_number, new_number))\n",
    "        self.back_number = new_number\n",
    "    def __str__(self ):\n",
    "        return \"Hello, My name is %s. I play in %s in center.\" % (self.name, self.position)\n",
    "# 클래스-인스턴스\n",
    "\n",
    "player_objects = [SoccerPlayer(name, position, number) for name, position, number in zip(names, positions, \n",
    "numbers)]\n",
    "print(player_objects[4])"
   ]
  },
  {
   "cell_type": "code",
   "execution_count": null,
   "id": "outside-armstrong",
   "metadata": {
    "ExecuteTime": {
     "end_time": "2021-06-05T02:40:16.516986Z",
     "start_time": "2021-06-05T02:40:16.494131Z"
    }
   },
   "outputs": [],
   "source": [
    "class A:\n",
    "    def __new__(cls): #상속받은 부모의 스페셜 메서드를 명시적으로 재정의함(객체 생성시 호출)\n",
    "        print(\"A.__new__is called\") #-> this is never called\n",
    "    \n",
    "a1 = A() #객체 생성\n",
    "\n",
    "class A:\n",
    "    #상속받은 부모의 스페셜 메서드를 명시적으로 재정의함(생성된 객체의 멤버필드 초기화)\n",
    "    def __init__(self):\n",
    "        print(\"A.__init__ called\")\n",
    "        \n",
    "a2 = A() #객체 생서\n",
    "\n",
    "class A(object):\n",
    "    def __new__(cls):\n",
    "        print(\"A.__new__ called\")\n",
    "        return super(A, cls).__new__(cls)\n",
    "    \n",
    "    def __init__(self):\n",
    "        print(\"A.__init__ called\")\n",
    "        \n",
    "a3 = A()"
   ]
  },
  {
   "cell_type": "code",
   "execution_count": null,
   "id": "molecular-terminal",
   "metadata": {
    "ExecuteTime": {
     "end_time": "2021-06-05T02:40:48.674885Z",
     "start_time": "2021-06-05T02:40:48.669507Z"
    }
   },
   "outputs": [],
   "source": [
    "print(a2)"
   ]
  },
  {
   "cell_type": "code",
   "execution_count": null,
   "id": "significant-shooting",
   "metadata": {
    "ExecuteTime": {
     "end_time": "2021-06-05T02:40:49.914395Z",
     "start_time": "2021-06-05T02:40:49.895539Z"
    }
   },
   "outputs": [],
   "source": [
    "print(a1)"
   ]
  },
  {
   "cell_type": "code",
   "execution_count": null,
   "id": "exclusive-deployment",
   "metadata": {
    "ExecuteTime": {
     "end_time": "2021-06-05T02:40:50.741984Z",
     "start_time": "2021-06-05T02:40:50.722710Z"
    }
   },
   "outputs": [],
   "source": [
    "print(a3)"
   ]
  },
  {
   "cell_type": "code",
   "execution_count": null,
   "id": "radical-farmer",
   "metadata": {
    "ExecuteTime": {
     "end_time": "2021-06-05T02:40:51.812649Z",
     "start_time": "2021-06-05T02:40:51.742744Z"
    }
   },
   "outputs": [],
   "source": [
    "class HashPrivate:\n",
    "    def __init__(self ):\n",
    "        self.public = \"Public\"\n",
    "        self.__private = \"Private\" #클래스 내부에서만 access 허용, 클래스 외부에서는 access 허용하지 않음\n",
    "    def print_from_internal(self ):\n",
    "        print(self.public)\n",
    "        print(self.__private)\n",
    "    \n",
    "    \n",
    "obj = HashPrivate() #객체 생성\n",
    "obj. print_from_internal() #__private 변수의 값이 출력됨\n",
    "print(obj.public)\n",
    "print(obj.__private) #오류 발생"
   ]
  },
  {
   "cell_type": "code",
   "execution_count": null,
   "id": "cellular-circuit",
   "metadata": {
    "ExecuteTime": {
     "end_time": "2021-06-05T02:41:21.671255Z",
     "start_time": "2021-06-05T02:41:21.655085Z"
    }
   },
   "outputs": [],
   "source": [
    "class A: #부모클래스\n",
    "    def __init__(self):\n",
    "        print(\"A.__init__()\")\n",
    "        self.message = \"Made in A\"\n",
    "        \n",
    "class B(A):\n",
    "    def __init__(self ): #message 필드를 선언하고 초기화 하지 않아도 부모로부터 상속받음\n",
    "        #A.__init__(self)\n",
    "        print(\"B.__init__()\")\n",
    "        \n",
    "obj = B()\n",
    "print(obj.message)"
   ]
  },
  {
   "cell_type": "code",
   "execution_count": null,
   "id": "pursuant-porcelain",
   "metadata": {
    "ExecuteTime": {
     "end_time": "2021-06-05T02:41:24.325107Z",
     "start_time": "2021-06-05T02:41:24.310266Z"
    }
   },
   "outputs": [],
   "source": [
    "class A :\n",
    "    def __init__(self ):\n",
    "        print(\"A.__init__()\")\n",
    "        self.message = \"Made in A\"\n",
    "\n",
    "class B(A) :\n",
    "    def __init__(self ): \n",
    "        print(\"B.__init__()\") \n",
    "        super().__init__()\n",
    "        print(\"self.message is \" + self.message)\n",
    "\n",
    "obj = B()"
   ]
  },
  {
   "cell_type": "code",
   "execution_count": null,
   "id": "naked-lucas",
   "metadata": {
    "ExecuteTime": {
     "end_time": "2021-06-05T02:41:25.128789Z",
     "start_time": "2021-06-05T02:41:25.112915Z"
    }
   },
   "outputs": [],
   "source": [
    "class A:\n",
    "    def info(self):\n",
    "        print(\"A.info() called\")\n",
    "    \n",
    "class B:\n",
    "    def info(self):\n",
    "        print(\"B.info() called\")\n",
    "        \n",
    "class C:\n",
    "    def info(self):\n",
    "        print(\"C.info() called\")\n",
    "        \n",
    "class D(A, B, C):\n",
    "    #pass\n",
    "    def info(self): #override한 메서드\n",
    "        super().info()\n",
    "        print(\"D.info() called\")\n",
    "\n",
    "d = D() #객체 생성\n",
    "d.info() #메서드 호출"
   ]
  },
  {
   "cell_type": "code",
   "execution_count": null,
   "id": "technological-harvard",
   "metadata": {
    "ExecuteTime": {
     "end_time": "2021-06-05T02:41:25.872491Z",
     "start_time": "2021-06-05T02:41:25.856447Z"
    }
   },
   "outputs": [],
   "source": [
    "class Note(object):\n",
    "    def __init__(self, contents):\n",
    "        self.contents = contents\n",
    "        \n",
    "    def get_number_of_lines(self):\n",
    "        return self.contents.count(\"\\n\")\n",
    "    \n",
    "    def get_number_of_characters(self):\n",
    "        return len(self.contents)\n",
    "    \n",
    "    def remove(self):\n",
    "        self.contents = \"삭제된 노트입니다.\"\n",
    "        \n",
    "    def __str__(self):\n",
    "        return self.contents"
   ]
  },
  {
   "cell_type": "code",
   "execution_count": null,
   "id": "polar-renewal",
   "metadata": {
    "ExecuteTime": {
     "end_time": "2021-06-05T02:41:26.888803Z",
     "start_time": "2021-06-05T02:41:26.881241Z"
    }
   },
   "outputs": [],
   "source": [
    "note = Note(\"2021년 3월 22일 - it일기 : 너무 어렵고 딱딱하다\")"
   ]
  },
  {
   "cell_type": "code",
   "execution_count": null,
   "id": "sticky-westminster",
   "metadata": {
    "ExecuteTime": {
     "end_time": "2021-06-05T02:41:28.129787Z",
     "start_time": "2021-06-05T02:41:28.117275Z"
    }
   },
   "outputs": [],
   "source": [
    "print(note)"
   ]
  },
  {
   "cell_type": "code",
   "execution_count": null,
   "id": "pointed-local",
   "metadata": {
    "ExecuteTime": {
     "end_time": "2021-06-05T02:41:30.061050Z",
     "start_time": "2021-06-05T02:41:30.046338Z"
    }
   },
   "outputs": [],
   "source": [
    "print(note.get_number_of_lines())\n",
    "print(note.get_number_of_characters())\n",
    "print(note.contents)\n",
    "note.remove()\n",
    "print(note.contents)\n",
    "print(note) #print(note.__str__())와 동일"
   ]
  },
  {
   "cell_type": "code",
   "execution_count": null,
   "id": "incomplete-montreal",
   "metadata": {
    "ExecuteTime": {
     "end_time": "2021-06-05T02:41:31.307286Z",
     "start_time": "2021-06-05T02:41:31.291276Z"
    }
   },
   "outputs": [],
   "source": [
    "class Note(object):\n",
    "    def __init__(self, contents):\n",
    "        self.contents = contents\n",
    "\n",
    "    def get_number_of_lines(self):\n",
    "        return self.contents.count(\"\\n\")\n",
    "\n",
    "    def get_number_of_characters(self):\n",
    "        return len(self.contents)\n",
    "\n",
    "    def remove(self):\n",
    "        self.contents = \"삭제된 노트입니다.\"\n",
    "\n",
    "    def __str__(self):\n",
    "        return self.contents\n",
    "\n",
    "if __name__ =='__main__' :\t#이 클래스가 메인일 때만 실행하는 테스트 코드\n",
    "    note = Note(\"2021년3월22일 - it일기 : 너무 어렵고 딱딱하다\")\n",
    "    print(note)  #print(note.__str__()) 와 동일\n",
    "    print(note.get_number_of_lines())\n",
    "    print(note.get_number_of_characters())\n",
    "    print(note.contents)\n",
    "    note.remove()\n",
    "    print(note.contents)\n",
    "    print(note)  #print(note.__str__()) 와 동일"
   ]
  },
  {
   "cell_type": "code",
   "execution_count": null,
   "id": "voluntary-humanitarian",
   "metadata": {
    "ExecuteTime": {
     "end_time": "2021-06-05T02:41:32.150544Z",
     "start_time": "2021-06-05T02:41:32.123674Z"
    }
   },
   "outputs": [],
   "source": [
    "class NoteBook(object):\n",
    "    def __init__(self, name):\n",
    "        self.name = name\n",
    "        self.pages = 0\n",
    "        self.notes = {}\n",
    "\n",
    "    def add_note(self, note, page_number=0):\n",
    "        if len(self.notes.keys()) < 300:       #페이지수가 300미만인경우\n",
    "            if page_number == 0:             #페이지번호가 인수로 전달된 경우가 아니면 \n",
    "                if self.pages < 301:            #마지막 저장된 페이지의 다음 페이지에 저장\n",
    "                    self.notes[self.pages] = note\n",
    "                    self.pages += 1\n",
    "                else:\n",
    "                   #저장된 페이지수가 300이면 내부에 삭제된 페이지를 찾아서 저장함\n",
    "                    for i in range(300):    \n",
    "                        if i not in list(self.notes.keys()):\n",
    "                            self.notes[self.pages] = note\n",
    "            else:    #note객체와 페이지번호가 함께 전달되어 온 경우\n",
    "                #전달된 페이지 번호에 저장된 note가 없으며....\n",
    "                if page_number not in self.notes.keys():   \n",
    "                    self.notes[page_number] = note\n",
    "                else:     \n",
    "                    print(\"해당 페이지에는 이미 노트가 존재합니다.\")\n",
    "        else:   #페이지수가 300  초과하고 삭제된 페이지도 없는 경우\n",
    "            print(\"더 이상 노트를 추가하지 못합니다.\")\n",
    "\n",
    "    def remove_note(self, page_number):\n",
    "        del self.notes[page_number]\n",
    "\n",
    "    def get_number_of_all_lines(self):\n",
    "        result = 0\n",
    "        for k in self.notes.keys():\n",
    "            result += self.notes[k].get_number_of_lines()\n",
    "        return result\n",
    "\n",
    "    def get_number_of_all_characters(self):\n",
    "        result = 0\n",
    "        for k in self.notes.keys():\n",
    "            result += self.notes[k].get_number_of_characters()\n",
    "        return result\n",
    "\n",
    "    def get_number_of_all_pages(self):\n",
    "        return len(self.notes.keys())\n",
    "\n",
    "    def __str__(self):\n",
    "        return self.name"
   ]
  },
  {
   "cell_type": "code",
   "execution_count": null,
   "id": "restricted-security",
   "metadata": {
    "ExecuteTime": {
     "end_time": "2021-06-05T02:41:38.686124Z",
     "start_time": "2021-06-05T02:41:38.659242Z"
    }
   },
   "outputs": [],
   "source": [
    "good_sentence = \"\"\"세상사는 데 도움이 되는 명언, 힘이 되는 명언, 용기를 주는 명언, 위로가 \n",
    "되는 명언, 좋은 명언 모음 100가지. 자주 보면 좋을 것 같아서 선별했습니다.\"\"\"\n",
    "note_1 = Note(good_sentence)\n",
    "\n",
    "print(note_1)\n",
    "note_1.remove()\n",
    "print(note_1)\n",
    "\n",
    "\n",
    "good_sentence = \"\"\"삶이 있는 한 희망은 있다. - 키케로 \"\"\"\n",
    "note_2 = Note(good_sentence)\n",
    "\n",
    "good_sentence = \"\"\"하루에 3시간을 걸으면 7년 후에 지구를 한 바퀴 돌 수 있다. - 사무엘 존슨\"\"\"\n",
    "note_3 = Note(good_sentence)\n",
    "\n",
    "good_sentence = \"\"\"행복의 문이 하나 닫히면 다른 문이 열린다. \n",
    "그러나 우리는 종종 닫힌 문을 멍하니 바라보다가 우리를 향해 열린 문을 보지 못하게 된다. - 헬렌 켈러\"\"\"\n",
    "note_4 = Note(good_sentence)\n",
    "\n",
    "\n",
    "wise_saying_notebook = NoteBook(\"명언 노트\")\n",
    "wise_saying_notebook.add_note(note_1)\n",
    "print(wise_saying_notebook.get_number_of_all_pages())\n",
    "\n",
    "wise_saying_notebook.add_note(note_2)\n",
    "print(wise_saying_notebook.get_number_of_all_pages())\n",
    "\n",
    "wise_saying_notebook.add_note(note_3)\n",
    "wise_saying_notebook.add_note(note_4)\n",
    "print(wise_saying_notebook.get_number_of_all_pages())\n",
    "print(wise_saying_notebook.get_number_of_all_characters())\n",
    "\n",
    "\n",
    "wise_saying_notebook.remove_note(3)\n",
    "print(wise_saying_notebook.get_number_of_all_pages())\n",
    "\n",
    "\n",
    "wise_saying_notebook.add_note(note_1, 100)\n",
    "wise_saying_notebook.add_note(note_1, 100)  #\n",
    "\n",
    "for i in range(300):\n",
    "    wise_saying_notebook.add_note(note_1, i)\n",
    "\n",
    "print(wise_saying_notebook.get_number_of_all_pages())\n",
    "\n",
    "wise_saying_notebook.add_note(note_1)\n",
    "wise_saying_notebook.add_note(note_1)"
   ]
  },
  {
   "cell_type": "code",
   "execution_count": null,
   "id": "comparative-attention",
   "metadata": {
    "ExecuteTime": {
     "end_time": "2021-06-05T02:43:29.010052Z",
     "start_time": "2021-06-05T02:43:28.989250Z"
    }
   },
   "outputs": [],
   "source": [
    "import notebook \n",
    "\n",
    "good_sentence = \"\"\"세상사는 데 도움이 되는 명언, 힘이 되는 명언, 용기를 주는 명언, 위로가 \n",
    "되는 명언, 좋은 명언 모음 100가지. 자주 보면 좋을 것 같아서 선별했습니다.\"\"\"\n",
    "note_1 = Note(good_sentence)\n",
    "\n",
    "print(note_1)\n",
    "note_1.remove()\n",
    "print(note_1)\n",
    "\n",
    "\n",
    "good_sentence = \"\"\"삶이 있는 한 희망은 있다. - 키케로 \"\"\"\n",
    "note_2 = Note(good_sentence)\n",
    "\n",
    "good_sentence = \"\"\"하루에 3시간을 걸으면 7년 후에 지구를 한 바퀴 돌 수 있다. - 사무엘 존슨\"\"\"\n",
    "note_3 = Note(good_sentence)\n",
    "\n",
    "good_sentence = \"\"\"행복의 문이 하나 닫히면 다른 문이 열린다. \n",
    "그러나 우리는 종종 닫힌 문을 멍하니 바라보다가 우리를 향해 열린 문을 보지 못하게 된다. - 헬렌 켈러\"\"\"\n",
    "note_4 = Note(good_sentence)\n",
    "\n",
    "\n",
    "wise_saying_notebook = NoteBook(\"명언 노트\")\n",
    "wise_saying_notebook.add_note(note_1)\n",
    "print(wise_saying_notebook.get_number_of_all_pages())\n",
    "\n",
    "wise_saying_notebook.add_note(note_2)\n",
    "print(wise_saying_notebook.get_number_of_all_pages())\n",
    "\n",
    "wise_saying_notebook.add_note(note_3)\n",
    "wise_saying_notebook.add_note(note_4)\n",
    "print(wise_saying_notebook.get_number_of_all_pages())\n",
    "print(wise_saying_notebook.get_number_of_all_characters())\n",
    "\n",
    "\n",
    "wise_saying_notebook.remove_note(3)\n",
    "print(wise_saying_notebook.get_number_of_all_pages())\n",
    "\n",
    "\n",
    "wise_saying_notebook.add_note(note_1, 100)\n",
    "wise_saying_notebook.add_note(note_1, 100) \n",
    "\n",
    "for i in range(300):\n",
    "    wise_saying_notebook.add_note(note_1, i)\n",
    "\n",
    "print(wise_saying_notebook.get_number_of_all_pages())\n",
    "\n",
    "wise_saying_notebook.add_note(note_1)\n",
    "wise_saying_notebook.add_note(note_1)"
   ]
  },
  {
   "cell_type": "code",
   "execution_count": null,
   "id": "aerial-latvia",
   "metadata": {
    "ExecuteTime": {
     "end_time": "2021-06-05T02:41:52.824673Z",
     "start_time": "2021-06-05T02:41:52.808669Z"
    }
   },
   "outputs": [],
   "source": [
    "for i in range(10):\n",
    "    try:\n",
    "        print(10 / i)\n",
    "    except ZeroDivisionError:\n",
    "        print(\"Not divided by 0\")"
   ]
  },
  {
   "cell_type": "code",
   "execution_count": null,
   "id": "thrown-option",
   "metadata": {
    "ExecuteTime": {
     "end_time": "2021-06-05T02:41:53.580652Z",
     "start_time": "2021-06-05T02:41:53.551499Z"
    }
   },
   "outputs": [],
   "source": [
    "for i in range(10):\n",
    "    try:\n",
    "        print(10 / i)\n",
    "    except ZeroDivisionError:\n",
    "        print(\"Not divided by 0\")\n",
    "    else:\n",
    "        print(\"End!! Bye~!\")\n",
    "        "
   ]
  },
  {
   "cell_type": "code",
   "execution_count": null,
   "id": "adaptive-mediterranean",
   "metadata": {
    "ExecuteTime": {
     "end_time": "2021-06-05T02:43:42.718830Z",
     "start_time": "2021-06-05T02:43:42.697884Z"
    }
   },
   "outputs": [],
   "source": [
    "for i in range(1, 11):\n",
    "    try:\n",
    "        print(10 / i)\n",
    "    except ZeroDivisionError:\n",
    "        print(\"Not divided by 0\")\n",
    "    else:\n",
    "        print(\"End!! Bye~!\")"
   ]
  },
  {
   "cell_type": "code",
   "execution_count": null,
   "id": "relative-messaging",
   "metadata": {
    "ExecuteTime": {
     "start_time": "2021-06-05T02:47:55.457Z"
    }
   },
   "outputs": [],
   "source": [
    "while False:\n",
    "    value = input(\"변환할 정수값을 입력해 주세요: \")\n",
    "    for digit in value:\n",
    "        if digit not in \"0123456789\":\n",
    "            raise ValueError(\"숫자값을 입력하지 않았습니다.\")\n",
    "    print(\"정수값으로 변환된 숫자 -\", int(value))"
   ]
  },
  {
   "cell_type": "code",
   "execution_count": 2,
   "id": "metric-aaron",
   "metadata": {
    "ExecuteTime": {
     "end_time": "2021-06-05T02:48:22.397977Z",
     "start_time": "2021-06-05T02:48:22.377825Z"
    }
   },
   "outputs": [
    {
     "name": "stdout",
     "output_type": "stream",
     "text": [
      "키의 측정값이 140보다 작습니다 작년도 키 평균으로 보정함\n",
      "키의 측정값이 170보다 큽니다 작년도 키 평균으로 보정함\n",
      "2021년 중학생 평균 키값은 : 160.46153846153845 cm\n"
     ]
    }
   ],
   "source": [
    "#사용자 정의 예외클래스: OutlierError\n",
    "#중학생키 측정값[145,155.5,160.5,170,162,158,128,195,170,160,163,164,157]\n",
    "# 중힉셍 키값의 범위 140~170를 넘어선 값은 OutlierError발생시킨 후 OutlierError의 멤버필드로 \n",
    "# 저장된 작년도 중학생키의 평균값으로 대체한 다음 올해의 중학생 평균키값 계산합니다.\n",
    "class OutlierError(Exception):\n",
    "    def __init__(self,message):\n",
    "        self.oldValue = 160.5\n",
    "        self.message = message\n",
    "    def __str__(self):\n",
    "        return '키의 측정값의 범위에 해당하지 않습니다. 작년도 값으로 보정합니다.'\n",
    "\n",
    "def check_tall_range(tall):\n",
    "    if tall>170:\n",
    "        raise OutlierError('키의 측정값이 170보다 큽니다')\n",
    "    elif tall<140:\n",
    "        raise OutlierError('키의 측정값이 140보다 작습니다')\n",
    "    \n",
    "def average_tall(talls):\n",
    "    hap=0\n",
    "    for t in talls:\n",
    "        hap+=t\n",
    "    return hap/len(talls)\n",
    "    \n",
    "middle_talls=[145,155.5,160.5,170,162,158,128,195,170,160,163,164,157]\n",
    "for idx, t in enumerate(middle_talls):\n",
    "    try:\n",
    "        check_tall_range(t)\n",
    "    except OutlierError as o:\n",
    "        middle_talls[idx] = o.oldValue\n",
    "        print(o.message, '작년도 키 평균으로 보정함')\n",
    "\n",
    "print('2021년 중학생 평균 키값은 :', average_tall(middle_talls),'cm')"
   ]
  },
  {
   "cell_type": "code",
   "execution_count": null,
   "id": "handmade-hindu",
   "metadata": {},
   "outputs": [],
   "source": []
  }
 ],
 "metadata": {
  "kernelspec": {
   "display_name": "Python 3",
   "language": "python",
   "name": "python3"
  },
  "language_info": {
   "codemirror_mode": {
    "name": "ipython",
    "version": 3
   },
   "file_extension": ".py",
   "mimetype": "text/x-python",
   "name": "python",
   "nbconvert_exporter": "python",
   "pygments_lexer": "ipython3",
   "version": "3.7.10"
  },
  "toc": {
   "base_numbering": 1,
   "nav_menu": {},
   "number_sections": true,
   "sideBar": true,
   "skip_h1_title": false,
   "title_cell": "Table of Contents",
   "title_sidebar": "Contents",
   "toc_cell": false,
   "toc_position": {},
   "toc_section_display": true,
   "toc_window_display": false
  }
 },
 "nbformat": 4,
 "nbformat_minor": 5
}
