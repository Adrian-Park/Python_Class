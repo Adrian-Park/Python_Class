{
 "cells": [
  {
   "cell_type": "markdown",
   "id": "b65a13a7",
   "metadata": {},
   "source": [
    "# 파일 폴더 관리 자동화"
   ]
  },
  {
   "cell_type": "code",
   "execution_count": 9,
   "id": "c76f4a7a",
   "metadata": {
    "ExecuteTime": {
     "end_time": "2021-04-16T01:06:08.329523Z",
     "start_time": "2021-04-16T01:06:08.311510Z"
    }
   },
   "outputs": [
    {
     "data": {
      "text/plain": [
       "['C:\\\\Windows\\\\bfsvc.exe',\n",
       " 'C:\\\\Windows\\\\explorer.exe',\n",
       " 'C:\\\\Windows\\\\HelpPane.exe',\n",
       " 'C:\\\\Windows\\\\hh.exe',\n",
       " 'C:\\\\Windows\\\\notepad.exe',\n",
       " 'C:\\\\Windows\\\\py.exe',\n",
       " 'C:\\\\Windows\\\\pyw.exe',\n",
       " 'C:\\\\Windows\\\\regedit.exe',\n",
       " 'C:\\\\Windows\\\\splwow64.exe',\n",
       " 'C:\\\\Windows\\\\winhlp32.exe',\n",
       " 'C:\\\\Windows\\\\write.exe']"
      ]
     },
     "execution_count": 9,
     "metadata": {},
     "output_type": "execute_result"
    }
   ],
   "source": [
    "import glob\n",
    "\n",
    "glob.glob(\"C:\\\\Windows\\\\*.exe\")"
   ]
  },
  {
   "cell_type": "code",
   "execution_count": 8,
   "id": "71ae9284",
   "metadata": {
    "ExecuteTime": {
     "end_time": "2021-04-16T01:05:59.956553Z",
     "start_time": "2021-04-16T01:05:59.944550Z"
    }
   },
   "outputs": [
    {
     "data": {
      "text/plain": [
       "['C:\\\\Windows\\\\bfsvc.exe',\n",
       " 'C:\\\\Windows\\\\bootstat.dat',\n",
       " 'C:\\\\Windows\\\\Core.xml',\n",
       " 'C:\\\\Windows\\\\CoreSingleLanguage.xml',\n",
       " 'C:\\\\Windows\\\\csup.txt']"
      ]
     },
     "execution_count": 8,
     "metadata": {},
     "output_type": "execute_result"
    }
   ],
   "source": [
    "glob.glob('C:\\\\Windows\\\\[bc]*.*') # b혹은 c로 시작하는 파일들"
   ]
  },
  {
   "cell_type": "code",
   "execution_count": 10,
   "id": "5106a749",
   "metadata": {
    "ExecuteTime": {
     "end_time": "2021-04-16T01:06:16.743412Z",
     "start_time": "2021-04-16T01:06:16.725419Z"
    }
   },
   "outputs": [
    {
     "data": {
      "text/plain": [
       "['C:\\\\Windows\\\\hh.exe', 'C:\\\\Windows\\\\py.exe']"
      ]
     },
     "execution_count": 10,
     "metadata": {},
     "output_type": "execute_result"
    }
   ],
   "source": [
    "glob.glob('C:\\\\Windows\\\\??.exe')"
   ]
  },
  {
   "cell_type": "code",
   "execution_count": 12,
   "id": "4f77679d",
   "metadata": {
    "ExecuteTime": {
     "end_time": "2021-04-16T01:10:02.579855Z",
     "start_time": "2021-04-16T01:10:02.563854Z"
    }
   },
   "outputs": [
    {
     "name": "stdout",
     "output_type": "stream",
     "text": [
      "basic\n",
      "creobjects.sql\n",
      "project\n",
      "roboadvisor\n",
      "scott_schema.sql\n"
     ]
    }
   ],
   "source": [
    "import os\n",
    "\n",
    "for fname in os.listdir('c:\\\\workspace'):\n",
    "    print(fname)"
   ]
  },
  {
   "cell_type": "code",
   "execution_count": 24,
   "id": "c357829c",
   "metadata": {
    "ExecuteTime": {
     "end_time": "2021-04-16T01:13:52.602560Z",
     "start_time": "2021-04-16T01:13:52.591558Z"
    }
   },
   "outputs": [
    {
     "name": "stdout",
     "output_type": "stream",
     "text": [
      "dirs= ['.ipynb_checkpoints', 'img', 'log', 'phantom', '__pycache__']\n",
      "------------------------------------------------------------\n",
      "dirs= []\n",
      "------------------------------------------------------------\n",
      "dirs= []\n",
      "------------------------------------------------------------\n",
      "dirs= []\n",
      "------------------------------------------------------------\n",
      "dirs= ['bin', 'examples']\n",
      "------------------------------------------------------------\n",
      "dirs= []\n",
      "------------------------------------------------------------\n",
      "dirs= []\n",
      "------------------------------------------------------------\n",
      "dirs= []\n",
      "------------------------------------------------------------\n"
     ]
    }
   ],
   "source": [
    "for (curdir, dirs, files) in os.walk('.'): # (방문 디렉터리 경로, 디렉터리 목록, 파일 목록)\n",
    "    #print('curdir=', curdir) # 현재 방문 중인 디렉터리\n",
    "    #print('dirs=', dirs[: ]) # 디렉터리 이름들, 지면 관계상 2개까지만\n",
    "    #print('files=', files[:]) # 파일 이름들, 지면 관계상 2개까지만\n",
    "    #print('-'*60)"
   ]
  },
  {
   "cell_type": "code",
   "execution_count": 35,
   "id": "0d570e15",
   "metadata": {
    "ExecuteTime": {
     "end_time": "2021-04-16T01:21:08.333045Z",
     "start_time": "2021-04-16T01:21:08.318043Z"
    }
   },
   "outputs": [
    {
     "data": {
      "text/plain": [
       "True"
      ]
     },
     "execution_count": 35,
     "metadata": {},
     "output_type": "execute_result"
    }
   ],
   "source": [
    "import os\n",
    "\n",
    "fpath = 'C:\\\\Windows\\\\notepad.exe'\n",
    "#os.path.isfile(fpath)  #일반 파일인지 검사\n",
    "#os.path.isdir(fpath)   #디렉터리인지 검사\n",
    "#os.path.exists(fpath) #주어진 경로의 파일이 존재하는지 검사\n",
    "#print(os.path.getsize(fpath), 'bytes') #파일의 크기를 얻음\n",
    "#print(os.path.getsize(fpath)/1000, 'Kbytes') #파일의 크기를 얻음\n",
    "#os.access(fpath, os.X_OK) #파일의 실행 권한을 확인"
   ]
  },
  {
   "cell_type": "code",
   "execution_count": 38,
   "id": "9cc2608e",
   "metadata": {
    "ExecuteTime": {
     "end_time": "2021-04-16T01:23:39.659296Z",
     "start_time": "2021-04-16T01:23:39.642281Z"
    }
   },
   "outputs": [
    {
     "data": {
      "text/plain": [
       "1616325880.4188123"
      ]
     },
     "execution_count": 38,
     "metadata": {},
     "output_type": "execute_result"
    }
   ],
   "source": [
    "import os\n",
    "#UTC 기준 (1970년 1월 1일 0시)으로 second(초)\n",
    "#os.path.getctime(fpath) #파일 생성시간\n",
    "#os.path.getmtime(fpath) #파일 수정시간\n",
    "#os.path.getatime(fpath) #파일 접근시간"
   ]
  },
  {
   "cell_type": "code",
   "execution_count": 42,
   "id": "225d7ed2",
   "metadata": {
    "ExecuteTime": {
     "end_time": "2021-04-16T01:40:01.884006Z",
     "start_time": "2021-04-16T01:40:01.871006Z"
    }
   },
   "outputs": [
    {
     "name": "stdout",
     "output_type": "stream",
     "text": [
      "2021-03-21 20:24:40.418812\n"
     ]
    }
   ],
   "source": [
    "from datetime import datetime\n",
    "d = datetime.fromtimestamp(1616325880.4188123)\n",
    "print(d)"
   ]
  },
  {
   "cell_type": "code",
   "execution_count": 43,
   "id": "98b3be4d",
   "metadata": {
    "ExecuteTime": {
     "end_time": "2021-04-16T01:40:28.320486Z",
     "start_time": "2021-04-16T01:40:28.303472Z"
    }
   },
   "outputs": [
    {
     "data": {
      "text/plain": [
       "'2021-03-21 20:24:40'"
      ]
     },
     "execution_count": 43,
     "metadata": {},
     "output_type": "execute_result"
    }
   ],
   "source": [
    "d.strftime('%Y-%m-%d %H:%M:%S')"
   ]
  },
  {
   "cell_type": "code",
   "execution_count": 46,
   "id": "ed23daf7",
   "metadata": {
    "ExecuteTime": {
     "end_time": "2021-04-16T01:41:37.472517Z",
     "start_time": "2021-04-16T01:41:37.457519Z"
    }
   },
   "outputs": [
    {
     "name": "stdout",
     "output_type": "stream",
     "text": [
      "1617767514.3130188 2021-04-07 12:51:54.313019\n"
     ]
    }
   ],
   "source": [
    "mtime = os.path.getmtime('alice_mask.png')\n",
    "print(mtime, datetime.fromtimestamp(mtime))"
   ]
  },
  {
   "cell_type": "code",
   "execution_count": 47,
   "id": "d117d267",
   "metadata": {
    "ExecuteTime": {
     "end_time": "2021-04-16T01:42:03.964472Z",
     "start_time": "2021-04-16T01:42:03.958485Z"
    }
   },
   "outputs": [
    {
     "name": "stdout",
     "output_type": "stream",
     "text": [
      "1617767514.3130188 2021-04-07 12:51:54.313019\n"
     ]
    }
   ],
   "source": [
    "atime = os.path.getatime('alice_mask.png')\n",
    "print(atime, datetime.fromtimestamp(atime))"
   ]
  },
  {
   "cell_type": "code",
   "execution_count": 48,
   "id": "c5ee087b",
   "metadata": {
    "ExecuteTime": {
     "end_time": "2021-04-16T01:43:50.416909Z",
     "start_time": "2021-04-16T01:43:50.406883Z"
    }
   },
   "outputs": [
    {
     "name": "stdout",
     "output_type": "stream",
     "text": [
      "1617763914.3130188 2021-04-07 11:51:54.313019\n",
      "1617767514.3130188 2021-04-07 12:51:54.313019\n"
     ]
    }
   ],
   "source": [
    "os.utime('alice_mask.png', (atime, mtime-60*60))\n",
    "mtime = os.path.getmtime('alice_mask.png')\n",
    "print(mtime, datetime.fromtimestamp(mtime))\n",
    "atime = os.path.getatime('alice_mask.png')\n",
    "print(atime, datetime.fromtimestamp(atime))"
   ]
  },
  {
   "cell_type": "code",
   "execution_count": 50,
   "id": "97b1d27b",
   "metadata": {
    "ExecuteTime": {
     "end_time": "2021-04-16T01:44:46.311143Z",
     "start_time": "2021-04-16T01:44:46.288127Z"
    }
   },
   "outputs": [
    {
     "name": "stdout",
     "output_type": "stream",
     "text": [
      "1611604800.0 2021-01-26 05:00:00\n",
      "1611608400.0 2021-01-26 06:00:00\n"
     ]
    }
   ],
   "source": [
    "atime = mtime = datetime(year=2021, month=1, day=26, hour=6, minute=0, second = 0).timestamp()\n",
    "os.utime('alice_mask.png', (atime, mtime-60*60))\n",
    "mtime = os.path.getmtime('alice_mask.png')\n",
    "print(mtime, datetime.fromtimestamp(mtime))\n",
    "atime = os.path.getatime('alice_mask.png')\n",
    "print(atime, datetime.fromtimestamp(atime))"
   ]
  },
  {
   "cell_type": "markdown",
   "id": "36339068",
   "metadata": {},
   "source": [
    "## 파일 이름 바꾸기"
   ]
  },
  {
   "cell_type": "code",
   "execution_count": 52,
   "id": "e2b9d695",
   "metadata": {
    "ExecuteTime": {
     "end_time": "2021-04-16T01:54:25.890418Z",
     "start_time": "2021-04-16T01:54:25.878414Z"
    }
   },
   "outputs": [],
   "source": [
    "import os\n",
    "os.rename('./img/cal_1.png', './datas/cal_1.png') #파일의 이동"
   ]
  },
  {
   "cell_type": "code",
   "execution_count": 55,
   "id": "031aebe6",
   "metadata": {
    "ExecuteTime": {
     "end_time": "2021-04-16T01:55:52.658889Z",
     "start_time": "2021-04-16T01:55:52.654739Z"
    }
   },
   "outputs": [],
   "source": [
    "os.rename('./img/cal_2.png', './img/btn02.png') #이름 변경"
   ]
  },
  {
   "cell_type": "code",
   "execution_count": 56,
   "id": "dedbdaad",
   "metadata": {
    "ExecuteTime": {
     "end_time": "2021-04-16T01:56:25.211228Z",
     "start_time": "2021-04-16T01:56:25.205227Z"
    }
   },
   "outputs": [],
   "source": [
    "os.remove('./datas/cal_1.png') #파일 삭제"
   ]
  },
  {
   "cell_type": "code",
   "execution_count": 57,
   "id": "3b3a8d12",
   "metadata": {
    "ExecuteTime": {
     "end_time": "2021-04-16T02:03:35.547641Z",
     "start_time": "2021-04-16T02:03:35.514617Z"
    }
   },
   "outputs": [
    {
     "data": {
      "text/plain": [
       "'./datas/cal_1.png'"
      ]
     },
     "execution_count": 57,
     "metadata": {},
     "output_type": "execute_result"
    }
   ],
   "source": [
    "import shutil\n",
    "shutil.copyfile('./img/cal_1.png', './datas/cal_1.png') #a.py를 b.py로 복사"
   ]
  },
  {
   "cell_type": "code",
   "execution_count": 58,
   "id": "21e685a1",
   "metadata": {
    "ExecuteTime": {
     "end_time": "2021-04-16T02:07:29.613748Z",
     "start_time": "2021-04-16T02:07:29.572731Z"
    }
   },
   "outputs": [
    {
     "data": {
      "text/plain": [
       "'./datas/btn02.png'"
      ]
     },
     "execution_count": 58,
     "metadata": {},
     "output_type": "execute_result"
    }
   ],
   "source": [
    "shutil.copy('./img/btn02.png', './datas/') #./img/btn02.png를 /datas 디렉터리로 복사"
   ]
  },
  {
   "cell_type": "code",
   "execution_count": 63,
   "id": "9cbaa0b5",
   "metadata": {
    "ExecuteTime": {
     "end_time": "2021-04-16T02:11:39.039040Z",
     "start_time": "2021-04-16T02:11:39.023049Z"
    }
   },
   "outputs": [
    {
     "data": {
      "text/plain": [
       "'./datas/img3'"
      ]
     },
     "execution_count": 63,
     "metadata": {},
     "output_type": "execute_result"
    }
   ],
   "source": [
    "shutil.copytree('./img/', './datas/img3') #img디렉터리를 datas 폴더 아래 img2 디렉터리명으로 통째로 통째로 복사"
   ]
  },
  {
   "cell_type": "code",
   "execution_count": 65,
   "id": "0b147a11",
   "metadata": {
    "ExecuteTime": {
     "end_time": "2021-04-16T02:13:37.705379Z",
     "start_time": "2021-04-16T02:13:37.698379Z"
    }
   },
   "outputs": [],
   "source": [
    "shutil.rmtree('./datas/img3') #디렉터리 통째로 삭제"
   ]
  },
  {
   "cell_type": "code",
   "execution_count": 67,
   "id": "dc991002",
   "metadata": {
    "ExecuteTime": {
     "end_time": "2021-04-16T02:13:58.251185Z",
     "start_time": "2021-04-16T02:13:58.229157Z"
    }
   },
   "outputs": [
    {
     "ename": "OSError",
     "evalue": "[WinError 145] 디렉터리가 비어 있지 않습니다: './datas/img2'",
     "output_type": "error",
     "traceback": [
      "\u001b[1;31m---------------------------------------------------------------------------\u001b[0m",
      "\u001b[1;31mOSError\u001b[0m                                   Traceback (most recent call last)",
      "\u001b[1;32m<ipython-input-67-24285de4cce7>\u001b[0m in \u001b[0;36m<module>\u001b[1;34m\u001b[0m\n\u001b[0;32m      1\u001b[0m \u001b[1;32mimport\u001b[0m \u001b[0mos\u001b[0m\u001b[1;33m\u001b[0m\u001b[1;33m\u001b[0m\u001b[0m\n\u001b[1;32m----> 2\u001b[1;33m \u001b[0mos\u001b[0m\u001b[1;33m.\u001b[0m\u001b[0mrmdir\u001b[0m\u001b[1;33m(\u001b[0m\u001b[1;34m'./datas/img2'\u001b[0m\u001b[1;33m)\u001b[0m\u001b[1;33m\u001b[0m\u001b[1;33m\u001b[0m\u001b[0m\n\u001b[0m",
      "\u001b[1;31mOSError\u001b[0m: [WinError 145] 디렉터리가 비어 있지 않습니다: './datas/img2'"
     ]
    }
   ],
   "source": [
    "os.rmdir('./datas/img2') #빈 디렉터리만 삭제됨 OSerror"
   ]
  },
  {
   "cell_type": "code",
   "execution_count": 69,
   "id": "fadf7982",
   "metadata": {
    "ExecuteTime": {
     "end_time": "2021-04-16T02:14:35.027959Z",
     "start_time": "2021-04-16T02:14:35.008955Z"
    }
   },
   "outputs": [
    {
     "ename": "OSError",
     "evalue": "[WinError 145] 디렉터리가 비어 있지 않습니다: './datas/img'",
     "output_type": "error",
     "traceback": [
      "\u001b[1;31m---------------------------------------------------------------------------\u001b[0m",
      "\u001b[1;31mOSError\u001b[0m                                   Traceback (most recent call last)",
      "\u001b[1;32m<ipython-input-69-3742207b754c>\u001b[0m in \u001b[0;36m<module>\u001b[1;34m\u001b[0m\n\u001b[1;32m----> 1\u001b[1;33m \u001b[0mos\u001b[0m\u001b[1;33m.\u001b[0m\u001b[0mremovedirs\u001b[0m\u001b[1;33m(\u001b[0m\u001b[1;34m'./datas/img'\u001b[0m\u001b[1;33m)\u001b[0m\u001b[1;33m\u001b[0m\u001b[1;33m\u001b[0m\u001b[0m\n\u001b[0m",
      "\u001b[1;32m~\\anaconda3\\envs\\basic\\lib\\os.py\u001b[0m in \u001b[0;36mremovedirs\u001b[1;34m(name)\u001b[0m\n\u001b[0;32m    239\u001b[0m \u001b[1;33m\u001b[0m\u001b[0m\n\u001b[0;32m    240\u001b[0m     \"\"\"\n\u001b[1;32m--> 241\u001b[1;33m     \u001b[0mrmdir\u001b[0m\u001b[1;33m(\u001b[0m\u001b[0mname\u001b[0m\u001b[1;33m)\u001b[0m\u001b[1;33m\u001b[0m\u001b[1;33m\u001b[0m\u001b[0m\n\u001b[0m\u001b[0;32m    242\u001b[0m     \u001b[0mhead\u001b[0m\u001b[1;33m,\u001b[0m \u001b[0mtail\u001b[0m \u001b[1;33m=\u001b[0m \u001b[0mpath\u001b[0m\u001b[1;33m.\u001b[0m\u001b[0msplit\u001b[0m\u001b[1;33m(\u001b[0m\u001b[0mname\u001b[0m\u001b[1;33m)\u001b[0m\u001b[1;33m\u001b[0m\u001b[1;33m\u001b[0m\u001b[0m\n\u001b[0;32m    243\u001b[0m     \u001b[1;32mif\u001b[0m \u001b[1;32mnot\u001b[0m \u001b[0mtail\u001b[0m\u001b[1;33m:\u001b[0m\u001b[1;33m\u001b[0m\u001b[1;33m\u001b[0m\u001b[0m\n",
      "\u001b[1;31mOSError\u001b[0m: [WinError 145] 디렉터리가 비어 있지 않습니다: './datas/img'"
     ]
    }
   ],
   "source": [
    "os.removedirs('./datas/img') #빈 디렉터리만 삭제됨 OSerror"
   ]
  },
  {
   "cell_type": "code",
   "execution_count": 71,
   "id": "161e4437",
   "metadata": {
    "ExecuteTime": {
     "end_time": "2021-04-16T02:15:37.389864Z",
     "start_time": "2021-04-16T02:15:37.376864Z"
    }
   },
   "outputs": [],
   "source": [
    "os.mkdir('./datas/temp')\n",
    "os.makedirs('./datas/images/apples')"
   ]
  },
  {
   "cell_type": "markdown",
   "id": "9852e715",
   "metadata": {},
   "source": [
    "# 연습문제1 파일명 변경 자동화"
   ]
  },
  {
   "cell_type": "code",
   "execution_count": 72,
   "id": "be63cd31",
   "metadata": {
    "ExecuteTime": {
     "end_time": "2021-04-16T02:18:51.350629Z",
     "start_time": "2021-04-16T02:18:51.318634Z"
    }
   },
   "outputs": [
    {
     "name": "stdout",
     "output_type": "stream",
     "text": [
      "creating.. test/py_a_a_0.txt\n",
      "creating.. test/py_a_a_1.txt\n",
      "creating.. test/py_a_a_2.txt\n",
      "creating.. test/py_a_a_3.txt\n",
      "creating.. test/py_a_a_4.txt\n",
      "creating.. test/py_a_a_5.txt\n",
      "creating.. test/py_a_a_6.txt\n",
      "creating.. test/py_a_a_7.txt\n",
      "creating.. test/py_a_a_8.txt\n",
      "creating.. test/py_a_a_9.txt\n",
      "creating.. test/py_a_a_10.txt\n",
      "creating.. test/py_a_a_11.txt\n",
      "creating.. test/py_a_a_12.txt\n",
      "creating.. test/py_a_a_13.txt\n",
      "creating.. test/py_a_a_14.txt\n",
      "creating.. test/py_a_a_15.txt\n",
      "creating.. test/py_a_a_16.txt\n",
      "creating.. test/py_a_a_17.txt\n",
      "creating.. test/py_a_a_18.txt\n",
      "creating.. test/py_a_a_19.txt\n"
     ]
    }
   ],
   "source": [
    "import os\n",
    "# 폴더가 없으면 폴더를 생성한다\n",
    "if not os.path.exists('test'):\n",
    "    os.mkdir('test')\n",
    "for k in range(20):\n",
    "    fname = 'test/py_a_a_{}.txt'.format(k)\n",
    "    open(fname, 'w').write(fname + ' testing...')\n",
    "    print('creating..', fname)"
   ]
  },
  {
   "cell_type": "code",
   "execution_count": 2,
   "id": "fb9194a3",
   "metadata": {
    "ExecuteTime": {
     "end_time": "2021-04-16T08:55:57.879768Z",
     "start_time": "2021-04-16T08:55:57.857260Z"
    }
   },
   "outputs": [
    {
     "data": {
      "text/plain": [
       "('d:\\\\data\\\\python', 'a.txt', 'a', '.txt')"
      ]
     },
     "execution_count": 2,
     "metadata": {},
     "output_type": "execute_result"
    }
   ],
   "source": [
    "import os\n",
    "def split_file_path(fpath):\n",
    "    folder, fname = os.path.split(fpath)\n",
    "    head, tail = os.path.splitext(fname)\n",
    "    return folder, fname, head, tail\n",
    "\n",
    "#폴더, 파일이름, 확장자로 구분해준다.\n",
    "split_file_path('d:\\\\data\\\\python\\\\a.txt')"
   ]
  },
  {
   "cell_type": "code",
   "execution_count": 3,
   "id": "d6c6724f",
   "metadata": {
    "ExecuteTime": {
     "end_time": "2021-04-16T08:55:58.356635Z",
     "start_time": "2021-04-16T08:55:58.344634Z"
    }
   },
   "outputs": [
    {
     "data": {
      "text/plain": [
       "['py', 'a', 'a', '19']"
      ]
     },
     "execution_count": 3,
     "metadata": {},
     "output_type": "execute_result"
    }
   ],
   "source": [
    "head = 'py_a_a_19' \n",
    "head.split('_')"
   ]
  },
  {
   "cell_type": "code",
   "execution_count": 4,
   "id": "64800895",
   "metadata": {
    "ExecuteTime": {
     "end_time": "2021-04-16T08:55:58.827057Z",
     "start_time": "2021-04-16T08:55:58.814058Z"
    },
    "scrolled": true
   },
   "outputs": [
    {
     "data": {
      "text/plain": [
       "'py_a_a_019'"
      ]
     },
     "execution_count": 4,
     "metadata": {},
     "output_type": "execute_result"
    }
   ],
   "source": [
    "fields = head.split('_')\n",
    "fields[-1] = '{:03d}'.format(int(fields[-1]))\n",
    "'_'.join(fields)"
   ]
  },
  {
   "cell_type": "markdown",
   "id": "043290ac",
   "metadata": {},
   "source": [
    "# 연습문제 1 정답"
   ]
  },
  {
   "cell_type": "code",
   "execution_count": 6,
   "id": "4ebc52e4",
   "metadata": {
    "ExecuteTime": {
     "end_time": "2021-04-16T08:56:15.906164Z",
     "start_time": "2021-04-16T08:56:15.876144Z"
    }
   },
   "outputs": [],
   "source": [
    "import glob\n",
    "\n",
    "target_string = \"py_a_a_\"\n",
    "target_list = glob.glob(\"test/\" + target_string + \"*.txt\")\n",
    "\n",
    "for t in target_list:\n",
    "    fdir, name, head, tails = split_file_path(t)\n",
    "    head_split = head.split(\"_\")\n",
    "    head_split[-1] = \"{:03d}\".format(int(head_split[-1]))\n",
    "    temp = \"_\".join(head_split)\n",
    "    result = fdir + \"\\\\\" + temp + tails\n",
    "    os.rename(t, result)\n"
   ]
  },
  {
   "cell_type": "markdown",
   "id": "4c767fe7",
   "metadata": {},
   "source": [
    "# 교재 p152 실습"
   ]
  },
  {
   "cell_type": "code",
   "execution_count": 84,
   "id": "969b925d",
   "metadata": {
    "ExecuteTime": {
     "end_time": "2021-04-16T03:07:43.332009Z",
     "start_time": "2021-04-16T03:07:43.306485Z"
    }
   },
   "outputs": [
    {
     "data": {
      "text/plain": [
       "6"
      ]
     },
     "execution_count": 84,
     "metadata": {},
     "output_type": "execute_result"
    }
   ],
   "source": [
    "from os import listdir\n",
    "write_file = open('statistics.csv', 'w')  #결과 파일 생성, 제목(header) 쓰기\n",
    "write_file.write('년월,매출\\n')"
   ]
  },
  {
   "cell_type": "code",
   "execution_count": 89,
   "id": "50011b50",
   "metadata": {
    "ExecuteTime": {
     "end_time": "2021-04-16T03:09:28.506158Z",
     "start_time": "2021-04-16T03:09:28.498169Z"
    }
   },
   "outputs": [
    {
     "name": "stdout",
     "output_type": "stream",
     "text": [
      "['2017.01.csv', '2017.02.csv', '2017.03.csv', '2017.04.csv', '2017.05.csv', '2017.06.csv', '2017.07.csv', '2017.08.csv', '2017.09.csv', '2017.10.csv', '2017.11.csv', '2017.12.csv']\n"
     ]
    }
   ],
   "source": [
    "csv_files = './csv_files/'\n",
    "file_list = listdir(csv_files)\n",
    "#print(file_list)\n",
    "file_list.sort()\n",
    "print(file_list)"
   ]
  },
  {
   "cell_type": "code",
   "execution_count": 94,
   "id": "d74b7802",
   "metadata": {
    "ExecuteTime": {
     "end_time": "2021-04-16T03:18:27.379231Z",
     "start_time": "2021-04-16T03:18:27.357227Z"
    }
   },
   "outputs": [],
   "source": [
    "for f_name in file_list:  #12개의 파일마다 반복\n",
    "    if f_name[-3:] != 'csv':  #.csv파일만 처리하기 위한 필터 조건\n",
    "        continue\n",
    "        \n",
    "    sum_value = 0\n",
    "    f = open(csv_files+f_name, 'r')  #csv파일 open\n",
    "    \n",
    "    while True:\n",
    "        row = f.readline()  #레코드 단위로 읽어옴\n",
    "        if not row:\n",
    "            break\n",
    "            \n",
    "        data = row.split(',')  #레코드를 tokenize해서 리스트로 반환\n",
    "        if data[1].isdigit():\n",
    "            sum_value = sum_value = int(data[1])  #수강금액 필드값 누적합\n",
    "    write_file.write('%s,%d\\n' %(f_name[:7], sum_value))\n",
    "    f.close()\n",
    "\n",
    "write_file.close()"
   ]
  },
  {
   "cell_type": "markdown",
   "id": "cf46fd14",
   "metadata": {},
   "source": [
    "# 엑셀 자동화"
   ]
  },
  {
   "cell_type": "code",
   "execution_count": 1,
   "id": "b1243a5d",
   "metadata": {
    "ExecuteTime": {
     "end_time": "2021-04-16T03:51:47.621649Z",
     "start_time": "2021-04-16T03:51:47.613651Z"
    }
   },
   "outputs": [
    {
     "name": "stdout",
     "output_type": "stream",
     "text": [
      "OrderedDict([('수강생명', '배찬우'), ('수강금액', '900000'), ('상담날짜', '2017.10.10'), ('강좌명', '파이썬 자동화 강의')])\n",
      "OrderedDict([('수강생명', '조윤장'), ('수강금액', '820000'), ('상담날짜', '2017.10.11'), ('강좌명', '파이썬 자동화 강의')])\n",
      "OrderedDict([('수강생명', '김민우'), ('수강금액', '720000'), ('상담날짜', '2017.10.02'), ('강좌명', '파이썬 자동화 강의')])\n",
      "OrderedDict([('수강생명', '이은철'), ('수강금액', '910000'), ('상담날짜', '2017.10.12'), ('강좌명', '파이썬 자동화 강의')])\n",
      "OrderedDict([('수강생명', '정용운'), ('수강금액', '900000'), ('상담날짜', '2017.10.09'), ('강좌명', '파이썬 자동화 강의')])\n",
      "OrderedDict([('수강생명', '윤순규'), ('수강금액', '920000'), ('상담날짜', '2017.10.06'), ('강좌명', '파이썬 자동화 강의')])\n",
      "OrderedDict([('수강생명', '이창희'), ('수강금액', '620000'), ('상담날짜', '2017.10.08'), ('강좌명', '파이썬 자동화 강의')])\n",
      "OrderedDict([('수강생명', '정택호'), ('수강금액', '540000'), ('상담날짜', '2017.10.17'), ('강좌명', '파이썬 자동화 강의')])\n",
      "OrderedDict([('수강생명', '양영주'), ('수강금액', '230000'), ('상담날짜', '2017.10.02'), ('강좌명', '파이썬 자동화 강의')])\n",
      "OrderedDict([('수강생명', '권민재'), ('수강금액', '680000'), ('상담날짜', '2017.10.29'), ('강좌명', '파이썬 자동화 강의')])\n"
     ]
    }
   ],
   "source": [
    "import csv\n",
    "with open('./csv_files/2017.01.csv') as csvfile:\n",
    "    rdr = csv.DictReader(csvfile)\n",
    "    for i in rdr:\n",
    "        print(i)"
   ]
  },
  {
   "cell_type": "code",
   "execution_count": 3,
   "id": "7f6ad034",
   "metadata": {
    "ExecuteTime": {
     "end_time": "2021-04-16T03:54:16.712857Z",
     "start_time": "2021-04-16T03:54:16.703148Z"
    }
   },
   "outputs": [],
   "source": [
    "from openpyxl import Workbook\n",
    "wb = Workbook()  #엑셀 파일은 워크북을 생성하는 것부터 시작됨"
   ]
  },
  {
   "cell_type": "code",
   "execution_count": 4,
   "id": "3ee29eb3",
   "metadata": {
    "ExecuteTime": {
     "end_time": "2021-04-16T03:54:28.130564Z",
     "start_time": "2021-04-16T03:54:28.114549Z"
    }
   },
   "outputs": [
    {
     "data": {
      "text/plain": [
       "['Sheet']"
      ]
     },
     "execution_count": 4,
     "metadata": {},
     "output_type": "execute_result"
    }
   ],
   "source": [
    "wb.sheetnames  #Workbook객체를 생성하면 sheet 하나 생성"
   ]
  },
  {
   "cell_type": "code",
   "execution_count": 5,
   "id": "ede55d07",
   "metadata": {
    "ExecuteTime": {
     "end_time": "2021-04-16T03:55:43.183643Z",
     "start_time": "2021-04-16T03:55:43.172625Z"
    }
   },
   "outputs": [],
   "source": [
    "ws = wb.active"
   ]
  },
  {
   "cell_type": "code",
   "execution_count": 6,
   "id": "c12313dd",
   "metadata": {
    "ExecuteTime": {
     "end_time": "2021-04-16T03:56:10.008725Z",
     "start_time": "2021-04-16T03:56:10.005735Z"
    }
   },
   "outputs": [],
   "source": [
    "ws2 = wb.create_sheet('new_sheet2')"
   ]
  },
  {
   "cell_type": "code",
   "execution_count": 7,
   "id": "56c549af",
   "metadata": {
    "ExecuteTime": {
     "end_time": "2021-04-16T03:56:27.901405Z",
     "start_time": "2021-04-16T03:56:27.889404Z"
    }
   },
   "outputs": [],
   "source": [
    "ws1 = wb.create_sheet('new_sheet1', 1)"
   ]
  },
  {
   "cell_type": "code",
   "execution_count": 8,
   "id": "9dfa8f0c",
   "metadata": {
    "ExecuteTime": {
     "end_time": "2021-04-16T03:57:01.775830Z",
     "start_time": "2021-04-16T03:57:01.767831Z"
    }
   },
   "outputs": [
    {
     "data": {
      "text/plain": [
       "['Sheet', 'new_sheet1', 'new_sheet2']"
      ]
     },
     "execution_count": 8,
     "metadata": {},
     "output_type": "execute_result"
    }
   ],
   "source": [
    "wb.sheetnames"
   ]
  },
  {
   "cell_type": "code",
   "execution_count": 9,
   "id": "58dc2705",
   "metadata": {
    "ExecuteTime": {
     "end_time": "2021-04-16T03:57:27.857201Z",
     "start_time": "2021-04-16T03:57:27.852194Z"
    }
   },
   "outputs": [],
   "source": [
    "ws = wb['Sheet']  #워크 시트 선택"
   ]
  },
  {
   "cell_type": "code",
   "execution_count": 10,
   "id": "a1fcf2ee",
   "metadata": {
    "ExecuteTime": {
     "end_time": "2021-04-16T03:57:40.793996Z",
     "start_time": "2021-04-16T03:57:40.780980Z"
    }
   },
   "outputs": [],
   "source": [
    "ws.title = '주소'  #sheet 이름 변경"
   ]
  },
  {
   "cell_type": "code",
   "execution_count": 11,
   "id": "252cfe5b",
   "metadata": {
    "ExecuteTime": {
     "end_time": "2021-04-16T03:57:45.791086Z",
     "start_time": "2021-04-16T03:57:45.783083Z"
    }
   },
   "outputs": [
    {
     "data": {
      "text/plain": [
       "['주소', 'new_sheet1', 'new_sheet2']"
      ]
     },
     "execution_count": 11,
     "metadata": {},
     "output_type": "execute_result"
    }
   ],
   "source": [
    "wb.sheetnames"
   ]
  },
  {
   "cell_type": "code",
   "execution_count": 15,
   "id": "3611ed48",
   "metadata": {
    "ExecuteTime": {
     "end_time": "2021-04-16T03:59:20.354341Z",
     "start_time": "2021-04-16T03:59:20.337338Z"
    }
   },
   "outputs": [],
   "source": [
    "ws['A1'] = '이름'\n",
    "ws['B1'] = '전화번호'"
   ]
  },
  {
   "cell_type": "code",
   "execution_count": 16,
   "id": "c2d8540a",
   "metadata": {
    "ExecuteTime": {
     "end_time": "2021-04-16T03:59:20.868223Z",
     "start_time": "2021-04-16T03:59:20.863216Z"
    }
   },
   "outputs": [],
   "source": [
    "ws['A2'] = '아드리안'\n",
    "ws['B2'] = '010-0000-0000'"
   ]
  },
  {
   "cell_type": "code",
   "execution_count": 17,
   "id": "71c6fac3",
   "metadata": {
    "ExecuteTime": {
     "end_time": "2021-04-16T04:01:36.780424Z",
     "start_time": "2021-04-16T04:01:36.766420Z"
    }
   },
   "outputs": [
    {
     "data": {
      "text/plain": [
       "<Cell '주소'.B3>"
      ]
     },
     "execution_count": 17,
     "metadata": {},
     "output_type": "execute_result"
    }
   ],
   "source": [
    "ws.cell(row=3, column=1, value='Ismael')  #A3 셀\n",
    "ws.cell(row=3, column=2, value='34-000-0000')  #B3 셀"
   ]
  },
  {
   "cell_type": "code",
   "execution_count": 18,
   "id": "83d7ae13",
   "metadata": {
    "ExecuteTime": {
     "end_time": "2021-04-16T04:01:59.969833Z",
     "start_time": "2021-04-16T04:01:59.920805Z"
    }
   },
   "outputs": [],
   "source": [
    "wb.save('address.xlsx')"
   ]
  },
  {
   "cell_type": "code",
   "execution_count": 21,
   "id": "feb281bd",
   "metadata": {
    "ExecuteTime": {
     "end_time": "2021-04-16T04:05:24.902235Z",
     "start_time": "2021-04-16T04:05:24.873506Z"
    }
   },
   "outputs": [],
   "source": [
    "cell = ws.cell(row=3, column=1)\n",
    "cell.value = '이스마엘'\n",
    "cell2 = ws.cell(row=3, column=2)\n",
    "cell2.value = '+34-000-0000'\n",
    "wb.save('address.xlsx')"
   ]
  },
  {
   "cell_type": "code",
   "execution_count": 28,
   "id": "b29bcb18",
   "metadata": {
    "ExecuteTime": {
     "end_time": "2021-04-16T04:07:59.410033Z",
     "start_time": "2021-04-16T04:07:59.393022Z"
    }
   },
   "outputs": [
    {
     "name": "stdout",
     "output_type": "stream",
     "text": [
      "<class 'openpyxl.workbook.workbook.Workbook'>\n",
      "['주소', 'new_sheet1', 'new_sheet2']\n"
     ]
    }
   ],
   "source": [
    "#load_workbook()으로 파일에서 엑셀 파일 읽기\n",
    "from openpyxl import load_workbook\n",
    "wb2 = load_workbook('address.xlsx')\n",
    "print(type(wb2))\n",
    "print(wb2.sheetnames)"
   ]
  },
  {
   "cell_type": "code",
   "execution_count": 30,
   "id": "e2423df5",
   "metadata": {
    "ExecuteTime": {
     "end_time": "2021-04-16T04:08:49.076427Z",
     "start_time": "2021-04-16T04:08:49.060429Z"
    }
   },
   "outputs": [
    {
     "name": "stdout",
     "output_type": "stream",
     "text": [
      "<class 'openpyxl.worksheet.worksheet.Worksheet'>\n"
     ]
    },
    {
     "data": {
      "text/plain": [
       "'아드리안'"
      ]
     },
     "execution_count": 30,
     "metadata": {},
     "output_type": "execute_result"
    }
   ],
   "source": [
    "sheet = wb2['주소']\n",
    "print(type(sheet))\n",
    "sheet['A2'].value"
   ]
  },
  {
   "cell_type": "code",
   "execution_count": 32,
   "id": "d69d581b",
   "metadata": {
    "ExecuteTime": {
     "end_time": "2021-04-16T04:11:32.960450Z",
     "start_time": "2021-04-16T04:11:32.945454Z"
    }
   },
   "outputs": [
    {
     "name": "stdout",
     "output_type": "stream",
     "text": [
      "<Cell '주소'.A1> 이름\n",
      "<Cell '주소'.B1> 전화번호\n",
      "<Cell '주소'.A2> 아드리안\n",
      "<Cell '주소'.B2> 010-0000-0000\n",
      "<Cell '주소'.A3> 이스마엘\n",
      "<Cell '주소'.B3> +34-000-0000\n"
     ]
    }
   ],
   "source": [
    "for row in sheet.iter_rows():  #iterable 가능한 객체 타입 ex) range(), str, list...\n",
    "    for cell in row:\n",
    "        print(cell, cell.value)"
   ]
  },
  {
   "cell_type": "code",
   "execution_count": 40,
   "id": "fb7e346e",
   "metadata": {
    "ExecuteTime": {
     "end_time": "2021-04-16T04:15:20.563682Z",
     "start_time": "2021-04-16T04:15:20.536682Z"
    },
    "scrolled": true
   },
   "outputs": [
    {
     "data": {
      "text/html": [
       "<div>\n",
       "<style scoped>\n",
       "    .dataframe tbody tr th:only-of-type {\n",
       "        vertical-align: middle;\n",
       "    }\n",
       "\n",
       "    .dataframe tbody tr th {\n",
       "        vertical-align: top;\n",
       "    }\n",
       "\n",
       "    .dataframe thead th {\n",
       "        text-align: right;\n",
       "    }\n",
       "</style>\n",
       "<table border=\"1\" class=\"dataframe\">\n",
       "  <thead>\n",
       "    <tr style=\"text-align: right;\">\n",
       "      <th></th>\n",
       "      <th>이름</th>\n",
       "      <th>전화번호</th>\n",
       "    </tr>\n",
       "  </thead>\n",
       "  <tbody>\n",
       "    <tr>\n",
       "      <th>0</th>\n",
       "      <td>아드리안</td>\n",
       "      <td>010-0000-0000</td>\n",
       "    </tr>\n",
       "    <tr>\n",
       "      <th>1</th>\n",
       "      <td>이스마엘</td>\n",
       "      <td>+34-000-0000</td>\n",
       "    </tr>\n",
       "  </tbody>\n",
       "</table>\n",
       "</div>"
      ],
      "text/plain": [
       "     이름           전화번호\n",
       "0  아드리안  010-0000-0000\n",
       "1  이스마엘   +34-000-0000"
      ]
     },
     "execution_count": 40,
     "metadata": {},
     "output_type": "execute_result"
    }
   ],
   "source": [
    "import pandas as pd\n",
    "\n",
    "df = pd.read_excel('address.xlsx')\n",
    "df"
   ]
  },
  {
   "cell_type": "code",
   "execution_count": 41,
   "id": "644753a9",
   "metadata": {
    "ExecuteTime": {
     "end_time": "2021-04-16T04:15:39.729485Z",
     "start_time": "2021-04-16T04:15:39.711488Z"
    }
   },
   "outputs": [
    {
     "data": {
      "text/html": [
       "<div>\n",
       "<style scoped>\n",
       "    .dataframe tbody tr th:only-of-type {\n",
       "        vertical-align: middle;\n",
       "    }\n",
       "\n",
       "    .dataframe tbody tr th {\n",
       "        vertical-align: top;\n",
       "    }\n",
       "\n",
       "    .dataframe thead th {\n",
       "        text-align: right;\n",
       "    }\n",
       "</style>\n",
       "<table border=\"1\" class=\"dataframe\">\n",
       "  <thead>\n",
       "    <tr style=\"text-align: right;\">\n",
       "      <th></th>\n",
       "    </tr>\n",
       "  </thead>\n",
       "  <tbody>\n",
       "  </tbody>\n",
       "</table>\n",
       "</div>"
      ],
      "text/plain": [
       "Empty DataFrame\n",
       "Columns: []\n",
       "Index: []"
      ]
     },
     "execution_count": 41,
     "metadata": {},
     "output_type": "execute_result"
    }
   ],
   "source": [
    "df2 = pd.read_excel('address.xlsx', 'new_sheet2')\n",
    "df2"
   ]
  },
  {
   "cell_type": "code",
   "execution_count": 42,
   "id": "92e9c7e1",
   "metadata": {
    "ExecuteTime": {
     "end_time": "2021-04-16T04:16:45.738524Z",
     "start_time": "2021-04-16T04:16:45.720508Z"
    }
   },
   "outputs": [
    {
     "name": "stdout",
     "output_type": "stream",
     "text": [
      "0 아드리안 010-0000-0000\n",
      "1 이스마엘 +34-000-0000\n"
     ]
    }
   ],
   "source": [
    "for index, row in df.iterrows():\n",
    "    print(index, row[0], row[1])"
   ]
  },
  {
   "cell_type": "code",
   "execution_count": 43,
   "id": "3b7b1f72",
   "metadata": {
    "ExecuteTime": {
     "end_time": "2021-04-16T04:17:10.905342Z",
     "start_time": "2021-04-16T04:17:10.899357Z"
    }
   },
   "outputs": [
    {
     "data": {
      "text/plain": [
       "array([['아드리안', '010-0000-0000'],\n",
       "       ['이스마엘', '+34-000-0000']], dtype=object)"
      ]
     },
     "execution_count": 43,
     "metadata": {},
     "output_type": "execute_result"
    }
   ],
   "source": [
    "arr = df.values\n",
    "arr"
   ]
  },
  {
   "cell_type": "code",
   "execution_count": 50,
   "id": "e4727252",
   "metadata": {
    "ExecuteTime": {
     "end_time": "2021-04-16T04:20:59.510806Z",
     "start_time": "2021-04-16T04:20:59.466788Z"
    }
   },
   "outputs": [],
   "source": [
    "ws = wb['주소']\n",
    "import math\n",
    "from datetime import datetime \n",
    "ws['C2'] = math.pi\n",
    "ws['D2'] = datetime.now()\n",
    "ws['E2'] = '=SIN(PI()/2)'\n",
    "wb.save('address.xlsx')"
   ]
  },
  {
   "cell_type": "code",
   "execution_count": 51,
   "id": "bb582c8c",
   "metadata": {
    "ExecuteTime": {
     "end_time": "2021-04-16T05:39:49.788788Z",
     "start_time": "2021-04-16T05:39:49.774787Z"
    }
   },
   "outputs": [
    {
     "data": {
      "text/plain": [
       "((<Cell '주소'.A1>, <Cell '주소'.B1>, <Cell '주소'.C1>),\n",
       " (<Cell '주소'.A2>, <Cell '주소'.B2>, <Cell '주소'.C2>))"
      ]
     },
     "execution_count": 51,
     "metadata": {},
     "output_type": "execute_result"
    }
   ],
   "source": [
    "ws['A1':'C2']  #슬라이싱을 사용하여 셀 내용 가져오기"
   ]
  },
  {
   "cell_type": "code",
   "execution_count": 53,
   "id": "7ca0182c",
   "metadata": {
    "ExecuteTime": {
     "end_time": "2021-04-16T05:41:54.389518Z",
     "start_time": "2021-04-16T05:41:54.378525Z"
    }
   },
   "outputs": [
    {
     "data": {
      "text/plain": [
       "'B'"
      ]
     },
     "execution_count": 53,
     "metadata": {},
     "output_type": "execute_result"
    }
   ],
   "source": [
    "from openpyxl import Workbook\n",
    "from openpyxl.utils import get_column_letter\n",
    "\n",
    "get_column_letter(2)"
   ]
  },
  {
   "cell_type": "code",
   "execution_count": 54,
   "id": "2082a3eb",
   "metadata": {
    "ExecuteTime": {
     "end_time": "2021-04-16T05:42:07.621922Z",
     "start_time": "2021-04-16T05:42:07.605920Z"
    }
   },
   "outputs": [
    {
     "data": {
      "text/plain": [
       "'C1'"
      ]
     },
     "execution_count": 54,
     "metadata": {},
     "output_type": "execute_result"
    }
   ],
   "source": [
    "def index2cell(row, col):\n",
    "    return '{}{}'.format(get_column_letter(col),row)\n",
    "\n",
    "index2cell(row=1, col=3)"
   ]
  },
  {
   "cell_type": "code",
   "execution_count": 56,
   "id": "c3cc8b93",
   "metadata": {
    "ExecuteTime": {
     "end_time": "2021-04-16T05:45:45.774282Z",
     "start_time": "2021-04-16T05:45:45.699265Z"
    }
   },
   "outputs": [
    {
     "data": {
      "text/plain": [
       "Timestamp('2021-01-03 09:00:00', freq='10T')"
      ]
     },
     "execution_count": 56,
     "metadata": {},
     "output_type": "execute_result"
    }
   ],
   "source": [
    "from openpyxl import Workbook\n",
    "import pandas as pd\n",
    "\n",
    "wb3 = Workbook()\n",
    "ws3 = wb.active\n",
    "\n",
    "ws3.append(('시간',))\n",
    "data = pd.date_range('2021-1-3 09:00:00', '2021-1-3 15:00:00', freq = '10min')\n",
    "\n",
    "for row in data:\n",
    "    ws.append((row,))\n",
    "\n",
    "ws.column_dimensions['A'].width = 18 # 18자(영문기준) 정도 폭으로 설정\n",
    "wb.save('test.xlsx')\n",
    "\n",
    "len(data)\n",
    "data[0]"
   ]
  },
  {
   "cell_type": "code",
   "execution_count": 92,
   "id": "3214aed3",
   "metadata": {
    "ExecuteTime": {
     "end_time": "2021-04-16T06:10:06.802006Z",
     "start_time": "2021-04-16T06:10:06.770992Z"
    }
   },
   "outputs": [],
   "source": [
    "wb3 = Workbook()\n",
    "ws3 = wb3.active\n",
    "\n",
    "ws3.column_dimensions['A'].width = 18 # 18자(영문기준) 정도 폭으로 설정\n",
    "ws3.row_dimensions[1].height = 30 # 높이 설정\n",
    "ws3['A1'] = 123456789\n",
    "cell = ws3['A1']\n",
    "cell.number_format = \"#,##0_-\" \n",
    "ws3.column_dimensions['A'].width = 14\n",
    "wb3.save('test2.xlsx')"
   ]
  },
  {
   "cell_type": "code",
   "execution_count": 93,
   "id": "29d2d5b3",
   "metadata": {
    "ExecuteTime": {
     "end_time": "2021-04-16T06:10:07.410493Z",
     "start_time": "2021-04-16T06:10:07.388703Z"
    }
   },
   "outputs": [],
   "source": [
    "from openpyxl.styles import PatternFill, Font, colors, Side, Alignment, Border\n",
    "fill = PatternFill(start_color='eff7f7', fill_type='solid')\n",
    "ws3['A2'].fill = fill\n",
    "\n",
    "# Font properties\n",
    "font = Font(name='나눔고딕', size=30, color='ff0000', italic=True)\n",
    "ws3['A2'].font = font\n",
    "ws3['A2'] = 1234\n",
    "\n",
    "wb3.save('test2.xlsx')"
   ]
  },
  {
   "cell_type": "code",
   "execution_count": 94,
   "id": "61728ee8",
   "metadata": {
    "ExecuteTime": {
     "end_time": "2021-04-16T06:10:07.831751Z",
     "start_time": "2021-04-16T06:10:07.807859Z"
    }
   },
   "outputs": [],
   "source": [
    "al = Alignment(horizontal=\"center\", vertical=\"center\")\n",
    "ws3['A2'].alignment = al\n",
    "wb3.save('test2.xlsx')"
   ]
  },
  {
   "cell_type": "code",
   "execution_count": 95,
   "id": "9c1f26e1",
   "metadata": {
    "ExecuteTime": {
     "end_time": "2021-04-16T06:10:08.304234Z",
     "start_time": "2021-04-16T06:10:08.270226Z"
    }
   },
   "outputs": [],
   "source": [
    "border = Border(left=Side(style='thin'), \n",
    "                right=Side(style='thin'), \n",
    "                top=Side(style='thin'), \n",
    "                bottom=Side(style='thin'))\n",
    "for row in ws3['A1':'C10']:\n",
    "    for cell in row:\n",
    "        cell.border = border\n",
    "\n",
    "wb3.save('test2.xlsx')"
   ]
  },
  {
   "cell_type": "code",
   "execution_count": 96,
   "id": "1b39abeb",
   "metadata": {
    "ExecuteTime": {
     "end_time": "2021-04-16T06:10:08.711326Z",
     "start_time": "2021-04-16T06:10:08.686311Z"
    }
   },
   "outputs": [],
   "source": [
    "ws3.merge_cells('A2:C2')\n",
    "wb3.save('test2.xlsx')"
   ]
  },
  {
   "cell_type": "code",
   "execution_count": 97,
   "id": "194fcb9d",
   "metadata": {
    "ExecuteTime": {
     "end_time": "2021-04-16T06:10:09.116884Z",
     "start_time": "2021-04-16T06:10:09.084870Z"
    }
   },
   "outputs": [],
   "source": [
    "ws3.unmerge_cells('A2:C2')\n",
    "wb3.save('test2.xlsx')"
   ]
  },
  {
   "cell_type": "code",
   "execution_count": 98,
   "id": "87dc6e81",
   "metadata": {
    "ExecuteTime": {
     "end_time": "2021-04-16T06:10:09.571473Z",
     "start_time": "2021-04-16T06:10:09.529465Z"
    }
   },
   "outputs": [],
   "source": [
    "ws3.insert_rows(1) # 첫 행 삽입\n",
    "ws3.insert_cols(1) # 첫 열 삽입\n",
    "wb3.save('test2.xlsx')"
   ]
  },
  {
   "cell_type": "code",
   "execution_count": 100,
   "id": "dddf38aa",
   "metadata": {
    "ExecuteTime": {
     "end_time": "2021-04-16T06:10:59.274824Z",
     "start_time": "2021-04-16T06:10:59.229304Z"
    }
   },
   "outputs": [],
   "source": [
    "ws3.delete_rows(1,3) # 첫 행 ~ 셋째 행을 삭제\n",
    "ws3.delete_cols(1,1) # 첫 열을 삭제\n",
    "wb3.save('test2.xlsx')"
   ]
  },
  {
   "cell_type": "code",
   "execution_count": 104,
   "id": "3e46c4c9",
   "metadata": {
    "ExecuteTime": {
     "end_time": "2021-04-16T06:14:37.187684Z",
     "start_time": "2021-04-16T06:14:36.978627Z"
    }
   },
   "outputs": [],
   "source": [
    "import xlsxwriter\n",
    "\n",
    "workbook = xlsxwriter.Workbook('Expenses01.xlsx')\n",
    "worksheet = workbook.add_worksheet()\n",
    "expenses = ( ['Rent', 1000],\n",
    "            ['Gas', 100],\n",
    "            ['Food', 300],\n",
    "            ['Gym', 50], )\n",
    "row = 0\n",
    "col = 0\n",
    "for item, cost in (expenses):\n",
    "    worksheet.write(row, col, item)\n",
    "    worksheet.write(row, col + 1, cost)\n",
    "    row += 1\n",
    "worksheet.write(row, 0, 'Total')\n",
    "worksheet.write(row, 1, '=SUM(B1:B4)')\n",
    "workbook.close()"
   ]
  },
  {
   "cell_type": "code",
   "execution_count": 106,
   "id": "8818d5db",
   "metadata": {
    "ExecuteTime": {
     "end_time": "2021-04-16T06:15:50.667634Z",
     "start_time": "2021-04-16T06:15:50.449205Z"
    }
   },
   "outputs": [],
   "source": [
    "workbook = xlsxwriter.Workbook('chart_line.xlsx')\n",
    "worksheet = workbook.add_worksheet()\n",
    "bold = workbook.add_format({'bold': 1})\n",
    "\n",
    "headings = ['Number', 'Batch 1', 'Batch 2']\n",
    "data = [\n",
    "        [2, 3, 4, 5, 6, 7],\n",
    "        [10, 40, 50, 20, 10, 50],\n",
    "        [30, 60, 70, 50, 40, 30],\n",
    "]\n",
    "worksheet.write_row('A1', headings, bold)\n",
    "worksheet.write_column('A2', data[0])\n",
    "worksheet.write_column('B2', data[1])\n",
    "worksheet.write_column('C2', data[2])\n",
    "\n",
    "chart1 = workbook.add_chart({'type': 'line'})\n",
    "chart1.add_series({\n",
    "    'name': '=Sheet1!$B$1',\n",
    "    'categories': '=Sheet1!$A$2:$A$7',\n",
    "    'values': '=Sheet1!$B$2:$B$7',\n",
    "})\n",
    "\n",
    "chart1.add_series({\n",
    "    'name': ['Sheet1', 0, 2],\n",
    "    'categories': ['Sheet1', 1, 0, 6, 0],\n",
    "    'values': ['Sheet1', 1, 2, 6, 2],\n",
    "})\n",
    "\n",
    "chart1.set_title ({'name': 'Results of sample analysis'})\n",
    "chart1.set_x_axis({'name': 'Test number'})\n",
    "chart1.set_y_axis({'name': 'Sample length (mm)'})\n",
    "\n",
    "chart1.set_style(10)\n",
    "\n",
    "worksheet.insert_chart('D2', chart1, {'x_offset': 25, \n",
    "'y_offset': 10})\n",
    "workbook.close()"
   ]
  },
  {
   "cell_type": "markdown",
   "id": "d503b21c",
   "metadata": {},
   "source": [
    "# DB로부터 select한 결과를 excel 파일에 저장  "
   ]
  },
  {
   "cell_type": "code",
   "execution_count": 112,
   "id": "56ebf82d",
   "metadata": {
    "ExecuteTime": {
     "end_time": "2021-04-16T06:40:22.556648Z",
     "start_time": "2021-04-16T06:40:22.422845Z"
    }
   },
   "outputs": [
    {
     "name": "stdout",
     "output_type": "stream",
     "text": [
      "   EMPNO              DEPTNO   ENAME     SAL       JOB\n",
      "0   7369 2021-04-01 16:24:18   SMITH   800.0     CLERK\n",
      "1   7499 2021-04-01 16:24:18   ALLEN  1600.0  SALESMAN\n",
      "2   7521 2021-04-01 16:24:18    WARD  1250.0  SALESMAN\n",
      "3   7566 2021-04-01 16:24:18   JONES  2975.0   MANAGER\n",
      "4   7654 2021-04-01 16:24:18  MARTIN  1250.0  SALESMAN\n"
     ]
    }
   ],
   "source": [
    "import cx_Oracle\n",
    "import pandas as pd\n",
    "\n",
    "data = None\n",
    "con = None\n",
    "try:\n",
    "    dsn = cx_Oracle.makedsn('localhost', 1521, 'xe')\n",
    "    con = cx_Oracle.connect('hr','oracle')\n",
    "    \n",
    "    data = pd.read_sql('SELECT * FROM emp', con)\n",
    "    print(data.head() )\n",
    "except Exception as e:\n",
    "    print('db 연동 error', e)\n",
    "finally:\n",
    "    if con != None:\n",
    "        con.close()\n",
    "    \n",
    "data.to_excel('my_oracle_table.xlsx')"
   ]
  },
  {
   "cell_type": "markdown",
   "id": "f4a0a26b",
   "metadata": {},
   "source": [
    "# excel 파일 내용을 읽어서 DB에 import(load)"
   ]
  },
  {
   "cell_type": "code",
   "execution_count": 136,
   "id": "b628d8c9",
   "metadata": {
    "ExecuteTime": {
     "end_time": "2021-04-16T07:30:55.502363Z",
     "start_time": "2021-04-16T07:30:55.383802Z"
    }
   },
   "outputs": [],
   "source": [
    "import cx_Oracle\n",
    "from xlsxwriter.workbook import Workbook\n",
    "import pandas as pd\n",
    "\n",
    "db = None\n",
    "cursor = None\n",
    "try:\n",
    "    dsn= cx_Oracle.makedsn('localhost', 1521, 'xe')\n",
    "    db= cx_Oracle.connect('hr', 'oracle')\n",
    "    cursor = db.cursor()\n",
    "    cursor.execute(\"\"\"select * from emp\"\"\")\n",
    "    \n",
    "    workbook = Workbook('db_emp_outfile.xlsx')\n",
    "    sheet = workbook.add_worksheet()\n",
    "    for r, row in enumerate(cursor.fetchall()):\n",
    "        for c,col in enumerate(row):\n",
    "            sheet.write(r, c, col)\n",
    "    workbook.close()\n",
    "            \n",
    "except Exception as e:\n",
    "    print('db 연동 error', e)\n",
    "finally:\n",
    "    if cursor!= None:\n",
    "        cursor.close()\n",
    "    if db != None:\n",
    "        db.close()"
   ]
  },
  {
   "cell_type": "markdown",
   "id": "04e7f970",
   "metadata": {},
   "source": [
    "# excel 파일 내용을 읽어서 DB에 import(load)"
   ]
  },
  {
   "cell_type": "code",
   "execution_count": 148,
   "id": "bc63c343",
   "metadata": {
    "ExecuteTime": {
     "end_time": "2021-04-16T08:30:09.403232Z",
     "start_time": "2021-04-16T08:30:09.282074Z"
    }
   },
   "outputs": [],
   "source": [
    "import cx_Oracle \n",
    "from xlsxwriter.workbook import Workbook\n",
    "db = None\n",
    "cursor = None \n",
    "try :\n",
    "    dsn=cx_Oracle.makedsn('localhost',1521,'xe') \n",
    "    db=cx_Oracle.connect('hr','oracle') \n",
    "    cursor=db.cursor()\n",
    "    cursor.execute(\"\"\"select empno, ename, job, mgr, sal, comm, deptno  from emp\"\"\") \n",
    "\n",
    "    workbook = Workbook('emp_outfile.xlsx')\n",
    "    sheet = workbook.add_worksheet()\n",
    "    for r, row in enumerate(cursor.fetchall()):\n",
    "        for c, col in enumerate(row):\n",
    "            sheet.write(r, c, col)\n",
    "    workbook.close()\n",
    "except  Exception as e:\n",
    "    print ('db 연동 error', e)\n",
    "finally :\n",
    "    if cursor!= None :\n",
    "        cursor.close()\n",
    "    if db!= None:\n",
    "        db.close()\n"
   ]
  },
  {
   "cell_type": "code",
   "execution_count": 149,
   "id": "f0a55f08",
   "metadata": {
    "ExecuteTime": {
     "end_time": "2021-04-16T08:30:13.891653Z",
     "start_time": "2021-04-16T08:30:13.802598Z"
    }
   },
   "outputs": [],
   "source": [
    "import pandas as pd\n",
    "import cx_Oracle\n",
    "file = r'c:\\\\workspace\\basic\\emp_outfile.xlsx'\n",
    "\n",
    "insert_table =\"INSERT INTO TEST VALUES (:1, :2, :3, :4, :5, :6, :7  ) \"\n",
    " \n",
    "dsn=cx_Oracle.makedsn('localhost',1521,'xe') \n",
    "db=cx_Oracle.connect(user='hr', password='oracle', dsn=dsn) \n",
    "cursor=db.cursor() \n",
    "\n",
    "df = pd.read_excel(file)\n",
    "df_list = df.fillna(0).values.tolist()\n",
    "#print(df_list)\n",
    "cursor.executemany(insert_table,df_list)   \n",
    "db.commit() \n",
    "cursor.close()\n",
    "db.close()\n"
   ]
  },
  {
   "cell_type": "code",
   "execution_count": null,
   "id": "fad2941b",
   "metadata": {},
   "outputs": [],
   "source": []
  }
 ],
 "metadata": {
  "kernelspec": {
   "display_name": "Python 3",
   "language": "python",
   "name": "python3"
  },
  "language_info": {
   "codemirror_mode": {
    "name": "ipython",
    "version": 3
   },
   "file_extension": ".py",
   "mimetype": "text/x-python",
   "name": "python",
   "nbconvert_exporter": "python",
   "pygments_lexer": "ipython3",
   "version": "3.7.10"
  },
  "toc": {
   "base_numbering": 1,
   "nav_menu": {},
   "number_sections": true,
   "sideBar": true,
   "skip_h1_title": false,
   "title_cell": "Table of Contents",
   "title_sidebar": "Contents",
   "toc_cell": false,
   "toc_position": {},
   "toc_section_display": true,
   "toc_window_display": false
  }
 },
 "nbformat": 4,
 "nbformat_minor": 5
}
