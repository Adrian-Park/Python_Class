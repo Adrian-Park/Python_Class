{
 "cells": [
  {
   "cell_type": "markdown",
   "id": "386f1cc6",
   "metadata": {},
   "source": [
    "# Numpy"
   ]
  },
  {
   "cell_type": "code",
   "execution_count": 1,
   "id": "strong-renaissance",
   "metadata": {
    "ExecuteTime": {
     "end_time": "2021-06-05T03:31:12.977531Z",
     "start_time": "2021-06-05T03:31:12.753429Z"
    }
   },
   "outputs": [
    {
     "name": "stdout",
     "output_type": "stream",
     "text": [
      "<class 'numpy.ndarray'>\n",
      "1 (10,)\n"
     ]
    }
   ],
   "source": [
    "import numpy as np\n",
    "list1 = [0, 1, 2, 3, 4, 5, 6, 7, 8, 9]\n",
    "a = np.array(list1)\n",
    "print(type(a))\n",
    "print(a.ndim, a.shape)"
   ]
  },
  {
   "cell_type": "code",
   "execution_count": 2,
   "id": "elect-behalf",
   "metadata": {
    "ExecuteTime": {
     "end_time": "2021-06-05T03:31:14.053822Z",
     "start_time": "2021-06-05T03:31:14.045824Z"
    }
   },
   "outputs": [
    {
     "name": "stdout",
     "output_type": "stream",
     "text": [
      "1 (2, 3)\n",
      "1\n"
     ]
    }
   ],
   "source": [
    "b = np.array([[1,2,3,],[4,5,6,]])\n",
    "print(a.ndim, b.shape)\n",
    "print(b[0,0])"
   ]
  },
  {
   "cell_type": "code",
   "execution_count": 3,
   "id": "fresh-billy",
   "metadata": {
    "ExecuteTime": {
     "end_time": "2021-06-05T03:31:14.844587Z",
     "start_time": "2021-06-05T03:31:14.836587Z"
    }
   },
   "outputs": [
    {
     "name": "stdout",
     "output_type": "stream",
     "text": [
      "(2, 3)\n",
      "1\n"
     ]
    }
   ],
   "source": [
    "b = np.array([[1,2,3],[4,5,6]])\n",
    "print(b.shape) \n",
    "print(b[0,0])"
   ]
  },
  {
   "cell_type": "code",
   "execution_count": 4,
   "id": "essential-peoples",
   "metadata": {
    "ExecuteTime": {
     "end_time": "2021-06-05T03:31:15.467473Z",
     "start_time": "2021-06-05T03:31:15.457316Z"
    }
   },
   "outputs": [
    {
     "name": "stdout",
     "output_type": "stream",
     "text": [
      "2\n",
      "3\n",
      "4\n",
      "3\n",
      "(2, 3, 4)\n"
     ]
    }
   ],
   "source": [
    "d = np.array([[[1, 2, 3, 4],\n",
    "[5, 6, 7, 8],\n",
    "[9, 10, 11, 12]],\n",
    "[[11, 12, 13, 14],\n",
    "[15, 16, 17, 18],\n",
    "[19, 20, 21, 22]]])\n",
    "print(len(d))\n",
    "print(len(d[0]))\n",
    "print(len(d[0][0]))\n",
    "print(d.ndim)\n",
    "print(d.shape)"
   ]
  },
  {
   "cell_type": "code",
   "execution_count": 5,
   "id": "sexual-spain",
   "metadata": {
    "ExecuteTime": {
     "end_time": "2021-06-05T03:31:16.052511Z",
     "start_time": "2021-06-05T03:31:16.033811Z"
    }
   },
   "outputs": [
    {
     "name": "stdout",
     "output_type": "stream",
     "text": [
      "2\n",
      "12\n",
      "[3 8]\n"
     ]
    }
   ],
   "source": [
    "import numpy as np\n",
    "lst = [\n",
    "[1, 2, 3, 4],\n",
    "[5, 6, 7, 8],\n",
    "[9, 10, 11, 12]\n",
    "]\n",
    "a = np.array(lst)\n",
    "print(a[0, 1])\n",
    "print(a[2,3]) \n",
    "print(a[[0, 1], [2, 3]])"
   ]
  },
  {
   "cell_type": "code",
   "execution_count": 6,
   "id": "wrapped-devon",
   "metadata": {
    "ExecuteTime": {
     "end_time": "2021-06-05T03:31:16.538379Z",
     "start_time": "2021-06-05T03:31:16.517792Z"
    }
   },
   "outputs": [
    {
     "name": "stdout",
     "output_type": "stream",
     "text": [
      "[1 2 3]\n",
      "[2 5 8]\n",
      "[5 6]\n",
      "[[1 2]\n",
      " [4 5]]\n"
     ]
    }
   ],
   "source": [
    "import numpy as np\n",
    "lst = [\n",
    "[1, 2, 3],\n",
    "[4, 5, 6],\n",
    "[7, 8, 9]\n",
    "]\n",
    "arr = np.array(lst)\n",
    "#print(arr)\n",
    "print(arr[0, :]) # 첫번째 행 전체\n",
    "print(arr[:, 1]) # 두번째 열 전체\n",
    "print(arr[1, 1:]) # 두번째 행의 두번째 열부터 끝열까지\n",
    "print(arr[:2, :2])"
   ]
  },
  {
   "cell_type": "code",
   "execution_count": 7,
   "id": "indian-distance",
   "metadata": {
    "ExecuteTime": {
     "end_time": "2021-06-05T03:31:17.027309Z",
     "start_time": "2021-06-05T03:31:17.007670Z"
    }
   },
   "outputs": [
    {
     "name": "stdout",
     "output_type": "stream",
     "text": [
      "[2 4 6 8]\n"
     ]
    }
   ],
   "source": [
    "import numpy as np\n",
    "lst = [\n",
    "[1, 2, 3],\n",
    "[4, 5, 6],\n",
    "[7, 8, 9]\n",
    "]\n",
    "a = np.array(lst) \n",
    "bool_indexing_array = np.array([\n",
    "[False, True, False],\n",
    "[True, False, True],\n",
    "[False, True, False]\n",
    "])\n",
    "n = a[bool_indexing_array];\n",
    "print(n) \n"
   ]
  },
  {
   "cell_type": "code",
   "execution_count": 8,
   "id": "dedicated-financing",
   "metadata": {
    "ExecuteTime": {
     "end_time": "2021-06-05T03:31:17.512778Z",
     "start_time": "2021-06-05T03:31:17.500871Z"
    }
   },
   "outputs": [
    {
     "name": "stdout",
     "output_type": "stream",
     "text": [
      "[[False  True False]\n",
      " [ True False  True]\n",
      " [False  True False]]\n",
      "[2 4 6 8]\n",
      "[2 4 6 8]\n"
     ]
    }
   ],
   "source": [
    "    \n",
    "import numpy as np\n",
    "lst = [\n",
    "[1, 2, 3],\n",
    "[4, 5, 6],\n",
    "[7, 8, 9]\n",
    "]\n",
    "a = np.array(lst) \n",
    "# 배열 a 에 대해 짝수면 True, 홀수면 False \n",
    "bool_indexing = (a % 2 == 0) \n",
    "print(bool_indexing)\n",
    "# 부울린 인덱스를 사용하여 True인 요소만 뽑아냄\n",
    "print(a[bool_indexing]) \n",
    "# 더 간단한 표현\n",
    "n = a[ a % 2 == 0 ]\n",
    "print(n)"
   ]
  },
  {
   "cell_type": "code",
   "execution_count": 9,
   "id": "printable-nepal",
   "metadata": {
    "ExecuteTime": {
     "end_time": "2021-06-05T03:31:18.021079Z",
     "start_time": "2021-06-05T03:31:18.010410Z"
    }
   },
   "outputs": [
    {
     "name": "stdout",
     "output_type": "stream",
     "text": [
      "[11 33 55 77 99]\n",
      "[11 11 11 11 11 11 22 22 22 22 22 33 33 33 33 33]\n",
      "[[ 1  4]\n",
      " [ 5  8]\n",
      " [ 9 12]]\n",
      "[[ 9 10 11 12]\n",
      " [ 1  2  3  4]\n",
      " [ 5  6  7  8]]\n"
     ]
    }
   ],
   "source": [
    "import numpy as np\n",
    "a = np.array([11, 22, 33, 44, 55, 66, 77, 88, 99])\n",
    "idx = np.array([0, 2, 4, 6, 8])\n",
    "print( a[idx] ) \n",
    "idx = np.array([0, 0, 0, 0, 0, 0, 1, 1, 1, 1, 1, 2, 2, 2, 2, 2])\n",
    "print( a[idx] ) \n",
    "a = np.array([[1, 2, 3, 4], [5, 6, 7, 8], [9, 10, 11, 12]])\n",
    "print(a[:, [True, False, False, True]])\n",
    "print(a[[2, 0, 1], :] )"
   ]
  },
  {
   "cell_type": "code",
   "execution_count": 10,
   "id": "laden-limit",
   "metadata": {
    "ExecuteTime": {
     "end_time": "2021-06-05T03:31:18.543764Z",
     "start_time": "2021-06-05T03:31:18.522048Z"
    }
   },
   "outputs": [
    {
     "name": "stderr",
     "output_type": "stream",
     "text": [
      "UsageError: Line magic function `%%time` not found.\n"
     ]
    }
   ],
   "source": [
    "import numpy as np\n",
    "x = np.arange(1, 10001)\n",
    "y = np.arange(10001, 20001)\n",
    "\n",
    "%%time\n",
    "z = np.zeros_like(x)\n",
    "for i in range(10000):\n",
    "    z[i] = x[i] + y[i]\n",
    "    z[:10]"
   ]
  },
  {
   "cell_type": "code",
   "execution_count": 11,
   "id": "worst-mechanism",
   "metadata": {
    "ExecuteTime": {
     "end_time": "2021-06-05T03:31:19.048464Z",
     "start_time": "2021-06-05T03:31:19.032936Z"
    }
   },
   "outputs": [
    {
     "name": "stdout",
     "output_type": "stream",
     "text": [
      "Wall time: 0 ns\n"
     ]
    },
    {
     "data": {
      "text/plain": [
       "array([10002, 10004, 10006, 10008, 10010, 10012, 10014, 10016, 10018,\n",
       "       10020])"
      ]
     },
     "execution_count": 11,
     "metadata": {},
     "output_type": "execute_result"
    }
   ],
   "source": [
    "%%time\n",
    "z = x + y\n",
    "z[:10]"
   ]
  },
  {
   "cell_type": "code",
   "execution_count": 12,
   "id": "fewer-activation",
   "metadata": {
    "ExecuteTime": {
     "end_time": "2021-06-05T03:31:19.557314Z",
     "start_time": "2021-06-05T03:31:19.544396Z"
    }
   },
   "outputs": [
    {
     "name": "stdout",
     "output_type": "stream",
     "text": [
      "[5 7 9]\n",
      "[-3 -3 -3]\n",
      "[ 4 10 18]\n"
     ]
    }
   ],
   "source": [
    "import numpy as np\n",
    "a = np.array([1,2,3])\n",
    "b = np.array([4,5,6]) \n",
    "c = a + b # 각 요소 더하기\n",
    "# c = np.add(a, b)\n",
    "print(c) # [5 7 9] \n",
    "c = a - b # 각 요소 빼기\n",
    "# c = np.subtract(a, b)\n",
    "print(c) # [-3 -3 -3] \n",
    "# c = a * b # 각 요소 곱하기\n",
    "c = np.multiply(a, b)\n",
    "print(c) # [4 10 18]\n"
   ]
  },
  {
   "cell_type": "code",
   "execution_count": 13,
   "id": "technical-chair",
   "metadata": {
    "ExecuteTime": {
     "end_time": "2021-06-05T03:31:20.040765Z",
     "start_time": "2021-06-05T03:31:20.023604Z"
    }
   },
   "outputs": [
    {
     "name": "stdout",
     "output_type": "stream",
     "text": [
      "[0.25 0.4  0.5 ]\n",
      "[False  True False]\n",
      "[False False  True]\n",
      "[False False False]\n"
     ]
    },
    {
     "data": {
      "text/plain": [
       "True"
      ]
     },
     "execution_count": 13,
     "metadata": {},
     "output_type": "execute_result"
    }
   ],
   "source": [
    "# c = a / b # 각 요소 나누기\n",
    "c = np.divide(a, b)\n",
    "print(c) # [0.25 0.4 0.5] \n",
    "print(a == 2)\n",
    "print(b > 5 )\n",
    "print((a == 2) & (b > 5))\n",
    "a = np.array([1, 2, 3, 4])\n",
    "b = np.array([4, 2, 2, 4])\n",
    "c = np.array([1, 2, 3, 4])\n",
    "np.all(a == b)\n",
    "np.all(a == c)"
   ]
  },
  {
   "cell_type": "code",
   "execution_count": 14,
   "id": "numeric-width",
   "metadata": {
    "ExecuteTime": {
     "end_time": "2021-06-05T03:31:20.473884Z",
     "start_time": "2021-06-05T03:31:20.453926Z"
    }
   },
   "outputs": [
    {
     "name": "stdout",
     "output_type": "stream",
     "text": [
      "[[19 22]\n",
      " [43 50]]\n",
      "[ 1.          2.71828183  7.3890561  20.08553692 54.59815003]\n",
      "[    1    10   100  1000 10000]\n",
      "[0.         0.69314718 1.09861229 1.38629436 1.60943791]\n"
     ]
    }
   ],
   "source": [
    "import numpy as np\n",
    "\n",
    "a=np.array([[1,2], [3,4]])\n",
    "b=np.array([[5,6], [7,8]])\n",
    "\n",
    "c=np.dot(a,b)\n",
    "print(c)\n",
    "\n",
    "a=np.arange(5)\n",
    "print(np.exp(a))\n",
    "print(10**a)\n",
    "print(np.log(a+1))"
   ]
  },
  {
   "cell_type": "code",
   "execution_count": 15,
   "id": "wireless-acrobat",
   "metadata": {
    "ExecuteTime": {
     "end_time": "2021-06-05T03:31:20.934457Z",
     "start_time": "2021-06-05T03:31:20.918451Z"
    }
   },
   "outputs": [
    {
     "name": "stdout",
     "output_type": "stream",
     "text": [
      "10\n",
      "[4 6]\n",
      "[3 7]\n",
      "24\n"
     ]
    }
   ],
   "source": [
    "import numpy as np\n",
    "a=np.array([[1,2], [3,4]])\n",
    "\n",
    "s=np.sum(a)\n",
    "print(s)\n",
    "\n",
    "s=np.sum(a, axis=0)\n",
    "print(s)\n",
    "\n",
    "s=np.sum(a, axis=1)\n",
    "print(s)\n",
    "\n",
    "s=np.prod(a)\n",
    "print(s)"
   ]
  },
  {
   "cell_type": "code",
   "execution_count": 16,
   "id": "practical-dallas",
   "metadata": {
    "ExecuteTime": {
     "end_time": "2021-06-05T03:31:21.402301Z",
     "start_time": "2021-06-05T03:31:21.385448Z"
    }
   },
   "outputs": [
    {
     "name": "stdout",
     "output_type": "stream",
     "text": [
      "False\n",
      "True\n",
      "False\n",
      "True\n",
      "True\n"
     ]
    }
   ],
   "source": [
    "import numpy as np\n",
    "\n",
    "print(np.all([True, True, False]))\n",
    "print(np.any([True, True, False]))\n",
    "\n",
    "a = np.zeros((100, 100), dtype=np.int)\n",
    "print(np.any(a!=0))\n",
    "print(np.all(a==a))\n",
    "\n",
    "a=np.array([1,2,3,2])\n",
    "b=np.array([2,2,3,2])\n",
    "c=np.array([6,4,4,5])\n",
    "print( ((a <=b) & (b <=c)).all())"
   ]
  },
  {
   "cell_type": "code",
   "execution_count": 17,
   "id": "atomic-pizza",
   "metadata": {
    "ExecuteTime": {
     "end_time": "2021-06-05T03:31:21.867376Z",
     "start_time": "2021-06-05T03:31:21.847576Z"
    }
   },
   "outputs": [
    {
     "name": "stdout",
     "output_type": "stream",
     "text": [
      "6\n",
      "[3 3]\n",
      "[2 4]\n"
     ]
    }
   ],
   "source": [
    "import numpy as np\n",
    "x = np.array([[1, 1], [2, 2]])\n",
    "print( x.sum() )\n",
    "print( x.sum(axis=0)) # 열 합계\n",
    "print( x.sum(axis=1)) # 행 합계"
   ]
  },
  {
   "cell_type": "code",
   "execution_count": 18,
   "id": "aerial-ballot",
   "metadata": {
    "ExecuteTime": {
     "end_time": "2021-06-05T03:31:22.313946Z",
     "start_time": "2021-06-05T03:31:22.295715Z"
    }
   },
   "outputs": [
    {
     "name": "stdout",
     "output_type": "stream",
     "text": [
      "int32\n",
      "float64\n",
      "float64\n",
      "float32\n",
      "3.0\n",
      "<U1\n",
      "12\n"
     ]
    }
   ],
   "source": [
    "import numpy as np\n",
    "\n",
    "x=np.array([1,2,3,])\n",
    "print(x.dtype)\n",
    "\n",
    "x=np.array([1.0, 2.0, 3.0])\n",
    "print(x.dtype)\n",
    "\n",
    "x=np.array([1, 2, 3.0])\n",
    "print(x.dtype)\n",
    "\n",
    "x=np.array([1,2,3], dtype='f')\n",
    "print(x.dtype)\n",
    "print(x[0] + x[1])\n",
    "\n",
    "x=np.array([1,2,3], dtype='U')\n",
    "print(x.dtype)\n",
    "print(x[0] + x[1])"
   ]
  },
  {
   "cell_type": "code",
   "execution_count": 19,
   "id": "stone-firewall",
   "metadata": {
    "ExecuteTime": {
     "end_time": "2021-06-05T03:31:22.807880Z",
     "start_time": "2021-06-05T03:31:22.787626Z"
    }
   },
   "outputs": [
    {
     "name": "stdout",
     "output_type": "stream",
     "text": [
      "[  0.  inf -inf  nan]\n",
      "-inf\n",
      "0.0\n"
     ]
    },
    {
     "name": "stderr",
     "output_type": "stream",
     "text": [
      "C:\\Users\\korha\\anaconda3\\envs\\basic\\lib\\site-packages\\ipykernel_launcher.py:1: RuntimeWarning: divide by zero encountered in true_divide\n",
      "  \"\"\"Entry point for launching an IPython kernel.\n",
      "C:\\Users\\korha\\anaconda3\\envs\\basic\\lib\\site-packages\\ipykernel_launcher.py:1: RuntimeWarning: invalid value encountered in true_divide\n",
      "  \"\"\"Entry point for launching an IPython kernel.\n",
      "C:\\Users\\korha\\anaconda3\\envs\\basic\\lib\\site-packages\\ipykernel_launcher.py:2: RuntimeWarning: divide by zero encountered in log\n",
      "  \n"
     ]
    }
   ],
   "source": [
    "print(np.array([0, 1, -1, 0]) / np.array([1, 0, 0, 0]))\n",
    "print(np.log(0))\n",
    "print(np.exp(-np.inf))"
   ]
  },
  {
   "cell_type": "code",
   "execution_count": 20,
   "id": "extreme-rings",
   "metadata": {
    "ExecuteTime": {
     "end_time": "2021-06-05T03:31:23.262827Z",
     "start_time": "2021-06-05T03:31:23.241357Z"
    }
   },
   "outputs": [
    {
     "name": "stdout",
     "output_type": "stream",
     "text": [
      "[0. 0. 0. 0. 0.]\n",
      "[[0. 0.]\n",
      " [0. 0.]]\n",
      "[[0 0]\n",
      " [0 0]\n",
      " [0 0]\n",
      " [0 0]\n",
      " [0 0]]\n",
      "['' '' '' '' '']\n",
      "['abc' 'abcd' 'ABCD' '' '']\n"
     ]
    }
   ],
   "source": [
    "import numpy as np\n",
    "\n",
    "a=np.zeros(5)\n",
    "print(a)\n",
    "a=np.zeros((2,2))\n",
    "print(a)\n",
    "\n",
    "a=np.zeros((5,2), dtype='i')\n",
    "print(a)\n",
    "\n",
    "a=np.zeros(5, dtype='U4')\n",
    "print(a)\n",
    "\n",
    "a[0] = 'abc'\n",
    "a[1] = 'abcd'\n",
    "a[2] = 'ABCDE'\n",
    "print(a)\n",
    "\n"
   ]
  },
  {
   "cell_type": "code",
   "execution_count": 21,
   "id": "outstanding-grave",
   "metadata": {
    "ExecuteTime": {
     "end_time": "2021-06-05T03:31:23.722818Z",
     "start_time": "2021-06-05T03:31:23.707932Z"
    },
    "scrolled": true
   },
   "outputs": [
    {
     "name": "stdout",
     "output_type": "stream",
     "text": [
      "[[5 5 5]\n",
      " [5 5 5]]\n",
      "[[1. 0. 0.]\n",
      " [0. 1. 0.]\n",
      " [0. 0. 1.]]\n",
      "[[ 0  1  2  3  4]\n",
      " [ 5  6  7  8  9]\n",
      " [10 11 12 13 14]\n",
      " [15 16 17 18 19]]\n"
     ]
    },
    {
     "data": {
      "text/plain": [
       "array([ 1.25892541,  1.58489319,  1.99526231,  2.51188643,  3.16227766,\n",
       "        3.98107171,  5.01187234,  6.30957344,  7.94328235, 10.        ])"
      ]
     },
     "execution_count": 21,
     "metadata": {},
     "output_type": "execute_result"
    }
   ],
   "source": [
    "import numpy as np\n",
    "\n",
    "a = np.full((2,3), 5)\n",
    "print(a) \n",
    "a = np.eye(3)\n",
    "print(a) \n",
    "a = np.array(range(20)).reshape((4,5))\n",
    "print(a)\n",
    "np.linspace(0, 100, 5) # 시작, 끝(포함), 갯수\n",
    "np.logspace(0.1, 1, 10)"
   ]
  },
  {
   "cell_type": "code",
   "execution_count": 22,
   "id": "existing-candy",
   "metadata": {
    "ExecuteTime": {
     "end_time": "2021-06-05T03:31:24.141265Z",
     "start_time": "2021-06-05T03:31:24.125349Z"
    }
   },
   "outputs": [
    {
     "name": "stdout",
     "output_type": "stream",
     "text": [
      "(12,)\n",
      "[[ 0  1  2  3]\n",
      " [ 4  5  6  7]\n",
      " [ 8  9 10 11]]\n",
      "(3, 4)\n",
      "[[ 0  1  2]\n",
      " [ 3  4  5]\n",
      " [ 6  7  8]\n",
      " [ 9 10 11]]\n",
      "[[[ 0  1  2]\n",
      "  [ 3  4  5]]\n",
      "\n",
      " [[ 6  7  8]\n",
      "  [ 9 10 11]]]\n",
      "[[[ 0  1]\n",
      "  [ 2  3]\n",
      "  [ 4  5]]\n",
      "\n",
      " [[ 6  7]\n",
      "  [ 8  9]\n",
      "  [10 11]]]\n",
      "[ 0  1  2  3  4  5  6  7  8  9 10 11]\n",
      "(12,)\n",
      "[0 1 2 3 4]\n",
      "[[0 1 2 3 4]]\n",
      "[[0]\n",
      " [1]\n",
      " [2]\n",
      " [3]\n",
      " [4]]\n",
      "[[0]\n",
      " [1]\n",
      " [2]\n",
      " [3]\n",
      " [4]]\n",
      "(5,)\n"
     ]
    }
   ],
   "source": [
    "import numpy as np\n",
    "a = np.arange(12)\n",
    "print(a.shape)\n",
    "b = a.reshape(3, 4)\n",
    "print( b )\n",
    "print(b.shape)\n",
    "\n",
    "print(a.reshape(4, -1) )\n",
    "\n",
    "print(a.reshape(2, 2, -1) )\n",
    "\n",
    "print( a.reshape(2, -1, 2) )\n",
    "\n",
    "print(a.flatten())\n",
    "print(a.shape)\n",
    "\n",
    "x = np.arange(5)\n",
    "print( x )\n",
    "\n",
    "print( x.reshape(1, 5))\n",
    "\n",
    "\n",
    "print( x.reshape(5, 1))\n",
    "\n",
    "print(x[:, np.newaxis])\n",
    "\n",
    "print(x.shape)"
   ]
  },
  {
   "cell_type": "code",
   "execution_count": 24,
   "id": "coupled-greek",
   "metadata": {
    "ExecuteTime": {
     "end_time": "2021-06-05T03:31:24.986205Z",
     "start_time": "2021-06-05T03:31:24.970207Z"
    }
   },
   "outputs": [
    {
     "name": "stdout",
     "output_type": "stream",
     "text": [
      "5.0\n",
      "-24.0\n",
      "0.0\n",
      "5.0\n",
      "10.0\n",
      "23.0\n"
     ]
    }
   ],
   "source": [
    "import numpy as np\n",
    "x = np.array([18, 5, 10, 23, 19, -8, 10, 0, 0, 5, 2, 15, 8,\n",
    "2, 5, 4, 15, -1, 4, -7, -24, 7, 9, -6, 23, -13])\n",
    "\n",
    "print(np.median(x))\n",
    "print(np.percentile(x,0))\n",
    "print(np.percentile(x,25))\n",
    "print(np.percentile(x,50))\n",
    "print(np.percentile(x,75))\n",
    "print(np.percentile(x,100))"
   ]
  },
  {
   "cell_type": "code",
   "execution_count": 25,
   "id": "certified-disposition",
   "metadata": {
    "ExecuteTime": {
     "end_time": "2021-06-05T03:31:25.426588Z",
     "start_time": "2021-06-05T03:31:25.407324Z"
    }
   },
   "outputs": [
    {
     "name": "stdout",
     "output_type": "stream",
     "text": [
      "[0.5488135  0.71518937 0.60276338 0.54488318 0.4236548 ]\n",
      "[0.64589411 0.43758721 0.891773   0.96366276 0.38344152 0.79172504\n",
      " 0.52889492 0.56804456 0.92559664 0.07103606]\n",
      "[0.0871293  0.0202184  0.83261985 0.77815675 0.87001215 0.97861834\n",
      " 0.79915856 0.46147936 0.78052918 0.11827443]\n",
      "[0.5488135  0.71518937 0.60276338 0.54488318 0.4236548 ]\n",
      "[0.64589411 0.43758721 0.891773   0.96366276 0.38344152 0.79172504\n",
      " 0.52889492 0.56804456 0.92559664 0.07103606]\n",
      "[0.0871293  0.0202184  0.83261985 0.77815675 0.87001215 0.97861834\n",
      " 0.79915856 0.46147936 0.78052918 0.11827443]\n"
     ]
    }
   ],
   "source": [
    "import numpy as np\n",
    "np.random.seed(0)\n",
    "print( np.random.rand(5) )\n",
    "print( np.random.rand(10) )\n",
    "print( np.random.rand(10) )\n",
    "np.random.seed(0)\n",
    "print( np.random.rand(5) )\n",
    "print( np.random.rand(10) )\n",
    "print( np.random.rand(10) )\n"
   ]
  },
  {
   "cell_type": "code",
   "execution_count": 26,
   "id": "guilty-volunteer",
   "metadata": {
    "ExecuteTime": {
     "end_time": "2021-06-05T03:31:25.880321Z",
     "start_time": "2021-06-05T03:31:25.864322Z"
    }
   },
   "outputs": [
    {
     "name": "stdout",
     "output_type": "stream",
     "text": [
      "[4 2 3 1 0]\n",
      "[0 2 4 3 3 2 4 2 0 0]\n",
      "[2 2 2 2 3 3 3 3 0 3]\n"
     ]
    }
   ],
   "source": [
    "import numpy as np\n",
    "print( np.random.choice(5, 5, replace=False) ) # shuffle 명령과 같다. print( np.random.choice(5, 3, replace=False) ) # 3개만 선택\n",
    "print( np.random.choice(5, 10) ) # 반복해서 10개 선택\n",
    "print( np.random.choice(5, 10, p=[0.1, 0, 0.3, 0.6, 0]) ) # 선택 확률을 다르게 해서 10개 선택"
   ]
  },
  {
   "cell_type": "code",
   "execution_count": 27,
   "id": "fallen-sculpture",
   "metadata": {
    "ExecuteTime": {
     "end_time": "2021-06-05T03:31:35.677636Z",
     "start_time": "2021-06-05T03:31:35.657828Z"
    }
   },
   "outputs": [
    {
     "name": "stdout",
     "output_type": "stream",
     "text": [
      "[6 7 2 0 3 5 9 4 4 6]\n",
      "[14 14 13 14 14 18 14 13 17 15]\n",
      "[[15 10 11 15 19]\n",
      " [13 10 15 10 11]\n",
      " [12 14 12 10 13]]\n"
     ]
    }
   ],
   "source": [
    "import numpy as np\n",
    "print(np.random.randint(10, size=10))\n",
    "print(np.random.randint(10,20,size=10))\n",
    "print(np.random.randint(10,20,size=(3,5)))"
   ]
  },
  {
   "cell_type": "code",
   "execution_count": 106,
   "id": "finished-settlement",
   "metadata": {},
   "outputs": [
    {
     "name": "stdout",
     "output_type": "stream",
     "text": [
      "[0 1 0 0 1 1 0 0 0 1]\n",
      "3.66\n",
      "[ 9798.35933722  9946.05453666  9972.43294654  9929.02720342\n",
      " 10173.88726775 10099.43943913 10131.91368763  9911.75811815\n",
      " 10112.85940645 10049.60009463 10077.14059487 10102.94388288\n",
      "  9909.1236754   9957.5682379  10086.25960113  9734.4380907\n",
      " 10151.33280826 10055.31320642  9995.42960393 10022.05076558\n",
      "  9897.00647167  9965.00566354 10110.02843382 10129.80219723\n",
      " 10269.62240526  9992.60753337  9934.14470332  9948.57660341\n",
      "  9898.19581247  9992.21452441 10038.273243    9996.57577195\n",
      " 10109.63468457  9976.57841987  9965.25493475  9941.87315231\n",
      "  9836.73654738  9843.22322757  9882.08420694 10130.14280717\n",
      " 10089.52602729 10137.49640664  9866.77883454  9803.13753102\n",
      "  9933.99436799 10017.58189533 10049.86902749 10104.7972156\n",
      " 10028.42796708 10174.26687807  9977.73943191  9908.6920782\n",
      "  9831.87817845  9911.10286419 10024.2117961   9911.12797426\n",
      " 10093.67424635 10141.2327706   9763.04130948 10086.40523005\n",
      "  9776.03959413 10040.14990551 10122.48705642 10006.48561063\n",
      "  9872.03108268  9941.45687957  9973.83545543  9981.77552162\n",
      "  9979.71031592  9989.01172207 10021.34800489  9879.14263463\n",
      "  9975.79801701 10151.82611704  9961.53545769  9955.61639068\n",
      " 10107.81973037  9744.08153337 10118.13786013  9936.8096242\n",
      " 10016.39285725 10009.63213559 10094.24681192  9973.24052538\n",
      "  9932.19742184 10129.78457907  9763.58261829 10002.03341817\n",
      "  9865.20745774  9923.84266117 10201.12566815  9995.54045735\n",
      " 10019.50696972  9821.84371443  9927.09553412 10019.65574007\n",
      " 10035.47576931 10061.68865544 10000.86278989 10052.70042085\n",
      " 10045.37819126  9817.0259589  10003.70057219 10076.79024077\n",
      " 10058.98798207  9963.614119    9919.43734925  9888.16880757\n",
      "  9986.89459885 10113.30798796  9804.81958985  9934.01082703\n",
      "  9886.01975446 10078.49575212  9944.56903734  9952.93623418\n",
      "  9978.30504301 10044.53932509  9960.76110019  9695.38569452\n",
      " 10054.33118914 10043.90429577  9978.04589717  9891.59633793\n",
      " 10035.17801107 10037.92355335  9952.99671173  9978.32685294\n",
      "  9906.98434975  9982.14109079  9844.95706549 10041.7318821\n",
      "  9905.56315092 10023.81031478  9859.40370837  9940.99423541\n",
      "  9988.95105949  9833.93001881 10011.51478731  9962.08524371\n",
      "  9825.76438022  9869.67572459 10060.51200841 10089.55559856\n",
      "  9986.80913602 10040.4761812  10022.38435633 10032.96229821\n",
      " 10128.59840071  9849.30016018 10067.64607324  9961.79910444\n",
      "  9977.57410657  9969.77502695  9962.48528833  9877.38038082\n",
      " 10018.33391993 10167.09430328  9994.38669796  9999.86149573\n",
      "  9931.27009628  9988.25254536 10046.6166426   9962.97575593\n",
      "  9954.61959589 10040.32645402  9908.19952302 10025.24966271\n",
      " 10082.03217973 10135.99485417  9990.96179927 10136.75972398\n",
      " 10103.44098865  9900.37873596  9878.20614884  9969.50363621\n",
      " 10102.89354926  9992.77129924  9939.93424423 10155.224318\n",
      " 10028.6904488   9767.94057242 10031.71606263 10052.00406146\n",
      " 10022.56086545 10044.97121002  9993.27243911  9868.16041304\n",
      "  9962.92959968  9905.43842044  9906.72590892  9873.69316509\n",
      " 10045.24890926 10009.78961454  9955.18346373  9935.06620723\n",
      "  9997.6576895  10107.91947281  9799.57842845 10037.68765209\n",
      "  9945.4288026   9811.5414155   9805.42969168  9908.72165059\n",
      " 10021.95095558 10039.3062934   9906.10184273 10101.70209914\n",
      " 10142.29834965 10039.6086585   9940.85973322 10112.44191845\n",
      " 10075.53956957 10086.74074114  9934.3536325   9716.54454947\n",
      " 10211.67910215  9838.91215966  9996.42319281 10238.07453512\n",
      " 10033.05767563 10094.92464736  9849.76034306  9822.23330453\n",
      "  9946.7297208  10109.07497344  9965.37505524  9920.53636789\n",
      " 10019.79672899 10108.19352185  9855.50598009  9878.94570059\n",
      "  9921.13307455 10109.46383747 10023.48215259 10213.21534106\n",
      " 10093.64457258  9996.49048231 10126.50778381 10021.14970127\n",
      "  9929.50786475 10067.99748442  9930.36733461  9970.96028992\n",
      " 10132.7782696   9989.87185138  9919.68586127  9953.56623086\n",
      " 10102.17905856  9944.74593266]\n",
      "250\n"
     ]
    }
   ],
   "source": [
    "import numpy as np\n",
    "print(np.random.randint(2, size=10)) #동전\n",
    "\n",
    "dice = np.random.randint(1, 7, size=100) #주사위\n",
    "print(np.mean(dice))\n",
    "\n",
    "stock = 10000+(10000 * (np.random.randn(250)/100)) #주식\n",
    "print(stock)\n",
    "print(len(stock))"
   ]
  },
  {
   "cell_type": "code",
   "execution_count": 28,
   "id": "magnetic-synthesis",
   "metadata": {
    "ExecuteTime": {
     "end_time": "2021-06-05T03:31:38.146732Z",
     "start_time": "2021-06-05T03:31:38.121877Z"
    }
   },
   "outputs": [
    {
     "name": "stdout",
     "output_type": "stream",
     "text": [
      "[ 2 11 34]\n",
      "['a' 'b' 'c']\n",
      "[2 2 1]\n",
      "[0 2 3 1 0 0]\n"
     ]
    }
   ],
   "source": [
    "import numpy as np\n",
    "\n",
    "print(np.unique([11, 11, 2, 2, 34, 34]))\n",
    "a = np.array(['a','b','b','c','a'])\n",
    "index, count = np.unique(a, return_counts=True)\n",
    "print(index)\n",
    "print(count)\n",
    "print(np.bincount([1,1,2,2,2,3], minlength=6))"
   ]
  },
  {
   "cell_type": "markdown",
   "id": "3345454a",
   "metadata": {},
   "source": [
    "# Pandas"
   ]
  },
  {
   "cell_type": "code",
   "execution_count": 31,
   "id": "favorite-boutique",
   "metadata": {
    "ExecuteTime": {
     "end_time": "2021-06-05T03:31:57.782030Z",
     "start_time": "2021-06-05T03:31:57.757998Z"
    }
   },
   "outputs": [
    {
     "name": "stdout",
     "output_type": "stream",
     "text": [
      "서울    9904312\n",
      "부산    3448737\n",
      "인천    2890451\n",
      "대구    2466052\n",
      "dtype: int64\n",
      "0    10\n",
      "1    11\n",
      "2    12\n",
      "3    13\n",
      "dtype: int64\n",
      "Index(['서울', '부산', '인천', '대구'], dtype='object')\n",
      "[9904312 3448737 2890451 2466052]\n",
      "도시\n",
      "서울    9904312\n",
      "부산    3448737\n",
      "인천    2890451\n",
      "대구    2466052\n",
      "Name: 인구, dtype: int64\n"
     ]
    }
   ],
   "source": [
    "import pandas as pd\n",
    "s = pd.Series([9904312, 3448737, 2890451, 2466052],\n",
    "index=[\"서울\", \"부산\", \"인천\", \"대구\"])\n",
    "print( s )\n",
    "print( pd.Series(range(10, 14)) )\n",
    "print( s.index )\n",
    "print( s.values )\n",
    "s.name = \"인구\" \n",
    "s.index.name = \"도시\" \n",
    "print( s )\n"
   ]
  },
  {
   "cell_type": "code",
   "execution_count": 32,
   "id": "underlying-copper",
   "metadata": {
    "ExecuteTime": {
     "end_time": "2021-06-05T03:31:58.628447Z",
     "start_time": "2021-06-05T03:31:58.609083Z"
    }
   },
   "outputs": [
    {
     "name": "stdout",
     "output_type": "stream",
     "text": [
      "서울    9.904312\n",
      "부산    3.448737\n",
      "인천    2.890451\n",
      "대구    2.466052\n",
      "dtype: float64\n"
     ]
    }
   ],
   "source": [
    "import pandas as pd\n",
    "s = pd.Series([9904312, 3448737, 2890451, 2466052],\n",
    "index=[\"서울\", \"부산\", \"인천\", \"대구\"])\n",
    "print(s / 1000000)"
   ]
  },
  {
   "cell_type": "code",
   "execution_count": 33,
   "id": "determined-journal",
   "metadata": {
    "ExecuteTime": {
     "end_time": "2021-06-05T03:31:59.157135Z",
     "start_time": "2021-06-05T03:31:59.149728Z"
    }
   },
   "outputs": [
    {
     "name": "stdout",
     "output_type": "stream",
     "text": [
      "a    0\n",
      "b    1\n",
      "c    2\n",
      "dtype: int64\n",
      "0\n",
      "1\n"
     ]
    }
   ],
   "source": [
    "s0 = pd.Series(range(3), index=[\"a\", \"b\", \"c\"])\n",
    "print( s0 )\n",
    "print( s0.a )\n",
    "print( s0.b )"
   ]
  },
  {
   "cell_type": "code",
   "execution_count": 34,
   "id": "dated-associate",
   "metadata": {
    "ExecuteTime": {
     "end_time": "2021-06-05T03:31:59.658346Z",
     "start_time": "2021-06-05T03:31:59.634362Z"
    }
   },
   "outputs": [
    {
     "name": "stdout",
     "output_type": "stream",
     "text": [
      "3448737 3448737\n",
      "2466052 2466052\n",
      "서울    9904312\n",
      "대구    2466052\n",
      "부산    3448737\n",
      "dtype: int64\n",
      "서울    9904312\n",
      "대구    2466052\n",
      "부산    3448737\n",
      "dtype: int64\n",
      "부산    3448737\n",
      "인천    2890451\n",
      "dtype: int64\n",
      "a    0\n",
      "b    1\n",
      "c    2\n",
      "dtype: int64\n",
      "0\n",
      "1\n"
     ]
    }
   ],
   "source": [
    "import pandas as pd\n",
    "s = pd.Series([9904312, 3448737, 2890451, 2466052],\n",
    "index=[\"서울\", \"부산\", \"인천\", \"대구\"])\n",
    "print( s[1], s[\"부산\"] )\n",
    "print( s[3], s[\"대구\"] )\n",
    "print( s[[0, 3, 1]] )\n",
    "print( s[[\"서울\", \"대구\", \"부산\"]] )\n",
    "print( s[(250e4 < s) & (s < 500e4)] ) # 인구가 250만 초과, 500만 미만인 경우\n",
    "s[\"부산\":\"대구\"] # 부산에서 대구까지 (대구도 포함)\n",
    "s0 = pd.Series(range(3), index=[\"a\", \"b\", \"c\"])\n",
    "print( s0 )\n",
    "print( s0.a )\n",
    "print( s0.b )"
   ]
  },
  {
   "cell_type": "code",
   "execution_count": 35,
   "id": "proper-banks",
   "metadata": {
    "ExecuteTime": {
     "end_time": "2021-06-05T03:32:11.926953Z",
     "start_time": "2021-06-05T03:32:11.915621Z"
    }
   },
   "outputs": [
    {
     "name": "stdout",
     "output_type": "stream",
     "text": [
      "True\n",
      "False\n",
      "서울 = 9904312\n",
      "부산 = 3448737\n",
      "인천 = 2890451\n",
      "대구 = 2466052\n"
     ]
    }
   ],
   "source": [
    "import pandas as pd\n",
    "s = pd.Series([9904312, 3448737, 2890451, 2466052], index=[\"서울\", \"부산\", \"인천\", \"대구\"])\n",
    "print(\"서울\" in s) # 인덱스 라벨 중에 서울이 있는가\n",
    "print(\"대전\" in s) # 인덱스 라벨 중에 대전이 있는가\n",
    "for k, v in s.items():\n",
    "    print(\"%s = %d\" % (k, v))\n"
   ]
  },
  {
   "cell_type": "code",
   "execution_count": 36,
   "id": "numeric-mailman",
   "metadata": {
    "ExecuteTime": {
     "end_time": "2021-06-05T03:32:12.491545Z",
     "start_time": "2021-06-05T03:32:12.472246Z"
    }
   },
   "outputs": [
    {
     "name": "stdout",
     "output_type": "stream",
     "text": [
      "대구         NaN\n",
      "대전         NaN\n",
      "부산     55546.0\n",
      "서울    272830.0\n",
      "인천    258416.0\n",
      "dtype: float64\n",
      "[272830  55546 258416 975894]\n"
     ]
    }
   ],
   "source": [
    "import pandas as pd\n",
    "s = pd.Series([9904312, 3448737, 2890451, 2466052], index=[\"서울\", \"부산\", \"인천\", \"대구\"])\n",
    "s2 = pd.Series({\"서울\": 9631482, \"부산\": 3393191, \"인천\": 2632035, \"대전\": 1490158})\n",
    "ds = s-s2\n",
    "print(ds)\n",
    "#NaN 값이 float 자료형에서만 가능하므로 다른 계산 결과도 모두 float 자료형이 되었다\n",
    "print(s.values - s2.values)"
   ]
  },
  {
   "cell_type": "code",
   "execution_count": 37,
   "id": "following-blowing",
   "metadata": {
    "ExecuteTime": {
     "end_time": "2021-06-05T03:32:13.546897Z",
     "start_time": "2021-06-05T03:32:13.508611Z"
    }
   },
   "outputs": [
    {
     "name": "stdout",
     "output_type": "stream",
     "text": [
      "대구    False\n",
      "대전    False\n",
      "부산     True\n",
      "서울     True\n",
      "인천     True\n",
      "dtype: bool\n",
      "부산     55546.0\n",
      "서울    272830.0\n",
      "인천    258416.0\n",
      "dtype: float64\n",
      "대구         NaN\n",
      "대전         NaN\n",
      "부산    1.636984\n",
      "서울    2.832690\n",
      "인천    9.818107\n",
      "dtype: float64\n",
      "부산    1.636984\n",
      "서울    2.832690\n",
      "인천    9.818107\n",
      "dtype: float64\n"
     ]
    }
   ],
   "source": [
    "print(ds.notnull())\n",
    "print(ds[ds.notnull()])\n",
    "rs = (s-s2) / s2*100\n",
    "print(rs)\n",
    "rs = rs[rs.notnull()]\n",
    "print(rs)"
   ]
  },
  {
   "cell_type": "code",
   "execution_count": 38,
   "id": "chronic-hours",
   "metadata": {
    "ExecuteTime": {
     "end_time": "2021-06-05T03:32:14.546980Z",
     "start_time": "2021-06-05T03:32:14.524393Z"
    }
   },
   "outputs": [
    {
     "name": "stdout",
     "output_type": "stream",
     "text": [
      "부산    1.630000\n",
      "서울    2.832690\n",
      "인천    9.818107\n",
      "dtype: float64\n",
      "부산    1.630000\n",
      "서울    2.832690\n",
      "인천    9.818107\n",
      "대구    1.410000\n",
      "dtype: float64\n",
      "부산    1.630000\n",
      "인천    9.818107\n",
      "대구    1.410000\n",
      "dtype: float64\n"
     ]
    }
   ],
   "source": [
    "rs[\"부산\"] = 1.63\n",
    "print(rs)\n",
    "rs[\"대구\"] = 1.41\n",
    "print(rs)\n",
    "del rs[\"서울\"]\n",
    "print(rs)"
   ]
  },
  {
   "cell_type": "code",
   "execution_count": 39,
   "id": "educational-surgery",
   "metadata": {
    "ExecuteTime": {
     "end_time": "2021-06-05T03:32:15.189403Z",
     "start_time": "2021-06-05T03:32:15.159239Z"
    }
   },
   "outputs": [
    {
     "name": "stdout",
     "output_type": "stream",
     "text": [
      "특성   지역     2015     2010     2005     2000  2010-2015 증가율\n",
      "도시                                                        \n",
      "서울  수도권  9904312  9631482  9762546  9853972         0.0283\n",
      "부산  경상권  3448737  3393191  3512547  3655437         0.0163\n",
      "인천  수도권  2890451  2632035  2517680  2466338         0.0982\n",
      "대구  경상권  2466052  2431774  2456016  2473990         0.0141\n"
     ]
    }
   ],
   "source": [
    "import pandas as pd\n",
    "data = {\n",
    "\"2015\": [9904312, 3448737, 2890451, 2466052],\n",
    "\"2010\": [9631482, 3393191, 2632035, 2431774],\n",
    "\"2005\": [9762546, 3512547, 2517680, 2456016],\n",
    "\"2000\": [9853972, 3655437, 2466338, 2473990], \"지역\": [\"수도권\", \"경상권\", \"수도권\", \"경상권\"],\n",
    "\"2010-2015 증가율\": [0.0283, 0.0163, 0.0982, 0.0141] }\n",
    "columns = [\"지역\", \"2015\", \"2010\", \"2005\", \"2000\", \"2010-2015 증가율\"]\n",
    "index = [\"서울\", \"부산\", \"인천\", \"대구\"]\n",
    "\n",
    "df = pd.DataFrame(data, index=index, columns=columns)\n",
    "#print(df.columns)\n",
    "#print(df.values)\n",
    "#print(df.columns)\n",
    "#print(df.index)\n",
    "df.index.name = \"도시\"\n",
    "df.columns.name = \"특성\"\n",
    "print(df)"
   ]
  },
  {
   "cell_type": "code",
   "execution_count": 40,
   "id": "political-decimal",
   "metadata": {
    "ExecuteTime": {
     "end_time": "2021-06-05T03:32:15.803266Z",
     "start_time": "2021-06-05T03:32:15.787268Z"
    }
   },
   "outputs": [
    {
     "name": "stdout",
     "output_type": "stream",
     "text": [
      "도시                  서울       부산       인천       대구\n",
      "특성                                               \n",
      "지역                 수도권      경상권      수도권      경상권\n",
      "2015           9904312  3448737  2890451  2466052\n",
      "2010           9631482  3393191  2632035  2431774\n",
      "2005           9762546  3512547  2517680  2456016\n",
      "2000           9853972  3655437  2466338  2473990\n",
      "2010-2015 증가율   0.0283   0.0163   0.0982   0.0141\n"
     ]
    }
   ],
   "source": [
    "import pandas as pd\n",
    "print( df.T )"
   ]
  },
  {
   "cell_type": "code",
   "execution_count": 41,
   "id": "inappropriate-location",
   "metadata": {
    "ExecuteTime": {
     "end_time": "2021-06-05T03:32:16.290407Z",
     "start_time": "2021-06-05T03:32:16.277209Z"
    }
   },
   "outputs": [
    {
     "name": "stdout",
     "output_type": "stream",
     "text": [
      "특성   지역     2015     2010     2005     2000  2010-2015 증가율\n",
      "도시                                                        \n",
      "서울  수도권  9904312  9631482  9762546  9853972           2.83\n",
      "부산  경상권  3448737  3393191  3512547  3655437           1.63\n",
      "인천  수도권  2890451  2632035  2517680  2466338           9.82\n",
      "대구  경상권  2466052  2431774  2456016  2473990           1.41\n"
     ]
    }
   ],
   "source": [
    "# \"2010-2015 증가율\"이라는 이름의 열 추가\n",
    "df[\"2010-2015 증가율\"] = df[\"2010-2015 증가율\"] * 100\n",
    "print(df)"
   ]
  },
  {
   "cell_type": "code",
   "execution_count": 42,
   "id": "imperial-screening",
   "metadata": {
    "ExecuteTime": {
     "end_time": "2021-06-05T03:32:16.993891Z",
     "start_time": "2021-06-05T03:32:16.963805Z"
    }
   },
   "outputs": [
    {
     "name": "stdout",
     "output_type": "stream",
     "text": [
      "특성   지역     2015     2010     2005     2000  2010-2015 증가율  2005-2010 증가율\n",
      "도시                                                                       \n",
      "서울  수도권  9904312  9631482  9762546  9853972           2.83          -1.34\n",
      "부산  경상권  3448737  3393191  3512547  3655437           1.63          -3.40\n",
      "인천  수도권  2890451  2632035  2517680  2466338           9.82           4.54\n",
      "대구  경상권  2466052  2431774  2456016  2473990           1.41          -0.99\n"
     ]
    }
   ],
   "source": [
    "# \"2005-2010 증가율\"이라는 이름의 열 추가\n",
    "df[\"2005-2010 증가율\"] = ((df[\"2010\"] - df[\"2005\"]) / df[\"2005\"] * 100).round(2)\n",
    "print(df)\n"
   ]
  },
  {
   "cell_type": "code",
   "execution_count": 43,
   "id": "private-hollywood",
   "metadata": {
    "ExecuteTime": {
     "end_time": "2021-06-05T03:32:24.328518Z",
     "start_time": "2021-06-05T03:32:24.306039Z"
    }
   },
   "outputs": [
    {
     "name": "stdout",
     "output_type": "stream",
     "text": [
      "특성   지역     2015     2010     2005     2000  2005-2010 증가율\n",
      "도시                                                        \n",
      "서울  수도권  9904312  9631482  9762546  9853972          -1.34\n",
      "부산  경상권  3448737  3393191  3512547  3655437          -3.40\n",
      "인천  수도권  2890451  2632035  2517680  2466338           4.54\n",
      "대구  경상권  2466052  2431774  2456016  2473990          -0.99\n"
     ]
    }
   ],
   "source": [
    "# \"2010-2015 증가율\"이라는 이름의 열 삭제\n",
    "del df[\"2010-2015 증가율\"]\n",
    "print(df)"
   ]
  },
  {
   "cell_type": "code",
   "execution_count": 44,
   "id": "thorough-admission",
   "metadata": {
    "ExecuteTime": {
     "end_time": "2021-06-05T03:32:24.658767Z",
     "start_time": "2021-06-05T03:32:24.634015Z"
    }
   },
   "outputs": [
    {
     "name": "stdout",
     "output_type": "stream",
     "text": [
      "도시\n",
      "서울    수도권\n",
      "부산    경상권\n",
      "인천    수도권\n",
      "대구    경상권\n",
      "Name: 지역, dtype: object\n",
      "<class 'pandas.core.series.Series'>\n",
      "특성     2010     2015\n",
      "도시                  \n",
      "서울  9631482  9904312\n",
      "부산  3393191  3448737\n",
      "인천  2632035  2890451\n",
      "대구  2431774  2466052\n",
      "특성     2010\n",
      "도시         \n",
      "서울  9631482\n",
      "부산  3393191\n",
      "인천  2632035\n",
      "대구  2431774\n",
      "<class 'pandas.core.frame.DataFrame'>\n",
      "도시\n",
      "서울    9631482\n",
      "부산    3393191\n",
      "인천    2632035\n",
      "대구    2431774\n",
      "Name: 2010, dtype: int64\n"
     ]
    }
   ],
   "source": [
    "import pandas as pd\n",
    "# 하나의 열만 인덱싱하면 시리즈가 반환된다. \n",
    "D1 = df[\"지역\"]\n",
    "print(D1) ; print(type(D1))\n",
    "\n",
    "#여러개의 열을 인덱싱하면 부분적인 데이터프레임이 반환된다.\n",
    "print(df[[\"2010\", \"2015\"]])\n",
    "\n",
    "#2010이라는 열을 반환하면서 데이터프레임 자료형을 유지\n",
    "print(df[[\"2010\"]])\n",
    "\n",
    "print(type(df[[\"2010\"]]))\n",
    "\n",
    "#2010이라는 열을 반환하면서 시리즈 자료형으로 반환\n",
    "print(df[\"2010\"])\n",
    "\n",
    "#print(df[0])"
   ]
  },
  {
   "cell_type": "code",
   "execution_count": 45,
   "id": "ceramic-grocery",
   "metadata": {
    "ExecuteTime": {
     "end_time": "2021-06-05T03:32:25.072772Z",
     "start_time": "2021-06-05T03:32:25.049364Z"
    }
   },
   "outputs": [
    {
     "name": "stdout",
     "output_type": "stream",
     "text": [
      "   0  1   2   3\n",
      "0  0  1   2   3\n",
      "1  4  5   6   7\n",
      "2  8  9  10  11\n",
      "0     2\n",
      "1     6\n",
      "2    10\n",
      "Name: 2, dtype: int32\n",
      "   1   2\n",
      "0  1   2\n",
      "1  5   6\n",
      "2  9  10\n"
     ]
    }
   ],
   "source": [
    "import numpy as np\n",
    "df2 = pd.DataFrame(np.arange(12).reshape(3,4))\n",
    "print(df2)\n",
    "print(df2[2])\n",
    "print(df2[[1,2]])"
   ]
  },
  {
   "cell_type": "code",
   "execution_count": 46,
   "id": "sought-queens",
   "metadata": {
    "ExecuteTime": {
     "end_time": "2021-06-05T03:32:25.419806Z",
     "start_time": "2021-06-05T03:32:25.387802Z"
    }
   },
   "outputs": [
    {
     "name": "stdout",
     "output_type": "stream",
     "text": [
      "특성   지역     2015     2010     2005     2000  2005-2010 증가율\n",
      "도시                                                        \n",
      "서울  수도권  9904312  9631482  9762546  9853972          -1.34\n",
      "특성   지역     2015     2010     2005     2000  2005-2010 증가율\n",
      "도시                                                        \n",
      "부산  경상권  3448737  3393191  3512547  3655437           -3.4\n",
      "특성   지역     2015     2010     2005     2000  2005-2010 증가율\n",
      "도시                                                        \n",
      "부산  경상권  3448737  3393191  3512547  3655437          -3.40\n",
      "인천  수도권  2890451  2632035  2517680  2466338           4.54\n",
      "특성   지역     2015     2010     2005     2000  2005-2010 증가율\n",
      "도시                                                        \n",
      "서울  수도권  9904312  9631482  9762546  9853972          -1.34\n",
      "부산  경상권  3448737  3393191  3512547  3655437          -3.40\n",
      "9904312\n"
     ]
    }
   ],
   "source": [
    "import pandas as pd\n",
    "print(df[:1])\n",
    "\n",
    "print(df[1:2])\n",
    "\n",
    "print(df[1:3])\n",
    "\n",
    "print(df[\"서울\":\"부산\"])\n",
    "\n",
    "print(df[\"2015\"][\"서울\"])"
   ]
  },
  {
   "cell_type": "code",
   "execution_count": 47,
   "id": "sharp-primary",
   "metadata": {
    "ExecuteTime": {
     "end_time": "2021-06-05T03:32:25.833220Z",
     "start_time": "2021-06-05T03:32:25.813317Z"
    }
   },
   "outputs": [
    {
     "name": "stdout",
     "output_type": "stream",
     "text": [
      "    국어  영어  수학\n",
      "춘향  80  90  90\n",
      "몽룡  90  70  60\n",
      "향단  70  60  80\n",
      "방자  30  40  70\n"
     ]
    }
   ],
   "source": [
    "import pandas as pd\n",
    "\n",
    "data = {\n",
    "    \"국어\": [80, 90, 70, 30],\n",
    "    \"영어\": [90, 70, 60, 40],\n",
    "    \"수학\": [90, 60, 80, 70],\n",
    "}\n",
    "columns = [\"국어\", \"영어\", \"수학\"]\n",
    "index = [\"춘향\", \"몽룡\", \"향단\", \"방자\"]\n",
    "df = pd.DataFrame(data, index=index, columns=columns)\n",
    "\n",
    "print(df)"
   ]
  },
  {
   "cell_type": "code",
   "execution_count": 48,
   "id": "prompt-moldova",
   "metadata": {
    "ExecuteTime": {
     "end_time": "2021-06-05T03:32:26.122340Z",
     "start_time": "2021-06-05T03:32:26.106510Z"
    }
   },
   "outputs": [
    {
     "name": "stdout",
     "output_type": "stream",
     "text": [
      "춘향    90\n",
      "몽룡    60\n",
      "향단    80\n",
      "방자    70\n",
      "dtype: int64\n"
     ]
    }
   ],
   "source": [
    "#(1)\n",
    "s = pd.Series([90, 60, 80, 70], index = [\"춘향\", \"몽룡\",\"향단\", \"방자\"])\n",
    "print(s)"
   ]
  },
  {
   "cell_type": "code",
   "execution_count": 49,
   "id": "fresh-channel",
   "metadata": {
    "ExecuteTime": {
     "end_time": "2021-06-05T03:32:26.459045Z",
     "start_time": "2021-06-05T03:32:26.435629Z"
    }
   },
   "outputs": [
    {
     "name": "stdout",
     "output_type": "stream",
     "text": [
      "    국어  영어\n",
      "춘향  80  90\n",
      "몽룡  90  70\n",
      "향단  70  60\n",
      "방자  30  40\n"
     ]
    }
   ],
   "source": [
    "#(2)\n",
    "df = pd.DataFrame(data, index= index, columns=columns)\n",
    "print(df[[\"국어\", \"영어\"]])"
   ]
  },
  {
   "cell_type": "code",
   "execution_count": 51,
   "id": "crude-watson",
   "metadata": {
    "ExecuteTime": {
     "end_time": "2021-06-05T03:32:34.382344Z",
     "start_time": "2021-06-05T03:32:34.366531Z"
    }
   },
   "outputs": [
    {
     "name": "stdout",
     "output_type": "stream",
     "text": [
      "<class 'pandas.core.series.Series'>\n",
      "\n",
      "\n",
      "a    1\n",
      "b    2\n",
      "c    3\n",
      "dtype: int64\n"
     ]
    }
   ],
   "source": [
    "import pandas as pd\n",
    "\n",
    "dict_data = {'a':1,'b':2,'c':3}\n",
    "series_data = pd.Series(dict_data)\n",
    "\n",
    "print(type(series_data))\n",
    "print('\\n')\n",
    "print(series_data)"
   ]
  },
  {
   "cell_type": "code",
   "execution_count": null,
   "id": "bored-advancement",
   "metadata": {},
   "outputs": [],
   "source": []
  }
 ],
 "metadata": {
  "kernelspec": {
   "display_name": "Python 3",
   "language": "python",
   "name": "python3"
  },
  "language_info": {
   "codemirror_mode": {
    "name": "ipython",
    "version": 3
   },
   "file_extension": ".py",
   "mimetype": "text/x-python",
   "name": "python",
   "nbconvert_exporter": "python",
   "pygments_lexer": "ipython3",
   "version": "3.7.10"
  },
  "toc": {
   "base_numbering": 1,
   "nav_menu": {},
   "number_sections": true,
   "sideBar": true,
   "skip_h1_title": false,
   "title_cell": "Table of Contents",
   "title_sidebar": "Contents",
   "toc_cell": false,
   "toc_position": {},
   "toc_section_display": true,
   "toc_window_display": false
  }
 },
 "nbformat": 4,
 "nbformat_minor": 5
}
