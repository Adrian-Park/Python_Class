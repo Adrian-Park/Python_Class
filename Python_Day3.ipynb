{
 "cells": [
  {
   "cell_type": "markdown",
   "id": "f015d469",
   "metadata": {},
   "source": [
    "# 반복문"
   ]
  },
  {
   "cell_type": "code",
   "execution_count": 7,
   "id": "pacific-point",
   "metadata": {
    "ExecuteTime": {
     "end_time": "2021-06-05T02:17:17.731251Z",
     "start_time": "2021-06-05T02:17:17.716800Z"
    }
   },
   "outputs": [
    {
     "name": "stdout",
     "output_type": "stream",
     "text": [
      "1\n",
      "3\n",
      "6\n",
      "10\n",
      "15\n",
      "21\n",
      "28\n",
      "36\n",
      "45\n",
      "55\n"
     ]
    }
   ],
   "source": [
    "i = 1\n",
    "s = 0\n",
    "while i <= 10:\n",
    "    s = s + i\n",
    "    i = i + 1\n",
    "    print(s)"
   ]
  },
  {
   "cell_type": "code",
   "execution_count": 8,
   "id": "otherwise-twins",
   "metadata": {
    "ExecuteTime": {
     "end_time": "2021-06-05T02:17:18.262549Z",
     "start_time": "2021-06-05T02:17:18.252546Z"
    }
   },
   "outputs": [
    {
     "name": "stdout",
     "output_type": "stream",
     "text": [
      "55\n"
     ]
    }
   ],
   "source": [
    "i=1\n",
    "s=0\n",
    "while i <= 10:\n",
    "    s+=i\n",
    "    i+=1\n",
    "print(s)"
   ]
  },
  {
   "cell_type": "code",
   "execution_count": 9,
   "id": "separated-mixture",
   "metadata": {
    "ExecuteTime": {
     "end_time": "2021-06-05T02:17:19.016033Z",
     "start_time": "2021-06-05T02:17:19.000031Z"
    }
   },
   "outputs": [
    {
     "name": "stdout",
     "output_type": "stream",
     "text": [
      "9\n",
      "7\n",
      "5\n",
      "3\n",
      "1\n"
     ]
    }
   ],
   "source": [
    "i = 9\n",
    "while i >= 1:\n",
    "    print(i)\n",
    "    i = i - 2"
   ]
  },
  {
   "cell_type": "code",
   "execution_count": 12,
   "id": "lasting-nebraska",
   "metadata": {
    "ExecuteTime": {
     "end_time": "2021-06-05T02:17:29.877253Z",
     "start_time": "2021-06-05T02:17:29.858242Z"
    }
   },
   "outputs": [
    {
     "name": "stdout",
     "output_type": "stream",
     "text": [
      "0\n",
      "1\n",
      "2\n",
      "3\n",
      "4\n",
      "6\n",
      "7\n",
      "8\n",
      "9\n",
      "End of Program\n"
     ]
    }
   ],
   "source": [
    "for i in range(10):\n",
    "    if i == 5: \n",
    "        continue\n",
    "    print(i)\n",
    "print(\"End of Program\")"
   ]
  },
  {
   "cell_type": "code",
   "execution_count": 13,
   "id": "indirect-citation",
   "metadata": {
    "ExecuteTime": {
     "end_time": "2021-06-05T02:17:31.430855Z",
     "start_time": "2021-06-05T02:17:31.420855Z"
    }
   },
   "outputs": [
    {
     "name": "stdout",
     "output_type": "stream",
     "text": [
      "0\n",
      "1\n",
      "2\n",
      "3\n",
      "4\n",
      "0\n",
      "1\n",
      "2\n",
      "3\n",
      "4\n",
      "5\n",
      "6\n",
      "7\n",
      "8\n",
      "9\n",
      "End of Program\n",
      "0\n",
      "1\n",
      "2\n",
      "3\n",
      "4\n",
      "6\n",
      "7\n",
      "8\n",
      "9\n",
      "End of Program\n"
     ]
    }
   ],
   "source": [
    "for i in range(10):\n",
    "    if i == 5:\n",
    "        break\n",
    "    print(i)\n",
    "else:\n",
    "    print(\"End of Program\")\n",
    "\n",
    "    \n",
    "for i in range(10):\n",
    "    print(i)\n",
    "else:\n",
    "    print(\"End of Program\")\n",
    "    \n",
    "    \n",
    "for i in range(10):\n",
    "    if i == 5:\n",
    "        continue\n",
    "    print(i)\n",
    "else:\n",
    "    print(\"End of Program\")"
   ]
  },
  {
   "cell_type": "code",
   "execution_count": 14,
   "id": "surprised-communist",
   "metadata": {
    "ExecuteTime": {
     "end_time": "2021-06-05T02:17:32.906073Z",
     "start_time": "2021-06-05T02:17:32.889054Z"
    }
   },
   "outputs": [
    {
     "name": "stdout",
     "output_type": "stream",
     "text": [
      "*  *  *  *  *  \n",
      "*  *  *  *  *  \n",
      "*  *  *  *  *  \n",
      "*  *  *  *  *  \n",
      "*  *  *  *  *  \n"
     ]
    }
   ],
   "source": [
    "for row in range(5): #행 반복\n",
    "    for col in range(5):\n",
    "        print(\"* \", end = \" \")\n",
    "    print()"
   ]
  },
  {
   "cell_type": "code",
   "execution_count": 15,
   "id": "massive-blogger",
   "metadata": {
    "ExecuteTime": {
     "end_time": "2021-06-05T02:17:35.491307Z",
     "start_time": "2021-06-05T02:17:35.471302Z"
    }
   },
   "outputs": [
    {
     "name": "stdout",
     "output_type": "stream",
     "text": [
      "*  \n",
      "*  *  \n",
      "*  *  *  \n",
      "*  *  *  *  \n",
      "*  *  *  *  *  \n"
     ]
    }
   ],
   "source": [
    "for row in range(5):\n",
    "    for col in range(row + 1):\n",
    "        print(\"* \", end = \" \")\n",
    "    print()"
   ]
  },
  {
   "cell_type": "code",
   "execution_count": 16,
   "id": "consecutive-seating",
   "metadata": {
    "ExecuteTime": {
     "end_time": "2021-06-05T02:17:36.502584Z",
     "start_time": "2021-06-05T02:17:36.487581Z"
    }
   },
   "outputs": [
    {
     "name": "stdout",
     "output_type": "stream",
     "text": [
      "*  *  *  *  *  \n",
      "*  *  *  *  \n",
      "*  *  *  \n",
      "*  *  \n",
      "*  \n"
     ]
    }
   ],
   "source": [
    "for row in range(5):\n",
    "    for col in range(5 - row):\n",
    "        print(\"* \", end = \" \")\n",
    "    print()"
   ]
  },
  {
   "cell_type": "code",
   "execution_count": 17,
   "id": "consecutive-factor",
   "metadata": {
    "ExecuteTime": {
     "end_time": "2021-06-05T02:17:37.361157Z",
     "start_time": "2021-06-05T02:17:37.345177Z"
    }
   },
   "outputs": [
    {
     "name": "stdout",
     "output_type": "stream",
     "text": [
      "* * * * * \n",
      "* * * * \n",
      "* * * \n",
      "* * \n",
      "* \n"
     ]
    }
   ],
   "source": [
    "for i in range(1,6):\n",
    "    print(\"* \"*(6-i))\n"
   ]
  },
  {
   "cell_type": "code",
   "execution_count": 18,
   "id": "fundamental-austin",
   "metadata": {
    "ExecuteTime": {
     "end_time": "2021-06-05T02:17:38.161895Z",
     "start_time": "2021-06-05T02:17:38.153897Z"
    }
   },
   "outputs": [
    {
     "name": "stdout",
     "output_type": "stream",
     "text": [
      "          * \n",
      "        * * \n",
      "      * * * \n",
      "    * * * * \n",
      "  * * * * * \n"
     ]
    }
   ],
   "source": [
    "for row in range(5):\n",
    "    for col in range(5, row, -1):\n",
    "        print(\" \", end = \" \")\n",
    "    for col in range(row + 1):\n",
    "        print(\"*\", end = \" \")\n",
    "    print()"
   ]
  },
  {
   "cell_type": "code",
   "execution_count": 19,
   "id": "martial-platinum",
   "metadata": {
    "ExecuteTime": {
     "end_time": "2021-06-05T02:17:38.994441Z",
     "start_time": "2021-06-05T02:17:38.976438Z"
    }
   },
   "outputs": [
    {
     "name": "stdout",
     "output_type": "stream",
     "text": [
      "9\n",
      "7\n",
      "5\n",
      "3\n",
      "1\n"
     ]
    }
   ],
   "source": [
    "cnt = 10\n",
    "while cnt > 0 :\n",
    "    if cnt%2==1:\n",
    "        print(cnt)\n",
    "    cnt -= 1"
   ]
  },
  {
   "cell_type": "code",
   "execution_count": 20,
   "id": "round-capitol",
   "metadata": {
    "ExecuteTime": {
     "end_time": "2021-06-05T02:17:40.239096Z",
     "start_time": "2021-06-05T02:17:40.229084Z"
    }
   },
   "outputs": [
    {
     "name": "stdout",
     "output_type": "stream",
     "text": [
      "9\n",
      "7\n",
      "5\n",
      "3\n",
      "1\n"
     ]
    }
   ],
   "source": [
    "cnt = 10\n",
    "while cnt > 0:\n",
    "    if cnt % 2 == 1:\n",
    "        print(cnt)\n",
    "    cnt = cnt - 1"
   ]
  },
  {
   "cell_type": "code",
   "execution_count": 21,
   "id": "prescribed-rebate",
   "metadata": {
    "ExecuteTime": {
     "end_time": "2021-06-05T02:17:40.935020Z",
     "start_time": "2021-06-05T02:17:40.925010Z"
    }
   },
   "outputs": [
    {
     "name": "stdout",
     "output_type": "stream",
     "text": [
      "row= 0  col = 0\n",
      "row= 0  col = 1\n",
      "row= 0  col = 2\n",
      "row= 1  col = 0\n",
      "row= 1  col = 1\n",
      "row= 1  col = 2\n",
      "row= 2  col = 0\n",
      "row= 2  col = 1\n",
      "row= 2  col = 2\n"
     ]
    }
   ],
   "source": [
    "for row in range(3):\n",
    "    for col in range(3):\n",
    "        print(\"row=\", row, \" col =\", col)"
   ]
  },
  {
   "cell_type": "code",
   "execution_count": 22,
   "id": "computational-honduras",
   "metadata": {
    "ExecuteTime": {
     "end_time": "2021-06-05T02:17:41.477027Z",
     "start_time": "2021-06-05T02:17:41.457004Z"
    }
   },
   "outputs": [
    {
     "name": "stdout",
     "output_type": "stream",
     "text": [
      "row=  0  col = 0\n",
      "row=  0  col = 2\n",
      "row=  1  col = 0\n",
      "row=  1  col = 2\n",
      "row=  2  col = 0\n",
      "row=  2  col = 2\n"
     ]
    }
   ],
   "source": [
    "for row in range(3):\n",
    "    for col in range(3):\n",
    "        if col == 1:\n",
    "            continue\n",
    "        print(\"row= \", row, \" col =\", col)"
   ]
  },
  {
   "cell_type": "code",
   "execution_count": 23,
   "id": "stupid-removal",
   "metadata": {
    "ExecuteTime": {
     "end_time": "2021-06-05T02:17:42.183760Z",
     "start_time": "2021-06-05T02:17:42.172750Z"
    }
   },
   "outputs": [
    {
     "name": "stdout",
     "output_type": "stream",
     "text": [
      "row=  0  col = 0\n",
      "row=  1  col = 0\n",
      "row=  2  col = 0\n"
     ]
    }
   ],
   "source": [
    "for row in range(3):\n",
    "    for col in range(3):\n",
    "        if col == 1:\n",
    "            break\n",
    "        print(\"row= \", row, \" col =\", col)"
   ]
  },
  {
   "cell_type": "code",
   "execution_count": 24,
   "id": "productive-creator",
   "metadata": {
    "ExecuteTime": {
     "end_time": "2021-06-05T02:17:42.839645Z",
     "start_time": "2021-06-05T02:17:42.821644Z"
    }
   },
   "outputs": [
    {
     "name": "stdout",
     "output_type": "stream",
     "text": [
      "2  x  1  =  2\n",
      "2  x  2  =  4\n",
      "2  x  3  =  6\n",
      "2  x  4  =  8\n",
      "2  x  5  =  10\n",
      "2  x  6  =  12\n",
      "2  x  7  =  14\n",
      "2  x  8  =  16\n",
      "2  x  9  =  18\n",
      "3  x  1  =  3\n",
      "3  x  2  =  6\n",
      "3  x  3  =  9\n",
      "3  x  4  =  12\n",
      "3  x  5  =  15\n",
      "3  x  6  =  18\n",
      "3  x  7  =  21\n",
      "3  x  8  =  24\n",
      "3  x  9  =  27\n",
      "4  x  1  =  4\n",
      "4  x  2  =  8\n",
      "4  x  3  =  12\n",
      "4  x  4  =  16\n",
      "4  x  5  =  20\n",
      "4  x  6  =  24\n",
      "4  x  7  =  28\n",
      "4  x  8  =  32\n",
      "4  x  9  =  36\n",
      "5  x  1  =  5\n",
      "5  x  2  =  10\n",
      "5  x  3  =  15\n",
      "5  x  4  =  20\n",
      "5  x  5  =  25\n",
      "5  x  6  =  30\n",
      "5  x  7  =  35\n",
      "5  x  8  =  40\n",
      "5  x  9  =  45\n",
      "6  x  1  =  6\n",
      "6  x  2  =  12\n",
      "6  x  3  =  18\n",
      "6  x  4  =  24\n",
      "6  x  5  =  30\n",
      "6  x  6  =  36\n",
      "6  x  7  =  42\n",
      "6  x  8  =  48\n",
      "6  x  9  =  54\n",
      "7  x  1  =  7\n",
      "7  x  2  =  14\n",
      "7  x  3  =  21\n",
      "7  x  4  =  28\n",
      "7  x  5  =  35\n",
      "7  x  6  =  42\n",
      "7  x  7  =  49\n",
      "7  x  8  =  56\n",
      "7  x  9  =  63\n",
      "8  x  1  =  8\n",
      "8  x  2  =  16\n",
      "8  x  3  =  24\n",
      "8  x  4  =  32\n",
      "8  x  5  =  40\n",
      "8  x  6  =  48\n",
      "8  x  7  =  56\n",
      "8  x  8  =  64\n",
      "8  x  9  =  72\n",
      "9  x  1  =  9\n",
      "9  x  2  =  18\n",
      "9  x  3  =  27\n",
      "9  x  4  =  36\n",
      "9  x  5  =  45\n",
      "9  x  6  =  54\n",
      "9  x  7  =  63\n",
      "9  x  8  =  72\n",
      "9  x  9  =  81\n"
     ]
    }
   ],
   "source": [
    "for row in range(2, 10):\n",
    "    for col in range(1, 10):\n",
    "        print(row, \" x \" , col, \" = \", row * col)"
   ]
  },
  {
   "cell_type": "code",
   "execution_count": 25,
   "id": "atmospheric-fault",
   "metadata": {
    "ExecuteTime": {
     "end_time": "2021-06-05T02:17:43.603602Z",
     "start_time": "2021-06-05T02:17:43.590602Z"
    },
    "scrolled": true
   },
   "outputs": [
    {
     "name": "stdout",
     "output_type": "stream",
     "text": [
      "2 x 1 = 2\t3 x 1 = 3\t4 x 1 = 4\t5 x 1 = 5\t6 x 1 = 6\t7 x 1 = 7\t8 x 1 = 8\t9 x 1 = 9\t\n",
      "2 x 2 = 4\t3 x 2 = 6\t4 x 2 = 8\t5 x 2 = 10\t6 x 2 = 12\t7 x 2 = 14\t8 x 2 = 16\t9 x 2 = 18\t\n",
      "2 x 3 = 6\t3 x 3 = 9\t4 x 3 = 12\t5 x 3 = 15\t6 x 3 = 18\t7 x 3 = 21\t8 x 3 = 24\t9 x 3 = 27\t\n",
      "2 x 4 = 8\t3 x 4 = 12\t4 x 4 = 16\t5 x 4 = 20\t6 x 4 = 24\t7 x 4 = 28\t8 x 4 = 32\t9 x 4 = 36\t\n",
      "2 x 5 = 10\t3 x 5 = 15\t4 x 5 = 20\t5 x 5 = 25\t6 x 5 = 30\t7 x 5 = 35\t8 x 5 = 40\t9 x 5 = 45\t\n",
      "2 x 6 = 12\t3 x 6 = 18\t4 x 6 = 24\t5 x 6 = 30\t6 x 6 = 36\t7 x 6 = 42\t8 x 6 = 48\t9 x 6 = 54\t\n",
      "2 x 7 = 14\t3 x 7 = 21\t4 x 7 = 28\t5 x 7 = 35\t6 x 7 = 42\t7 x 7 = 49\t8 x 7 = 56\t9 x 7 = 63\t\n",
      "2 x 8 = 16\t3 x 8 = 24\t4 x 8 = 32\t5 x 8 = 40\t6 x 8 = 48\t7 x 8 = 56\t8 x 8 = 64\t9 x 8 = 72\t\n",
      "2 x 9 = 18\t3 x 9 = 27\t4 x 9 = 36\t5 x 9 = 45\t6 x 9 = 54\t7 x 9 = 63\t8 x 9 = 72\t9 x 9 = 81\t\n"
     ]
    }
   ],
   "source": [
    "for row in range(1, 10):\n",
    "    for col in range(2, 10):\n",
    "        print(\"%d x %d = %d\" % (col, row, row * col), end = \"\\t\")\n",
    "    print()"
   ]
  },
  {
   "cell_type": "code",
   "execution_count": 26,
   "id": "czech-topic",
   "metadata": {
    "ExecuteTime": {
     "end_time": "2021-06-05T02:17:44.329492Z",
     "start_time": "2021-06-05T02:17:44.309488Z"
    }
   },
   "outputs": [
    {
     "name": "stdout",
     "output_type": "stream",
     "text": [
      "I I\n",
      "   \n",
      "l l\n",
      "o o\n",
      "v v\n",
      "e e\n",
      "   \n",
      "Y Y\n",
      "o o\n",
      "u u\n"
     ]
    }
   ],
   "source": [
    "for s in \"I love You\":\n",
    "    print(s, s[::-1])"
   ]
  },
  {
   "cell_type": "code",
   "execution_count": 32,
   "id": "third-track",
   "metadata": {
    "ExecuteTime": {
     "end_time": "2021-06-05T02:21:15.539537Z",
     "start_time": "2021-06-05T02:21:02.754431Z"
    }
   },
   "outputs": [
    {
     "name": "stdout",
     "output_type": "stream",
     "text": [
      "숫자를 맞혀보세요. 기회는 5번입니다.(1~100)\n",
      "숫자를 입력하세요: 50\n",
      "DOWN! 더 큰 숫자를 입력하세요.\n",
      "숫자를 입력하세요: 75\n",
      "DOWN! 더 큰 숫자를 입력하세요.\n",
      "숫자를 입력하세요: 85\n",
      "DOWN! 더 큰 숫자를 입력하세요.\n",
      "숫자를 입력하세요: 95\n",
      "UP! 더 작은 숫자를 입력하세요.\n",
      "숫자를 입력하세요: 90\n",
      "DOWN! 더 큰 숫자를 입력하세요.\n",
      "I am Winner, You Fail. My number is 94\n"
     ]
    }
   ],
   "source": [
    "import random\n",
    "print('숫자를 맞혀보세요. 기회는 5번입니다.(1~100)')\n",
    "computer = random.randint(1, 101)\n",
    "\n",
    "num = 0\n",
    "count = 0\n",
    "while num != computer and count != 5:\n",
    "    num = int(input('숫자를 입력하세요: '))\n",
    "    if num > computer:\n",
    "        print('UP! 더 작은 숫자를 입력하세요.')\n",
    "    elif num < computer:\n",
    "        print('DOWN! 더 큰 숫자를 입력하세요.')\n",
    "    count = count + 1\n",
    "    if count >= 5:\n",
    "        print('I am Winner, You Fail. My number is %d' % computer)\n",
    "    elif num == computer:\n",
    "        print('You Winner')"
   ]
  },
  {
   "cell_type": "markdown",
   "id": "46b90696",
   "metadata": {},
   "source": [
    "# 리스트 자료형"
   ]
  },
  {
   "cell_type": "code",
   "execution_count": 33,
   "id": "aggressive-retailer",
   "metadata": {
    "ExecuteTime": {
     "end_time": "2021-06-05T02:21:39.052626Z",
     "start_time": "2021-06-05T02:21:39.045632Z"
    }
   },
   "outputs": [],
   "source": [
    "colors = ['red', 'blue', 'green']"
   ]
  },
  {
   "cell_type": "code",
   "execution_count": 34,
   "id": "addressed-chorus",
   "metadata": {
    "ExecuteTime": {
     "end_time": "2021-06-05T02:21:44.672019Z",
     "start_time": "2021-06-05T02:21:44.651010Z"
    }
   },
   "outputs": [
    {
     "data": {
      "text/plain": [
       "['red', 'blue', 'green']"
      ]
     },
     "execution_count": 34,
     "metadata": {},
     "output_type": "execute_result"
    }
   ],
   "source": [
    "colors"
   ]
  },
  {
   "cell_type": "code",
   "execution_count": 35,
   "id": "warming-style",
   "metadata": {
    "ExecuteTime": {
     "end_time": "2021-06-05T02:21:45.482681Z",
     "start_time": "2021-06-05T02:21:45.479682Z"
    }
   },
   "outputs": [],
   "source": [
    "colors.append('black')"
   ]
  },
  {
   "cell_type": "code",
   "execution_count": 36,
   "id": "south-locking",
   "metadata": {
    "ExecuteTime": {
     "end_time": "2021-06-05T02:21:45.967130Z",
     "start_time": "2021-06-05T02:21:45.948137Z"
    }
   },
   "outputs": [
    {
     "data": {
      "text/plain": [
       "['red', 'blue', 'green', 'black']"
      ]
     },
     "execution_count": 36,
     "metadata": {},
     "output_type": "execute_result"
    }
   ],
   "source": [
    "colors"
   ]
  },
  {
   "cell_type": "code",
   "execution_count": 38,
   "id": "bottom-hearing",
   "metadata": {
    "ExecuteTime": {
     "end_time": "2021-06-05T02:22:19.558770Z",
     "start_time": "2021-06-05T02:22:19.555762Z"
    }
   },
   "outputs": [],
   "source": [
    "del colors[0]"
   ]
  },
  {
   "cell_type": "code",
   "execution_count": 39,
   "id": "mental-pakistan",
   "metadata": {
    "ExecuteTime": {
     "end_time": "2021-06-05T02:22:21.196655Z",
     "start_time": "2021-06-05T02:22:21.180889Z"
    }
   },
   "outputs": [
    {
     "data": {
      "text/plain": [
       "['green', 'black']"
      ]
     },
     "execution_count": 39,
     "metadata": {},
     "output_type": "execute_result"
    }
   ],
   "source": [
    "colors"
   ]
  },
  {
   "cell_type": "code",
   "execution_count": 40,
   "id": "engaging-october",
   "metadata": {
    "ExecuteTime": {
     "end_time": "2021-06-05T02:22:21.746461Z",
     "start_time": "2021-06-05T02:22:21.729787Z"
    }
   },
   "outputs": [],
   "source": [
    "colors.insert(1,'red')"
   ]
  },
  {
   "cell_type": "code",
   "execution_count": 41,
   "id": "intermediate-classic",
   "metadata": {
    "ExecuteTime": {
     "end_time": "2021-06-05T02:22:22.259944Z",
     "start_time": "2021-06-05T02:22:22.249933Z"
    }
   },
   "outputs": [
    {
     "data": {
      "text/plain": [
       "['green', 'red', 'black']"
      ]
     },
     "execution_count": 41,
     "metadata": {},
     "output_type": "execute_result"
    }
   ],
   "source": [
    "colors"
   ]
  },
  {
   "cell_type": "code",
   "execution_count": 42,
   "id": "joined-oasis",
   "metadata": {
    "ExecuteTime": {
     "end_time": "2021-06-05T02:22:22.695048Z",
     "start_time": "2021-06-05T02:22:22.691915Z"
    }
   },
   "outputs": [],
   "source": [
    "a = [5, 4, 3, 2, 1]\n",
    "b = [1, 2, 3, 4, 5]\n",
    "b = a"
   ]
  },
  {
   "cell_type": "code",
   "execution_count": 43,
   "id": "damaged-discharge",
   "metadata": {
    "ExecuteTime": {
     "end_time": "2021-06-05T02:22:23.352341Z",
     "start_time": "2021-06-05T02:22:23.343339Z"
    }
   },
   "outputs": [
    {
     "name": "stdout",
     "output_type": "stream",
     "text": [
      "[5, 4, 3, 2, 1]\n"
     ]
    }
   ],
   "source": [
    "print(b)"
   ]
  },
  {
   "cell_type": "code",
   "execution_count": 44,
   "id": "incomplete-concentration",
   "metadata": {
    "ExecuteTime": {
     "end_time": "2021-06-05T02:22:23.772356Z",
     "start_time": "2021-06-05T02:22:23.761360Z"
    }
   },
   "outputs": [
    {
     "data": {
      "text/plain": [
       "[5, 4, 3, 2, 1]"
      ]
     },
     "execution_count": 44,
     "metadata": {},
     "output_type": "execute_result"
    }
   ],
   "source": [
    "b"
   ]
  },
  {
   "cell_type": "code",
   "execution_count": 45,
   "id": "civil-influence",
   "metadata": {
    "ExecuteTime": {
     "end_time": "2021-06-05T02:22:24.255402Z",
     "start_time": "2021-06-05T02:22:24.249401Z"
    }
   },
   "outputs": [
    {
     "data": {
      "text/plain": [
       "2536141214152"
      ]
     },
     "execution_count": 45,
     "metadata": {},
     "output_type": "execute_result"
    }
   ],
   "source": [
    "id(a)\n",
    "id(b)"
   ]
  },
  {
   "cell_type": "code",
   "execution_count": 46,
   "id": "small-baking",
   "metadata": {
    "ExecuteTime": {
     "end_time": "2021-06-05T02:22:24.597508Z",
     "start_time": "2021-06-05T02:22:24.578513Z"
    }
   },
   "outputs": [
    {
     "data": {
      "text/plain": [
       "2536141214152"
      ]
     },
     "execution_count": 46,
     "metadata": {},
     "output_type": "execute_result"
    }
   ],
   "source": [
    "id(a)"
   ]
  },
  {
   "cell_type": "code",
   "execution_count": 47,
   "id": "framed-office",
   "metadata": {
    "ExecuteTime": {
     "end_time": "2021-06-05T02:22:24.922254Z",
     "start_time": "2021-06-05T02:22:24.904249Z"
    }
   },
   "outputs": [
    {
     "data": {
      "text/plain": [
       "2536141214152"
      ]
     },
     "execution_count": 47,
     "metadata": {},
     "output_type": "execute_result"
    }
   ],
   "source": [
    "id(b)"
   ]
  },
  {
   "cell_type": "code",
   "execution_count": 48,
   "id": "soviet-hazard",
   "metadata": {
    "ExecuteTime": {
     "end_time": "2021-06-05T02:22:25.444393Z",
     "start_time": "2021-06-05T02:22:25.412856Z"
    }
   },
   "outputs": [
    {
     "data": {
      "text/plain": [
       "False"
      ]
     },
     "execution_count": 48,
     "metadata": {},
     "output_type": "execute_result"
    }
   ],
   "source": [
    "lst = [1, 2, 3, 4]\n",
    "\n",
    "lc = lst.copy()\n",
    "\n",
    "lc == lst\n",
    "\n",
    "lc is lst"
   ]
  },
  {
   "cell_type": "code",
   "execution_count": 49,
   "id": "smoking-flush",
   "metadata": {
    "ExecuteTime": {
     "end_time": "2021-06-05T02:22:26.812148Z",
     "start_time": "2021-06-05T02:22:26.799140Z"
    }
   },
   "outputs": [
    {
     "data": {
      "text/plain": [
       "False"
      ]
     },
     "execution_count": 49,
     "metadata": {},
     "output_type": "execute_result"
    }
   ],
   "source": [
    "id = list(lst)\n",
    "id == lst\n",
    "id is lst"
   ]
  },
  {
   "cell_type": "code",
   "execution_count": 50,
   "id": "qualified-marking",
   "metadata": {
    "ExecuteTime": {
     "end_time": "2021-06-05T02:22:27.581011Z",
     "start_time": "2021-06-05T02:22:27.576034Z"
    }
   },
   "outputs": [],
   "source": [
    "lst = [1, 2, 3, 4]\n",
    "\n",
    "lc = lst.copy()"
   ]
  },
  {
   "cell_type": "code",
   "execution_count": 51,
   "id": "crazy-planning",
   "metadata": {
    "ExecuteTime": {
     "end_time": "2021-06-05T02:22:28.094996Z",
     "start_time": "2021-06-05T02:22:28.084002Z"
    }
   },
   "outputs": [
    {
     "data": {
      "text/plain": [
       "True"
      ]
     },
     "execution_count": 51,
     "metadata": {},
     "output_type": "execute_result"
    }
   ],
   "source": [
    "lc == lst\n"
   ]
  },
  {
   "cell_type": "code",
   "execution_count": 52,
   "id": "wooden-antarctica",
   "metadata": {
    "ExecuteTime": {
     "end_time": "2021-06-05T02:22:28.933639Z",
     "start_time": "2021-06-05T02:22:28.914630Z"
    }
   },
   "outputs": [
    {
     "data": {
      "text/plain": [
       "False"
      ]
     },
     "execution_count": 52,
     "metadata": {},
     "output_type": "execute_result"
    }
   ],
   "source": [
    "lc is lst"
   ]
  },
  {
   "cell_type": "code",
   "execution_count": 53,
   "id": "starting-desperate",
   "metadata": {
    "ExecuteTime": {
     "end_time": "2021-06-05T02:22:29.475904Z",
     "start_time": "2021-06-05T02:22:29.464908Z"
    }
   },
   "outputs": [],
   "source": [
    "id = list(lst)"
   ]
  },
  {
   "cell_type": "code",
   "execution_count": 54,
   "id": "surprising-publicity",
   "metadata": {
    "ExecuteTime": {
     "end_time": "2021-06-05T02:22:29.882811Z",
     "start_time": "2021-06-05T02:22:29.869809Z"
    }
   },
   "outputs": [
    {
     "data": {
      "text/plain": [
       "True"
      ]
     },
     "execution_count": 54,
     "metadata": {},
     "output_type": "execute_result"
    }
   ],
   "source": [
    "id == lst"
   ]
  },
  {
   "cell_type": "code",
   "execution_count": 55,
   "id": "mediterranean-graphics",
   "metadata": {
    "ExecuteTime": {
     "end_time": "2021-06-05T02:22:30.226268Z",
     "start_time": "2021-06-05T02:22:30.216283Z"
    }
   },
   "outputs": [
    {
     "data": {
      "text/plain": [
       "False"
      ]
     },
     "execution_count": 55,
     "metadata": {},
     "output_type": "execute_result"
    }
   ],
   "source": [
    "id is lst"
   ]
  },
  {
   "cell_type": "code",
   "execution_count": 56,
   "id": "corrected-christianity",
   "metadata": {
    "ExecuteTime": {
     "end_time": "2021-06-05T02:22:30.662236Z",
     "start_time": "2021-06-05T02:22:30.646213Z"
    }
   },
   "outputs": [
    {
     "data": {
      "text/plain": [
       "False"
      ]
     },
     "execution_count": 56,
     "metadata": {},
     "output_type": "execute_result"
    }
   ],
   "source": [
    "lst = [1, 2, 3, 4]\n",
    "\n",
    "lc = lst.copy()\n",
    "lc == lst\n",
    "lc is lst"
   ]
  },
  {
   "cell_type": "code",
   "execution_count": 61,
   "id": "distinguished-relative",
   "metadata": {
    "ExecuteTime": {
     "end_time": "2021-06-05T02:22:49.110297Z",
     "start_time": "2021-06-05T02:22:49.099287Z"
    }
   },
   "outputs": [
    {
     "ename": "TypeError",
     "evalue": "'list' object is not callable",
     "output_type": "error",
     "traceback": [
      "\u001b[1;31m---------------------------------------------------------------------------\u001b[0m",
      "\u001b[1;31mTypeError\u001b[0m                                 Traceback (most recent call last)",
      "\u001b[1;32m<ipython-input-61-e575bede529e>\u001b[0m in \u001b[0;36m<module>\u001b[1;34m\u001b[0m\n\u001b[1;32m----> 1\u001b[1;33m \u001b[0mprint\u001b[0m\u001b[1;33m(\u001b[0m\u001b[0mid\u001b[0m\u001b[1;33m(\u001b[0m\u001b[0mlc\u001b[0m\u001b[1;33m)\u001b[0m\u001b[1;33m)\u001b[0m\u001b[1;33m\u001b[0m\u001b[1;33m\u001b[0m\u001b[0m\n\u001b[0m",
      "\u001b[1;31mTypeError\u001b[0m: 'list' object is not callable"
     ]
    }
   ],
   "source": [
    "print(id(lc))"
   ]
  },
  {
   "cell_type": "code",
   "execution_count": 62,
   "id": "operational-wednesday",
   "metadata": {
    "ExecuteTime": {
     "end_time": "2021-06-05T02:22:56.090796Z",
     "start_time": "2021-06-05T02:22:56.080802Z"
    }
   },
   "outputs": [
    {
     "name": "stdout",
     "output_type": "stream",
     "text": [
      "[1, 2, 3, 4]\n"
     ]
    }
   ],
   "source": [
    "print(lst)"
   ]
  },
  {
   "cell_type": "code",
   "execution_count": 64,
   "id": "laughing-manhattan",
   "metadata": {
    "ExecuteTime": {
     "end_time": "2021-06-05T02:23:17.405890Z",
     "start_time": "2021-06-05T02:23:17.395880Z"
    }
   },
   "outputs": [
    {
     "name": "stdout",
     "output_type": "stream",
     "text": [
      "[16.333333333333332, 30.666666666666668, 47.0, 26.666666666666668, 46.666666666666664, 75.0, 6.666666666666667, 35.0, 51.0, 33.333333333333336, 43.333333333333336, 60.0, 26.666666666666668, 56.666666666666664, 90.0]\n"
     ]
    }
   ],
   "source": [
    "kor_score = [49, 80, 20, 100, 80]\n",
    "math_score = [43, 60, 85, 30, 90]\n",
    "eng_score = [49, 85, 48, 50, 100]\n",
    "\n",
    "mid_score = [kor_score, math_score, eng_score]\n",
    "\n",
    "avg_score = []\n",
    "\n",
    "for col in range(5):\n",
    "    total = 0\n",
    "    for row in range(3):\n",
    "        total += mid_score[row][col]\n",
    "        avg_score.append(total/3)\n",
    "print(avg_score)"
   ]
  },
  {
   "cell_type": "code",
   "execution_count": 65,
   "id": "776389ef",
   "metadata": {
    "ExecuteTime": {
     "end_time": "2021-06-05T02:23:23.115485Z",
     "start_time": "2021-06-05T02:23:23.105489Z"
    }
   },
   "outputs": [
    {
     "name": "stdout",
     "output_type": "stream",
     "text": [
      "[47.0, 74.0, 51.0, 60.0, 90.0]\n"
     ]
    }
   ],
   "source": [
    "kor_score = [49, 80, 20, 100, 80]\n",
    "math_score = [43, 60, 85, 30, 90]\n",
    "eng_score = [49, 82, 48, 50, 100]\n",
    "mid_score = [kor_score, math_score, eng_score]\n",
    "\n",
    "avg_score = []\n",
    "\n",
    "for col in range(5):\n",
    "    total = 0\n",
    "    for row in range(3):\n",
    "        total += mid_score[row][col]\n",
    "    avg_score.append(total/3)   \n",
    "print(avg_score)"
   ]
  },
  {
   "cell_type": "code",
   "execution_count": 66,
   "id": "7ce17444",
   "metadata": {
    "ExecuteTime": {
     "end_time": "2021-06-05T02:24:43.646146Z",
     "start_time": "2021-06-05T02:24:43.638154Z"
    }
   },
   "outputs": [
    {
     "name": "stdout",
     "output_type": "stream",
     "text": [
      "[47.0, 74.0, 51.0, 60.0, 90.0]\n"
     ]
    }
   ],
   "source": [
    "kor_score = [49, 80, 20, 100, 80]\n",
    "math_score = [43, 60, 85, 30, 90]\n",
    "eng_score = [49, 82, 48, 50, 100]\n",
    "mid_score = [kor_score, math_score, eng_score]  #2차원리스트\n",
    "\n",
    "\n",
    "avg_score = []\n",
    "for col in range(5):\n",
    "  total = 0           #한 학생의 평균을 내고 다시 0으로 만들어 누적을 지우고 새로 더해 평균을 냄\n",
    "  for row in range(3):\n",
    "    total += mid_score[row][col]\n",
    "  avg_score.append(total/3)\n",
    "\n",
    "print(avg_score)"
   ]
  },
  {
   "cell_type": "code",
   "execution_count": 67,
   "id": "1f0a9bd6",
   "metadata": {
    "ExecuteTime": {
     "end_time": "2021-06-05T02:24:57.522427Z",
     "start_time": "2021-06-05T02:24:48.917355Z"
    }
   },
   "outputs": [
    {
     "name": "stdout",
     "output_type": "stream",
     "text": [
      "Input a word: 웨스트햄\n",
      "햄\n",
      "트\n"
     ]
    }
   ],
   "source": [
    "word = input(\"Input a word: \")\n",
    "lst = []\n",
    "for s in word:\n",
    "    lst.append(s)\n",
    "for s in lst:\n",
    "    print(lst.pop())"
   ]
  },
  {
   "cell_type": "code",
   "execution_count": 68,
   "id": "d47cc468",
   "metadata": {
    "ExecuteTime": {
     "end_time": "2021-06-05T02:25:09.877893Z",
     "start_time": "2021-06-05T02:25:04.375331Z"
    }
   },
   "outputs": [
    {
     "name": "stdout",
     "output_type": "stream",
     "text": [
      "밑변의 길이는?50\n",
      "윗변의 길이는?40\n",
      "높이는?20\n",
      "넓이는 20000.0\n"
     ]
    }
   ],
   "source": [
    "def addition(x, y):\n",
    "    return x * y\n",
    "\n",
    "def divided_by_2(x):\n",
    "    return x / 2\n",
    "\n",
    "def main():\n",
    "    base_line = float(input(\"밑변의 길이는?\"))\n",
    "    upper_edge = float(input(\"윗변의 길이는?\"))\n",
    "    height = float(input(\"높이는?\"))\n",
    "    \n",
    "    print(\"넓이는\", divided_by_2(addition(base_line, upper_edge) * height))\n",
    "    \n",
    "if __name__ == '__main__':\n",
    "    main()"
   ]
  },
  {
   "cell_type": "code",
   "execution_count": 69,
   "id": "8e3f5c13",
   "metadata": {
    "ExecuteTime": {
     "end_time": "2021-06-05T02:25:19.748928Z",
     "start_time": "2021-06-05T02:25:19.734925Z"
    }
   },
   "outputs": [
    {
     "data": {
      "text/plain": [
       "1"
      ]
     },
     "execution_count": 69,
     "metadata": {},
     "output_type": "execute_result"
    }
   ],
   "source": [
    "a = [1, 2, 3, 4, 5]\n",
    "a.pop(0)"
   ]
  },
  {
   "cell_type": "code",
   "execution_count": 70,
   "id": "169b7a77",
   "metadata": {
    "ExecuteTime": {
     "end_time": "2021-06-05T02:25:25.513169Z",
     "start_time": "2021-06-05T02:25:25.500166Z"
    }
   },
   "outputs": [
    {
     "data": {
      "text/plain": [
       "5"
      ]
     },
     "execution_count": 70,
     "metadata": {},
     "output_type": "execute_result"
    }
   ],
   "source": [
    "a.pop(3)"
   ]
  },
  {
   "cell_type": "code",
   "execution_count": 71,
   "id": "1f84d502",
   "metadata": {
    "ExecuteTime": {
     "end_time": "2021-06-05T02:25:28.257159Z",
     "start_time": "2021-06-05T02:25:28.247172Z"
    }
   },
   "outputs": [
    {
     "data": {
      "text/plain": [
       "tuple"
      ]
     },
     "execution_count": 71,
     "metadata": {},
     "output_type": "execute_result"
    }
   ],
   "source": [
    "t = (1, 2, 3, 4, 5)\n",
    "type(t)"
   ]
  },
  {
   "cell_type": "code",
   "execution_count": 72,
   "id": "bb543e64",
   "metadata": {
    "ExecuteTime": {
     "end_time": "2021-06-05T02:25:31.804964Z",
     "start_time": "2021-06-05T02:25:31.790960Z"
    }
   },
   "outputs": [
    {
     "name": "stdout",
     "output_type": "stream",
     "text": [
      "<class 'tuple'>\n"
     ]
    }
   ],
   "source": [
    "print(type(t))"
   ]
  },
  {
   "cell_type": "code",
   "execution_count": 73,
   "id": "f64bc7d7",
   "metadata": {
    "ExecuteTime": {
     "end_time": "2021-06-05T02:25:35.587816Z",
     "start_time": "2021-06-05T02:25:35.580821Z"
    }
   },
   "outputs": [
    {
     "name": "stdout",
     "output_type": "stream",
     "text": [
      "<class 'tuple'>\n"
     ]
    }
   ],
   "source": [
    "t2 = 5,\n",
    "print(type(t2))"
   ]
  },
  {
   "cell_type": "markdown",
   "id": "405fc997",
   "metadata": {},
   "source": [
    "# 딕셔너리 자료형"
   ]
  },
  {
   "cell_type": "code",
   "execution_count": 74,
   "id": "689332fa",
   "metadata": {
    "ExecuteTime": {
     "end_time": "2021-06-05T02:25:39.946749Z",
     "start_time": "2021-06-05T02:25:39.938753Z"
    }
   },
   "outputs": [],
   "source": [
    "colors = {'yellow' : '노랑', 'red' : '빨강'}"
   ]
  },
  {
   "cell_type": "code",
   "execution_count": 75,
   "id": "f2ab694c",
   "metadata": {
    "ExecuteTime": {
     "end_time": "2021-06-05T02:26:41.475382Z",
     "start_time": "2021-06-05T02:26:41.460526Z"
    }
   },
   "outputs": [
    {
     "data": {
      "text/plain": [
       "{'yellow': '노랑', 'red': '빨강'}"
      ]
     },
     "execution_count": 75,
     "metadata": {},
     "output_type": "execute_result"
    }
   ],
   "source": [
    "colors"
   ]
  },
  {
   "cell_type": "code",
   "execution_count": 76,
   "id": "a4e084d8",
   "metadata": {
    "ExecuteTime": {
     "end_time": "2021-06-05T02:26:43.717797Z",
     "start_time": "2021-06-05T02:26:43.706809Z"
    }
   },
   "outputs": [
    {
     "name": "stdout",
     "output_type": "stream",
     "text": [
      "{'yellow': '노랑', 'red': '빨강'}\n"
     ]
    }
   ],
   "source": [
    "print(colors)"
   ]
  },
  {
   "cell_type": "code",
   "execution_count": 77,
   "id": "5eb2b2f4",
   "metadata": {
    "ExecuteTime": {
     "end_time": "2021-06-05T02:26:47.129030Z",
     "start_time": "2021-06-05T02:26:47.112016Z"
    }
   },
   "outputs": [
    {
     "name": "stdout",
     "output_type": "stream",
     "text": [
      "yellow\n"
     ]
    }
   ],
   "source": [
    "print('yellow')"
   ]
  },
  {
   "cell_type": "markdown",
   "id": "2e1139f4",
   "metadata": {},
   "source": [
    "# 튜플 자료형"
   ]
  },
  {
   "cell_type": "code",
   "execution_count": 78,
   "id": "b3b6c0ec",
   "metadata": {
    "ExecuteTime": {
     "end_time": "2021-06-05T02:26:49.709744Z",
     "start_time": "2021-06-05T02:26:49.703750Z"
    }
   },
   "outputs": [
    {
     "data": {
      "text/plain": [
       "tuple"
      ]
     },
     "execution_count": 78,
     "metadata": {},
     "output_type": "execute_result"
    }
   ],
   "source": [
    "test = ('안녕하세요',)\n",
    "type(test)"
   ]
  },
  {
   "cell_type": "code",
   "execution_count": 79,
   "id": "5e3bbd6a",
   "metadata": {
    "ExecuteTime": {
     "end_time": "2021-06-05T02:26:53.993108Z",
     "start_time": "2021-06-05T02:26:53.975086Z"
    }
   },
   "outputs": [
    {
     "name": "stdout",
     "output_type": "stream",
     "text": [
      "(5, 14, 23, 28, 34, 37)\n"
     ]
    }
   ],
   "source": [
    "import random\n",
    "\n",
    "lotto = []\n",
    "num = 0\n",
    "\n",
    "while True:\n",
    "    num = random.randrange(1, 46)\n",
    "    if lotto.count(num) == 0:\n",
    "        lotto.append(num)\n",
    "    if len(lotto) >= 6 :\n",
    "        break\n",
    "lotto.sort()\n",
    "r_lotto = tuple(lotto)\n",
    "print(r_lotto)"
   ]
  },
  {
   "cell_type": "code",
   "execution_count": 80,
   "id": "c351919a",
   "metadata": {
    "ExecuteTime": {
     "end_time": "2021-06-05T02:27:28.800571Z",
     "start_time": "2021-06-05T02:27:28.789573Z"
    }
   },
   "outputs": [
    {
     "name": "stdout",
     "output_type": "stream",
     "text": [
      "총점 =  170 평균 =  85.0\n",
      "총점 =  160 평균 =  80.0\n",
      "총점 =  190 평균 =  95.0\n"
     ]
    }
   ],
   "source": [
    "data_list = [(90, 80), (85, 75), (90, 100)]\n",
    "for data in data_list:\n",
    "    total = 0\n",
    "    for jumsu in data:\n",
    "        total += jumsu\n",
    "    print('총점 = ', total, '평균 = ', total / 2)"
   ]
  },
  {
   "cell_type": "code",
   "execution_count": 81,
   "id": "1d75c6c6",
   "metadata": {
    "ExecuteTime": {
     "end_time": "2021-06-05T02:27:32.085410Z",
     "start_time": "2021-06-05T02:27:32.072411Z"
    }
   },
   "outputs": [
    {
     "name": "stdout",
     "output_type": "stream",
     "text": [
      "1.총점 = 170, 평균 = 85.00\n",
      "2.총점 = 160, 평균 = 80.00\n",
      "3.총점 = 190, 평균 = 95.00\n"
     ]
    }
   ],
   "source": [
    "data_list = [(90, 80), (85, 75), (90, 100)]\n",
    "for idx, data in enumerate(data_list):\n",
    "    total = 0\n",
    "    for jumsu in data:\n",
    "        total += jumsu\n",
    "    print('%d.총점 = %3d, 평균 = %.2f' % (idx + 1, total, total / 2))"
   ]
  },
  {
   "cell_type": "code",
   "execution_count": 82,
   "id": "b4282e72",
   "metadata": {
    "ExecuteTime": {
     "end_time": "2021-06-05T02:27:47.517527Z",
     "start_time": "2021-06-05T02:27:47.499514Z"
    }
   },
   "outputs": [
    {
     "name": "stdout",
     "output_type": "stream",
     "text": [
      "Pythn s pwrfl... nd fst; plys wll wth thrs; rns vrywhr; s frndly & sy t lrn; s Opn.\n"
     ]
    }
   ],
   "source": [
    "data_str = 'Python is powerful... and fast; plays well with others; runs everywhere; is friendly & easy to learn; is Open.'\n",
    "search = \"aeiou\"\n",
    "new_str = []\n",
    "for ch in data_str:\n",
    "    if ch not in search:\n",
    "        new_str.append(ch)\n",
    "        \n",
    "print(''.join(new_str))"
   ]
  },
  {
   "cell_type": "code",
   "execution_count": 83,
   "id": "4f4a86ac",
   "metadata": {
    "ExecuteTime": {
     "end_time": "2021-06-05T02:27:50.538271Z",
     "start_time": "2021-06-05T02:27:50.525263Z"
    }
   },
   "outputs": [
    {
     "name": "stdout",
     "output_type": "stream",
     "text": [
      "[['계시다', '가지다', '그', '개'], ['놀이'], ['들다', '다', '뒤', '듣다', '데리다'], [], ['막', '무척', '마리'], ['부모님', '비용', '비행기', '보이다'], ['싶다', '수출'], ['원래', '아이', '옳다'], ['좀', '자르다', '정도'], ['처리', '최초'], [], [], [], ['함께']]\n"
     ]
    }
   ],
   "source": [
    "dicBase = (('가','깋'), ('나','닣'), ('다','딯'), ('라','맇'), ('마','밓'), ('바','빟'), ('사','싷'),('아','잏'), ('자','짛'), ('차','칳'), ('카','킿'), ('타','팋'), ('파','핗'), ('하','힣'))\n",
    "inputWord = ['막', '부모님', '비용', '비행기', '원래', '처리', '최초', '꼴', '좀', '들다', '싶다','수출', '계시다', '다', '뒤', '듣다', '함께', '아이', '무척', '보이다', '가지다', '그','자르다', '데리다', '마리', '개', '정도', '옳다', '놀이','뜨겁다']\n",
    "\n",
    "result = []\n",
    "for base in dicBase:\n",
    "    temp = []\n",
    "    for word in inputWord:\n",
    "        if base[0] <= word <= base[1]:\n",
    "            temp.append(word)\n",
    "    result.append(temp)\n",
    "\n",
    "print(result)"
   ]
  },
  {
   "cell_type": "code",
   "execution_count": 84,
   "id": "49e52ee3",
   "metadata": {
    "ExecuteTime": {
     "end_time": "2021-06-05T02:27:54.276016Z",
     "start_time": "2021-06-05T02:27:54.257014Z"
    }
   },
   "outputs": [
    {
     "name": "stdout",
     "output_type": "stream",
     "text": [
      "uoy evol i"
     ]
    }
   ],
   "source": [
    "s = \"i love you\"\n",
    "for i in range(len(s)-1,-1,-1):\n",
    "    print(s[i], end=\"\")"
   ]
  },
  {
   "cell_type": "code",
   "execution_count": null,
   "id": "223ea34d",
   "metadata": {},
   "outputs": [],
   "source": []
  }
 ],
 "metadata": {
  "kernelspec": {
   "display_name": "Python 3",
   "language": "python",
   "name": "python3"
  },
  "language_info": {
   "codemirror_mode": {
    "name": "ipython",
    "version": 3
   },
   "file_extension": ".py",
   "mimetype": "text/x-python",
   "name": "python",
   "nbconvert_exporter": "python",
   "pygments_lexer": "ipython3",
   "version": "3.7.10"
  },
  "toc": {
   "base_numbering": 1,
   "nav_menu": {},
   "number_sections": true,
   "sideBar": true,
   "skip_h1_title": false,
   "title_cell": "Table of Contents",
   "title_sidebar": "Contents",
   "toc_cell": false,
   "toc_position": {},
   "toc_section_display": true,
   "toc_window_display": false
  }
 },
 "nbformat": 4,
 "nbformat_minor": 5
}
