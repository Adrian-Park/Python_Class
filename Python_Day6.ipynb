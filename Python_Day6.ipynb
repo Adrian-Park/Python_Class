{
 "cells": [
  {
   "cell_type": "markdown",
   "id": "b184ae5e",
   "metadata": {},
   "source": [
    "# 객체지향"
   ]
  },
  {
   "cell_type": "code",
   "execution_count": 1,
   "id": "double-strain",
   "metadata": {
    "ExecuteTime": {
     "end_time": "2021-06-05T02:51:43.933020Z",
     "start_time": "2021-06-05T02:51:43.918386Z"
    }
   },
   "outputs": [],
   "source": [
    "class Account(object) :\n",
    "    def __init__(self, custId, custName, accountNumber, balance) :\n",
    "        self.custId = custId\n",
    "        self.custName = custName\n",
    "        self.accountNumber = accountNumber\n",
    "        self.balance  = balance  #잔액\n",
    "\n",
    "    def add(self, money):\n",
    "        print(money, \"원을 입금합니다.\")\n",
    "        if money <= 0 :\n",
    "            print(\"금액 오류입니다. :\" , money ,\"원\")\n",
    "        else :\n",
    "            self.balance += money\n",
    "        self.printBalance()\n",
    "\n",
    "    def withDraw(self, money): \n",
    "        print(money, \"원을 출금합니다.\")\n",
    "        if self.balance < money :\n",
    "            print(\"출금불가!! 잔고가 부족합니다.\")\n",
    "        else :\n",
    "            self.balance -=money\n",
    "        self.printBalance()\n",
    "\n",
    "    def printBalance(self) :\n",
    "        print(\"===================\")\n",
    "        print(\"현재잔액 : \", self.balance)\n",
    "        print(\"===================\")"
   ]
  },
  {
   "cell_type": "code",
   "execution_count": 2,
   "id": "radio-willow",
   "metadata": {
    "ExecuteTime": {
     "end_time": "2021-06-05T02:52:02.422277Z",
     "start_time": "2021-06-05T02:51:46.196629Z"
    }
   },
   "outputs": [
    {
     "name": "stdout",
     "output_type": "stream",
     "text": [
      "===================\n",
      "고객번호 :  CUST01\n",
      "고객명 :  소지섭\n",
      "계좌번호 :  1-22-333\n",
      " 잔액 :  100000\n",
      "===================\n",
      "[Menu]\n",
      "1. 입금\n",
      "2. 출금\n",
      "9. 종료 \n",
      "==> 메뉴선택 :2\n",
      "금액 : 9\n",
      "9 원을 출금합니다.\n",
      "===================\n",
      "현재잔액 :  99991\n",
      "===================\n",
      "[Menu]\n",
      "1. 입금\n",
      "2. 출금\n",
      "9. 종료 \n",
      "==> 메뉴선택 :9\n",
      "Bye~~~\n"
     ]
    }
   ],
   "source": [
    "if __name__ == '__main__' :     \n",
    "    menu = \"0\"\n",
    "    account1 = Account(\"CUST01\", \"소지섭\", \"1-22-333\", 100000)\n",
    "    print(\"===================\")\n",
    "    print(\"고객번호 : \", account1.custId)\n",
    "    print(\"고객명 : \", account1.custName)\n",
    "    print(\"계좌번호 : \", account1.accountNumber)\n",
    "    print(\" 잔액 : \", account1.balance)\n",
    "    print(\"===================\") \n",
    "    while  True :\n",
    "        print(\"[Menu]\")\n",
    "        print(\"1. 입금\")\n",
    "        print(\"2. 출금\")\n",
    "        print(\"9. 종료 \")\n",
    "        menu = input(\"==> 메뉴선택 :\")\n",
    "        if menu==\"1\" :\n",
    "            money = int( input(\"금액 : \"))\n",
    "            account1.add(money)\n",
    "        elif menu==\"2\" :\n",
    "            money = int( input(\"금액 : \"))\n",
    "            account1.withDraw(money)\n",
    "        elif menu== \"9\" :\n",
    "            print(\"Bye~~~\")\n",
    "            break"
   ]
  },
  {
   "cell_type": "code",
   "execution_count": 3,
   "id": "radical-missile",
   "metadata": {
    "ExecuteTime": {
     "end_time": "2021-06-05T02:52:04.834765Z",
     "start_time": "2021-06-05T02:52:04.817645Z"
    }
   },
   "outputs": [
    {
     "name": "stdout",
     "output_type": "stream",
     "text": [
      "Star\n",
      "5.0\n",
      "run~1\n",
      "run~2\n",
      "close\n",
      "End\n"
     ]
    }
   ],
   "source": [
    "print(\"Star\")\n",
    "try : \n",
    "    print(5/1)\n",
    "    print(\"run~1\")\n",
    "except :\n",
    "    print(\"예외 처리\")\n",
    "else :\n",
    "    print(\"run~2\")\n",
    "finally :\n",
    "    print(\"close\")\n",
    "print(\"End\")"
   ]
  },
  {
   "cell_type": "code",
   "execution_count": 5,
   "id": "generous-initial",
   "metadata": {
    "ExecuteTime": {
     "end_time": "2021-06-05T02:53:00.739222Z",
     "start_time": "2021-06-05T02:53:00.722517Z"
    }
   },
   "outputs": [
    {
     "ename": "ModuleNotFoundError",
     "evalue": "No module named 'fath_converter'",
     "output_type": "error",
     "traceback": [
      "\u001b[1;31m---------------------------------------------------------------------------\u001b[0m",
      "\u001b[1;31mModuleNotFoundError\u001b[0m                       Traceback (most recent call last)",
      "\u001b[1;32m<ipython-input-5-af0725f598b8>\u001b[0m in \u001b[0;36m<module>\u001b[1;34m\u001b[0m\n\u001b[1;32m----> 1\u001b[1;33m \u001b[1;32mimport\u001b[0m \u001b[0mfath_converter\u001b[0m\u001b[1;33m\u001b[0m\u001b[1;33m\u001b[0m\u001b[0m\n\u001b[0m\u001b[0;32m      2\u001b[0m \u001b[1;33m\u001b[0m\u001b[0m\n\u001b[0;32m      3\u001b[0m \u001b[0mprint\u001b[0m\u001b[1;33m(\u001b[0m\u001b[1;34m\"Enter a celsius value:\"\u001b[0m\u001b[1;33m)\u001b[0m\u001b[1;33m\u001b[0m\u001b[1;33m\u001b[0m\u001b[0m\n\u001b[0;32m      4\u001b[0m \u001b[0mcelsius\u001b[0m \u001b[1;33m=\u001b[0m \u001b[0mfloat\u001b[0m\u001b[1;33m(\u001b[0m\u001b[0minput\u001b[0m\u001b[1;33m(\u001b[0m\u001b[1;33m)\u001b[0m\u001b[1;33m)\u001b[0m\u001b[1;33m\u001b[0m\u001b[1;33m\u001b[0m\u001b[0m\n\u001b[0;32m      5\u001b[0m \u001b[0mfahrenheit\u001b[0m \u001b[1;33m=\u001b[0m \u001b[0mfah_converter\u001b[0m\u001b[1;33m.\u001b[0m\u001b[0mcovert_c_to_f\u001b[0m\u001b[1;33m(\u001b[0m\u001b[0mcelsius\u001b[0m\u001b[1;33m)\u001b[0m\u001b[1;33m\u001b[0m\u001b[1;33m\u001b[0m\u001b[0m\n",
      "\u001b[1;31mModuleNotFoundError\u001b[0m: No module named 'fath_converter'"
     ]
    }
   ],
   "source": [
    "import fath_converter\n",
    "\n",
    "print(\"Enter a celsius value:\")\n",
    "celsius = float(input())\n",
    "fahrenheit = fah_converter.covert_c_to_f(celsius)\n",
    "print(\"That's\", fahrenheit, \"degrees Fahrenheit.\")"
   ]
  },
  {
   "cell_type": "code",
   "execution_count": 6,
   "id": "august-tooth",
   "metadata": {
    "ExecuteTime": {
     "end_time": "2021-06-05T02:53:25.418821Z",
     "start_time": "2021-06-05T02:53:25.410806Z"
    }
   },
   "outputs": [
    {
     "name": "stdout",
     "output_type": "stream",
     "text": [
      "Hello world!\n"
     ]
    }
   ],
   "source": [
    "print(\"Hello world!\")"
   ]
  },
  {
   "cell_type": "code",
   "execution_count": 7,
   "id": "alternate-protein",
   "metadata": {
    "ExecuteTime": {
     "end_time": "2021-06-05T02:53:26.192796Z",
     "start_time": "2021-06-05T02:53:26.176781Z"
    }
   },
   "outputs": [
    {
     "data": {
      "text/plain": [
       "0.9467287372591437"
      ]
     },
     "execution_count": 7,
     "metadata": {},
     "output_type": "execute_result"
    }
   ],
   "source": [
    "import random\n",
    "random.random()"
   ]
  },
  {
   "cell_type": "code",
   "execution_count": 8,
   "id": "identical-prerequisite",
   "metadata": {
    "ExecuteTime": {
     "end_time": "2021-06-05T02:53:26.760411Z",
     "start_time": "2021-06-05T02:53:26.742970Z"
    }
   },
   "outputs": [
    {
     "data": {
      "text/plain": [
       "3.744295404796258"
      ]
     },
     "execution_count": 8,
     "metadata": {},
     "output_type": "execute_result"
    }
   ],
   "source": [
    "random.uniform(3, 4)"
   ]
  },
  {
   "cell_type": "code",
   "execution_count": 9,
   "id": "intense-polyester",
   "metadata": {
    "ExecuteTime": {
     "end_time": "2021-06-05T02:53:27.175225Z",
     "start_time": "2021-06-05T02:53:27.158928Z"
    }
   },
   "outputs": [],
   "source": [
    "for i in range(3):\n",
    "    random.gauss(1, 1.0)"
   ]
  },
  {
   "cell_type": "code",
   "execution_count": 10,
   "id": "great-germany",
   "metadata": {
    "ExecuteTime": {
     "end_time": "2021-06-05T02:53:27.646622Z",
     "start_time": "2021-06-05T02:53:27.624476Z"
    }
   },
   "outputs": [
    {
     "data": {
      "text/plain": [
       "[19, 7, 2, 16, 4, 2, 3, 0, 10, 2]"
      ]
     },
     "execution_count": 10,
     "metadata": {},
     "output_type": "execute_result"
    }
   ],
   "source": [
    "[random.randrange(20) for i in range(10)]"
   ]
  },
  {
   "cell_type": "code",
   "execution_count": 11,
   "id": "annual-console",
   "metadata": {
    "ExecuteTime": {
     "end_time": "2021-06-05T02:53:28.070760Z",
     "start_time": "2021-06-05T02:53:28.048036Z"
    }
   },
   "outputs": [
    {
     "data": {
      "text/plain": [
       "[15, 7, 3, 10, 2, 16, 5, 19, 9, 1]"
      ]
     },
     "execution_count": 11,
     "metadata": {},
     "output_type": "execute_result"
    }
   ],
   "source": [
    "random.sample(range(20), 10)"
   ]
  },
  {
   "cell_type": "code",
   "execution_count": 12,
   "id": "motivated-helmet",
   "metadata": {
    "ExecuteTime": {
     "end_time": "2021-06-05T02:53:28.426817Z",
     "start_time": "2021-06-05T02:53:28.418816Z"
    }
   },
   "outputs": [
    {
     "data": {
      "text/plain": [
       "1622861608.4188168"
      ]
     },
     "execution_count": 12,
     "metadata": {},
     "output_type": "execute_result"
    }
   ],
   "source": [
    "import time\n",
    "time.time()"
   ]
  },
  {
   "cell_type": "code",
   "execution_count": 13,
   "id": "impaired-unknown",
   "metadata": {
    "ExecuteTime": {
     "end_time": "2021-06-05T02:53:28.810466Z",
     "start_time": "2021-06-05T02:53:28.805115Z"
    }
   },
   "outputs": [
    {
     "data": {
      "text/plain": [
       "time.struct_time(tm_year=2021, tm_mon=6, tm_mday=5, tm_hour=2, tm_min=53, tm_sec=28, tm_wday=5, tm_yday=156, tm_isdst=0)"
      ]
     },
     "execution_count": 13,
     "metadata": {},
     "output_type": "execute_result"
    }
   ],
   "source": [
    "time.gmtime()"
   ]
  },
  {
   "cell_type": "code",
   "execution_count": 28,
   "id": "unlikely-modeling",
   "metadata": {
    "ExecuteTime": {
     "end_time": "2021-06-05T02:58:54.306577Z",
     "start_time": "2021-06-05T02:58:54.288388Z"
    }
   },
   "outputs": [
    {
     "ename": "TypeError",
     "evalue": "descriptor 'date' requires a 'datetime.datetime' object but received a 'int'",
     "output_type": "error",
     "traceback": [
      "\u001b[1;31m---------------------------------------------------------------------------\u001b[0m",
      "\u001b[1;31mTypeError\u001b[0m                                 Traceback (most recent call last)",
      "\u001b[1;32m<ipython-input-28-fdaa0e751261>\u001b[0m in \u001b[0;36m<module>\u001b[1;34m\u001b[0m\n\u001b[0;32m      1\u001b[0m \u001b[1;32mfrom\u001b[0m \u001b[0mdatetime\u001b[0m \u001b[1;32mimport\u001b[0m \u001b[0mdatetime\u001b[0m\u001b[1;33m\u001b[0m\u001b[1;33m\u001b[0m\u001b[0m\n\u001b[0;32m      2\u001b[0m \u001b[1;33m\u001b[0m\u001b[0m\n\u001b[1;32m----> 3\u001b[1;33m \u001b[0mdatetime\u001b[0m\u001b[1;33m.\u001b[0m\u001b[0mdate\u001b[0m\u001b[1;33m(\u001b[0m\u001b[0myear\u001b[0m\u001b[1;33m,\u001b[0m \u001b[0mmonth\u001b[0m\u001b[1;33m,\u001b[0m \u001b[0mday\u001b[0m\u001b[1;33m)\u001b[0m\u001b[1;33m\u001b[0m\u001b[1;33m\u001b[0m\u001b[0m\n\u001b[0m",
      "\u001b[1;31mTypeError\u001b[0m: descriptor 'date' requires a 'datetime.datetime' object but received a 'int'"
     ]
    }
   ],
   "source": [
    "from datetime import datetime\n",
    "\n",
    "datetime.date(year, month, day)"
   ]
  },
  {
   "cell_type": "code",
   "execution_count": 31,
   "id": "copyrighted-prompt",
   "metadata": {
    "ExecuteTime": {
     "end_time": "2021-06-05T02:59:37.678457Z",
     "start_time": "2021-06-05T02:59:37.662456Z"
    }
   },
   "outputs": [
    {
     "data": {
      "text/plain": [
       "datetime.date"
      ]
     },
     "execution_count": 31,
     "metadata": {},
     "output_type": "execute_result"
    }
   ],
   "source": [
    "datetime.date"
   ]
  },
  {
   "cell_type": "code",
   "execution_count": 30,
   "id": "conscious-planning",
   "metadata": {
    "ExecuteTime": {
     "end_time": "2021-06-05T02:59:25.388093Z",
     "start_time": "2021-06-05T02:59:25.364065Z"
    }
   },
   "outputs": [
    {
     "ename": "TypeError",
     "evalue": "function missing required argument 'year' (pos 1)",
     "output_type": "error",
     "traceback": [
      "\u001b[1;31m---------------------------------------------------------------------------\u001b[0m",
      "\u001b[1;31mTypeError\u001b[0m                                 Traceback (most recent call last)",
      "\u001b[1;32m<ipython-input-30-3d5695856e1e>\u001b[0m in \u001b[0;36m<module>\u001b[1;34m\u001b[0m\n\u001b[0;32m      1\u001b[0m \u001b[1;32mimport\u001b[0m \u001b[0mdatetime\u001b[0m\u001b[1;33m\u001b[0m\u001b[1;33m\u001b[0m\u001b[0m\n\u001b[1;32m----> 2\u001b[1;33m \u001b[0mdatetime\u001b[0m\u001b[1;33m.\u001b[0m\u001b[0mdate\u001b[0m\u001b[1;33m(\u001b[0m\u001b[1;33m)\u001b[0m\u001b[1;33m\u001b[0m\u001b[1;33m\u001b[0m\u001b[0m\n\u001b[0m",
      "\u001b[1;31mTypeError\u001b[0m: function missing required argument 'year' (pos 1)"
     ]
    }
   ],
   "source": [
    "import datetime\n",
    "datetime.date()"
   ]
  },
  {
   "cell_type": "markdown",
   "id": "24a85af8",
   "metadata": {},
   "source": [
    "# 문자열 다루기"
   ]
  },
  {
   "cell_type": "code",
   "execution_count": 35,
   "id": "generous-jumping",
   "metadata": {
    "ExecuteTime": {
     "end_time": "2021-06-05T03:00:21.771716Z",
     "start_time": "2021-06-05T03:00:21.750909Z"
    }
   },
   "outputs": [
    {
     "name": "stdout",
     "output_type": "stream",
     "text": [
      "<class 'str'>\n",
      "Yesterday all my troubles\n",
      "seemed so far away.\n",
      "Now it looks\n",
      "as though they're here to stay.\n",
      "Oh, I believe in yesterday.\n",
      "\n",
      "Suddenly I'm not half\n",
      "the man I used to be.\n",
      "There's a shadow hanging over me.\n",
      "Oh, yesterday came suddenly.\n",
      "\n",
      "Why she had to go,\n",
      "I don't know,\n",
      "she wouldn't say.\n",
      "I said something wrong,\n",
      "now I long for yesterday.\n",
      "\n",
      "Yesterday love was\n",
      "such an easy game to play.\n",
      "Now I need a place to hide away.\n",
      "Oh, I believe in yesterday.\n",
      "\n",
      "Why she had to go,\n",
      "I don't know,\n",
      "she wouldn't say.\n",
      "I said something wrong,\n",
      "now I long for yesterday.\n",
      "\n",
      "Yesterday love was\n",
      "such an easy game to play.\n",
      "Now I need a place to hide away.\n",
      "Oh, I believe in yesterday.\n",
      "\n",
      "Mm mm mm mm mm mm mm\n",
      "\n"
     ]
    }
   ],
   "source": [
    "with open(\"C:/workspace/basic/yesterday.txt\", \"r\") as my_file:\n",
    "    content_list = my_file.read()\n",
    "    print(type(content_list))\n",
    "    print(content_list)"
   ]
  },
  {
   "cell_type": "code",
   "execution_count": 37,
   "id": "grave-secretariat",
   "metadata": {
    "ExecuteTime": {
     "end_time": "2021-06-05T03:00:33.954722Z",
     "start_time": "2021-06-05T03:00:33.933951Z"
    }
   },
   "outputs": [
    {
     "name": "stdout",
     "output_type": "stream",
     "text": [
      "<class 'list'>\n",
      "['Yesterday all my troubles\\n', 'seemed so far away.\\n', 'Now it looks\\n', \"as though they're here to stay.\\n\", 'Oh, I believe in yesterday.\\n', '\\n', \"Suddenly I'm not half\\n\", 'the man I used to be.\\n', \"There's a shadow hanging over me.\\n\", 'Oh, yesterday came suddenly.\\n', '\\n', 'Why she had to go,\\n', \"I don't know,\\n\", \"she wouldn't say.\\n\", 'I said something wrong,\\n', 'now I long for yesterday.\\n', '\\n', 'Yesterday love was\\n', 'such an easy game to play.\\n', 'Now I need a place to hide away.\\n', 'Oh, I believe in yesterday.\\n', '\\n', 'Why she had to go,\\n', \"I don't know,\\n\", \"she wouldn't say.\\n\", 'I said something wrong,\\n', 'now I long for yesterday.\\n', '\\n', 'Yesterday love was\\n', 'such an easy game to play.\\n', 'Now I need a place to hide away.\\n', 'Oh, I believe in yesterday.\\n', '\\n', 'Mm mm mm mm mm mm mm\\n']\n"
     ]
    }
   ],
   "source": [
    "with open(\"C:/workspace/basic/yesterday.txt\", \"r\") as my_file:\n",
    "    content_list = my_file.readlines()\n",
    "    print(type(content_list))\n",
    "    print(content_list)"
   ]
  },
  {
   "cell_type": "code",
   "execution_count": 38,
   "id": "earned-tackle",
   "metadata": {
    "ExecuteTime": {
     "end_time": "2021-06-05T03:00:36.958475Z",
     "start_time": "2021-06-05T03:00:36.940334Z"
    }
   },
   "outputs": [
    {
     "name": "stdout",
     "output_type": "stream",
     "text": [
      "0 === Yesterday all my troubles\n",
      "1 === seemed so far away.\n",
      "2 === Now it looks\n",
      "3 === as though they're here to stay.\n",
      "4 === Oh, I believe in yesterday.\n",
      "5 === \n",
      "6 === Suddenly I'm not half\n",
      "7 === the man I used to be.\n",
      "8 === There's a shadow hanging over me.\n",
      "9 === Oh, yesterday came suddenly.\n",
      "10 === \n",
      "11 === Why she had to go,\n",
      "12 === I don't know,\n",
      "13 === she wouldn't say.\n",
      "14 === I said something wrong,\n",
      "15 === now I long for yesterday.\n",
      "16 === \n",
      "17 === Yesterday love was\n",
      "18 === such an easy game to play.\n",
      "19 === Now I need a place to hide away.\n",
      "20 === Oh, I believe in yesterday.\n",
      "21 === \n",
      "22 === Why she had to go,\n",
      "23 === I don't know,\n",
      "24 === she wouldn't say.\n",
      "25 === I said something wrong,\n",
      "26 === now I long for yesterday.\n",
      "27 === \n",
      "28 === Yesterday love was\n",
      "29 === such an easy game to play.\n",
      "30 === Now I need a place to hide away.\n",
      "31 === Oh, I believe in yesterday.\n",
      "32 === \n",
      "33 === Mm mm mm mm mm mm mm\n"
     ]
    }
   ],
   "source": [
    "with open(\"C:/workspace/basic/yesterday.txt\", \"r\") as my_file:\n",
    "    i = 0\n",
    "    while 1:\n",
    "        line = my_file.readline()\n",
    "        if not line:\n",
    "            break\n",
    "        print(str(i) + \" === \" + line.replace(\"\\n\",\"\"))\n",
    "        i = i + 1"
   ]
  },
  {
   "cell_type": "code",
   "execution_count": 39,
   "id": "looking-efficiency",
   "metadata": {
    "ExecuteTime": {
     "end_time": "2021-06-05T03:00:41.884397Z",
     "start_time": "2021-06-05T03:00:41.860169Z"
    }
   },
   "outputs": [
    {
     "name": "stdout",
     "output_type": "stream",
     "text": [
      "총 글자의 수 :  669\n",
      "총 단어의 수 :  106\n",
      "총 줄의 수 :  35\n"
     ]
    }
   ],
   "source": [
    "with open(\"C:/workspace/basic/yesterday.txt\", \"r\") as my_file:\n",
    "    contents = my_file.read()\n",
    "    word_list = contents.split(\" \")\n",
    "    line_list = contents.split(\"\\n\")\n",
    "\n",
    "print(\"총 글자의 수 : \", len(contents))\n",
    "print(\"총 단어의 수 : \", len(word_list))\n",
    "print(\"총 줄의 수 : \", len(line_list))"
   ]
  },
  {
   "cell_type": "code",
   "execution_count": 40,
   "id": "about-wrong",
   "metadata": {
    "ExecuteTime": {
     "end_time": "2021-06-05T03:01:22.830555Z",
     "start_time": "2021-06-05T03:01:22.822552Z"
    }
   },
   "outputs": [],
   "source": [
    "f = open(\"count_log.txt\", 'w', encoding = \"utf8\")\n",
    "for i in range(1, 11):\n",
    "    data = \"%d번째 줄이다.\\n\" % 1\n",
    "    f.write(data)\n",
    "f.close()"
   ]
  },
  {
   "cell_type": "code",
   "execution_count": 41,
   "id": "funny-terminal",
   "metadata": {
    "ExecuteTime": {
     "end_time": "2021-06-05T03:01:24.673691Z",
     "start_time": "2021-06-05T03:01:24.657681Z"
    }
   },
   "outputs": [],
   "source": [
    "with open(\"count_log.txt\", 'a', encoding = \"utf-8\") as f:\n",
    "    for i in range(1, 11):\n",
    "        data = \"%d번째 줄이다.\\n\" % i\n",
    "        f.write(data)"
   ]
  },
  {
   "cell_type": "code",
   "execution_count": 42,
   "id": "desirable-majority",
   "metadata": {
    "ExecuteTime": {
     "end_time": "2021-06-05T03:01:25.688199Z",
     "start_time": "2021-06-05T03:01:25.653999Z"
    }
   },
   "outputs": [
    {
     "name": "stdout",
     "output_type": "stream",
     "text": [
      "1번째 줄이다.\n",
      "1번째 줄이다.\n",
      "1번째 줄이다.\n",
      "1번째 줄이다.\n",
      "1번째 줄이다.\n",
      "1번째 줄이다.\n",
      "1번째 줄이다.\n",
      "1번째 줄이다.\n",
      "1번째 줄이다.\n",
      "1번째 줄이다.\n",
      "1번째 줄이다.\n",
      "2번째 줄이다.\n",
      "3번째 줄이다.\n",
      "4번째 줄이다.\n",
      "5번째 줄이다.\n",
      "6번째 줄이다.\n",
      "7번째 줄이다.\n",
      "8번째 줄이다.\n",
      "9번째 줄이다.\n",
      "10번째 줄이다.\n",
      "\n"
     ]
    }
   ],
   "source": [
    "with open(\"count_log.txt\", \"r\", encoding = \"utf-8\") as dog:\n",
    "    contents = dog.read()\n",
    "    print(contents)"
   ]
  },
  {
   "cell_type": "code",
   "execution_count": 43,
   "id": "contained-drove",
   "metadata": {
    "ExecuteTime": {
     "end_time": "2021-06-05T03:01:32.173506Z",
     "start_time": "2021-06-05T03:01:32.156664Z"
    }
   },
   "outputs": [],
   "source": [
    "import os\n",
    "os.mkdir(\"log\")\n",
    "\n",
    "if not os.path.isdir(\"log\"):\n",
    "    os.mkdir(\"log\")"
   ]
  },
  {
   "cell_type": "markdown",
   "id": "8d76bf4f",
   "metadata": {},
   "source": [
    "# Pickle 모듈"
   ]
  },
  {
   "cell_type": "code",
   "execution_count": 44,
   "id": "forced-opinion",
   "metadata": {
    "ExecuteTime": {
     "end_time": "2021-06-05T03:01:32.866801Z",
     "start_time": "2021-06-05T03:01:32.840813Z"
    }
   },
   "outputs": [
    {
     "name": "stdout",
     "output_type": "stream",
     "text": [
      "[1, 2, 3, 4, 5]\n"
     ]
    }
   ],
   "source": [
    "import pickle\n",
    "\n",
    "f = open(\"list.pickle\", \"wb\")\n",
    "test = [1, 2, 3, 4, 5]\n",
    "pickle.dump(test, f)\n",
    "f.close()\n",
    "\n",
    "f = open(\"list.pickle\", \"rb\")\n",
    "test_pickle = pickle.load(f)\n",
    "print(test_pickle)\n",
    "f.close()"
   ]
  },
  {
   "cell_type": "code",
   "execution_count": 45,
   "id": "defined-accordance",
   "metadata": {
    "ExecuteTime": {
     "end_time": "2021-06-05T03:02:16.576006Z",
     "start_time": "2021-06-05T03:02:16.554280Z"
    }
   },
   "outputs": [
    {
     "data": {
      "text/plain": [
       "50"
      ]
     },
     "execution_count": 45,
     "metadata": {},
     "output_type": "execute_result"
    }
   ],
   "source": [
    "class Mutltiply(object):\n",
    "    def __init__(self, multiplier):\n",
    "        self.multiplier = multiplier\n",
    "    def multiply(self, number):\n",
    "        return number * self.multiplier\n",
    "    \n",
    "muliply = Mutltiply(5)\n",
    "muliply.multiply(10)"
   ]
  },
  {
   "cell_type": "code",
   "execution_count": 46,
   "id": "possible-approval",
   "metadata": {
    "ExecuteTime": {
     "end_time": "2021-06-05T03:02:17.454280Z",
     "start_time": "2021-06-05T03:02:17.419873Z"
    }
   },
   "outputs": [
    {
     "data": {
      "text/plain": [
       "25"
      ]
     },
     "execution_count": 46,
     "metadata": {},
     "output_type": "execute_result"
    }
   ],
   "source": [
    "import pickle\n",
    "\n",
    "f = open(\"multiply_object.pickle\", \"wb\")\n",
    "pickle.dump(muliply, f)\n",
    "f.close()\n",
    "\n",
    "f = open(\"multiply_object.pickle\", \"rb\")\n",
    "multiply_pickle = pickle.load(f)\n",
    "\n",
    "multiply_pickle.multiply(5)"
   ]
  },
  {
   "cell_type": "markdown",
   "id": "2451d51f",
   "metadata": {},
   "source": [
    "# 정규표현식"
   ]
  },
  {
   "cell_type": "code",
   "execution_count": 47,
   "id": "civil-switzerland",
   "metadata": {
    "ExecuteTime": {
     "end_time": "2021-06-05T03:02:18.204020Z",
     "start_time": "2021-06-05T03:02:18.187800Z"
    }
   },
   "outputs": [
    {
     "data": {
      "text/plain": [
       "True"
      ]
     },
     "execution_count": 47,
     "metadata": {},
     "output_type": "execute_result"
    }
   ],
   "source": [
    "import re\n",
    "bool(re.match('[0-9]*th', ' 35th'))\n",
    "bool(re.search('[0-9]*th', ' 35th'))\n",
    "\n",
    "bool(re.match('ap', 'This is an apple'))\n",
    "bool(re.search('ap', 'This is an apple'))"
   ]
  },
  {
   "cell_type": "code",
   "execution_count": 72,
   "id": "furnished-nickel",
   "metadata": {
    "ExecuteTime": {
     "end_time": "2021-06-05T03:10:36.864984Z",
     "start_time": "2021-06-05T03:10:36.851889Z"
    }
   },
   "outputs": [
    {
     "data": {
      "text/plain": [
       "['application', 'apple']"
      ]
     },
     "execution_count": 72,
     "metadata": {},
     "output_type": "execute_result"
    }
   ],
   "source": [
    "import re\n",
    "re.findall(r\"app\\w*\", \"application orange apple banana\")"
   ]
  },
  {
   "cell_type": "code",
   "execution_count": 49,
   "id": "vanilla-botswana",
   "metadata": {
    "ExecuteTime": {
     "end_time": "2021-06-05T03:02:19.309006Z",
     "start_time": "2021-06-05T03:02:19.288378Z"
    }
   },
   "outputs": [
    {
     "data": {
      "text/plain": [
       "[]"
      ]
     },
     "execution_count": 49,
     "metadata": {},
     "output_type": "execute_result"
    }
   ],
   "source": [
    "re.findall(r\"king\\w*\", \"application orange apple banana\")"
   ]
  },
  {
   "cell_type": "code",
   "execution_count": 50,
   "id": "palestinian-inflation",
   "metadata": {
    "ExecuteTime": {
     "end_time": "2021-06-05T03:02:19.967154Z",
     "start_time": "2021-06-05T03:02:19.947580Z"
    }
   },
   "outputs": [
    {
     "data": {
      "text/plain": [
       "'9012251234567'"
      ]
     },
     "execution_count": 50,
     "metadata": {},
     "output_type": "execute_result"
    }
   ],
   "source": [
    "re.sub(r\"-\", \"\", \"901225-1234567\")"
   ]
  },
  {
   "cell_type": "code",
   "execution_count": 51,
   "id": "spatial-millennium",
   "metadata": {
    "ExecuteTime": {
     "end_time": "2021-06-05T03:02:20.394453Z",
     "start_time": "2021-06-05T03:02:20.384821Z"
    }
   },
   "outputs": [
    {
     "data": {
      "text/plain": [
       "'Apple,Orange,Banana,Tomato'"
      ]
     },
     "execution_count": 51,
     "metadata": {},
     "output_type": "execute_result"
    }
   ],
   "source": [
    "re.sub(r\"[:,|\\s]\", \",\", \"Apple:Orange Banana|Tomato\")"
   ]
  },
  {
   "cell_type": "code",
   "execution_count": 52,
   "id": "weird-floor",
   "metadata": {
    "ExecuteTime": {
     "end_time": "2021-06-05T03:02:22.592415Z",
     "start_time": "2021-06-05T03:02:20.887167Z"
    }
   },
   "outputs": [],
   "source": [
    "import pandas as pd"
   ]
  },
  {
   "cell_type": "code",
   "execution_count": 53,
   "id": "bigger-romantic",
   "metadata": {
    "ExecuteTime": {
     "end_time": "2021-06-05T03:02:22.608400Z",
     "start_time": "2021-06-05T03:02:22.592415Z"
    }
   },
   "outputs": [
    {
     "name": "stdout",
     "output_type": "stream",
     "text": [
      "1.2.3\n"
     ]
    }
   ],
   "source": [
    "import pandas as pd\n",
    "print(pd.__version__)"
   ]
  },
  {
   "cell_type": "code",
   "execution_count": 70,
   "id": "subject-definition",
   "metadata": {
    "ExecuteTime": {
     "end_time": "2021-06-05T03:07:18.676345Z",
     "start_time": "2021-06-05T03:07:18.658108Z"
    }
   },
   "outputs": [
    {
     "name": "stdout",
     "output_type": "stream",
     "text": [
      "<class 'pandas.core.frame.DataFrame'>\n"
     ]
    }
   ],
   "source": [
    "import pandas as pd\n",
    "csv_test = pd.read_csv('C:/workspace/basic/test_csv_file.csv')\n",
    "\n",
    "print(type(csv_test))"
   ]
  },
  {
   "cell_type": "code",
   "execution_count": 71,
   "id": "practical-strength",
   "metadata": {
    "ExecuteTime": {
     "end_time": "2021-06-05T03:07:20.878909Z",
     "start_time": "2021-06-05T03:07:20.856966Z"
    }
   },
   "outputs": [
    {
     "name": "stdout",
     "output_type": "stream",
     "text": [
      "(5, 3)\n",
      "<class 'pandas.core.frame.DataFrame'>\n",
      "<bound method NDFrame.head of    ID LAST_NAME  AGE\n",
      "0   1       KIM   30\n",
      "1   2      CHOI   25\n",
      "2   3       LEE   41\n",
      "3   4      PARK   19\n",
      "4   5       LIM   36>\n"
     ]
    }
   ],
   "source": [
    "import pandas as pd\n",
    "csv_test = pd.read_csv('C:/workspace/basic/test_csv_file.csv')\n",
    "\n",
    "print(csv_test.shape)\n",
    "print(type(csv_test))\n",
    "print(csv_test.head)"
   ]
  },
  {
   "cell_type": "code",
   "execution_count": null,
   "id": "02a98d39",
   "metadata": {},
   "outputs": [],
   "source": []
  }
 ],
 "metadata": {
  "kernelspec": {
   "display_name": "Python 3",
   "language": "python",
   "name": "python3"
  },
  "language_info": {
   "codemirror_mode": {
    "name": "ipython",
    "version": 3
   },
   "file_extension": ".py",
   "mimetype": "text/x-python",
   "name": "python",
   "nbconvert_exporter": "python",
   "pygments_lexer": "ipython3",
   "version": "3.7.10"
  },
  "toc": {
   "base_numbering": 1,
   "nav_menu": {},
   "number_sections": true,
   "sideBar": true,
   "skip_h1_title": false,
   "title_cell": "Table of Contents",
   "title_sidebar": "Contents",
   "toc_cell": false,
   "toc_position": {},
   "toc_section_display": true,
   "toc_window_display": false
  }
 },
 "nbformat": 4,
 "nbformat_minor": 5
}
