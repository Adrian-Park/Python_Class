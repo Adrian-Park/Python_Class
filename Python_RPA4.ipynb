{
 "cells": [
  {
   "cell_type": "markdown",
   "id": "49bc5489",
   "metadata": {},
   "source": [
    "# 웹크롤링 자동화"
   ]
  },
  {
   "cell_type": "code",
   "execution_count": 2,
   "id": "8dfe6017",
   "metadata": {
    "ExecuteTime": {
     "end_time": "2021-04-20T01:26:15.038034Z",
     "start_time": "2021-04-20T01:26:14.865867Z"
    }
   },
   "outputs": [
    {
     "name": "stdout",
     "output_type": "stream",
     "text": [
      "<class 'requests.models.Response'>\n",
      "200\n",
      "UTF-8\n"
     ]
    },
    {
     "data": {
      "text/plain": [
       "166744"
      ]
     },
     "execution_count": 2,
     "metadata": {},
     "output_type": "execute_result"
    }
   ],
   "source": [
    "import requests\n",
    "url = 'http://naver.com'\n",
    "r = requests.get(url)\n",
    "print(type(r))\n",
    "print(r.status_code)\n",
    "print(r.encoding) #r.encoding='인코딩방식'\n",
    "html = r.text\n",
    "open('naver.html', 'w', encoding='utf-8').write(html) #응답 내용을 html문서로 저장"
   ]
  },
  {
   "cell_type": "code",
   "execution_count": 3,
   "id": "b67c4ecf",
   "metadata": {
    "ExecuteTime": {
     "end_time": "2021-04-20T01:45:07.759873Z",
     "start_time": "2021-04-20T01:45:06.835761Z"
    }
   },
   "outputs": [
    {
     "data": {
      "text/plain": [
       "13984"
      ]
     },
     "execution_count": 3,
     "metadata": {},
     "output_type": "execute_result"
    }
   ],
   "source": [
    "#웹에서 이미지 가져와서 저장하기\n",
    "url = 'https://abi-laboratory.pro/images/opensource1.png'\n",
    "r = requests.get(url)\n",
    "open('opensource.png', 'wb').write(r.content)"
   ]
  },
  {
   "cell_type": "code",
   "execution_count": 4,
   "id": "86d2a4dc",
   "metadata": {
    "ExecuteTime": {
     "end_time": "2021-04-20T01:47:15.291206Z",
     "start_time": "2021-04-20T01:47:15.050535Z"
    }
   },
   "outputs": [
    {
     "data": {
      "text/plain": [
       "370559"
      ]
     },
     "execution_count": 4,
     "metadata": {},
     "output_type": "execute_result"
    }
   ],
   "source": [
    "#웹에서 pdf가져와서 저장하기\n",
    "url = 'http://elearning.kocw.net/document/lec/2011/Kicu/ChaJungSub/01.pdf'\n",
    "r = requests.get(url)\n",
    "open('01.pdf', 'wb').write(r.content)"
   ]
  },
  {
   "cell_type": "code",
   "execution_count": 5,
   "id": "4b61c14a",
   "metadata": {
    "ExecuteTime": {
     "end_time": "2021-04-20T01:48:34.327391Z",
     "start_time": "2021-04-20T01:48:34.277374Z"
    }
   },
   "outputs": [
    {
     "data": {
      "text/plain": [
       "218"
      ]
     },
     "execution_count": 5,
     "metadata": {},
     "output_type": "execute_result"
    }
   ],
   "source": [
    "#웹에서 mp3 가져와서 저장하기\n",
    "url = 'http://jubil2018.cafe24.com/2018/mpe/jubil36/01.mpe3'\n",
    "r = requests.get(url)\n",
    "open('jubil36_01.mp3', 'wb').write(r.content)"
   ]
  },
  {
   "cell_type": "markdown",
   "id": "b3be5fc9",
   "metadata": {},
   "source": [
    "## 텍스트는 Response.text 속성에 저장되고\n",
    "### 이진데이터(binary data)는 Response.content속성에 저장"
   ]
  },
  {
   "cell_type": "markdown",
   "id": "904d14e2",
   "metadata": {},
   "source": [
    "## 웹 요청으로 받은 대용량 파일의 경우 (python 실행환경의 할당 메모리를 초과할 수 있음)\n",
    "### => 시스템 장애 발생 가능성\n",
    "### get( , stream=True)로 설정하면 웹 요청 파일을 받으면서 동시에 처리 가능(버퍼 설정, 사용)"
   ]
  },
  {
   "cell_type": "code",
   "execution_count": 6,
   "id": "c20d2444",
   "metadata": {
    "ExecuteTime": {
     "end_time": "2021-04-20T02:13:32.505546Z",
     "start_time": "2021-04-20T01:58:16.198426Z"
    },
    "collapsed": true
   },
   "outputs": [
    {
     "name": "stdout",
     "output_type": "stream",
     "text": [
      "****************************************************************************************************************************************************************************************************************************************************************************************************************************************************************************************************************************************************************************************************************************************************************************************************************************************************"
     ]
    },
    {
     "ename": "KeyboardInterrupt",
     "evalue": "",
     "output_type": "error",
     "traceback": [
      "\u001b[1;31m---------------------------------------------------------------------------\u001b[0m",
      "\u001b[1;31mKeyboardInterrupt\u001b[0m                         Traceback (most recent call last)",
      "\u001b[1;32m<ipython-input-6-b4dfc1abc869>\u001b[0m in \u001b[0;36m<module>\u001b[1;34m\u001b[0m\n\u001b[0;32m      2\u001b[0m \u001b[1;33m\u001b[0m\u001b[0m\n\u001b[0;32m      3\u001b[0m \u001b[1;32mwith\u001b[0m \u001b[0mopen\u001b[0m\u001b[1;33m(\u001b[0m\u001b[1;34m'ubuntu-18.04.1-desktop-amd64.iso'\u001b[0m\u001b[1;33m,\u001b[0m \u001b[1;34m'wb'\u001b[0m\u001b[1;33m)\u001b[0m \u001b[1;32mas\u001b[0m \u001b[0mf\u001b[0m\u001b[1;33m:\u001b[0m\u001b[1;33m\u001b[0m\u001b[1;33m\u001b[0m\u001b[0m\n\u001b[1;32m----> 4\u001b[1;33m     \u001b[1;32mfor\u001b[0m \u001b[0mchunk\u001b[0m \u001b[1;32min\u001b[0m \u001b[0mr\u001b[0m\u001b[1;33m.\u001b[0m\u001b[0miter_content\u001b[0m\u001b[1;33m(\u001b[0m\u001b[1;36m100000\u001b[0m\u001b[1;33m)\u001b[0m\u001b[1;33m:\u001b[0m \u001b[1;31m#100k 바이트 단위로 처리한다\u001b[0m\u001b[1;33m\u001b[0m\u001b[1;33m\u001b[0m\u001b[0m\n\u001b[0m\u001b[0;32m      5\u001b[0m         \u001b[0mf\u001b[0m\u001b[1;33m.\u001b[0m\u001b[0mwrite\u001b[0m\u001b[1;33m(\u001b[0m\u001b[0mchunk\u001b[0m\u001b[1;33m)\u001b[0m\u001b[1;33m\u001b[0m\u001b[1;33m\u001b[0m\u001b[0m\n\u001b[0;32m      6\u001b[0m         \u001b[0mprint\u001b[0m\u001b[1;33m(\u001b[0m\u001b[1;34m'*'\u001b[0m\u001b[1;33m,\u001b[0m \u001b[0mend\u001b[0m\u001b[1;33m=\u001b[0m\u001b[1;34m''\u001b[0m\u001b[1;33m,\u001b[0m \u001b[0mflush\u001b[0m\u001b[1;33m=\u001b[0m\u001b[1;32mTrue\u001b[0m\u001b[1;33m)\u001b[0m \u001b[1;31m#진행 상황을 화면에 표시한다\u001b[0m\u001b[1;33m\u001b[0m\u001b[1;33m\u001b[0m\u001b[0m\n",
      "\u001b[1;32m~\\anaconda3\\envs\\basic\\lib\\site-packages\\requests\\models.py\u001b[0m in \u001b[0;36mgenerate\u001b[1;34m()\u001b[0m\n\u001b[0;32m    751\u001b[0m             \u001b[1;32mif\u001b[0m \u001b[0mhasattr\u001b[0m\u001b[1;33m(\u001b[0m\u001b[0mself\u001b[0m\u001b[1;33m.\u001b[0m\u001b[0mraw\u001b[0m\u001b[1;33m,\u001b[0m \u001b[1;34m'stream'\u001b[0m\u001b[1;33m)\u001b[0m\u001b[1;33m:\u001b[0m\u001b[1;33m\u001b[0m\u001b[1;33m\u001b[0m\u001b[0m\n\u001b[0;32m    752\u001b[0m                 \u001b[1;32mtry\u001b[0m\u001b[1;33m:\u001b[0m\u001b[1;33m\u001b[0m\u001b[1;33m\u001b[0m\u001b[0m\n\u001b[1;32m--> 753\u001b[1;33m                     \u001b[1;32mfor\u001b[0m \u001b[0mchunk\u001b[0m \u001b[1;32min\u001b[0m \u001b[0mself\u001b[0m\u001b[1;33m.\u001b[0m\u001b[0mraw\u001b[0m\u001b[1;33m.\u001b[0m\u001b[0mstream\u001b[0m\u001b[1;33m(\u001b[0m\u001b[0mchunk_size\u001b[0m\u001b[1;33m,\u001b[0m \u001b[0mdecode_content\u001b[0m\u001b[1;33m=\u001b[0m\u001b[1;32mTrue\u001b[0m\u001b[1;33m)\u001b[0m\u001b[1;33m:\u001b[0m\u001b[1;33m\u001b[0m\u001b[1;33m\u001b[0m\u001b[0m\n\u001b[0m\u001b[0;32m    754\u001b[0m                         \u001b[1;32myield\u001b[0m \u001b[0mchunk\u001b[0m\u001b[1;33m\u001b[0m\u001b[1;33m\u001b[0m\u001b[0m\n\u001b[0;32m    755\u001b[0m                 \u001b[1;32mexcept\u001b[0m \u001b[0mProtocolError\u001b[0m \u001b[1;32mas\u001b[0m \u001b[0me\u001b[0m\u001b[1;33m:\u001b[0m\u001b[1;33m\u001b[0m\u001b[1;33m\u001b[0m\u001b[0m\n",
      "\u001b[1;32m~\\anaconda3\\envs\\basic\\lib\\site-packages\\urllib3\\response.py\u001b[0m in \u001b[0;36mstream\u001b[1;34m(self, amt, decode_content)\u001b[0m\n\u001b[0;32m    574\u001b[0m         \u001b[1;32melse\u001b[0m\u001b[1;33m:\u001b[0m\u001b[1;33m\u001b[0m\u001b[1;33m\u001b[0m\u001b[0m\n\u001b[0;32m    575\u001b[0m             \u001b[1;32mwhile\u001b[0m \u001b[1;32mnot\u001b[0m \u001b[0mis_fp_closed\u001b[0m\u001b[1;33m(\u001b[0m\u001b[0mself\u001b[0m\u001b[1;33m.\u001b[0m\u001b[0m_fp\u001b[0m\u001b[1;33m)\u001b[0m\u001b[1;33m:\u001b[0m\u001b[1;33m\u001b[0m\u001b[1;33m\u001b[0m\u001b[0m\n\u001b[1;32m--> 576\u001b[1;33m                 \u001b[0mdata\u001b[0m \u001b[1;33m=\u001b[0m \u001b[0mself\u001b[0m\u001b[1;33m.\u001b[0m\u001b[0mread\u001b[0m\u001b[1;33m(\u001b[0m\u001b[0mamt\u001b[0m\u001b[1;33m=\u001b[0m\u001b[0mamt\u001b[0m\u001b[1;33m,\u001b[0m \u001b[0mdecode_content\u001b[0m\u001b[1;33m=\u001b[0m\u001b[0mdecode_content\u001b[0m\u001b[1;33m)\u001b[0m\u001b[1;33m\u001b[0m\u001b[1;33m\u001b[0m\u001b[0m\n\u001b[0m\u001b[0;32m    577\u001b[0m \u001b[1;33m\u001b[0m\u001b[0m\n\u001b[0;32m    578\u001b[0m                 \u001b[1;32mif\u001b[0m \u001b[0mdata\u001b[0m\u001b[1;33m:\u001b[0m\u001b[1;33m\u001b[0m\u001b[1;33m\u001b[0m\u001b[0m\n",
      "\u001b[1;32m~\\anaconda3\\envs\\basic\\lib\\site-packages\\urllib3\\response.py\u001b[0m in \u001b[0;36mread\u001b[1;34m(self, amt, decode_content, cache_content)\u001b[0m\n\u001b[0;32m    517\u001b[0m             \u001b[1;32melse\u001b[0m\u001b[1;33m:\u001b[0m\u001b[1;33m\u001b[0m\u001b[1;33m\u001b[0m\u001b[0m\n\u001b[0;32m    518\u001b[0m                 \u001b[0mcache_content\u001b[0m \u001b[1;33m=\u001b[0m \u001b[1;32mFalse\u001b[0m\u001b[1;33m\u001b[0m\u001b[1;33m\u001b[0m\u001b[0m\n\u001b[1;32m--> 519\u001b[1;33m                 \u001b[0mdata\u001b[0m \u001b[1;33m=\u001b[0m \u001b[0mself\u001b[0m\u001b[1;33m.\u001b[0m\u001b[0m_fp\u001b[0m\u001b[1;33m.\u001b[0m\u001b[0mread\u001b[0m\u001b[1;33m(\u001b[0m\u001b[0mamt\u001b[0m\u001b[1;33m)\u001b[0m \u001b[1;32mif\u001b[0m \u001b[1;32mnot\u001b[0m \u001b[0mfp_closed\u001b[0m \u001b[1;32melse\u001b[0m \u001b[1;34mb\"\"\u001b[0m\u001b[1;33m\u001b[0m\u001b[1;33m\u001b[0m\u001b[0m\n\u001b[0m\u001b[0;32m    520\u001b[0m                 if (\n\u001b[0;32m    521\u001b[0m                     \u001b[0mamt\u001b[0m \u001b[1;33m!=\u001b[0m \u001b[1;36m0\u001b[0m \u001b[1;32mand\u001b[0m \u001b[1;32mnot\u001b[0m \u001b[0mdata\u001b[0m\u001b[1;33m\u001b[0m\u001b[1;33m\u001b[0m\u001b[0m\n",
      "\u001b[1;32m~\\anaconda3\\envs\\basic\\lib\\http\\client.py\u001b[0m in \u001b[0;36mread\u001b[1;34m(self, amt)\u001b[0m\n\u001b[0;32m    459\u001b[0m             \u001b[1;31m# Amount is given, implement using readinto\u001b[0m\u001b[1;33m\u001b[0m\u001b[1;33m\u001b[0m\u001b[1;33m\u001b[0m\u001b[0m\n\u001b[0;32m    460\u001b[0m             \u001b[0mb\u001b[0m \u001b[1;33m=\u001b[0m \u001b[0mbytearray\u001b[0m\u001b[1;33m(\u001b[0m\u001b[0mamt\u001b[0m\u001b[1;33m)\u001b[0m\u001b[1;33m\u001b[0m\u001b[1;33m\u001b[0m\u001b[0m\n\u001b[1;32m--> 461\u001b[1;33m             \u001b[0mn\u001b[0m \u001b[1;33m=\u001b[0m \u001b[0mself\u001b[0m\u001b[1;33m.\u001b[0m\u001b[0mreadinto\u001b[0m\u001b[1;33m(\u001b[0m\u001b[0mb\u001b[0m\u001b[1;33m)\u001b[0m\u001b[1;33m\u001b[0m\u001b[1;33m\u001b[0m\u001b[0m\n\u001b[0m\u001b[0;32m    462\u001b[0m             \u001b[1;32mreturn\u001b[0m \u001b[0mmemoryview\u001b[0m\u001b[1;33m(\u001b[0m\u001b[0mb\u001b[0m\u001b[1;33m)\u001b[0m\u001b[1;33m[\u001b[0m\u001b[1;33m:\u001b[0m\u001b[0mn\u001b[0m\u001b[1;33m]\u001b[0m\u001b[1;33m.\u001b[0m\u001b[0mtobytes\u001b[0m\u001b[1;33m(\u001b[0m\u001b[1;33m)\u001b[0m\u001b[1;33m\u001b[0m\u001b[1;33m\u001b[0m\u001b[0m\n\u001b[0;32m    463\u001b[0m         \u001b[1;32melse\u001b[0m\u001b[1;33m:\u001b[0m\u001b[1;33m\u001b[0m\u001b[1;33m\u001b[0m\u001b[0m\n",
      "\u001b[1;32m~\\anaconda3\\envs\\basic\\lib\\http\\client.py\u001b[0m in \u001b[0;36mreadinto\u001b[1;34m(self, b)\u001b[0m\n\u001b[0;32m    503\u001b[0m         \u001b[1;31m# connection, and the user is reading more bytes than will be provided\u001b[0m\u001b[1;33m\u001b[0m\u001b[1;33m\u001b[0m\u001b[1;33m\u001b[0m\u001b[0m\n\u001b[0;32m    504\u001b[0m         \u001b[1;31m# (for example, reading in 1k chunks)\u001b[0m\u001b[1;33m\u001b[0m\u001b[1;33m\u001b[0m\u001b[1;33m\u001b[0m\u001b[0m\n\u001b[1;32m--> 505\u001b[1;33m         \u001b[0mn\u001b[0m \u001b[1;33m=\u001b[0m \u001b[0mself\u001b[0m\u001b[1;33m.\u001b[0m\u001b[0mfp\u001b[0m\u001b[1;33m.\u001b[0m\u001b[0mreadinto\u001b[0m\u001b[1;33m(\u001b[0m\u001b[0mb\u001b[0m\u001b[1;33m)\u001b[0m\u001b[1;33m\u001b[0m\u001b[1;33m\u001b[0m\u001b[0m\n\u001b[0m\u001b[0;32m    506\u001b[0m         \u001b[1;32mif\u001b[0m \u001b[1;32mnot\u001b[0m \u001b[0mn\u001b[0m \u001b[1;32mand\u001b[0m \u001b[0mb\u001b[0m\u001b[1;33m:\u001b[0m\u001b[1;33m\u001b[0m\u001b[1;33m\u001b[0m\u001b[0m\n\u001b[0;32m    507\u001b[0m             \u001b[1;31m# Ideally, we would raise IncompleteRead if the content-length\u001b[0m\u001b[1;33m\u001b[0m\u001b[1;33m\u001b[0m\u001b[1;33m\u001b[0m\u001b[0m\n",
      "\u001b[1;32m~\\anaconda3\\envs\\basic\\lib\\socket.py\u001b[0m in \u001b[0;36mreadinto\u001b[1;34m(self, b)\u001b[0m\n\u001b[0;32m    587\u001b[0m         \u001b[1;32mwhile\u001b[0m \u001b[1;32mTrue\u001b[0m\u001b[1;33m:\u001b[0m\u001b[1;33m\u001b[0m\u001b[1;33m\u001b[0m\u001b[0m\n\u001b[0;32m    588\u001b[0m             \u001b[1;32mtry\u001b[0m\u001b[1;33m:\u001b[0m\u001b[1;33m\u001b[0m\u001b[1;33m\u001b[0m\u001b[0m\n\u001b[1;32m--> 589\u001b[1;33m                 \u001b[1;32mreturn\u001b[0m \u001b[0mself\u001b[0m\u001b[1;33m.\u001b[0m\u001b[0m_sock\u001b[0m\u001b[1;33m.\u001b[0m\u001b[0mrecv_into\u001b[0m\u001b[1;33m(\u001b[0m\u001b[0mb\u001b[0m\u001b[1;33m)\u001b[0m\u001b[1;33m\u001b[0m\u001b[1;33m\u001b[0m\u001b[0m\n\u001b[0m\u001b[0;32m    590\u001b[0m             \u001b[1;32mexcept\u001b[0m \u001b[0mtimeout\u001b[0m\u001b[1;33m:\u001b[0m\u001b[1;33m\u001b[0m\u001b[1;33m\u001b[0m\u001b[0m\n\u001b[0;32m    591\u001b[0m                 \u001b[0mself\u001b[0m\u001b[1;33m.\u001b[0m\u001b[0m_timeout_occurred\u001b[0m \u001b[1;33m=\u001b[0m \u001b[1;32mTrue\u001b[0m\u001b[1;33m\u001b[0m\u001b[1;33m\u001b[0m\u001b[0m\n",
      "\u001b[1;31mKeyboardInterrupt\u001b[0m: "
     ]
    }
   ],
   "source": [
    "r = requests.get('http://releases.ubuntu.com/18.04.1/ubuntu-18.04.1-desktop-amd64.iso', stream=True)\n",
    "\n",
    "with open('ubuntu-18.04.1-desktop-amd64.iso', 'wb') as f:\n",
    "    for chunk in r.iter_content(100000): #100k 바이트 단위로 처리한다\n",
    "        f.write(chunk)\n",
    "        print('*', end='', flush=True) #진행 상황을 화면에 표시한다\n",
    "    print()"
   ]
  },
  {
   "cell_type": "markdown",
   "id": "cc89bdb1",
   "metadata": {},
   "source": [
    "##  웹 자동화 - 웹 자료 수집 연습문제\n",
    "### http://www.weather.go.kr/weather/climate/past_cal.jsp?stn=108&yy=2020&mm=12\n",
    "### 저장 파일 형식 w_108_2020_8.html,..w_108_2020_12.html 파일로 저장"
   ]
  },
  {
   "cell_type": "code",
   "execution_count": 10,
   "id": "04f14dd8",
   "metadata": {
    "ExecuteTime": {
     "end_time": "2021-04-20T02:23:55.732627Z",
     "start_time": "2021-04-20T02:23:42.389402Z"
    }
   },
   "outputs": [],
   "source": [
    "#짜본거\n",
    "import requests\n",
    "\n",
    "url1 = 'http://www.weather.go.kr/weather/climate/past_cal.jsp?stn=108&yy=2020&mm='\n",
    "\n",
    "for i in range (1,13):\n",
    "    url1 += url + 'i' \n",
    "    r = requests.get(url1)\n",
    "    h = 'w_108_2020_' + 'i'\n",
    "    open('w_108_2020_[i].html', 'w', encoding='utf-8').write(html)"
   ]
  },
  {
   "cell_type": "code",
   "execution_count": 11,
   "id": "f5f5232c",
   "metadata": {
    "ExecuteTime": {
     "end_time": "2021-04-20T02:27:33.306910Z",
     "start_time": "2021-04-20T02:27:20.212372Z"
    }
   },
   "outputs": [
    {
     "name": "stdout",
     "output_type": "stream",
     "text": [
      "w_108_2020_1.html saved\n",
      "w_108_2020_2.html saved\n",
      "w_108_2020_3.html saved\n",
      "w_108_2020_4.html saved\n",
      "w_108_2020_5.html saved\n",
      "w_108_2020_6.html saved\n",
      "w_108_2020_7.html saved\n",
      "w_108_2020_8.html saved\n",
      "w_108_2020_9.html saved\n",
      "w_108_2020_10.html saved\n",
      "w_108_2020_11.html saved\n",
      "w_108_2020_12.html saved\n"
     ]
    }
   ],
   "source": [
    "import requests\n",
    "def get_page(stn, yy , mm):\n",
    "    url = f'http://www.weather.go.kr/weather/climate/past_cal.jsp?stn={stn}&yy={yy}&mm{mm}' #단계 2\n",
    "    res = requests.get(url) #단계 3\n",
    "    return res.text\n",
    "\n",
    "stn = 108 #단계 1\n",
    "yy = 2020 #단계 1\n",
    "for mm in range(1, 13): #단계 1\n",
    "    html = get_page(stn,yy,mm) #단계 2-3\n",
    "    fpath = f'w_{stn}_{yy}_{mm}.html' #단계 4\n",
    "    open(fpath, 'w', encoding='euc-kr').write(html) #단계 5\n",
    "    print(fpath, 'saved')"
   ]
  },
  {
   "cell_type": "code",
   "execution_count": null,
   "id": "69fa073a",
   "metadata": {},
   "outputs": [],
   "source": [
    "# 정답 코드\n",
    "import requests\n",
    "\n",
    "url = \"http://www.weather.go.kr/weather/climate/past_cal.jsp\"\n",
    "months = [m for m in range(8,13)] # 해당 월 list\n",
    "for month in months: # 지정한 월별로 반복\n",
    "    # 파라미터 지정\n",
    "    params = {\n",
    "        \"stn\":108,\n",
    "        \"yy\":2020,\n",
    "        \"mm\":month\n",
    "    }\n",
    "    r = requests.get(url, params=params) # url과 파라미터를 전달해 Request 객체 반환\n",
    "    html = r.text # html text 받아옴\n",
    "    open(f\"data/html/w_108_2020_{month}.html\",\"w\").write(html) # 월별 파일 저장"
   ]
  },
  {
   "cell_type": "code",
   "execution_count": 24,
   "id": "3f1f3fc3",
   "metadata": {
    "ExecuteTime": {
     "end_time": "2021-04-20T02:59:39.796866Z",
     "start_time": "2021-04-20T02:59:39.672837Z"
    },
    "scrolled": true
   },
   "outputs": [
    {
     "name": "stdout",
     "output_type": "stream",
     "text": [
      "<class 'feedparser.util.FeedParserDict'>\n",
      "dict_keys(['bozo', 'entries', 'feed', 'headers', 'etag', 'updated', 'updated_parsed', 'href', 'status', 'encoding', 'version', 'namespaces'])\n",
      "https://www.mk.co.kr/rss/71000001/\n",
      "https://www.mk.co.kr/rss/71000001/\n",
      "매일경제 : 스포츠 전체기사\n",
      "팀킴 '우리는 한팀' [MK포토]\n",
      "https://www.mk.co.kr/news/sports/view/2021/04/378831/\n",
      "매경닷컴 MK스포츠(서울 남대문로)=천정환 기자\n",
      "\n",
      "2021 세계선수권대회 팀킴 출정식 및 유니폼 발표회가 20일 오전 서울 중구 서울역 T타워에서 열렸다. \n",
      "\n",
      "팀킴이 포즈를 취하고 있다. \n",
      "\n",
      " jh1000@maekyung.com\n",
      "2021-04-20T11:49:45+09:00\n"
     ]
    }
   ],
   "source": [
    "import feedparser\n",
    "\n",
    "d = feedparser.parse('https://www.mk.co.kr/rss/71000001/') #스포츠 RSS\n",
    "print(type(d))\n",
    "print(d.keys())\n",
    "print(d['href']) #RSS 피드 주소값\n",
    "print(d.href)\n",
    "print(d.feed.title) #RSS 피드(자체) 정보\n",
    "#print(d.entries) #제공되는 기사 저장되어 있는 속성\n",
    "article = d.entries[0] #제공되는 기사 중 첫번째 기사\n",
    "print(article['title']) #첫번째 기사의 제목\n",
    "print(article['link']) #첫번째 기사를 제공하는 웹 페이지 url\n",
    "print(article['summary']) #첫번째 기사의 요약된 내용\n",
    "print(article['published']) #첫번째 기사의 작성 시간"
   ]
  },
  {
   "cell_type": "markdown",
   "id": "69a7f552",
   "metadata": {},
   "source": [
    "### 매일경제에서 제공하는 경제 카테고리에서 제공하는 기사 중에서 제목이 '코인'이 포함되어 있거나 기사내용 요약에 '코인'이 포함된 내용만 제목 전체와 기사를 제공하는 웹 페이지 url을 출력하시오"
   ]
  },
  {
   "cell_type": "code",
   "execution_count": 36,
   "id": "f6910cd3",
   "metadata": {
    "ExecuteTime": {
     "end_time": "2021-04-20T03:10:06.206495Z",
     "start_time": "2021-04-20T03:10:06.132062Z"
    },
    "scrolled": true
   },
   "outputs": [
    {
     "name": "stdout",
     "output_type": "stream",
     "text": [
      "* 일주일만에 1300만원↓…비트코인 7000만원대 붕괴 https://www.mk.co.kr/news/economy/view/2021/04/377774/\n",
      "* '코인광풍' 더 못봐…정부, 대규모 자금 인출 추적한다 https://www.mk.co.kr/news/economy/view/2021/04/376730/\n",
      "* \"10분만에 천만원 날려\"…코인판, 도박판이 따로없네 https://www.mk.co.kr/news/economy/view/2021/04/376709/\n",
      "* \"美재무부 돈세탁 조사\"…트윗 한 줄에 15% 출렁 https://www.mk.co.kr/news/economy/view/2021/04/376707/\n",
      "* \"20년 기다리느니 주식 코인할래\" 보험 깨는 서민들 https://www.mk.co.kr/news/economy/view/2021/04/376661/\n",
      "* 국내 알트코인 시가총액, 올해 들어서만 5배로 https://www.mk.co.kr/news/economy/view/2021/04/375542/\n",
      "* 비트코인 1000만원 폭락…\"美 재무부 돈세탁 조사설\" https://www.mk.co.kr/news/economy/view/2021/04/372845/\n",
      "* 가상화폐 하루 24조 거래…가이드라인 나온다 https://www.mk.co.kr/news/economy/view/2021/04/372183/\n"
     ]
    }
   ],
   "source": [
    "import feedparser\n",
    "\n",
    "d = feedparser.parse('http://file.mk.co.kr/news/rss/rss_30100041.xml') #경제 RSS\n",
    "\n",
    "for entry in d.entries:\n",
    "    if '코인' in entry['title'] or '코인' in entry['summary']:\n",
    "        print('*', entry['title'], entry['link'])"
   ]
  },
  {
   "cell_type": "code",
   "execution_count": 37,
   "id": "19837d0f",
   "metadata": {
    "ExecuteTime": {
     "end_time": "2021-04-20T03:16:28.253236Z",
     "start_time": "2021-04-20T03:16:28.146195Z"
    }
   },
   "outputs": [
    {
     "name": "stdout",
     "output_type": "stream",
     "text": [
      "* 일주일만에 1300만원↓…비트코인 7000만원대 붕괴 https://www.mk.co.kr/news/economy/view/2021/04/377774/\n",
      "* '코인광풍' 더 못봐…정부, 대규모 자금 인출 추적한다 https://www.mk.co.kr/news/economy/view/2021/04/376730/\n",
      "* \"10분만에 천만원 날려\"…코인판, 도박판이 따로없네 https://www.mk.co.kr/news/economy/view/2021/04/376709/\n",
      "* \"美재무부 돈세탁 조사\"…트윗 한 줄에 15% 출렁 https://www.mk.co.kr/news/economy/view/2021/04/376707/\n",
      "* \"20년 기다리느니 주식 코인할래\" 보험 깨는 서민들 https://www.mk.co.kr/news/economy/view/2021/04/376661/\n",
      "* 국내 알트코인 시가총액, 올해 들어서만 5배로 https://www.mk.co.kr/news/economy/view/2021/04/375542/\n",
      "* 비트코인 1000만원 폭락…\"美 재무부 돈세탁 조사설\" https://www.mk.co.kr/news/economy/view/2021/04/372845/\n",
      "* 가상화폐 하루 24조 거래…가이드라인 나온다 https://www.mk.co.kr/news/economy/view/2021/04/372183/\n"
     ]
    }
   ],
   "source": [
    "import feedparser\n",
    "\n",
    "d = feedparser.parse('https://www.mk.co.kr/rss/30100041/ ') #경제 RSS\n",
    "\n",
    "for entry in d.entries:\n",
    "    if '코인' in entry['title'] or '코인' in entry['summary']:\n",
    "        print('*', entry['title'], entry['link'])\n",
    "\n"
   ]
  },
  {
   "cell_type": "markdown",
   "id": "89f01908",
   "metadata": {},
   "source": [
    "## Web Scrapying"
   ]
  },
  {
   "cell_type": "code",
   "execution_count": 66,
   "id": "ab309c75",
   "metadata": {
    "ExecuteTime": {
     "end_time": "2021-04-20T03:55:00.821420Z",
     "start_time": "2021-04-20T03:55:00.799406Z"
    },
    "scrolled": true
   },
   "outputs": [
    {
     "name": "stdout",
     "output_type": "stream",
     "text": [
      "<a class=\"python\" href=\"http://www.yes24.com/Product/Goods/74419916?OzSrank=1\" id=\"link1\" name=\"jump\"> 점프 투 파이썬 </a>\n"
     ]
    }
   ],
   "source": [
    "from bs4 import BeautifulSoup\n",
    "\n",
    "html = \"\"\"\n",
    "<html>\n",
    "<head>\n",
    "<title> python </title>\n",
    "<meta charset=\"utf-8\">\n",
    "</head>\n",
    "<body>\n",
    "<H1 class='title'>python 활용 범위</H1>\n",
    "<p class='story'>파이썬(Python)은 \n",
    "1991년 프로그래머인 귀도 반 로섬이 발표한 \n",
    "고급 프로그래밍 언어로, 플랫폼에 독립적이며 \n",
    "인터프리터식, 객체지향적, 동적 타이핑(dynamically typed)\n",
    "대화형 언어이다.</p>\n",
    "<p>우헤헤헤 이름은 귀도가 좋아하는 코미디 \n",
    "Monty Python's Flying Circus〉에서 따온 것이다.</p>\n",
    "<div class='book python'>\n",
    "<a href = 'http://www.yes24.com/Product/Goods/74419916?OzSrank=1'\n",
    "class='python' name='jump' id='link1'> 점프 투 파이썬 </a>\n",
    "<div class='book python'>\n",
    "<a href = 'http://www.yes24.com/Product/Goods/74419916?OzSrank=2'\n",
    "class='python' name='alone' id='link2'> 혼자 공부하는 파이썬 </a>\n",
    "<div class='book python'>\n",
    "<a href = 'http://www.yes24.com/Product/Goods/74419916?OzSrank=3'\n",
    "class='python' name='coinsale' id='link3'> 파이썬을 이용한 비트코인 자동매매 </a>\n",
    "<div class='book python'>\n",
    "<a href = 'http://www.yes24.com/Product/Goods/74419916?OzSrank=4'\n",
    "class='python' name='ml' id='link4'> 혼자 공부하는 머신러닝+딥러닝 </a>\n",
    "<div class='book python'>\n",
    "<a href = 'http://www.yes24.com/Product/Goods/74419916?OzSrank=5'\n",
    "class='python' name='codingtest' id='link5'> 이것이 취업을 위한 코딩 테스트다 \n",
    "with 파이썬 </a>\n",
    "</div>\n",
    "<body>\n",
    "</html>\n",
    "\"\"\"\n",
    "\n",
    "soup = BeautifulSoup(html, 'lxml')\n",
    "#print(soup)\n",
    "#print(type(soup)) #soup 타입 출력\n",
    "#print(soup.prettify()) #코드 그대로 출력\n",
    "#print(soup.html.head.title, soup.title) #title만 출력\n",
    "print(soup.a) #앵커태그 a의 하나(맨 위)만 가져옴(하이퍼링크) 다 가져오려면 find_all"
   ]
  },
  {
   "cell_type": "code",
   "execution_count": 49,
   "id": "7d86fb6d",
   "metadata": {
    "ExecuteTime": {
     "end_time": "2021-04-20T03:48:16.445276Z",
     "start_time": "2021-04-20T03:48:16.428271Z"
    }
   },
   "outputs": [
    {
     "name": "stdout",
     "output_type": "stream",
     "text": [
      "a\n",
      " 점프 투 파이썬 \n",
      "http://www.yes24.com/Product/Goods/74419916?OzSrank=1\n",
      "{'href': 'http://www.yes24.com/Product/Goods/74419916?OzSrank=1', 'class': ['python'], 'name': 'jump', 'id': 'link1'}\n"
     ]
    }
   ],
   "source": [
    "tag = soup.a\n",
    "print(tag.name) #name속성\n",
    "print(tag.text) #태그 내용\n",
    "print(tag.attrs['href']) #태그의 특정 속성 반환\n",
    "print(tag.attrs) #태그의 모든 속성을 dict로 반환"
   ]
  },
  {
   "cell_type": "code",
   "execution_count": 54,
   "id": "da788fe3",
   "metadata": {
    "ExecuteTime": {
     "end_time": "2021-04-20T03:51:02.762123Z",
     "start_time": "2021-04-20T03:51:02.752121Z"
    },
    "scrolled": true
   },
   "outputs": [
    {
     "name": "stdout",
     "output_type": "stream",
     "text": [
      "<div class=\"book python\">\n",
      "<a class=\"python\" href=\"http://www.yes24.com/Product/Goods/74419916?OzSrank=2\" id=\"link2\" name=\"alone\"> 혼자 공부하는 파이썬 </a>\n",
      "<div class=\"book python\">\n",
      "<a class=\"python\" href=\"http://www.yes24.com/Product/Goods/74419916?OzSrank=3\" id=\"link3\" name=\"coinsale\"> 파이썬을 이용한 비트코인 자동매매 </a>\n",
      "<div class=\"book python\">\n",
      "<a class=\"python\" href=\"http://www.yes24.com/Product/Goods/74419916?OzSrank=4\" id=\"link4\" name=\"ml\"> 혼자 공부하는 머신러닝+딥러닝 </a>\n",
      "<div class=\"book python\">\n",
      "<a class=\"python\" href=\"http://www.yes24.com/Product/Goods/74419916?OzSrank=5\" id=\"link5\" name=\"codingtest\"> 이것이 취업을 위한 코딩 테스트다 \n",
      "with 파이썬 </a>\n",
      "</div>\n",
      "</div></div></div>\n",
      "<a class=\"python\" href=\"http://www.yes24.com/Product/Goods/74419916?OzSrank=2\" id=\"link2\" name=\"alone\"> 혼자 공부하는 파이썬 </a>\n"
     ]
    }
   ],
   "source": [
    "print(soup.a.find_next()) #어떤 노드의 다음 노드 반환\n",
    "print(soup.a.find_next().find_next())"
   ]
  },
  {
   "cell_type": "code",
   "execution_count": 60,
   "id": "988fd1dd",
   "metadata": {
    "ExecuteTime": {
     "end_time": "2021-04-20T03:52:19.400244Z",
     "start_time": "2021-04-20T03:52:19.379843Z"
    }
   },
   "outputs": [
    {
     "data": {
      "text/plain": [
       "<h1 class=\"title\">python 활용 범위</h1>"
      ]
     },
     "execution_count": 60,
     "metadata": {},
     "output_type": "execute_result"
    }
   ],
   "source": [
    "print(soup.find('h1')) #soup.h1과 동일\n",
    "print(soup.find('h1', 'title')) #h1 태그 중 클래스 이름이 title인 태그 검색\n",
    "print(soup.find('h1', attrs={'class':'title'}))"
   ]
  },
  {
   "cell_type": "code",
   "execution_count": 68,
   "id": "d5d8bcbf",
   "metadata": {
    "ExecuteTime": {
     "end_time": "2021-04-20T03:55:09.509642Z",
     "start_time": "2021-04-20T03:55:09.487638Z"
    }
   },
   "outputs": [
    {
     "data": {
      "text/plain": [
       "<p class=\"story\">파이썬(Python)은 \n",
       "1991년 프로그래머인 귀도 반 로섬이 발표한 \n",
       "고급 프로그래밍 언어로, 플랫폼에 독립적이며 \n",
       "인터프리터식, 객체지향적, 동적 타이핑(dynamically typed)\n",
       "대화형 언어이다.</p>"
      ]
     },
     "execution_count": 68,
     "metadata": {},
     "output_type": "execute_result"
    }
   ],
   "source": [
    "import re\n",
    "print(soup.find('p', string = re.compile(\"^파이썬\")))"
   ]
  },
  {
   "cell_type": "code",
   "execution_count": 71,
   "id": "d0566e37",
   "metadata": {
    "ExecuteTime": {
     "end_time": "2021-04-20T03:56:45.869921Z",
     "start_time": "2021-04-20T03:56:45.851907Z"
    }
   },
   "outputs": [
    {
     "name": "stdout",
     "output_type": "stream",
     "text": [
      "<p class=\"story\">파이썬(Python)은 \n",
      "1991년 프로그래머인 귀도 반 로섬이 발표한 \n",
      "고급 프로그래밍 언어로, 플랫폼에 독립적이며 \n",
      "인터프리터식, 객체지향적, 동적 타이핑(dynamically typed)\n",
      "대화형 언어이다.</p>\n",
      "['파이썬(Python)은 \\n1991년 프로그래머인 귀도 반 로섬이 발표한 \\n고급 프로그래밍 언어로, 플랫폼에 독립적이며 \\n인터프리터식, 객체지향적, 동적 타이핑(dynamically typed)\\n대화형 언어이다.', ' 점프 투 파이썬 ', ' 혼자 공부하는 파이썬 ', ' 파이썬을 이용한 비트코인 자동매매 ', ' 이것이 취업을 위한 코딩 테스트다 \\nwith 파이썬 ']\n",
      "[<a class=\"python\" href=\"http://www.yes24.com/Product/Goods/74419916?OzSrank=1\" id=\"link1\" name=\"jump\"> 점프 투 파이썬 </a>, <a class=\"python\" href=\"http://www.yes24.com/Product/Goods/74419916?OzSrank=2\" id=\"link2\" name=\"alone\"> 혼자 공부하는 파이썬 </a>, <a class=\"python\" href=\"http://www.yes24.com/Product/Goods/74419916?OzSrank=3\" id=\"link3\" name=\"coinsale\"> 파이썬을 이용한 비트코인 자동매매 </a>, <a class=\"python\" href=\"http://www.yes24.com/Product/Goods/74419916?OzSrank=4\" id=\"link4\" name=\"ml\"> 혼자 공부하는 머신러닝+딥러닝 </a>, <a class=\"python\" href=\"http://www.yes24.com/Product/Goods/74419916?OzSrank=5\" id=\"link5\" name=\"codingtest\"> 이것이 취업을 위한 코딩 테스트다 \n",
      "with 파이썬 </a>]\n"
     ]
    }
   ],
   "source": [
    "print(soup.find('p', string = re.compile(\"^파이썬\")))\n",
    "print(soup.find_all(string=re.compile('파이썬')))\n",
    "print(soup.find_all('a'))"
   ]
  },
  {
   "cell_type": "code",
   "execution_count": 84,
   "id": "1660ad1e",
   "metadata": {
    "ExecuteTime": {
     "end_time": "2021-04-20T04:11:01.822111Z",
     "start_time": "2021-04-20T04:11:01.811122Z"
    }
   },
   "outputs": [
    {
     "name": "stdout",
     "output_type": "stream",
     "text": [
      "[<a class=\"python\" href=\"http://www.yes24.com/Product/Goods/74419916?OzSrank=4\" id=\"link4\" name=\"ml\"> 혼자 공부하는 머신러닝+딥러닝 </a>]\n",
      "[<h1 class=\"title\">python 활용 범위</h1>, <a class=\"python\" href=\"http://www.yes24.com/Product/Goods/74419916?OzSrank=1\" id=\"link1\" name=\"jump\"> 점프 투 파이썬 </a>, <a class=\"python\" href=\"http://www.yes24.com/Product/Goods/74419916?OzSrank=2\" id=\"link2\" name=\"alone\"> 혼자 공부하는 파이썬 </a>, <a class=\"python\" href=\"http://www.yes24.com/Product/Goods/74419916?OzSrank=3\" id=\"link3\" name=\"coinsale\"> 파이썬을 이용한 비트코인 자동매매 </a>, <a class=\"python\" href=\"http://www.yes24.com/Product/Goods/74419916?OzSrank=4\" id=\"link4\" name=\"ml\"> 혼자 공부하는 머신러닝+딥러닝 </a>, <a class=\"python\" href=\"http://www.yes24.com/Product/Goods/74419916?OzSrank=5\" id=\"link5\" name=\"codingtest\"> 이것이 취업을 위한 코딩 테스트다 \n",
      "with 파이썬 </a>]\n",
      "[<html>\n",
      "<head>\n",
      "<title> python </title>\n",
      "<meta charset=\"utf-8\"/>\n",
      "</head>\n",
      "<body>\n",
      "<h1 class=\"title\">python 활용 범위</h1>\n",
      "<p class=\"story\">파이썬(Python)은 \n",
      "1991년 프로그래머인 귀도 반 로섬이 발표한 \n",
      "고급 프로그래밍 언어로, 플랫폼에 독립적이며 \n",
      "인터프리터식, 객체지향적, 동적 타이핑(dynamically typed)\n",
      "대화형 언어이다.</p>\n",
      "<p>우헤헤헤 이름은 귀도가 좋아하는 코미디 \n",
      "Monty Python's Flying Circus〉에서 따온 것이다.</p>\n",
      "<div class=\"book python\">\n",
      "<a class=\"python\" href=\"http://www.yes24.com/Product/Goods/74419916?OzSrank=1\" id=\"link1\" name=\"jump\"> 점프 투 파이썬 </a>\n",
      "<div class=\"book python\">\n",
      "<a class=\"python\" href=\"http://www.yes24.com/Product/Goods/74419916?OzSrank=2\" id=\"link2\" name=\"alone\"> 혼자 공부하는 파이썬 </a>\n",
      "<div class=\"book python\">\n",
      "<a class=\"python\" href=\"http://www.yes24.com/Product/Goods/74419916?OzSrank=3\" id=\"link3\" name=\"coinsale\"> 파이썬을 이용한 비트코인 자동매매 </a>\n",
      "<div class=\"book python\">\n",
      "<a class=\"python\" href=\"http://www.yes24.com/Product/Goods/74419916?OzSrank=4\" id=\"link4\" name=\"ml\"> 혼자 공부하는 머신러닝+딥러닝 </a>\n",
      "<div class=\"book python\">\n",
      "<a class=\"python\" href=\"http://www.yes24.com/Product/Goods/74419916?OzSrank=5\" id=\"link5\" name=\"codingtest\"> 이것이 취업을 위한 코딩 테스트다 \n",
      "with 파이썬 </a>\n",
      "</div>\n",
      "</div></div></div></div></body></html>, <head>\n",
      "<title> python </title>\n",
      "<meta charset=\"utf-8\"/>\n",
      "</head>, <title> python </title>, <meta charset=\"utf-8\"/>, <body>\n",
      "<h1 class=\"title\">python 활용 범위</h1>\n",
      "<p class=\"story\">파이썬(Python)은 \n",
      "1991년 프로그래머인 귀도 반 로섬이 발표한 \n",
      "고급 프로그래밍 언어로, 플랫폼에 독립적이며 \n",
      "인터프리터식, 객체지향적, 동적 타이핑(dynamically typed)\n",
      "대화형 언어이다.</p>\n",
      "<p>우헤헤헤 이름은 귀도가 좋아하는 코미디 \n",
      "Monty Python's Flying Circus〉에서 따온 것이다.</p>\n",
      "<div class=\"book python\">\n",
      "<a class=\"python\" href=\"http://www.yes24.com/Product/Goods/74419916?OzSrank=1\" id=\"link1\" name=\"jump\"> 점프 투 파이썬 </a>\n",
      "<div class=\"book python\">\n",
      "<a class=\"python\" href=\"http://www.yes24.com/Product/Goods/74419916?OzSrank=2\" id=\"link2\" name=\"alone\"> 혼자 공부하는 파이썬 </a>\n",
      "<div class=\"book python\">\n",
      "<a class=\"python\" href=\"http://www.yes24.com/Product/Goods/74419916?OzSrank=3\" id=\"link3\" name=\"coinsale\"> 파이썬을 이용한 비트코인 자동매매 </a>\n",
      "<div class=\"book python\">\n",
      "<a class=\"python\" href=\"http://www.yes24.com/Product/Goods/74419916?OzSrank=4\" id=\"link4\" name=\"ml\"> 혼자 공부하는 머신러닝+딥러닝 </a>\n",
      "<div class=\"book python\">\n",
      "<a class=\"python\" href=\"http://www.yes24.com/Product/Goods/74419916?OzSrank=5\" id=\"link5\" name=\"codingtest\"> 이것이 취업을 위한 코딩 테스트다 \n",
      "with 파이썬 </a>\n",
      "</div>\n",
      "</div></div></div></div></body>, <h1 class=\"title\">python 활용 범위</h1>, <p class=\"story\">파이썬(Python)은 \n",
      "1991년 프로그래머인 귀도 반 로섬이 발표한 \n",
      "고급 프로그래밍 언어로, 플랫폼에 독립적이며 \n",
      "인터프리터식, 객체지향적, 동적 타이핑(dynamically typed)\n",
      "대화형 언어이다.</p>, <p>우헤헤헤 이름은 귀도가 좋아하는 코미디 \n",
      "Monty Python's Flying Circus〉에서 따온 것이다.</p>, <div class=\"book python\">\n",
      "<a class=\"python\" href=\"http://www.yes24.com/Product/Goods/74419916?OzSrank=1\" id=\"link1\" name=\"jump\"> 점프 투 파이썬 </a>\n",
      "<div class=\"book python\">\n",
      "<a class=\"python\" href=\"http://www.yes24.com/Product/Goods/74419916?OzSrank=2\" id=\"link2\" name=\"alone\"> 혼자 공부하는 파이썬 </a>\n",
      "<div class=\"book python\">\n",
      "<a class=\"python\" href=\"http://www.yes24.com/Product/Goods/74419916?OzSrank=3\" id=\"link3\" name=\"coinsale\"> 파이썬을 이용한 비트코인 자동매매 </a>\n",
      "<div class=\"book python\">\n",
      "<a class=\"python\" href=\"http://www.yes24.com/Product/Goods/74419916?OzSrank=4\" id=\"link4\" name=\"ml\"> 혼자 공부하는 머신러닝+딥러닝 </a>\n",
      "<div class=\"book python\">\n",
      "<a class=\"python\" href=\"http://www.yes24.com/Product/Goods/74419916?OzSrank=5\" id=\"link5\" name=\"codingtest\"> 이것이 취업을 위한 코딩 테스트다 \n",
      "with 파이썬 </a>\n",
      "</div>\n",
      "</div></div></div></div>, <a class=\"python\" href=\"http://www.yes24.com/Product/Goods/74419916?OzSrank=1\" id=\"link1\" name=\"jump\"> 점프 투 파이썬 </a>, <div class=\"book python\">\n",
      "<a class=\"python\" href=\"http://www.yes24.com/Product/Goods/74419916?OzSrank=2\" id=\"link2\" name=\"alone\"> 혼자 공부하는 파이썬 </a>\n",
      "<div class=\"book python\">\n",
      "<a class=\"python\" href=\"http://www.yes24.com/Product/Goods/74419916?OzSrank=3\" id=\"link3\" name=\"coinsale\"> 파이썬을 이용한 비트코인 자동매매 </a>\n",
      "<div class=\"book python\">\n",
      "<a class=\"python\" href=\"http://www.yes24.com/Product/Goods/74419916?OzSrank=4\" id=\"link4\" name=\"ml\"> 혼자 공부하는 머신러닝+딥러닝 </a>\n",
      "<div class=\"book python\">\n",
      "<a class=\"python\" href=\"http://www.yes24.com/Product/Goods/74419916?OzSrank=5\" id=\"link5\" name=\"codingtest\"> 이것이 취업을 위한 코딩 테스트다 \n",
      "with 파이썬 </a>\n",
      "</div>\n",
      "</div></div></div>, <a class=\"python\" href=\"http://www.yes24.com/Product/Goods/74419916?OzSrank=2\" id=\"link2\" name=\"alone\"> 혼자 공부하는 파이썬 </a>, <div class=\"book python\">\n",
      "<a class=\"python\" href=\"http://www.yes24.com/Product/Goods/74419916?OzSrank=3\" id=\"link3\" name=\"coinsale\"> 파이썬을 이용한 비트코인 자동매매 </a>\n",
      "<div class=\"book python\">\n",
      "<a class=\"python\" href=\"http://www.yes24.com/Product/Goods/74419916?OzSrank=4\" id=\"link4\" name=\"ml\"> 혼자 공부하는 머신러닝+딥러닝 </a>\n",
      "<div class=\"book python\">\n",
      "<a class=\"python\" href=\"http://www.yes24.com/Product/Goods/74419916?OzSrank=5\" id=\"link5\" name=\"codingtest\"> 이것이 취업을 위한 코딩 테스트다 \n",
      "with 파이썬 </a>\n",
      "</div>\n",
      "</div></div>, <a class=\"python\" href=\"http://www.yes24.com/Product/Goods/74419916?OzSrank=3\" id=\"link3\" name=\"coinsale\"> 파이썬을 이용한 비트코인 자동매매 </a>, <div class=\"book python\">\n",
      "<a class=\"python\" href=\"http://www.yes24.com/Product/Goods/74419916?OzSrank=4\" id=\"link4\" name=\"ml\"> 혼자 공부하는 머신러닝+딥러닝 </a>\n",
      "<div class=\"book python\">\n",
      "<a class=\"python\" href=\"http://www.yes24.com/Product/Goods/74419916?OzSrank=5\" id=\"link5\" name=\"codingtest\"> 이것이 취업을 위한 코딩 테스트다 \n",
      "with 파이썬 </a>\n",
      "</div>\n",
      "</div>, <a class=\"python\" href=\"http://www.yes24.com/Product/Goods/74419916?OzSrank=4\" id=\"link4\" name=\"ml\"> 혼자 공부하는 머신러닝+딥러닝 </a>, <div class=\"book python\">\n",
      "<a class=\"python\" href=\"http://www.yes24.com/Product/Goods/74419916?OzSrank=5\" id=\"link5\" name=\"codingtest\"> 이것이 취업을 위한 코딩 테스트다 \n",
      "with 파이썬 </a>\n",
      "</div>, <a class=\"python\" href=\"http://www.yes24.com/Product/Goods/74419916?OzSrank=5\" id=\"link5\" name=\"codingtest\"> 이것이 취업을 위한 코딩 테스트다 \n",
      "with 파이썬 </a>]\n"
     ]
    }
   ],
   "source": [
    "print(soup.find_all('a', attrs={'class':'python', 'name' : 'ml'}))\n",
    "print(soup.find_all(['a','h1']))\n",
    "print(soup.find_all())"
   ]
  },
  {
   "cell_type": "markdown",
   "id": "fa5c2cd2",
   "metadata": {},
   "source": [
    "## CSS의 selector 문법으로 html문서 내용을 검색해 결과 반\n",
    "### '태그명', '태그명', ...\n",
    "### '.class속성값'\n",
    "### '#id값'\n",
    "### 자손태그 : '부모태그명' '자손태그'\n",
    "### 바로 아래 자식 태그 : '부모태그명 > 자식태그'\n",
    "### 속성 : '태그명[속성명=값]'\n",
    "### 다음 형제 태그 : '태그 + next태그'\n",
    "### 형제 태그 : '태그 ~ next태그'\n",
    "### :nth-of-type(3n+1)"
   ]
  },
  {
   "cell_type": "code",
   "execution_count": 79,
   "id": "8de179ad",
   "metadata": {
    "ExecuteTime": {
     "end_time": "2021-04-20T04:05:25.414924Z",
     "start_time": "2021-04-20T04:05:25.398924Z"
    },
    "scrolled": false
   },
   "outputs": [
    {
     "name": "stdout",
     "output_type": "stream",
     "text": [
      "[<a class=\"python\" href=\"http://www.yes24.com/Product/Goods/74419916?OzSrank=1\" id=\"link1\" name=\"jump\"> 점프 투 파이썬 </a>]\n",
      "[]\n",
      "[<p class=\"story\">파이썬(Python)은 \n",
      "1991년 프로그래머인 귀도 반 로섬이 발표한 \n",
      "고급 프로그래밍 언어로, 플랫폼에 독립적이며 \n",
      "인터프리터식, 객체지향적, 동적 타이핑(dynamically typed)\n",
      "대화형 언어이다.</p>, <p>우헤헤헤 이름은 귀도가 좋아하는 코미디 \n",
      "Monty Python's Flying Circus〉에서 따온 것이다.</p>, <a class=\"python\" href=\"http://www.yes24.com/Product/Goods/74419916?OzSrank=1\" id=\"link1\" name=\"jump\"> 점프 투 파이썬 </a>, <a class=\"python\" href=\"http://www.yes24.com/Product/Goods/74419916?OzSrank=2\" id=\"link2\" name=\"alone\"> 혼자 공부하는 파이썬 </a>, <a class=\"python\" href=\"http://www.yes24.com/Product/Goods/74419916?OzSrank=3\" id=\"link3\" name=\"coinsale\"> 파이썬을 이용한 비트코인 자동매매 </a>, <a class=\"python\" href=\"http://www.yes24.com/Product/Goods/74419916?OzSrank=4\" id=\"link4\" name=\"ml\"> 혼자 공부하는 머신러닝+딥러닝 </a>, <a class=\"python\" href=\"http://www.yes24.com/Product/Goods/74419916?OzSrank=5\" id=\"link5\" name=\"codingtest\"> 이것이 취업을 위한 코딩 테스트다 \n",
      "with 파이썬 </a>]\n",
      "[<a class=\"python\" href=\"http://www.yes24.com/Product/Goods/74419916?OzSrank=1\" id=\"link1\" name=\"jump\"> 점프 투 파이썬 </a>, <a class=\"python\" href=\"http://www.yes24.com/Product/Goods/74419916?OzSrank=2\" id=\"link2\" name=\"alone\"> 혼자 공부하는 파이썬 </a>, <a class=\"python\" href=\"http://www.yes24.com/Product/Goods/74419916?OzSrank=3\" id=\"link3\" name=\"coinsale\"> 파이썬을 이용한 비트코인 자동매매 </a>, <a class=\"python\" href=\"http://www.yes24.com/Product/Goods/74419916?OzSrank=4\" id=\"link4\" name=\"ml\"> 혼자 공부하는 머신러닝+딥러닝 </a>, <a class=\"python\" href=\"http://www.yes24.com/Product/Goods/74419916?OzSrank=5\" id=\"link5\" name=\"codingtest\"> 이것이 취업을 위한 코딩 테스트다 \n",
      "with 파이썬 </a>]\n",
      "[]\n",
      "[<a class=\"python\" href=\"http://www.yes24.com/Product/Goods/74419916?OzSrank=1\" id=\"link1\" name=\"jump\"> 점프 투 파이썬 </a>, <a class=\"python\" href=\"http://www.yes24.com/Product/Goods/74419916?OzSrank=2\" id=\"link2\" name=\"alone\"> 혼자 공부하는 파이썬 </a>, <a class=\"python\" href=\"http://www.yes24.com/Product/Goods/74419916?OzSrank=3\" id=\"link3\" name=\"coinsale\"> 파이썬을 이용한 비트코인 자동매매 </a>, <a class=\"python\" href=\"http://www.yes24.com/Product/Goods/74419916?OzSrank=4\" id=\"link4\" name=\"ml\"> 혼자 공부하는 머신러닝+딥러닝 </a>, <a class=\"python\" href=\"http://www.yes24.com/Product/Goods/74419916?OzSrank=5\" id=\"link5\" name=\"codingtest\"> 이것이 취업을 위한 코딩 테스트다 \n",
      "with 파이썬 </a>]\n",
      "[<a class=\"python\" href=\"http://www.yes24.com/Product/Goods/74419916?OzSrank=1\" id=\"link1\" name=\"jump\"> 점프 투 파이썬 </a>]\n",
      "[<a class=\"python\" href=\"http://www.yes24.com/Product/Goods/74419916?OzSrank=3\" id=\"link3\" name=\"coinsale\"> 파이썬을 이용한 비트코인 자동매매 </a>]\n"
     ]
    }
   ],
   "source": [
    "print(soup.select('#link1'))\n",
    "print(soup.select('a.python.'))\n",
    "print(soup.select('p, a'))\n",
    "print(soup.select('div > a'))\n",
    "print(soup.select('body > a'))\n",
    "print(soup.select('a[href^=http:]')) #http:로 시작되는 a 요소\n",
    "print(soup.select('a:nth-of-type(1)'))\n",
    "print(soup.select('a:nth-of-type(3)'))"
   ]
  },
  {
   "cell_type": "code",
   "execution_count": 82,
   "id": "a41b8865",
   "metadata": {
    "ExecuteTime": {
     "end_time": "2021-04-20T04:06:25.003102Z",
     "start_time": "2021-04-20T04:06:24.985072Z"
    },
    "scrolled": true
   },
   "outputs": [
    {
     "name": "stdout",
     "output_type": "stream",
     "text": [
      " 점프 투 파이썬  http://www.yes24.com/Product/Goods/74419916?OzSrank=1\n",
      " 혼자 공부하는 파이썬  http://www.yes24.com/Product/Goods/74419916?OzSrank=2\n",
      " 파이썬을 이용한 비트코인 자동매매  http://www.yes24.com/Product/Goods/74419916?OzSrank=3\n",
      " 혼자 공부하는 머신러닝+딥러닝  http://www.yes24.com/Product/Goods/74419916?OzSrank=4\n",
      " 이것이 취업을 위한 코딩 테스트다 \n",
      "with 파이썬  http://www.yes24.com/Product/Goods/74419916?OzSrank=5\n"
     ]
    }
   ],
   "source": [
    "for ele in soup.select('a[href^=http:]'):\n",
    "    print(ele.get_text(), ele.get('href'))"
   ]
  },
  {
   "cell_type": "markdown",
   "id": "493126f9",
   "metadata": {},
   "source": [
    "## 웹 자동화 - 네이버 검색 작업 자동화 연습문제"
   ]
  },
  {
   "cell_type": "code",
   "execution_count": 102,
   "id": "50ed2855",
   "metadata": {
    "ExecuteTime": {
     "end_time": "2021-04-20T05:47:36.792353Z",
     "start_time": "2021-04-20T05:47:35.977011Z"
    },
    "collapsed": true
   },
   "outputs": [
    {
     "ename": "TypeError",
     "evalue": "can only concatenate tuple (not \"int\") to tuple",
     "output_type": "error",
     "traceback": [
      "\u001b[1;31m---------------------------------------------------------------------------\u001b[0m",
      "\u001b[1;31mTypeError\u001b[0m                                 Traceback (most recent call last)",
      "\u001b[1;32m<ipython-input-102-81ef5eb94a34>\u001b[0m in \u001b[0;36m<module>\u001b[1;34m\u001b[0m\n\u001b[0;32m     13\u001b[0m \u001b[0mn\u001b[0m \u001b[1;33m=\u001b[0m \u001b[1;34m'훠궈'\u001b[0m\u001b[1;33m\u001b[0m\u001b[1;33m\u001b[0m\u001b[0m\n\u001b[0;32m     14\u001b[0m \u001b[1;32mfor\u001b[0m \u001b[0mn\u001b[0m \u001b[1;32min\u001b[0m \u001b[0menumerate\u001b[0m\u001b[1;33m(\u001b[0m\u001b[0mfood\u001b[0m\u001b[1;33m)\u001b[0m\u001b[1;33m:\u001b[0m\u001b[1;33m\u001b[0m\u001b[1;33m\u001b[0m\u001b[0m\n\u001b[1;32m---> 15\u001b[1;33m     \u001b[0mprint\u001b[0m\u001b[1;33m(\u001b[0m\u001b[0mn\u001b[0m\u001b[1;33m+\u001b[0m\u001b[1;36m1\u001b[0m\u001b[1;33m,\u001b[0m \u001b[0manchor\u001b[0m\u001b[1;33m.\u001b[0m\u001b[0mtext\u001b[0m\u001b[1;33m,\u001b[0m \u001b[0manchor\u001b[0m\u001b[1;33m.\u001b[0m\u001b[0mattrs\u001b[0m\u001b[1;33m[\u001b[0m\u001b[1;34m'href'\u001b[0m\u001b[1;33m]\u001b[0m\u001b[1;33m)\u001b[0m\u001b[1;33m\u001b[0m\u001b[1;33m\u001b[0m\u001b[0m\n\u001b[0m",
      "\u001b[1;31mTypeError\u001b[0m: can only concatenate tuple (not \"int\") to tuple"
     ]
    }
   ],
   "source": [
    "#내가 짠거\n",
    "import requests\n",
    "from bs4 import BeautifulSoup\n",
    "\n",
    "url = 'https://search.naver.com/search.naver?sm=top_hty&fbm=1&ie=utf7&query=%ED%9B%A0%EA%B6%88'\n",
    "\n",
    "res = requests.get(url)\n",
    "\n",
    "soup = BeautifulSoup(res.content, 'html.parser')\n",
    "\n",
    "food = soup.find_all(class_ = 'api_txt_lines')\n",
    "\n",
    "n = '훠궈'\n",
    "for n in enumerate(food):\n",
    "    print(n+1, anchor.text, anchor.attrs['href'])"
   ]
  },
  {
   "cell_type": "code",
   "execution_count": 97,
   "id": "ff55fbbd",
   "metadata": {
    "ExecuteTime": {
     "end_time": "2021-04-20T05:45:02.880814Z",
     "start_time": "2021-04-20T05:45:02.206531Z"
    }
   },
   "outputs": [
    {
     "name": "stdout",
     "output_type": "stream",
     "text": [
      "1 훠궈 칼로리 그리고 소스 만들기 - https://blog.naver.com/goodluck32/222312006460\n",
      "\n",
      "2 훠궈 물꼬치 만드는법, 간단 마라탕 레시피 - https://blog.naver.com/chez_sophie/222261176951\n",
      "\n",
      "3 집에서 훠궈 만들기 해서 먹었어요 - https://blog.naver.com/1000ses2/221731404795\n",
      "\n",
      "4 가족들과 오손도손 함께 하는 저녁메뉴 추천, 중국식 샤브샤브 훠궈 - https://blog.naver.com/caosister39/222258643462\n",
      "\n",
      "5 [찜닭 만들기]닭볶음탕 만들기. 콜라 찜닭 만들기. 훠궈소스 추가 초간단 닭볶음탕 만들기 - https://blog.naver.com/dlwldls0325/222251112494\n",
      "\n",
      "6 찬바람 불면 생각나는 훠궈, 집에서 만들어볼까? - https://post.naver.com/viewer/postView.nhn?volumeNo=29709573&memberNo=1454245&vType=VERTICAL\n",
      "\n",
      "7 하이디라오 훠궈소스 : 마장 찍먹 - https://blog.naver.com/sweet9737/222234263913\n",
      "\n",
      "8 훠궈 만들기/ 현지(사천)에서 배운 소스와 스타일로 - https://blog.naver.com/sandychoo/222072593975\n",
      "\n",
      "9 '마라탕' 만들기 주군기 마라탕소스와 고구마 훠궈둔분 (넙적 중국 당면) 고구마 전분 85% - https://blog.naver.com/kykkklove/222284330045\n",
      "\n"
     ]
    }
   ],
   "source": [
    "#정답\n",
    "import requests\n",
    "from bs4 import BeautifulSoup\n",
    "\n",
    "search = '훠궈'\n",
    "r = requests.get('https://search.naver.com/search.naver?where=nexearch&sm=top_hty&fbm=1&ie=utf8&query='+search) #단계 2\n",
    "soup = BeautifulSoup(r.text, 'lxml') #단계 3\n",
    "for i, anchor in enumerate(soup.select('a.api_txt_lines') ):\n",
    "    print(i+1, anchor.text, '-', anchor.attrs['href'])\n",
    "    print()"
   ]
  },
  {
   "cell_type": "markdown",
   "id": "c32c0126",
   "metadata": {},
   "source": [
    "## 웹 자동화 - 웹 페이지의 이미지 모두 내려받기 연습"
   ]
  },
  {
   "cell_type": "code",
   "execution_count": 1,
   "id": "63e981c7",
   "metadata": {
    "ExecuteTime": {
     "end_time": "2021-04-20T07:29:49.143128Z",
     "start_time": "2021-04-20T07:29:42.720490Z"
    },
    "collapsed": true
   },
   "outputs": [
    {
     "name": "stderr",
     "output_type": "stream",
     "text": [
      "C:\\Users\\korha\\anaconda3\\envs\\basic\\lib\\site-packages\\bs4\\__init__.py:181: UserWarning: No parser was explicitly specified, so I'm using the best available HTML parser for this system (\"lxml\"). This usually isn't a problem, but if you run this code on another system, or in a different virtual environment, it may use a different parser and behave differently.\n",
      "\n",
      "The code that caused this warning is on line 193 of the file C:\\Users\\korha\\anaconda3\\envs\\basic\\lib\\runpy.py. To get rid of this warning, change code that looks like this:\n",
      "\n",
      " BeautifulSoup(YOUR_MARKUP})\n",
      "\n",
      "to this:\n",
      "\n",
      " BeautifulSoup(YOUR_MARKUP, \"lxml\")\n",
      "\n",
      "  markup_type=markup_type))\n"
     ]
    },
    {
     "ename": "NameError",
     "evalue": "name 'requests' is not defined",
     "output_type": "error",
     "traceback": [
      "\u001b[1;31m---------------------------------------------------------------------------\u001b[0m",
      "\u001b[1;31mNameError\u001b[0m                                 Traceback (most recent call last)",
      "\u001b[1;32m<ipython-input-1-9d4a3481b1cc>\u001b[0m in \u001b[0;36m<module>\u001b[1;34m\u001b[0m\n\u001b[0;32m     14\u001b[0m \u001b[0mimages\u001b[0m \u001b[1;33m=\u001b[0m \u001b[0mbs\u001b[0m\u001b[1;33m.\u001b[0m\u001b[0mselect\u001b[0m\u001b[1;33m(\u001b[0m\u001b[1;34m\"img\"\u001b[0m\u001b[1;33m)\u001b[0m\u001b[1;33m\u001b[0m\u001b[1;33m\u001b[0m\u001b[0m\n\u001b[0;32m     15\u001b[0m \u001b[1;32mfor\u001b[0m \u001b[0mk\u001b[0m\u001b[1;33m,\u001b[0m \u001b[0mi\u001b[0m \u001b[1;32min\u001b[0m \u001b[0menumerate\u001b[0m\u001b[1;33m(\u001b[0m\u001b[0mimages\u001b[0m\u001b[1;33m)\u001b[0m\u001b[1;33m:\u001b[0m\u001b[1;33m\u001b[0m\u001b[1;33m\u001b[0m\u001b[0m\n\u001b[1;32m---> 16\u001b[1;33m     \u001b[0mres\u001b[0m \u001b[1;33m=\u001b[0m \u001b[0mrequests\u001b[0m\u001b[1;33m.\u001b[0m\u001b[0mget\u001b[0m\u001b[1;33m(\u001b[0m\u001b[0mi\u001b[0m\u001b[1;33m.\u001b[0m\u001b[0mget\u001b[0m\u001b[1;33m(\u001b[0m\u001b[1;34m\"src\"\u001b[0m\u001b[1;33m)\u001b[0m\u001b[1;33m)\u001b[0m\u001b[1;33m\u001b[0m\u001b[1;33m\u001b[0m\u001b[0m\n\u001b[0m\u001b[0;32m     17\u001b[0m     \u001b[0mimg\u001b[0m \u001b[1;33m=\u001b[0m \u001b[0mres\u001b[0m\u001b[1;33m.\u001b[0m\u001b[0mcontent\u001b[0m\u001b[1;33m\u001b[0m\u001b[1;33m\u001b[0m\u001b[0m\n\u001b[0;32m     18\u001b[0m     \u001b[0mim\u001b[0m \u001b[1;33m=\u001b[0m \u001b[0mImage\u001b[0m\u001b[1;33m.\u001b[0m\u001b[0mopen\u001b[0m\u001b[1;33m(\u001b[0m\u001b[0mBytesIO\u001b[0m\u001b[1;33m(\u001b[0m\u001b[0mimg\u001b[0m\u001b[1;33m)\u001b[0m\u001b[1;33m)\u001b[0m\u001b[1;33m\u001b[0m\u001b[1;33m\u001b[0m\u001b[0m\n",
      "\u001b[1;31mNameError\u001b[0m: name 'requests' is not defined"
     ]
    }
   ],
   "source": [
    "from bs4 import BeautifulSoup\n",
    "from selenium import webdriver\n",
    "import time\n",
    "\n",
    "driver = webdriver.Chrome(\"./chromedriver\")\n",
    "\n",
    "driver.get(\"https://ohou.se/\")\n",
    "time.sleep(2)\n",
    "html = driver.page_source\n",
    "driver.close()\n",
    "\n",
    "bs = BeautifulSoup(html)\n",
    "\n",
    "images = bs.select(\"img\")\n",
    "for k, i in enumerate(images):\n",
    "    res = requests.get(i.get(\"src\"))\n",
    "    img = res.content\n",
    "    im = Image.open(BytesIO(img))\n",
    "    w, h = im.size\n",
    "    print(w, h, im.format.lower())\n",
    "    if w >= 640 and im.format.lower() == \"jpeg\":\n",
    "        im.save(f\"data/img/{k}.jpg\")\n"
   ]
  },
  {
   "cell_type": "code",
   "execution_count": 3,
   "id": "60fb9feb",
   "metadata": {
    "ExecuteTime": {
     "end_time": "2021-04-20T07:30:11.638581Z",
     "start_time": "2021-04-20T07:30:09.179690Z"
    }
   },
   "outputs": [],
   "source": [
    "from selenium import webdriver\n",
    "from selenium.webdriver.common.keys import Keys\n",
    "\n",
    "driver = webdriver.Chrome() #크롬 브라우저를 실행\n",
    "#driver = webdriver.Chrome('chromedriver.exe')\n",
    "\n",
    "options = webdriver.ChromeOptions()\n",
    "options.add_argument('--disable-extensions')\n",
    "options.add_argument(\"--start-maximized\") # 최대 크기 윈도우로 시작\n",
    "# options.add_argument('window-size=1200x600') # 윈도우 크기 지정\n",
    "# options.headless = True # 윈도우가 눈에 보이지 않게 실행\n",
    "# 실행 파일이 현재 경로에 없다면 executable_path로 지정해줘야 한다. \n",
    "driver = webdriver.Chrome(options=options, \n",
    "                          executable_path='c:\\\\workspace\\\\basic\\\\chromedriver.exe') "
   ]
  },
  {
   "cell_type": "code",
   "execution_count": 9,
   "id": "2557a48b",
   "metadata": {
    "ExecuteTime": {
     "end_time": "2021-04-20T07:37:24.943237Z",
     "start_time": "2021-04-20T07:37:22.615879Z"
    },
    "collapsed": true
   },
   "outputs": [
    {
     "name": "stdout",
     "output_type": "stream",
     "text": [
      "Welcome to Python.org\n",
      "<selenium.webdriver.remote.webelement.WebElement (session=\"57c227a4be61a78693817b8a7454c22a\", element=\"f1ccf930-5526-45f7-bc64-24461cd03e06\")>\n",
      "f1ccf930-5526-45f7-bc64-24461cd03e06\n"
     ]
    },
    {
     "ename": "AttributeError",
     "evalue": "'WebElement' object has no attribute 'name'",
     "output_type": "error",
     "traceback": [
      "\u001b[1;31m---------------------------------------------------------------------------\u001b[0m",
      "\u001b[1;31mAttributeError\u001b[0m                            Traceback (most recent call last)",
      "\u001b[1;32m<ipython-input-9-a1d5d5577f18>\u001b[0m in \u001b[0;36m<module>\u001b[1;34m\u001b[0m\n\u001b[0;32m      6\u001b[0m \u001b[0mprint\u001b[0m\u001b[1;33m(\u001b[0m\u001b[0melem\u001b[0m\u001b[1;33m.\u001b[0m\u001b[0mid\u001b[0m\u001b[1;33m)\u001b[0m\u001b[1;33m\u001b[0m\u001b[1;33m\u001b[0m\u001b[0m\n\u001b[0;32m      7\u001b[0m \u001b[1;31m#print(elem.class)\u001b[0m\u001b[1;33m\u001b[0m\u001b[1;33m\u001b[0m\u001b[1;33m\u001b[0m\u001b[0m\n\u001b[1;32m----> 8\u001b[1;33m \u001b[0mprint\u001b[0m\u001b[1;33m(\u001b[0m\u001b[0melem\u001b[0m\u001b[1;33m.\u001b[0m\u001b[0mname\u001b[0m\u001b[1;33m)\u001b[0m\u001b[1;33m\u001b[0m\u001b[1;33m\u001b[0m\u001b[0m\n\u001b[0m\u001b[0;32m      9\u001b[0m \u001b[0mprint\u001b[0m\u001b[1;33m(\u001b[0m\u001b[0melem\u001b[0m\u001b[1;33m.\u001b[0m\u001b[0mtag_name\u001b[0m\u001b[1;33m)\u001b[0m\u001b[1;33m\u001b[0m\u001b[1;33m\u001b[0m\u001b[0m\n\u001b[0;32m     10\u001b[0m \u001b[0mprint\u001b[0m\u001b[1;33m(\u001b[0m\u001b[0melem\u001b[0m\u001b[1;33m.\u001b[0m\u001b[0mtext\u001b[0m\u001b[1;33m)\u001b[0m\u001b[1;33m\u001b[0m\u001b[1;33m\u001b[0m\u001b[0m\n",
      "\u001b[1;31mAttributeError\u001b[0m: 'WebElement' object has no attribute 'name'"
     ]
    }
   ],
   "source": [
    "driver = webdriver.Chrome(options=options, executable_path='chromedriver.exe')\n",
    "driver.get(\"http://www.python.org\")\n",
    "print(driver.title)\n",
    "elem = driver.find_element_by_name(\"q\")\n",
    "print(elem)\n",
    "print(elem.get_attribute('id'))\n",
    "print(elem.get_attribute('class'))\n",
    "print(elem.get_attribute('name'))\n",
    "print(elem.tag_name)\n",
    "print(elem.text)\n",
    "\n",
    "elem.send_keys(\"pycon\" + Keys.RETURN)  #검색어와 검색요청\n",
    "html = driver.page_source\n",
    "print(html[:100])\n",
    "\n",
    "#driver.find_elemetns_by_css_selector('.list-recent-events')\n",
    "for tag in driver.find_elements_by_css_selector('.list-recent-events li h3'):\n",
    "    print(tag.text, '-', tag.find_element_by_tag_name('a').get_attribute('href'))\n",
    "\n",
    "for tag in driver.find_elements_by_xpath('//form/ul/li/h3'):\n",
    "     print(tag.text, '-', tag.find_element_by_tag_name('a').get_attribute('href'))\n"
   ]
  },
  {
   "cell_type": "code",
   "execution_count": 5,
   "id": "2e39944d",
   "metadata": {
    "ExecuteTime": {
     "end_time": "2021-04-20T07:30:33.446228Z",
     "start_time": "2021-04-20T07:30:21.261373Z"
    },
    "collapsed": true
   },
   "outputs": [
    {
     "ename": "WebDriverException",
     "evalue": "Message: chrome not reachable\n  (Session info: chrome=90.0.4430.72)\n",
     "output_type": "error",
     "traceback": [
      "\u001b[1;31m---------------------------------------------------------------------------\u001b[0m",
      "\u001b[1;31mWebDriverException\u001b[0m                        Traceback (most recent call last)",
      "\u001b[1;32m<ipython-input-5-da48078eac6c>\u001b[0m in \u001b[0;36m<module>\u001b[1;34m\u001b[0m\n\u001b[1;32m----> 1\u001b[1;33m \u001b[0melem\u001b[0m \u001b[1;33m=\u001b[0m \u001b[0mdriver\u001b[0m\u001b[1;33m.\u001b[0m\u001b[0mfind_element_by_xpath\u001b[0m\u001b[1;33m(\u001b[0m\u001b[1;34m'//li/h3'\u001b[0m\u001b[1;33m)\u001b[0m  \u001b[1;31m# 어떤 조건으로 검색한 노드를 얻는다\u001b[0m\u001b[1;33m\u001b[0m\u001b[1;33m\u001b[0m\u001b[0m\n\u001b[0m\u001b[0;32m      2\u001b[0m \u001b[1;32mfor\u001b[0m \u001b[0mtag\u001b[0m \u001b[1;32min\u001b[0m \u001b[0melem\u001b[0m\u001b[1;33m.\u001b[0m\u001b[0mfind_elements_by_xpath\u001b[0m\u001b[1;33m(\u001b[0m\u001b[1;34m'ancestor-or-self::*'\u001b[0m\u001b[1;33m)\u001b[0m\u001b[1;33m:\u001b[0m  \u001b[1;31m# 조상 노드들을 출력한다\u001b[0m\u001b[1;33m\u001b[0m\u001b[1;33m\u001b[0m\u001b[0m\n\u001b[0;32m      3\u001b[0m     \u001b[0mprint\u001b[0m\u001b[1;33m(\u001b[0m\u001b[0mtag\u001b[0m\u001b[1;33m.\u001b[0m\u001b[0mtag_name\u001b[0m\u001b[1;33m)\u001b[0m\u001b[1;33m\u001b[0m\u001b[1;33m\u001b[0m\u001b[0m\n",
      "\u001b[1;32m~\\anaconda3\\envs\\basic\\lib\\site-packages\\selenium\\webdriver\\remote\\webdriver.py\u001b[0m in \u001b[0;36mfind_element_by_xpath\u001b[1;34m(self, xpath)\u001b[0m\n\u001b[0;32m    392\u001b[0m             \u001b[0melement\u001b[0m \u001b[1;33m=\u001b[0m \u001b[0mdriver\u001b[0m\u001b[1;33m.\u001b[0m\u001b[0mfind_element_by_xpath\u001b[0m\u001b[1;33m(\u001b[0m\u001b[1;34m'//div/td[1]'\u001b[0m\u001b[1;33m)\u001b[0m\u001b[1;33m\u001b[0m\u001b[1;33m\u001b[0m\u001b[0m\n\u001b[0;32m    393\u001b[0m         \"\"\"\n\u001b[1;32m--> 394\u001b[1;33m         \u001b[1;32mreturn\u001b[0m \u001b[0mself\u001b[0m\u001b[1;33m.\u001b[0m\u001b[0mfind_element\u001b[0m\u001b[1;33m(\u001b[0m\u001b[0mby\u001b[0m\u001b[1;33m=\u001b[0m\u001b[0mBy\u001b[0m\u001b[1;33m.\u001b[0m\u001b[0mXPATH\u001b[0m\u001b[1;33m,\u001b[0m \u001b[0mvalue\u001b[0m\u001b[1;33m=\u001b[0m\u001b[0mxpath\u001b[0m\u001b[1;33m)\u001b[0m\u001b[1;33m\u001b[0m\u001b[1;33m\u001b[0m\u001b[0m\n\u001b[0m\u001b[0;32m    395\u001b[0m \u001b[1;33m\u001b[0m\u001b[0m\n\u001b[0;32m    396\u001b[0m     \u001b[1;32mdef\u001b[0m \u001b[0mfind_elements_by_xpath\u001b[0m\u001b[1;33m(\u001b[0m\u001b[0mself\u001b[0m\u001b[1;33m,\u001b[0m \u001b[0mxpath\u001b[0m\u001b[1;33m)\u001b[0m\u001b[1;33m:\u001b[0m\u001b[1;33m\u001b[0m\u001b[1;33m\u001b[0m\u001b[0m\n",
      "\u001b[1;32m~\\anaconda3\\envs\\basic\\lib\\site-packages\\selenium\\webdriver\\remote\\webdriver.py\u001b[0m in \u001b[0;36mfind_element\u001b[1;34m(self, by, value)\u001b[0m\n\u001b[0;32m    976\u001b[0m         return self.execute(Command.FIND_ELEMENT, {\n\u001b[0;32m    977\u001b[0m             \u001b[1;34m'using'\u001b[0m\u001b[1;33m:\u001b[0m \u001b[0mby\u001b[0m\u001b[1;33m,\u001b[0m\u001b[1;33m\u001b[0m\u001b[1;33m\u001b[0m\u001b[0m\n\u001b[1;32m--> 978\u001b[1;33m             'value': value})['value']\n\u001b[0m\u001b[0;32m    979\u001b[0m \u001b[1;33m\u001b[0m\u001b[0m\n\u001b[0;32m    980\u001b[0m     \u001b[1;32mdef\u001b[0m \u001b[0mfind_elements\u001b[0m\u001b[1;33m(\u001b[0m\u001b[0mself\u001b[0m\u001b[1;33m,\u001b[0m \u001b[0mby\u001b[0m\u001b[1;33m=\u001b[0m\u001b[0mBy\u001b[0m\u001b[1;33m.\u001b[0m\u001b[0mID\u001b[0m\u001b[1;33m,\u001b[0m \u001b[0mvalue\u001b[0m\u001b[1;33m=\u001b[0m\u001b[1;32mNone\u001b[0m\u001b[1;33m)\u001b[0m\u001b[1;33m:\u001b[0m\u001b[1;33m\u001b[0m\u001b[1;33m\u001b[0m\u001b[0m\n",
      "\u001b[1;32m~\\anaconda3\\envs\\basic\\lib\\site-packages\\selenium\\webdriver\\remote\\webdriver.py\u001b[0m in \u001b[0;36mexecute\u001b[1;34m(self, driver_command, params)\u001b[0m\n\u001b[0;32m    319\u001b[0m         \u001b[0mresponse\u001b[0m \u001b[1;33m=\u001b[0m \u001b[0mself\u001b[0m\u001b[1;33m.\u001b[0m\u001b[0mcommand_executor\u001b[0m\u001b[1;33m.\u001b[0m\u001b[0mexecute\u001b[0m\u001b[1;33m(\u001b[0m\u001b[0mdriver_command\u001b[0m\u001b[1;33m,\u001b[0m \u001b[0mparams\u001b[0m\u001b[1;33m)\u001b[0m\u001b[1;33m\u001b[0m\u001b[1;33m\u001b[0m\u001b[0m\n\u001b[0;32m    320\u001b[0m         \u001b[1;32mif\u001b[0m \u001b[0mresponse\u001b[0m\u001b[1;33m:\u001b[0m\u001b[1;33m\u001b[0m\u001b[1;33m\u001b[0m\u001b[0m\n\u001b[1;32m--> 321\u001b[1;33m             \u001b[0mself\u001b[0m\u001b[1;33m.\u001b[0m\u001b[0merror_handler\u001b[0m\u001b[1;33m.\u001b[0m\u001b[0mcheck_response\u001b[0m\u001b[1;33m(\u001b[0m\u001b[0mresponse\u001b[0m\u001b[1;33m)\u001b[0m\u001b[1;33m\u001b[0m\u001b[1;33m\u001b[0m\u001b[0m\n\u001b[0m\u001b[0;32m    322\u001b[0m             response['value'] = self._unwrap_value(\n\u001b[0;32m    323\u001b[0m                 response.get('value', None))\n",
      "\u001b[1;32m~\\anaconda3\\envs\\basic\\lib\\site-packages\\selenium\\webdriver\\remote\\errorhandler.py\u001b[0m in \u001b[0;36mcheck_response\u001b[1;34m(self, response)\u001b[0m\n\u001b[0;32m    240\u001b[0m                 \u001b[0malert_text\u001b[0m \u001b[1;33m=\u001b[0m \u001b[0mvalue\u001b[0m\u001b[1;33m[\u001b[0m\u001b[1;34m'alert'\u001b[0m\u001b[1;33m]\u001b[0m\u001b[1;33m.\u001b[0m\u001b[0mget\u001b[0m\u001b[1;33m(\u001b[0m\u001b[1;34m'text'\u001b[0m\u001b[1;33m)\u001b[0m\u001b[1;33m\u001b[0m\u001b[1;33m\u001b[0m\u001b[0m\n\u001b[0;32m    241\u001b[0m             \u001b[1;32mraise\u001b[0m \u001b[0mexception_class\u001b[0m\u001b[1;33m(\u001b[0m\u001b[0mmessage\u001b[0m\u001b[1;33m,\u001b[0m \u001b[0mscreen\u001b[0m\u001b[1;33m,\u001b[0m \u001b[0mstacktrace\u001b[0m\u001b[1;33m,\u001b[0m \u001b[0malert_text\u001b[0m\u001b[1;33m)\u001b[0m\u001b[1;33m\u001b[0m\u001b[1;33m\u001b[0m\u001b[0m\n\u001b[1;32m--> 242\u001b[1;33m         \u001b[1;32mraise\u001b[0m \u001b[0mexception_class\u001b[0m\u001b[1;33m(\u001b[0m\u001b[0mmessage\u001b[0m\u001b[1;33m,\u001b[0m \u001b[0mscreen\u001b[0m\u001b[1;33m,\u001b[0m \u001b[0mstacktrace\u001b[0m\u001b[1;33m)\u001b[0m\u001b[1;33m\u001b[0m\u001b[1;33m\u001b[0m\u001b[0m\n\u001b[0m\u001b[0;32m    243\u001b[0m \u001b[1;33m\u001b[0m\u001b[0m\n\u001b[0;32m    244\u001b[0m     \u001b[1;32mdef\u001b[0m \u001b[0m_value_or_default\u001b[0m\u001b[1;33m(\u001b[0m\u001b[0mself\u001b[0m\u001b[1;33m,\u001b[0m \u001b[0mobj\u001b[0m\u001b[1;33m,\u001b[0m \u001b[0mkey\u001b[0m\u001b[1;33m,\u001b[0m \u001b[0mdefault\u001b[0m\u001b[1;33m)\u001b[0m\u001b[1;33m:\u001b[0m\u001b[1;33m\u001b[0m\u001b[1;33m\u001b[0m\u001b[0m\n",
      "\u001b[1;31mWebDriverException\u001b[0m: Message: chrome not reachable\n  (Session info: chrome=90.0.4430.72)\n"
     ]
    }
   ],
   "source": [
    "elem = driver.find_element_by_xpath('//li/h3')  # 어떤 조건으로 검색한 노드를 얻는다\n",
    "for tag in elem.find_elements_by_xpath('ancestor-or-self::*'):  # 조상 노드들을 출력한다\n",
    "    print(tag.tag_name)"
   ]
  },
  {
   "cell_type": "code",
   "execution_count": 6,
   "id": "a33afc19",
   "metadata": {
    "ExecuteTime": {
     "end_time": "2021-04-20T07:30:38.856389Z",
     "start_time": "2021-04-20T07:30:37.411359Z"
    }
   },
   "outputs": [
    {
     "data": {
      "text/plain": [
       "8744"
      ]
     },
     "execution_count": 6,
     "metadata": {},
     "output_type": "execute_result"
    }
   ],
   "source": [
    "driver = webdriver.Chrome(options=options, executable_path='chromedriver.exe')\n",
    "png = driver.get_screenshot_as_png()\n",
    "open('screen_capture.png', 'wb').write(png)"
   ]
  },
  {
   "cell_type": "code",
   "execution_count": 7,
   "id": "43362cce",
   "metadata": {
    "ExecuteTime": {
     "end_time": "2021-04-20T07:30:40.833056Z",
     "start_time": "2021-04-20T07:30:38.859376Z"
    }
   },
   "outputs": [],
   "source": [
    "driver = webdriver.Chrome(options=options, executable_path='chromedriver.exe')\n",
    "driver.get('http://comic.naver.com/webtoon/detail.nhn?titled=644112&no=10')\n",
    "driver.execute_script('window.scrollTo(0,document.body.scrollHeight);')"
   ]
  },
  {
   "cell_type": "code",
   "execution_count": 8,
   "id": "b34c3b69",
   "metadata": {
    "ExecuteTime": {
     "end_time": "2021-04-20T07:30:50.039253Z",
     "start_time": "2021-04-20T07:30:44.501105Z"
    }
   },
   "outputs": [],
   "source": [
    "driver = webdriver.Chrome()\n",
    "main_window = driver.window_handles[0] #윈도우 핸들, 팝업 창을 닫기 위해 사용\n",
    "driver.get('https://www.whufc.com')\n",
    "\n",
    "for handle in driver.window_handles:\n",
    "    if handle != main_window:\n",
    "        driver.switch_to.window(handle)\n",
    "        driver.close()"
   ]
  },
  {
   "cell_type": "code",
   "execution_count": 18,
   "id": "714b0d73",
   "metadata": {
    "ExecuteTime": {
     "end_time": "2021-04-20T07:59:09.308462Z",
     "start_time": "2021-04-20T07:59:09.285457Z"
    },
    "collapsed": true
   },
   "outputs": [
    {
     "name": "stderr",
     "output_type": "stream",
     "text": [
      "C:\\Users\\korha\\anaconda3\\envs\\basic\\lib\\site-packages\\ipykernel_launcher.py:1: DeprecationWarning: use driver.switch_to.alert instead\n",
      "  \"\"\"Entry point for launching an IPython kernel.\n"
     ]
    },
    {
     "ename": "InvalidSessionIdException",
     "evalue": "Message: invalid session id\n",
     "output_type": "error",
     "traceback": [
      "\u001b[1;31m---------------------------------------------------------------------------\u001b[0m",
      "\u001b[1;31mInvalidSessionIdException\u001b[0m                 Traceback (most recent call last)",
      "\u001b[1;32m<ipython-input-18-ebd6ec4a8130>\u001b[0m in \u001b[0;36m<module>\u001b[1;34m\u001b[0m\n\u001b[1;32m----> 1\u001b[1;33m \u001b[0mobj\u001b[0m \u001b[1;33m=\u001b[0m \u001b[0mdriver\u001b[0m\u001b[1;33m.\u001b[0m\u001b[0mswitch_to_alert\u001b[0m\u001b[1;33m(\u001b[0m\u001b[1;33m)\u001b[0m\u001b[1;33m\u001b[0m\u001b[1;33m\u001b[0m\u001b[0m\n\u001b[0m\u001b[0;32m      2\u001b[0m \u001b[1;32mtry\u001b[0m\u001b[1;33m:\u001b[0m\u001b[1;33m\u001b[0m\u001b[1;33m\u001b[0m\u001b[0m\n\u001b[0;32m      3\u001b[0m     \u001b[0malert\u001b[0m\u001b[1;33m.\u001b[0m\u001b[0maccept\u001b[0m\u001b[1;33m(\u001b[0m\u001b[1;33m)\u001b[0m\u001b[1;33m\u001b[0m\u001b[1;33m\u001b[0m\u001b[0m\n\u001b[0;32m      4\u001b[0m \u001b[1;32mexcept\u001b[0m\u001b[1;33m:\u001b[0m\u001b[1;33m\u001b[0m\u001b[1;33m\u001b[0m\u001b[0m\n\u001b[0;32m      5\u001b[0m     \u001b[0mprint\u001b[0m\u001b[1;33m(\u001b[0m\u001b[1;34m'no alert to close'\u001b[0m\u001b[1;33m)\u001b[0m\u001b[1;33m\u001b[0m\u001b[1;33m\u001b[0m\u001b[0m\n",
      "\u001b[1;32m~\\anaconda3\\envs\\basic\\lib\\site-packages\\selenium\\webdriver\\remote\\webdriver.py\u001b[0m in \u001b[0;36mswitch_to_alert\u001b[1;34m(self)\u001b[0m\n\u001b[0;32m    801\u001b[0m         warnings.warn(\"use driver.switch_to.alert instead\",\n\u001b[0;32m    802\u001b[0m                       DeprecationWarning, stacklevel=2)\n\u001b[1;32m--> 803\u001b[1;33m         \u001b[1;32mreturn\u001b[0m \u001b[0mself\u001b[0m\u001b[1;33m.\u001b[0m\u001b[0m_switch_to\u001b[0m\u001b[1;33m.\u001b[0m\u001b[0malert\u001b[0m\u001b[1;33m\u001b[0m\u001b[1;33m\u001b[0m\u001b[0m\n\u001b[0m\u001b[0;32m    804\u001b[0m \u001b[1;33m\u001b[0m\u001b[0m\n\u001b[0;32m    805\u001b[0m     \u001b[1;31m# Navigation\u001b[0m\u001b[1;33m\u001b[0m\u001b[1;33m\u001b[0m\u001b[1;33m\u001b[0m\u001b[0m\n",
      "\u001b[1;32m~\\anaconda3\\envs\\basic\\lib\\site-packages\\selenium\\webdriver\\remote\\switch_to.py\u001b[0m in \u001b[0;36malert\u001b[1;34m(self)\u001b[0m\n\u001b[0;32m     53\u001b[0m         \"\"\"\n\u001b[0;32m     54\u001b[0m         \u001b[0malert\u001b[0m \u001b[1;33m=\u001b[0m \u001b[0mAlert\u001b[0m\u001b[1;33m(\u001b[0m\u001b[0mself\u001b[0m\u001b[1;33m.\u001b[0m\u001b[0m_driver\u001b[0m\u001b[1;33m)\u001b[0m\u001b[1;33m\u001b[0m\u001b[1;33m\u001b[0m\u001b[0m\n\u001b[1;32m---> 55\u001b[1;33m         \u001b[0malert\u001b[0m\u001b[1;33m.\u001b[0m\u001b[0mtext\u001b[0m\u001b[1;33m\u001b[0m\u001b[1;33m\u001b[0m\u001b[0m\n\u001b[0m\u001b[0;32m     56\u001b[0m         \u001b[1;32mreturn\u001b[0m \u001b[0malert\u001b[0m\u001b[1;33m\u001b[0m\u001b[1;33m\u001b[0m\u001b[0m\n\u001b[0;32m     57\u001b[0m \u001b[1;33m\u001b[0m\u001b[0m\n",
      "\u001b[1;32m~\\anaconda3\\envs\\basic\\lib\\site-packages\\selenium\\webdriver\\common\\alert.py\u001b[0m in \u001b[0;36mtext\u001b[1;34m(self)\u001b[0m\n\u001b[0;32m     65\u001b[0m         \"\"\"\n\u001b[0;32m     66\u001b[0m         \u001b[1;32mif\u001b[0m \u001b[0mself\u001b[0m\u001b[1;33m.\u001b[0m\u001b[0mdriver\u001b[0m\u001b[1;33m.\u001b[0m\u001b[0mw3c\u001b[0m\u001b[1;33m:\u001b[0m\u001b[1;33m\u001b[0m\u001b[1;33m\u001b[0m\u001b[0m\n\u001b[1;32m---> 67\u001b[1;33m             \u001b[1;32mreturn\u001b[0m \u001b[0mself\u001b[0m\u001b[1;33m.\u001b[0m\u001b[0mdriver\u001b[0m\u001b[1;33m.\u001b[0m\u001b[0mexecute\u001b[0m\u001b[1;33m(\u001b[0m\u001b[0mCommand\u001b[0m\u001b[1;33m.\u001b[0m\u001b[0mW3C_GET_ALERT_TEXT\u001b[0m\u001b[1;33m)\u001b[0m\u001b[1;33m[\u001b[0m\u001b[1;34m\"value\"\u001b[0m\u001b[1;33m]\u001b[0m\u001b[1;33m\u001b[0m\u001b[1;33m\u001b[0m\u001b[0m\n\u001b[0m\u001b[0;32m     68\u001b[0m         \u001b[1;32melse\u001b[0m\u001b[1;33m:\u001b[0m\u001b[1;33m\u001b[0m\u001b[1;33m\u001b[0m\u001b[0m\n\u001b[0;32m     69\u001b[0m             \u001b[1;32mreturn\u001b[0m \u001b[0mself\u001b[0m\u001b[1;33m.\u001b[0m\u001b[0mdriver\u001b[0m\u001b[1;33m.\u001b[0m\u001b[0mexecute\u001b[0m\u001b[1;33m(\u001b[0m\u001b[0mCommand\u001b[0m\u001b[1;33m.\u001b[0m\u001b[0mGET_ALERT_TEXT\u001b[0m\u001b[1;33m)\u001b[0m\u001b[1;33m[\u001b[0m\u001b[1;34m\"value\"\u001b[0m\u001b[1;33m]\u001b[0m\u001b[1;33m\u001b[0m\u001b[1;33m\u001b[0m\u001b[0m\n",
      "\u001b[1;32m~\\anaconda3\\envs\\basic\\lib\\site-packages\\selenium\\webdriver\\remote\\webdriver.py\u001b[0m in \u001b[0;36mexecute\u001b[1;34m(self, driver_command, params)\u001b[0m\n\u001b[0;32m    319\u001b[0m         \u001b[0mresponse\u001b[0m \u001b[1;33m=\u001b[0m \u001b[0mself\u001b[0m\u001b[1;33m.\u001b[0m\u001b[0mcommand_executor\u001b[0m\u001b[1;33m.\u001b[0m\u001b[0mexecute\u001b[0m\u001b[1;33m(\u001b[0m\u001b[0mdriver_command\u001b[0m\u001b[1;33m,\u001b[0m \u001b[0mparams\u001b[0m\u001b[1;33m)\u001b[0m\u001b[1;33m\u001b[0m\u001b[1;33m\u001b[0m\u001b[0m\n\u001b[0;32m    320\u001b[0m         \u001b[1;32mif\u001b[0m \u001b[0mresponse\u001b[0m\u001b[1;33m:\u001b[0m\u001b[1;33m\u001b[0m\u001b[1;33m\u001b[0m\u001b[0m\n\u001b[1;32m--> 321\u001b[1;33m             \u001b[0mself\u001b[0m\u001b[1;33m.\u001b[0m\u001b[0merror_handler\u001b[0m\u001b[1;33m.\u001b[0m\u001b[0mcheck_response\u001b[0m\u001b[1;33m(\u001b[0m\u001b[0mresponse\u001b[0m\u001b[1;33m)\u001b[0m\u001b[1;33m\u001b[0m\u001b[1;33m\u001b[0m\u001b[0m\n\u001b[0m\u001b[0;32m    322\u001b[0m             response['value'] = self._unwrap_value(\n\u001b[0;32m    323\u001b[0m                 response.get('value', None))\n",
      "\u001b[1;32m~\\anaconda3\\envs\\basic\\lib\\site-packages\\selenium\\webdriver\\remote\\errorhandler.py\u001b[0m in \u001b[0;36mcheck_response\u001b[1;34m(self, response)\u001b[0m\n\u001b[0;32m    240\u001b[0m                 \u001b[0malert_text\u001b[0m \u001b[1;33m=\u001b[0m \u001b[0mvalue\u001b[0m\u001b[1;33m[\u001b[0m\u001b[1;34m'alert'\u001b[0m\u001b[1;33m]\u001b[0m\u001b[1;33m.\u001b[0m\u001b[0mget\u001b[0m\u001b[1;33m(\u001b[0m\u001b[1;34m'text'\u001b[0m\u001b[1;33m)\u001b[0m\u001b[1;33m\u001b[0m\u001b[1;33m\u001b[0m\u001b[0m\n\u001b[0;32m    241\u001b[0m             \u001b[1;32mraise\u001b[0m \u001b[0mexception_class\u001b[0m\u001b[1;33m(\u001b[0m\u001b[0mmessage\u001b[0m\u001b[1;33m,\u001b[0m \u001b[0mscreen\u001b[0m\u001b[1;33m,\u001b[0m \u001b[0mstacktrace\u001b[0m\u001b[1;33m,\u001b[0m \u001b[0malert_text\u001b[0m\u001b[1;33m)\u001b[0m\u001b[1;33m\u001b[0m\u001b[1;33m\u001b[0m\u001b[0m\n\u001b[1;32m--> 242\u001b[1;33m         \u001b[1;32mraise\u001b[0m \u001b[0mexception_class\u001b[0m\u001b[1;33m(\u001b[0m\u001b[0mmessage\u001b[0m\u001b[1;33m,\u001b[0m \u001b[0mscreen\u001b[0m\u001b[1;33m,\u001b[0m \u001b[0mstacktrace\u001b[0m\u001b[1;33m)\u001b[0m\u001b[1;33m\u001b[0m\u001b[1;33m\u001b[0m\u001b[0m\n\u001b[0m\u001b[0;32m    243\u001b[0m \u001b[1;33m\u001b[0m\u001b[0m\n\u001b[0;32m    244\u001b[0m     \u001b[1;32mdef\u001b[0m \u001b[0m_value_or_default\u001b[0m\u001b[1;33m(\u001b[0m\u001b[0mself\u001b[0m\u001b[1;33m,\u001b[0m \u001b[0mobj\u001b[0m\u001b[1;33m,\u001b[0m \u001b[0mkey\u001b[0m\u001b[1;33m,\u001b[0m \u001b[0mdefault\u001b[0m\u001b[1;33m)\u001b[0m\u001b[1;33m:\u001b[0m\u001b[1;33m\u001b[0m\u001b[1;33m\u001b[0m\u001b[0m\n",
      "\u001b[1;31mInvalidSessionIdException\u001b[0m: Message: invalid session id\n"
     ]
    }
   ],
   "source": [
    "alert = driver.switch_to_alert()\n",
    "try:\n",
    "    alert.accept()\n",
    "except:\n",
    "    print('no alert to close')"
   ]
  },
  {
   "cell_type": "code",
   "execution_count": 16,
   "id": "36a4c7bc",
   "metadata": {
    "ExecuteTime": {
     "end_time": "2021-04-20T07:49:19.508519Z",
     "start_time": "2021-04-20T07:49:15.762132Z"
    }
   },
   "outputs": [
    {
     "name": "stdout",
     "output_type": "stream",
     "text": [
      "Alert shows following message: Hi!, I am a Simple Alert. Please Click on the 'OK' Button.\n",
      "Clicked on the OK Button in the Alert Window\n"
     ]
    }
   ],
   "source": [
    "from selenium import webdriver\n",
    "import time\n",
    "driver = webdriver.Chrome()\n",
    "driver.maximize_window()\n",
    "location = 'file:///C:/workspace/basic/alert.html'\n",
    "driver.get(location)\n",
    "\n",
    "button=driver.find_element_by_name('alert')\n",
    "button.click()\n",
    "\n",
    "obj=driver.switch_to.alert #브라우저에 실행된 alert 객체 반환\n",
    "msg=obj.text #alert window의 메시지 내용\n",
    "print(\"Alert shows following message: \" + msg)\n",
    "\n",
    "time.sleep(2)\n",
    "obj.accept() #alert window의 확인버튼 실행\n",
    "print(\"Clicked on the OK Button in the Alert Window\")\n",
    "driver.close()"
   ]
  },
  {
   "cell_type": "code",
   "execution_count": null,
   "id": "7752e8db",
   "metadata": {},
   "outputs": [],
   "source": []
  }
 ],
 "metadata": {
  "kernelspec": {
   "display_name": "Python 3",
   "language": "python",
   "name": "python3"
  },
  "language_info": {
   "codemirror_mode": {
    "name": "ipython",
    "version": 3
   },
   "file_extension": ".py",
   "mimetype": "text/x-python",
   "name": "python",
   "nbconvert_exporter": "python",
   "pygments_lexer": "ipython3",
   "version": "3.7.10"
  },
  "toc": {
   "base_numbering": 1,
   "nav_menu": {},
   "number_sections": true,
   "sideBar": true,
   "skip_h1_title": false,
   "title_cell": "Table of Contents",
   "title_sidebar": "Contents",
   "toc_cell": false,
   "toc_position": {},
   "toc_section_display": true,
   "toc_window_display": false
  }
 },
 "nbformat": 4,
 "nbformat_minor": 5
}
