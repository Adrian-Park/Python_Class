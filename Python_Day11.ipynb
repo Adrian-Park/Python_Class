{
 "cells": [
  {
   "cell_type": "markdown",
   "id": "8a6f44f2",
   "metadata": {},
   "source": [
    "# DataFrame 다루기"
   ]
  },
  {
   "cell_type": "code",
   "execution_count": 7,
   "id": "random-wisconsin",
   "metadata": {
    "ExecuteTime": {
     "end_time": "2021-06-05T03:33:35.888557Z",
     "start_time": "2021-06-05T03:33:35.867497Z"
    }
   },
   "outputs": [],
   "source": [
    "import pandas as pd\n",
    "import numpy as np\n",
    "\n",
    "df = pd.DataFrame(np.arange(10,22).reshape(3,4), index=[\"a\", \"b\", \"c\"], columns=[\"A\",\"B\", \"C\", \"D\"])\n",
    "\n",
    "#print(df.loc[\"a\"])\n",
    "\n",
    "#print(df.loc[\"b\":\"c\"])\n",
    "\n",
    "#print(df[\"b\":\"c\"]) \n",
    "\n",
    "#print(df.loc[[\"b\", \"c\"]]) \n",
    "\n",
    "#print(df.A > 15)\n",
    "\n",
    "#print(df.loc[df.A > 15])\n",
    "             \n",
    "#def select_rows(df):\n",
    "    #return df.A > 15\n",
    "#print(select_rows(df))\n",
    "#print(df.loc[select_rows(df)])"
   ]
  },
  {
   "cell_type": "code",
   "execution_count": 8,
   "id": "interested-productivity",
   "metadata": {
    "ExecuteTime": {
     "end_time": "2021-06-05T03:33:36.588739Z",
     "start_time": "2021-06-05T03:33:36.572736Z"
    }
   },
   "outputs": [
    {
     "name": "stdout",
     "output_type": "stream",
     "text": [
      "    A   B   C   D\n",
      "0  10  11  12  13\n",
      "1  14  15  16  17\n",
      "2  18  19  20  21\n",
      "3  22  23  24  25\n",
      "    A   B   C   D\n",
      "1  14  15  16  17\n",
      "2  18  19  20  21\n"
     ]
    }
   ],
   "source": [
    "import pandas as pd\n",
    "import numpy as np\n",
    "\n",
    "df = pd.DataFrame(np.arange(10,22).reshape(3,4), index=['a', 'b', 'c'], columns=[\"A\", \"B\", \"C\", \"D\"])\n",
    "#print(df)\n",
    "df.loc[\"a\"] #행의 라벨 인덱스는 정상 실행\n",
    "#df.loc[\"A\"] #열의 라벨 인덱스는 KeyError\n",
    "\n",
    "df.loc[[\"a\",\"b\"]] #행의 라벨 인덱스는 정상 실행\n",
    "#df.loc[[\"A\",\"B\"]] #열의 라벨 인덱스는 KeyError\n",
    "\n",
    "\n",
    "df2 = pd.DataFrame(np.arange(10, 26).reshape(4, 4), columns=[\"A\", \"B\", \"C\", \"D\"])\n",
    "print(df2)\n",
    "print(df2.loc[1:2])"
   ]
  },
  {
   "cell_type": "code",
   "execution_count": 9,
   "id": "ranking-bangladesh",
   "metadata": {
    "ExecuteTime": {
     "end_time": "2021-06-05T03:33:37.025877Z",
     "start_time": "2021-06-05T03:33:37.005380Z"
    }
   },
   "outputs": [
    {
     "data": {
      "text/plain": [
       "A    10\n",
       "B    11\n",
       "C    12\n",
       "D    13\n",
       "Name: a, dtype: int32"
      ]
     },
     "execution_count": 9,
     "metadata": {},
     "output_type": "execute_result"
    }
   ],
   "source": [
    "df.loc[\"a\"] "
   ]
  },
  {
   "cell_type": "code",
   "execution_count": 10,
   "id": "balanced-government",
   "metadata": {
    "ExecuteTime": {
     "end_time": "2021-06-05T03:33:37.308737Z",
     "start_time": "2021-06-05T03:33:37.283043Z"
    }
   },
   "outputs": [
    {
     "data": {
      "text/html": [
       "<div>\n",
       "<style scoped>\n",
       "    .dataframe tbody tr th:only-of-type {\n",
       "        vertical-align: middle;\n",
       "    }\n",
       "\n",
       "    .dataframe tbody tr th {\n",
       "        vertical-align: top;\n",
       "    }\n",
       "\n",
       "    .dataframe thead th {\n",
       "        text-align: right;\n",
       "    }\n",
       "</style>\n",
       "<table border=\"1\" class=\"dataframe\">\n",
       "  <thead>\n",
       "    <tr style=\"text-align: right;\">\n",
       "      <th></th>\n",
       "      <th>A</th>\n",
       "      <th>B</th>\n",
       "      <th>C</th>\n",
       "      <th>D</th>\n",
       "    </tr>\n",
       "  </thead>\n",
       "  <tbody>\n",
       "    <tr>\n",
       "      <th>b</th>\n",
       "      <td>14</td>\n",
       "      <td>15</td>\n",
       "      <td>16</td>\n",
       "      <td>17</td>\n",
       "    </tr>\n",
       "    <tr>\n",
       "      <th>c</th>\n",
       "      <td>18</td>\n",
       "      <td>19</td>\n",
       "      <td>20</td>\n",
       "      <td>21</td>\n",
       "    </tr>\n",
       "  </tbody>\n",
       "</table>\n",
       "</div>"
      ],
      "text/plain": [
       "    A   B   C   D\n",
       "b  14  15  16  17\n",
       "c  18  19  20  21"
      ]
     },
     "execution_count": 10,
     "metadata": {},
     "output_type": "execute_result"
    }
   ],
   "source": [
    "df.loc[\"b\":\"c\"] "
   ]
  },
  {
   "cell_type": "code",
   "execution_count": 11,
   "id": "plain-comment",
   "metadata": {
    "ExecuteTime": {
     "end_time": "2021-06-05T03:33:37.573231Z",
     "start_time": "2021-06-05T03:33:37.547536Z"
    }
   },
   "outputs": [
    {
     "name": "stdout",
     "output_type": "stream",
     "text": [
      "    A   B   C   D\n",
      "a  10  11  12  13\n",
      "b  14  15  16  17\n",
      "c  18  19  20  21\n",
      "    A   B   C   D\n",
      "0  10  11  12  13\n",
      "1  14  15  16  17\n",
      "2  18  19  20  21\n",
      "3  22  23  24  25\n",
      "    A   B   C   D\n",
      "1  14  15  16  17\n",
      "2  18  19  20  21\n"
     ]
    }
   ],
   "source": [
    "import pandas as pd\n",
    "import numpy as np\n",
    "df = pd.DataFrame(np.arange(10, 22).reshape(3, 4), index=[\"a\", \"b\", \"c\"], columns=[\"A\", \"B\", \"C\", \"D\"])\n",
    "print(df)\n",
    "# df.loc[\"A\"] # KeyError\n",
    "# df.loc[[\"A\", \"B\"]] # KeyError\n",
    "df2 = pd.DataFrame(np.arange(10, 26).reshape(4, 4), columns=[\"A\", \"B\", \"C\", \"D\"])\n",
    "print(df2)\n",
    "print(df2.loc[1:2])"
   ]
  },
  {
   "cell_type": "code",
   "execution_count": 12,
   "id": "atlantic-recommendation",
   "metadata": {
    "ExecuteTime": {
     "end_time": "2021-06-05T03:33:37.976640Z",
     "start_time": "2021-06-05T03:33:37.952612Z"
    }
   },
   "outputs": [
    {
     "name": "stdout",
     "output_type": "stream",
     "text": [
      "    C   D\n",
      "b  16  17\n",
      "c  20  21\n"
     ]
    }
   ],
   "source": [
    "import pandas as pd\n",
    "import numpy as np\n",
    "df = pd.DataFrame(np.arange(10, 22).reshape(3, 4), index=[\"a\", \"b\", \"c\"], columns=[\"A\", \"B\", \"C\", \"D\"])\n",
    "\n",
    "#print(df.loc[\"a\",\"A\"])\n",
    "#print(df.loc[\"b\":, \"A\"])\n",
    "#print( df.loc[\"a\", :])\n",
    "#print( df.loc[[\"a\", \"b\"], [\"B\", \"D\"]])\n",
    "print( df.loc[df.A > 10, [\"C\", \"D\"]]) "
   ]
  },
  {
   "cell_type": "code",
   "execution_count": 13,
   "id": "imperial-wheat",
   "metadata": {
    "ExecuteTime": {
     "end_time": "2021-06-05T03:33:38.623038Z",
     "start_time": "2021-06-05T03:33:38.601103Z"
    }
   },
   "outputs": [
    {
     "name": "stdout",
     "output_type": "stream",
     "text": [
      "    A   B   C   D\n",
      "a  10  11  12  13\n",
      "b  14  15  16  17\n",
      "c  36  38  40  42\n"
     ]
    }
   ],
   "source": [
    "import pandas as pd\n",
    "import numpy as np\n",
    "df = pd.DataFrame(np.arange(10, 22).reshape(3, 4),\n",
    "index=[\"a\", \"b\", \"c\"],\n",
    "columns=[\"A\", \"B\", \"C\", \"D\"])\n",
    "#print(df.iloc[0, 1])\n",
    "#print(df.iloc[:2, 2])\n",
    "#print(df.iloc[0, -2:])\n",
    "#print(df.iloc[2:3, 1:3])\n",
    "#print(df.iloc[-1])\n",
    "df.iloc[-1] = df.iloc[-1] * 2\n",
    "print(df) "
   ]
  },
  {
   "cell_type": "code",
   "execution_count": 14,
   "id": "empirical-estonia",
   "metadata": {
    "ExecuteTime": {
     "end_time": "2021-06-05T03:33:39.264250Z",
     "start_time": "2021-06-05T03:33:39.243862Z"
    }
   },
   "outputs": [
    {
     "name": "stdout",
     "output_type": "stream",
     "text": [
      "0    0.0\n",
      "1    1.0\n",
      "2    2.0\n",
      "3    NaN\n",
      "4    4.0\n",
      "5    5.0\n",
      "6    6.0\n",
      "7    7.0\n",
      "8    8.0\n",
      "9    9.0\n",
      "dtype: float64\n",
      "9\n"
     ]
    }
   ],
   "source": [
    "import pandas as pd\n",
    "import numpy as np\n",
    "s = pd.Series(range(10))\n",
    "s[3] = np.nan\n",
    "print(s)\n",
    "print(s.count())"
   ]
  },
  {
   "cell_type": "code",
   "execution_count": 15,
   "id": "recreational-directive",
   "metadata": {
    "ExecuteTime": {
     "end_time": "2021-06-05T03:33:39.811155Z",
     "start_time": "2021-06-05T03:33:39.788439Z"
    }
   },
   "outputs": [
    {
     "name": "stdout",
     "output_type": "stream",
     "text": [
      "     0    1    2    3\n",
      "0  0.0  0.0  3.0  2.0\n",
      "1  3.0  0.0  2.0  1.0\n",
      "2  3.0  2.0  4.0  NaN\n",
      "3  4.0  3.0  4.0  2.0\n",
      "0    4\n",
      "1    4\n",
      "2    4\n",
      "3    3\n",
      "dtype: int64\n"
     ]
    }
   ],
   "source": [
    "np.random.seed(2)\n",
    "df = pd.DataFrame(np.random.randint(5, size=(4, 4)), dtype=float)\n",
    "df.iloc[2, 3] = np.nan\n",
    "print(df)\n",
    "print(df.count())\n",
    "#print(df[1].value_counts())"
   ]
  },
  {
   "cell_type": "code",
   "execution_count": 16,
   "id": "incident-volunteer",
   "metadata": {
    "ExecuteTime": {
     "end_time": "2021-06-05T03:33:40.930354Z",
     "start_time": "2021-06-05T03:33:40.916661Z"
    }
   },
   "outputs": [
    {
     "name": "stdout",
     "output_type": "stream",
     "text": [
      "0    0.0\n",
      "1    1.0\n",
      "2    2.0\n",
      "4    4.0\n",
      "5    5.0\n",
      "6    6.0\n",
      "7    7.0\n",
      "8    8.0\n",
      "9    9.0\n",
      "3    NaN\n",
      "dtype: float64\n",
      "9    9.0\n",
      "8    8.0\n",
      "7    7.0\n",
      "6    6.0\n",
      "5    5.0\n",
      "4    4.0\n",
      "2    2.0\n",
      "1    1.0\n",
      "0    0.0\n",
      "3    NaN\n",
      "dtype: float64\n"
     ]
    }
   ],
   "source": [
    "s2 = pd.Series(np.random.randint(6, size=100))\n",
    "#print(s2.value_counts())\n",
    "#print(s2.value_counts().sort_index())\n",
    "print(s.sort_values())\n",
    "print(s.sort_values(ascending=False))"
   ]
  },
  {
   "cell_type": "code",
   "execution_count": 17,
   "id": "comfortable-specification",
   "metadata": {
    "ExecuteTime": {
     "end_time": "2021-06-05T03:33:41.529047Z",
     "start_time": "2021-06-05T03:33:41.500650Z"
    }
   },
   "outputs": [
    {
     "name": "stdout",
     "output_type": "stream",
     "text": [
      "     0    1    2    3\n",
      "1  3.0  0.0  2.0  1.0\n",
      "0  0.0  0.0  3.0  2.0\n",
      "3  4.0  3.0  4.0  2.0\n",
      "2  3.0  2.0  4.0  NaN\n"
     ]
    }
   ],
   "source": [
    "#print(df.sort_values(by=3))\n",
    "print(df.sort_values(by=[3, 1]))"
   ]
  },
  {
   "cell_type": "code",
   "execution_count": 18,
   "id": "industrial-setup",
   "metadata": {
    "ExecuteTime": {
     "end_time": "2021-06-05T03:33:43.728816Z",
     "start_time": "2021-06-05T03:33:43.703800Z"
    }
   },
   "outputs": [
    {
     "name": "stdout",
     "output_type": "stream",
     "text": [
      "   0  1  2  3  4  5  6  7  RowSum\n",
      "0  5  8  9  5  0  0  1  7      35\n",
      "1  6  9  2  4  5  2  4  2      34\n",
      "2  4  7  7  9  1  7  0  6      41\n",
      "3  9  9  7  6  9  1  0  1      42\n",
      "0          24\n",
      "1          33\n",
      "2          25\n",
      "3          24\n",
      "4          15\n",
      "5          10\n",
      "6           5\n",
      "7          16\n",
      "RowSum    152\n",
      "dtype: int64\n"
     ]
    }
   ],
   "source": [
    "import pandas as pd\n",
    "import numpy \n",
    "np.random.seed(1)\n",
    "df2 = pd.DataFrame(np.random.randint(10, size=(4, 8)))\n",
    "#print(df2)\n",
    "#print(df2.sum(axis=1))\n",
    "df2[\"RowSum\"] = df2.sum(axis=1)\n",
    "print(df2)\n",
    "print(df2.sum())"
   ]
  },
  {
   "cell_type": "code",
   "execution_count": 19,
   "id": "turkish-moore",
   "metadata": {
    "ExecuteTime": {
     "end_time": "2021-06-05T03:33:44.191075Z",
     "start_time": "2021-06-05T03:33:44.164262Z"
    }
   },
   "outputs": [
    {
     "name": "stdout",
     "output_type": "stream",
     "text": [
      "             0     1     2     3     4     5    6     7  RowSum\n",
      "0          5.0   8.0   9.0   5.0   0.0   0.0  1.0   7.0    35.0\n",
      "1          6.0   9.0   2.0   4.0   5.0   2.0  4.0   2.0    34.0\n",
      "2          4.0   7.0   7.0   9.0   1.0   7.0  0.0   6.0    41.0\n",
      "3          9.0   9.0   7.0   6.0   9.0   1.0  0.0   1.0    42.0\n",
      "ColTotal  24.0  33.0  25.0  24.0  15.0  10.0  5.0  16.0   152.0\n"
     ]
    }
   ],
   "source": [
    "df2.loc[\"ColTotal\", :] = df2.sum()\n",
    "print(df2)"
   ]
  },
  {
   "cell_type": "code",
   "execution_count": 20,
   "id": "portable-jason",
   "metadata": {
    "ExecuteTime": {
     "end_time": "2021-06-05T03:33:45.194702Z",
     "start_time": "2021-06-05T03:33:45.178744Z"
    }
   },
   "outputs": [
    {
     "name": "stdout",
     "output_type": "stream",
     "text": [
      "    국어  영어  수학\n",
      "춘향  80  90  90\n",
      "몽룡  90  70  60\n",
      "향단  70  60  80\n",
      "방자  30  40  70\n",
      "춘향    90\n",
      "몽룡    60\n",
      "향단    80\n",
      "방자    70\n",
      "dtype: int64\n"
     ]
    }
   ],
   "source": [
    "import pandas as pd\n",
    "data = {\"국어\":[80, 90, 70, 30], \"영어\":[90, 70, 60, 40], \"수학\":[90, 60, 80, 70]}\n",
    "columns = [\"국어\", \"영어\", \"수학\"]\n",
    "index = [\"춘향\", \"몽룡\", \"향단\", \"방자\"]\n",
    "df = pd.DataFrame(data, index=index, columns=columns)\n",
    "print(df)\n",
    "#1\n",
    "math = pd.Series([90, 60, 80, 70], index = [\"춘향\", \"몽룡\", \"향단\", \"방자\"])\n",
    "print(math)"
   ]
  },
  {
   "cell_type": "code",
   "execution_count": 21,
   "id": "eight-fellow",
   "metadata": {
    "ExecuteTime": {
     "end_time": "2021-06-05T03:33:47.352770Z",
     "start_time": "2021-06-05T03:33:47.332697Z"
    }
   },
   "outputs": [
    {
     "name": "stdout",
     "output_type": "stream",
     "text": [
      "    국어  영어\n",
      "춘향  80  90\n",
      "몽룡  90  70\n",
      "향단  70  60\n",
      "방자  30  40\n"
     ]
    }
   ],
   "source": [
    "#2\n",
    "print(df[[\"국어\",\"영어\"]])"
   ]
  },
  {
   "cell_type": "code",
   "execution_count": 22,
   "id": "editorial-tracy",
   "metadata": {
    "ExecuteTime": {
     "end_time": "2021-06-05T03:33:47.674949Z",
     "start_time": "2021-06-05T03:33:47.650055Z"
    }
   },
   "outputs": [
    {
     "name": "stdout",
     "output_type": "stream",
     "text": [
      "    국어  영어  수학  평균\n",
      "춘향  80  90  90 NaN\n",
      "몽룡  90  70  60 NaN\n",
      "향단  70  60  80 NaN\n",
      "방자  30  40  70 NaN\n"
     ]
    }
   ],
   "source": [
    "df[\"평균\"] = df.mean()\n",
    "print(df)"
   ]
  },
  {
   "cell_type": "code",
   "execution_count": 23,
   "id": "enormous-marsh",
   "metadata": {
    "ExecuteTime": {
     "end_time": "2021-06-05T03:33:47.969289Z",
     "start_time": "2021-06-05T03:33:47.956519Z"
    }
   },
   "outputs": [
    {
     "name": "stdout",
     "output_type": "stream",
     "text": [
      "      국어    영어    수학  평균\n",
      "춘향  80.0  90.0  90.0 NaN\n",
      "몽룡  90.0  70.0  60.0 NaN\n",
      "향단  70.0  60.0  80.0 NaN\n",
      "방자  30.0  80.0  70.0 NaN\n",
      "평균  67.5  75.0  75.0 NaN\n"
     ]
    }
   ],
   "source": [
    "df.iloc[3,1]=80\n",
    "df.loc[\"평균\", :] = df.mean()\n",
    "print(df)"
   ]
  },
  {
   "cell_type": "code",
   "execution_count": 24,
   "id": "important-system",
   "metadata": {
    "ExecuteTime": {
     "end_time": "2021-06-05T03:33:48.445959Z",
     "start_time": "2021-06-05T03:33:48.431109Z"
    }
   },
   "outputs": [
    {
     "name": "stdout",
     "output_type": "stream",
     "text": [
      "    국어  영어  수학\n",
      "춘향  80  90  90\n"
     ]
    }
   ],
   "source": [
    "data2 =data = {\n",
    "    \"국어\": [80],\n",
    "    \"영어\": [90],\n",
    "    \"수학\": [90],\n",
    "}\n",
    "columns = [\"국어\", \"영어\", \"수학\"]\n",
    "index = [\"춘향\"]\n",
    "df2 = pd.DataFrame(data2, index = index, columns=columns)\n",
    "print(df2)"
   ]
  },
  {
   "cell_type": "code",
   "execution_count": 25,
   "id": "adjustable-influence",
   "metadata": {
    "ExecuteTime": {
     "end_time": "2021-06-05T03:33:49.151344Z",
     "start_time": "2021-06-05T03:33:49.127315Z"
    }
   },
   "outputs": [
    {
     "name": "stdout",
     "output_type": "stream",
     "text": [
      "향단\n",
      "국어    70\n",
      "영어    60\n",
      "수학    80\n",
      "dtype: int64\n"
     ]
    }
   ],
   "source": [
    "#(6)\n",
    "s = pd.Series([70, 60, 80],\n",
    "index=[\"국어\", \"영어\", \"수학\"])\n",
    "s.index.name = \"향단\"\n",
    "print( s )"
   ]
  },
  {
   "cell_type": "markdown",
   "id": "eca443e5",
   "metadata": {},
   "source": [
    "# Titanic 실습"
   ]
  },
  {
   "cell_type": "code",
   "execution_count": 26,
   "id": "fresh-stretch",
   "metadata": {
    "ExecuteTime": {
     "end_time": "2021-06-05T03:34:06.477953Z",
     "start_time": "2021-06-05T03:34:03.865026Z"
    }
   },
   "outputs": [
    {
     "data": {
      "text/html": [
       "<div>\n",
       "<style scoped>\n",
       "    .dataframe tbody tr th:only-of-type {\n",
       "        vertical-align: middle;\n",
       "    }\n",
       "\n",
       "    .dataframe tbody tr th {\n",
       "        vertical-align: top;\n",
       "    }\n",
       "\n",
       "    .dataframe thead th {\n",
       "        text-align: right;\n",
       "    }\n",
       "</style>\n",
       "<table border=\"1\" class=\"dataframe\">\n",
       "  <thead>\n",
       "    <tr style=\"text-align: right;\">\n",
       "      <th></th>\n",
       "      <th>survived</th>\n",
       "      <th>pclass</th>\n",
       "      <th>sex</th>\n",
       "      <th>age</th>\n",
       "      <th>sibsp</th>\n",
       "      <th>parch</th>\n",
       "      <th>fare</th>\n",
       "      <th>embarked</th>\n",
       "      <th>class</th>\n",
       "      <th>who</th>\n",
       "      <th>adult_male</th>\n",
       "      <th>deck</th>\n",
       "      <th>embark_town</th>\n",
       "      <th>alive</th>\n",
       "      <th>alone</th>\n",
       "    </tr>\n",
       "  </thead>\n",
       "  <tbody>\n",
       "    <tr>\n",
       "      <th>0</th>\n",
       "      <td>0</td>\n",
       "      <td>3</td>\n",
       "      <td>male</td>\n",
       "      <td>22.0</td>\n",
       "      <td>1</td>\n",
       "      <td>0</td>\n",
       "      <td>7.2500</td>\n",
       "      <td>S</td>\n",
       "      <td>Third</td>\n",
       "      <td>man</td>\n",
       "      <td>True</td>\n",
       "      <td>NaN</td>\n",
       "      <td>Southampton</td>\n",
       "      <td>no</td>\n",
       "      <td>False</td>\n",
       "    </tr>\n",
       "    <tr>\n",
       "      <th>1</th>\n",
       "      <td>1</td>\n",
       "      <td>1</td>\n",
       "      <td>female</td>\n",
       "      <td>38.0</td>\n",
       "      <td>1</td>\n",
       "      <td>0</td>\n",
       "      <td>71.2833</td>\n",
       "      <td>C</td>\n",
       "      <td>First</td>\n",
       "      <td>woman</td>\n",
       "      <td>False</td>\n",
       "      <td>C</td>\n",
       "      <td>Cherbourg</td>\n",
       "      <td>yes</td>\n",
       "      <td>False</td>\n",
       "    </tr>\n",
       "    <tr>\n",
       "      <th>2</th>\n",
       "      <td>1</td>\n",
       "      <td>3</td>\n",
       "      <td>female</td>\n",
       "      <td>26.0</td>\n",
       "      <td>0</td>\n",
       "      <td>0</td>\n",
       "      <td>7.9250</td>\n",
       "      <td>S</td>\n",
       "      <td>Third</td>\n",
       "      <td>woman</td>\n",
       "      <td>False</td>\n",
       "      <td>NaN</td>\n",
       "      <td>Southampton</td>\n",
       "      <td>yes</td>\n",
       "      <td>True</td>\n",
       "    </tr>\n",
       "    <tr>\n",
       "      <th>3</th>\n",
       "      <td>1</td>\n",
       "      <td>1</td>\n",
       "      <td>female</td>\n",
       "      <td>35.0</td>\n",
       "      <td>1</td>\n",
       "      <td>0</td>\n",
       "      <td>53.1000</td>\n",
       "      <td>S</td>\n",
       "      <td>First</td>\n",
       "      <td>woman</td>\n",
       "      <td>False</td>\n",
       "      <td>C</td>\n",
       "      <td>Southampton</td>\n",
       "      <td>yes</td>\n",
       "      <td>False</td>\n",
       "    </tr>\n",
       "    <tr>\n",
       "      <th>4</th>\n",
       "      <td>0</td>\n",
       "      <td>3</td>\n",
       "      <td>male</td>\n",
       "      <td>35.0</td>\n",
       "      <td>0</td>\n",
       "      <td>0</td>\n",
       "      <td>8.0500</td>\n",
       "      <td>S</td>\n",
       "      <td>Third</td>\n",
       "      <td>man</td>\n",
       "      <td>True</td>\n",
       "      <td>NaN</td>\n",
       "      <td>Southampton</td>\n",
       "      <td>no</td>\n",
       "      <td>True</td>\n",
       "    </tr>\n",
       "  </tbody>\n",
       "</table>\n",
       "</div>"
      ],
      "text/plain": [
       "   survived  pclass     sex   age  sibsp  parch     fare embarked  class  \\\n",
       "0         0       3    male  22.0      1      0   7.2500        S  Third   \n",
       "1         1       1  female  38.0      1      0  71.2833        C  First   \n",
       "2         1       3  female  26.0      0      0   7.9250        S  Third   \n",
       "3         1       1  female  35.0      1      0  53.1000        S  First   \n",
       "4         0       3    male  35.0      0      0   8.0500        S  Third   \n",
       "\n",
       "     who  adult_male deck  embark_town alive  alone  \n",
       "0    man        True  NaN  Southampton    no  False  \n",
       "1  woman       False    C    Cherbourg   yes  False  \n",
       "2  woman       False  NaN  Southampton   yes   True  \n",
       "3  woman       False    C  Southampton   yes  False  \n",
       "4    man        True  NaN  Southampton    no   True  "
      ]
     },
     "execution_count": 26,
     "metadata": {},
     "output_type": "execute_result"
    }
   ],
   "source": [
    "import pandas as pd\n",
    "import seaborn as sns\n",
    "\n",
    "titanic = sns.load_dataset(\"titanic\")\n",
    "titanic.head()"
   ]
  },
  {
   "cell_type": "code",
   "execution_count": 27,
   "id": "recognized-narrative",
   "metadata": {
    "ExecuteTime": {
     "end_time": "2021-06-05T03:34:06.493955Z",
     "start_time": "2021-06-05T03:34:06.477953Z"
    },
    "scrolled": true
   },
   "outputs": [
    {
     "name": "stdout",
     "output_type": "stream",
     "text": [
      "survived       891\n",
      "pclass         891\n",
      "sex            891\n",
      "age            714\n",
      "sibsp          891\n",
      "parch          891\n",
      "fare           891\n",
      "embarked       889\n",
      "class          891\n",
      "who            891\n",
      "adult_male     891\n",
      "deck           203\n",
      "embark_town    889\n",
      "alive          891\n",
      "alone          891\n",
      "dtype: int64\n"
     ]
    }
   ],
   "source": [
    "#(1)\n",
    "print(titanic.count())"
   ]
  },
  {
   "cell_type": "code",
   "execution_count": 28,
   "id": "macro-barrier",
   "metadata": {
    "ExecuteTime": {
     "end_time": "2021-06-05T03:34:17.061800Z",
     "start_time": "2021-06-05T03:34:17.026277Z"
    }
   },
   "outputs": [
    {
     "name": "stdout",
     "output_type": "stream",
     "text": [
      "male      577\n",
      "female    314\n",
      "Name: sex, dtype: int64\n",
      "24.00    30\n",
      "22.00    27\n",
      "18.00    26\n",
      "19.00    25\n",
      "30.00    25\n",
      "         ..\n",
      "36.50     1\n",
      "74.00     1\n",
      "0.92      1\n",
      "70.50     1\n",
      "12.00     1\n",
      "Name: age, Length: 88, dtype: int64\n",
      "3    491\n",
      "1    216\n",
      "2    184\n",
      "Name: pclass, dtype: int64\n",
      "no     549\n",
      "yes    342\n",
      "Name: alive, dtype: int64\n"
     ]
    }
   ],
   "source": [
    "#(2)\n",
    "print(titanic[\"sex\"].sort_values().value_counts())\n",
    "print(titanic[\"age\"].sort_values().value_counts())\n",
    "print(titanic[\"pclass\"].sort_values().value_counts())\n",
    "print(titanic[\"alive\"].sort_values().value_counts())"
   ]
  },
  {
   "cell_type": "code",
   "execution_count": 29,
   "id": "premier-memorial",
   "metadata": {
    "ExecuteTime": {
     "end_time": "2021-06-05T03:34:18.745745Z",
     "start_time": "2021-06-05T03:34:18.726015Z"
    }
   },
   "outputs": [
    {
     "name": "stdout",
     "output_type": "stream",
     "text": [
      "29.69911764705882\n"
     ]
    }
   ],
   "source": [
    "#(3)\n",
    "print(titanic[\"age\"].mean())"
   ]
  },
  {
   "cell_type": "code",
   "execution_count": 30,
   "id": "auburn-preserve",
   "metadata": {
    "ExecuteTime": {
     "end_time": "2021-06-05T03:34:19.596287Z",
     "start_time": "2021-06-05T03:34:19.580289Z"
    }
   },
   "outputs": [
    {
     "name": "stdout",
     "output_type": "stream",
     "text": [
      "age    33.0\n",
      "dtype: float64\n",
      "27.915708812260537\n"
     ]
    }
   ],
   "source": [
    "#(4)\n",
    "print(titanic.iloc[1:4, 2:4].mean())\n",
    "print(titanic.loc[titanic[\"sex\"]==\"female\", \"age\"].mean())\n"
   ]
  },
  {
   "cell_type": "code",
   "execution_count": 33,
   "id": "turkish-reflection",
   "metadata": {
    "ExecuteTime": {
     "end_time": "2021-06-05T03:35:43.888209Z",
     "start_time": "2021-06-05T03:35:43.754136Z"
    }
   },
   "outputs": [
    {
     "ename": "KeyError",
     "evalue": "\"None of [Index(['male', 'female', 'female', 'female', 'male', 'male', 'male', 'male',\\n       'female', 'female',\\n       ...\\n       'male', 'female', 'male', 'male', 'female', 'male', 'female', 'female',\\n       'male', 'male'],\\n      dtype='object', length=891)] are in the [index]\"",
     "output_type": "error",
     "traceback": [
      "\u001b[1;31m---------------------------------------------------------------------------\u001b[0m",
      "\u001b[1;31mKeyError\u001b[0m                                  Traceback (most recent call last)",
      "\u001b[1;32m<ipython-input-33-1bdc6446f700>\u001b[0m in \u001b[0;36m<module>\u001b[1;34m\u001b[0m\n\u001b[0;32m      1\u001b[0m \u001b[1;31m#(5)\u001b[0m\u001b[1;33m\u001b[0m\u001b[1;33m\u001b[0m\u001b[1;33m\u001b[0m\u001b[0m\n\u001b[1;32m----> 2\u001b[1;33m \u001b[0mprint\u001b[0m\u001b[1;33m(\u001b[0m\u001b[0mtitanic\u001b[0m\u001b[1;33m.\u001b[0m\u001b[0mloc\u001b[0m\u001b[1;33m[\u001b[0m\u001b[0mtitanic\u001b[0m\u001b[1;33m[\u001b[0m\u001b[1;34m\"sex\"\u001b[0m\u001b[1;33m]\u001b[0m\u001b[1;33m]\u001b[0m\u001b[1;33m)\u001b[0m\u001b[1;33m\u001b[0m\u001b[1;33m\u001b[0m\u001b[0m\n\u001b[0m",
      "\u001b[1;32m~\\anaconda3\\envs\\basic\\lib\\site-packages\\pandas\\core\\indexing.py\u001b[0m in \u001b[0;36m__getitem__\u001b[1;34m(self, key)\u001b[0m\n\u001b[0;32m    893\u001b[0m \u001b[1;33m\u001b[0m\u001b[0m\n\u001b[0;32m    894\u001b[0m             \u001b[0mmaybe_callable\u001b[0m \u001b[1;33m=\u001b[0m \u001b[0mcom\u001b[0m\u001b[1;33m.\u001b[0m\u001b[0mapply_if_callable\u001b[0m\u001b[1;33m(\u001b[0m\u001b[0mkey\u001b[0m\u001b[1;33m,\u001b[0m \u001b[0mself\u001b[0m\u001b[1;33m.\u001b[0m\u001b[0mobj\u001b[0m\u001b[1;33m)\u001b[0m\u001b[1;33m\u001b[0m\u001b[1;33m\u001b[0m\u001b[0m\n\u001b[1;32m--> 895\u001b[1;33m             \u001b[1;32mreturn\u001b[0m \u001b[0mself\u001b[0m\u001b[1;33m.\u001b[0m\u001b[0m_getitem_axis\u001b[0m\u001b[1;33m(\u001b[0m\u001b[0mmaybe_callable\u001b[0m\u001b[1;33m,\u001b[0m \u001b[0maxis\u001b[0m\u001b[1;33m=\u001b[0m\u001b[0maxis\u001b[0m\u001b[1;33m)\u001b[0m\u001b[1;33m\u001b[0m\u001b[1;33m\u001b[0m\u001b[0m\n\u001b[0m\u001b[0;32m    896\u001b[0m \u001b[1;33m\u001b[0m\u001b[0m\n\u001b[0;32m    897\u001b[0m     \u001b[1;32mdef\u001b[0m \u001b[0m_is_scalar_access\u001b[0m\u001b[1;33m(\u001b[0m\u001b[0mself\u001b[0m\u001b[1;33m,\u001b[0m \u001b[0mkey\u001b[0m\u001b[1;33m:\u001b[0m \u001b[0mTuple\u001b[0m\u001b[1;33m)\u001b[0m\u001b[1;33m:\u001b[0m\u001b[1;33m\u001b[0m\u001b[1;33m\u001b[0m\u001b[0m\n",
      "\u001b[1;32m~\\anaconda3\\envs\\basic\\lib\\site-packages\\pandas\\core\\indexing.py\u001b[0m in \u001b[0;36m_getitem_axis\u001b[1;34m(self, key, axis)\u001b[0m\n\u001b[0;32m   1111\u001b[0m                     \u001b[1;32mraise\u001b[0m \u001b[0mValueError\u001b[0m\u001b[1;33m(\u001b[0m\u001b[1;34m\"Cannot index with multidimensional key\"\u001b[0m\u001b[1;33m)\u001b[0m\u001b[1;33m\u001b[0m\u001b[1;33m\u001b[0m\u001b[0m\n\u001b[0;32m   1112\u001b[0m \u001b[1;33m\u001b[0m\u001b[0m\n\u001b[1;32m-> 1113\u001b[1;33m                 \u001b[1;32mreturn\u001b[0m \u001b[0mself\u001b[0m\u001b[1;33m.\u001b[0m\u001b[0m_getitem_iterable\u001b[0m\u001b[1;33m(\u001b[0m\u001b[0mkey\u001b[0m\u001b[1;33m,\u001b[0m \u001b[0maxis\u001b[0m\u001b[1;33m=\u001b[0m\u001b[0maxis\u001b[0m\u001b[1;33m)\u001b[0m\u001b[1;33m\u001b[0m\u001b[1;33m\u001b[0m\u001b[0m\n\u001b[0m\u001b[0;32m   1114\u001b[0m \u001b[1;33m\u001b[0m\u001b[0m\n\u001b[0;32m   1115\u001b[0m             \u001b[1;31m# nested tuple slicing\u001b[0m\u001b[1;33m\u001b[0m\u001b[1;33m\u001b[0m\u001b[1;33m\u001b[0m\u001b[0m\n",
      "\u001b[1;32m~\\anaconda3\\envs\\basic\\lib\\site-packages\\pandas\\core\\indexing.py\u001b[0m in \u001b[0;36m_getitem_iterable\u001b[1;34m(self, key, axis)\u001b[0m\n\u001b[0;32m   1051\u001b[0m \u001b[1;33m\u001b[0m\u001b[0m\n\u001b[0;32m   1052\u001b[0m         \u001b[1;31m# A collection of keys\u001b[0m\u001b[1;33m\u001b[0m\u001b[1;33m\u001b[0m\u001b[1;33m\u001b[0m\u001b[0m\n\u001b[1;32m-> 1053\u001b[1;33m         \u001b[0mkeyarr\u001b[0m\u001b[1;33m,\u001b[0m \u001b[0mindexer\u001b[0m \u001b[1;33m=\u001b[0m \u001b[0mself\u001b[0m\u001b[1;33m.\u001b[0m\u001b[0m_get_listlike_indexer\u001b[0m\u001b[1;33m(\u001b[0m\u001b[0mkey\u001b[0m\u001b[1;33m,\u001b[0m \u001b[0maxis\u001b[0m\u001b[1;33m,\u001b[0m \u001b[0mraise_missing\u001b[0m\u001b[1;33m=\u001b[0m\u001b[1;32mFalse\u001b[0m\u001b[1;33m)\u001b[0m\u001b[1;33m\u001b[0m\u001b[1;33m\u001b[0m\u001b[0m\n\u001b[0m\u001b[0;32m   1054\u001b[0m         return self.obj._reindex_with_indexers(\n\u001b[0;32m   1055\u001b[0m             \u001b[1;33m{\u001b[0m\u001b[0maxis\u001b[0m\u001b[1;33m:\u001b[0m \u001b[1;33m[\u001b[0m\u001b[0mkeyarr\u001b[0m\u001b[1;33m,\u001b[0m \u001b[0mindexer\u001b[0m\u001b[1;33m]\u001b[0m\u001b[1;33m}\u001b[0m\u001b[1;33m,\u001b[0m \u001b[0mcopy\u001b[0m\u001b[1;33m=\u001b[0m\u001b[1;32mTrue\u001b[0m\u001b[1;33m,\u001b[0m \u001b[0mallow_dups\u001b[0m\u001b[1;33m=\u001b[0m\u001b[1;32mTrue\u001b[0m\u001b[1;33m\u001b[0m\u001b[1;33m\u001b[0m\u001b[0m\n",
      "\u001b[1;32m~\\anaconda3\\envs\\basic\\lib\\site-packages\\pandas\\core\\indexing.py\u001b[0m in \u001b[0;36m_get_listlike_indexer\u001b[1;34m(self, key, axis, raise_missing)\u001b[0m\n\u001b[0;32m   1264\u001b[0m             \u001b[0mkeyarr\u001b[0m\u001b[1;33m,\u001b[0m \u001b[0mindexer\u001b[0m\u001b[1;33m,\u001b[0m \u001b[0mnew_indexer\u001b[0m \u001b[1;33m=\u001b[0m \u001b[0max\u001b[0m\u001b[1;33m.\u001b[0m\u001b[0m_reindex_non_unique\u001b[0m\u001b[1;33m(\u001b[0m\u001b[0mkeyarr\u001b[0m\u001b[1;33m)\u001b[0m\u001b[1;33m\u001b[0m\u001b[1;33m\u001b[0m\u001b[0m\n\u001b[0;32m   1265\u001b[0m \u001b[1;33m\u001b[0m\u001b[0m\n\u001b[1;32m-> 1266\u001b[1;33m         \u001b[0mself\u001b[0m\u001b[1;33m.\u001b[0m\u001b[0m_validate_read_indexer\u001b[0m\u001b[1;33m(\u001b[0m\u001b[0mkeyarr\u001b[0m\u001b[1;33m,\u001b[0m \u001b[0mindexer\u001b[0m\u001b[1;33m,\u001b[0m \u001b[0maxis\u001b[0m\u001b[1;33m,\u001b[0m \u001b[0mraise_missing\u001b[0m\u001b[1;33m=\u001b[0m\u001b[0mraise_missing\u001b[0m\u001b[1;33m)\u001b[0m\u001b[1;33m\u001b[0m\u001b[1;33m\u001b[0m\u001b[0m\n\u001b[0m\u001b[0;32m   1267\u001b[0m         \u001b[1;32mreturn\u001b[0m \u001b[0mkeyarr\u001b[0m\u001b[1;33m,\u001b[0m \u001b[0mindexer\u001b[0m\u001b[1;33m\u001b[0m\u001b[1;33m\u001b[0m\u001b[0m\n\u001b[0;32m   1268\u001b[0m \u001b[1;33m\u001b[0m\u001b[0m\n",
      "\u001b[1;32m~\\anaconda3\\envs\\basic\\lib\\site-packages\\pandas\\core\\indexing.py\u001b[0m in \u001b[0;36m_validate_read_indexer\u001b[1;34m(self, key, indexer, axis, raise_missing)\u001b[0m\n\u001b[0;32m   1306\u001b[0m             \u001b[1;32mif\u001b[0m \u001b[0mmissing\u001b[0m \u001b[1;33m==\u001b[0m \u001b[0mlen\u001b[0m\u001b[1;33m(\u001b[0m\u001b[0mindexer\u001b[0m\u001b[1;33m)\u001b[0m\u001b[1;33m:\u001b[0m\u001b[1;33m\u001b[0m\u001b[1;33m\u001b[0m\u001b[0m\n\u001b[0;32m   1307\u001b[0m                 \u001b[0maxis_name\u001b[0m \u001b[1;33m=\u001b[0m \u001b[0mself\u001b[0m\u001b[1;33m.\u001b[0m\u001b[0mobj\u001b[0m\u001b[1;33m.\u001b[0m\u001b[0m_get_axis_name\u001b[0m\u001b[1;33m(\u001b[0m\u001b[0maxis\u001b[0m\u001b[1;33m)\u001b[0m\u001b[1;33m\u001b[0m\u001b[1;33m\u001b[0m\u001b[0m\n\u001b[1;32m-> 1308\u001b[1;33m                 \u001b[1;32mraise\u001b[0m \u001b[0mKeyError\u001b[0m\u001b[1;33m(\u001b[0m\u001b[1;34mf\"None of [{key}] are in the [{axis_name}]\"\u001b[0m\u001b[1;33m)\u001b[0m\u001b[1;33m\u001b[0m\u001b[1;33m\u001b[0m\u001b[0m\n\u001b[0m\u001b[0;32m   1309\u001b[0m \u001b[1;33m\u001b[0m\u001b[0m\n\u001b[0;32m   1310\u001b[0m             \u001b[0max\u001b[0m \u001b[1;33m=\u001b[0m \u001b[0mself\u001b[0m\u001b[1;33m.\u001b[0m\u001b[0mobj\u001b[0m\u001b[1;33m.\u001b[0m\u001b[0m_get_axis\u001b[0m\u001b[1;33m(\u001b[0m\u001b[0maxis\u001b[0m\u001b[1;33m)\u001b[0m\u001b[1;33m\u001b[0m\u001b[1;33m\u001b[0m\u001b[0m\n",
      "\u001b[1;31mKeyError\u001b[0m: \"None of [Index(['male', 'female', 'female', 'female', 'male', 'male', 'male', 'male',\\n       'female', 'female',\\n       ...\\n       'male', 'female', 'male', 'male', 'female', 'male', 'female', 'female',\\n       'male', 'male'],\\n      dtype='object', length=891)] are in the [index]\""
     ]
    }
   ],
   "source": [
    "#(5)\n",
    "print(titanic.loc[titanic[\"sex\"]])"
   ]
  },
  {
   "cell_type": "code",
   "execution_count": 34,
   "id": "lonely-respondent",
   "metadata": {
    "ExecuteTime": {
     "end_time": "2021-06-05T03:35:52.657810Z",
     "start_time": "2021-06-05T03:35:52.616908Z"
    }
   },
   "outputs": [
    {
     "name": "stdout",
     "output_type": "stream",
     "text": [
      "     A    B    C\n",
      "1  1.0  1.0  1.0\n",
      "2  0.0  2.0  1.0\n",
      "3  2.0  2.0  0.0\n",
      "4  2.0  0.0  2.0\n",
      "5  0.0  0.0  1.0\n",
      "   A  B  C\n",
      "1  1  1  1\n",
      "2  0  2  1\n",
      "3  2  2  0\n",
      "4  2  0  2\n",
      "5  0  0  1\n"
     ]
    }
   ],
   "source": [
    "import pandas as pd\n",
    "df3 = pd.DataFrame({ 'A': [1, 3, 4, 3, 4], 'B': [2, 3, 1, 2, 3], 'C': [1, 5, 2, 4, 4] })\n",
    "print(df3.apply(pd.value_counts).fillna(0.0))\n",
    "print(df3.apply(pd.value_counts).fillna(0).astype(int))"
   ]
  },
  {
   "cell_type": "code",
   "execution_count": 35,
   "id": "reflected-china",
   "metadata": {
    "ExecuteTime": {
     "end_time": "2021-06-05T03:35:54.562549Z",
     "start_time": "2021-06-05T03:35:54.535552Z"
    }
   },
   "outputs": [
    {
     "name": "stdout",
     "output_type": "stream",
     "text": [
      "[NaN, '미성년자', '미성년자', '청년', '청년', ..., '장년', '미성년자', '중년', '중년', NaN]\n",
      "Length: 12\n",
      "Categories (5, object): ['미성년자' < '청년' < '중년' < '장년' < '노년']\n"
     ]
    }
   ],
   "source": [
    "ages = [0, 2, 10, 21, 23, 37, 31, 61, 20, 41, 32, 101]\n",
    "bins = [1, 20, 30, 50, 70, 100]\n",
    "labels = [\"미성년자\", \"청년\", \"중년\", \"장년\", \"노년\"]\n",
    "cats = pd.cut(ages, bins, labels=labels)\n",
    "print(cats)"
   ]
  },
  {
   "cell_type": "code",
   "execution_count": 36,
   "id": "powered-connecticut",
   "metadata": {
    "ExecuteTime": {
     "end_time": "2021-06-05T03:35:55.054965Z",
     "start_time": "2021-06-05T03:35:55.044338Z"
    }
   },
   "outputs": [
    {
     "name": "stdout",
     "output_type": "stream",
     "text": [
      "<class 'pandas.core.arrays.categorical.Categorical'>\n",
      "Index(['미성년자', '청년', '중년', '장년', '노년'], dtype='object')\n",
      "[-1  0  0  1  1  2  2  3  0  2  2 -1]\n"
     ]
    }
   ],
   "source": [
    "print(type(cats))\n",
    "print(cats.categories)\n",
    "print(cats.codes)"
   ]
  },
  {
   "cell_type": "code",
   "execution_count": 37,
   "id": "proof-portuguese",
   "metadata": {
    "ExecuteTime": {
     "end_time": "2021-06-05T03:35:55.628266Z",
     "start_time": "2021-06-05T03:35:55.592706Z"
    }
   },
   "outputs": [
    {
     "name": "stdout",
     "output_type": "stream",
     "text": [
      "    ages age_cat\n",
      "0      0     NaN\n",
      "1      2    미성년자\n",
      "2     10    미성년자\n",
      "3     21      청년\n",
      "4     23      청년\n",
      "5     37      중년\n",
      "6     31      중년\n",
      "7     61      장년\n",
      "8     20    미성년자\n",
      "9     41      중년\n",
      "10    32      중년\n",
      "11   101     NaN\n",
      "0        NaN\n",
      "1      미성년자2\n",
      "2     미성년자10\n",
      "3       청년21\n",
      "4       청년23\n",
      "5       중년37\n",
      "6       중년31\n",
      "7       장년61\n",
      "8     미성년자20\n",
      "9       중년41\n",
      "10      중년32\n",
      "11       NaN\n",
      "dtype: object\n"
     ]
    }
   ],
   "source": [
    "df4 = pd.DataFrame(ages, columns=[\"ages\"])\n",
    "df4[\"age_cat\"] = pd.cut(df4.ages, bins, labels=labels)\n",
    "print(df4)\n",
    "print(df4.age_cat.astype(str) + df4.ages.astype(str))"
   ]
  },
  {
   "cell_type": "code",
   "execution_count": 38,
   "id": "unlimited-canberra",
   "metadata": {
    "ExecuteTime": {
     "end_time": "2021-06-05T03:35:56.089113Z",
     "start_time": "2021-06-05T03:35:56.077528Z"
    }
   },
   "outputs": [
    {
     "name": "stdout",
     "output_type": "stream",
     "text": [
      "  C1    C2    C3    C4\n",
      "0  A  0.55  0.65  0.79\n",
      "1  B  0.72  0.44  0.53\n",
      "2  C   0.6  0.89  0.57\n",
      "3  D  0.54  0.96  0.93\n",
      "4  E  0.42  0.38  0.07\n"
     ]
    }
   ],
   "source": [
    "import pandas as pd\n",
    "np.random.seed(0)\n",
    "df1 = pd.DataFrame(np.vstack([list('ABCDE'),\n",
    "np.round(np.random.rand(3, 5), 2)]).T,\n",
    "columns=[\"C1\", \"C2\", \"C3\", \"C4\"])\n",
    "print(df1)"
   ]
  },
  {
   "cell_type": "code",
   "execution_count": 39,
   "id": "finite-property",
   "metadata": {
    "ExecuteTime": {
     "end_time": "2021-06-05T03:35:56.764924Z",
     "start_time": "2021-06-05T03:35:56.744330Z"
    }
   },
   "outputs": [
    {
     "name": "stdout",
     "output_type": "stream",
     "text": [
      "      C2    C3    C4\n",
      "C1                  \n",
      "A   0.55  0.65  0.79\n",
      "B   0.72  0.44  0.53\n",
      "C    0.6  0.89  0.57\n",
      "D   0.54  0.96  0.93\n",
      "E   0.42  0.38  0.07\n"
     ]
    }
   ],
   "source": [
    "df2 = df1.set_index(\"C1\")\n",
    "print(df2)"
   ]
  },
  {
   "cell_type": "code",
   "execution_count": 40,
   "id": "divine-tuner",
   "metadata": {
    "ExecuteTime": {
     "end_time": "2021-06-05T03:35:57.424806Z",
     "start_time": "2021-06-05T03:35:57.395236Z"
    }
   },
   "outputs": [
    {
     "name": "stdout",
     "output_type": "stream",
     "text": [
      "      C2    C3    C4\n",
      "C1                  \n",
      "A   0.55  0.65  0.79\n",
      "B   0.72  0.44  0.53\n",
      "C    0.6  0.89  0.57\n",
      "D   0.54  0.96  0.93\n",
      "E   0.42  0.38  0.07\n",
      "        C3    C4\n",
      "C2              \n",
      "0.55  0.65  0.79\n",
      "0.72  0.44  0.53\n",
      "0.6   0.89  0.57\n",
      "0.54  0.96  0.93\n",
      "0.42  0.38  0.07\n"
     ]
    }
   ],
   "source": [
    "df3=df2.set_index(\"C2\")\n",
    "print(df2)\n",
    "print(df3)"
   ]
  },
  {
   "cell_type": "code",
   "execution_count": 41,
   "id": "interested-hearts",
   "metadata": {
    "ExecuteTime": {
     "end_time": "2021-06-05T03:35:58.024111Z",
     "start_time": "2021-06-05T03:35:57.998873Z"
    }
   },
   "outputs": [
    {
     "data": {
      "text/html": [
       "<div>\n",
       "<style scoped>\n",
       "    .dataframe tbody tr th:only-of-type {\n",
       "        vertical-align: middle;\n",
       "    }\n",
       "\n",
       "    .dataframe tbody tr th {\n",
       "        vertical-align: top;\n",
       "    }\n",
       "\n",
       "    .dataframe thead th {\n",
       "        text-align: right;\n",
       "    }\n",
       "</style>\n",
       "<table border=\"1\" class=\"dataframe\">\n",
       "  <thead>\n",
       "    <tr style=\"text-align: right;\">\n",
       "      <th></th>\n",
       "      <th>C1</th>\n",
       "      <th>C2</th>\n",
       "      <th>C3</th>\n",
       "      <th>C4</th>\n",
       "    </tr>\n",
       "  </thead>\n",
       "  <tbody>\n",
       "    <tr>\n",
       "      <th>0</th>\n",
       "      <td>A</td>\n",
       "      <td>0.55</td>\n",
       "      <td>0.65</td>\n",
       "      <td>0.79</td>\n",
       "    </tr>\n",
       "    <tr>\n",
       "      <th>1</th>\n",
       "      <td>B</td>\n",
       "      <td>0.72</td>\n",
       "      <td>0.44</td>\n",
       "      <td>0.53</td>\n",
       "    </tr>\n",
       "    <tr>\n",
       "      <th>2</th>\n",
       "      <td>C</td>\n",
       "      <td>0.6</td>\n",
       "      <td>0.89</td>\n",
       "      <td>0.57</td>\n",
       "    </tr>\n",
       "    <tr>\n",
       "      <th>3</th>\n",
       "      <td>D</td>\n",
       "      <td>0.54</td>\n",
       "      <td>0.96</td>\n",
       "      <td>0.93</td>\n",
       "    </tr>\n",
       "    <tr>\n",
       "      <th>4</th>\n",
       "      <td>E</td>\n",
       "      <td>0.42</td>\n",
       "      <td>0.38</td>\n",
       "      <td>0.07</td>\n",
       "    </tr>\n",
       "  </tbody>\n",
       "</table>\n",
       "</div>"
      ],
      "text/plain": [
       "  C1    C2    C3    C4\n",
       "0  A  0.55  0.65  0.79\n",
       "1  B  0.72  0.44  0.53\n",
       "2  C   0.6  0.89  0.57\n",
       "3  D  0.54  0.96  0.93\n",
       "4  E  0.42  0.38  0.07"
      ]
     },
     "execution_count": 41,
     "metadata": {},
     "output_type": "execute_result"
    }
   ],
   "source": [
    "df2.reset_index()"
   ]
  },
  {
   "cell_type": "code",
   "execution_count": 42,
   "id": "sufficient-stranger",
   "metadata": {
    "ExecuteTime": {
     "end_time": "2021-06-05T03:35:58.744120Z",
     "start_time": "2021-06-05T03:35:58.719903Z"
    }
   },
   "outputs": [
    {
     "name": "stdout",
     "output_type": "stream",
     "text": [
      "  C1    C2    C3    C4\n",
      "0  A  0.55  0.65  0.79\n",
      "1  B  0.72  0.44  0.53\n",
      "2  C   0.6  0.89  0.57\n",
      "3  D  0.54  0.96  0.93\n",
      "4  E  0.42  0.38  0.07\n"
     ]
    }
   ],
   "source": [
    "df4 = df2.reset_index()\n",
    "print(df4)"
   ]
  },
  {
   "cell_type": "code",
   "execution_count": 43,
   "id": "crucial-guidance",
   "metadata": {
    "ExecuteTime": {
     "end_time": "2021-06-05T03:36:02.269117Z",
     "start_time": "2021-06-05T03:36:02.207334Z"
    }
   },
   "outputs": [
    {
     "name": "stdout",
     "output_type": "stream",
     "text": [
      "Cidx2                 C     D\n",
      "Ridx1 Ridx2 Cidx1            \n",
      "M     id_1  A      0.48  0.58\n",
      "            B     -0.18  1.41\n",
      "      id_2  A     -0.37  0.28\n",
      "            B     -0.96  0.38\n",
      "      id_3  A      0.03  0.68\n",
      "            B     -1.56 -0.57\n",
      "F     id_1  A     -0.24  1.51\n",
      "            B     -0.33  0.05\n",
      "      id_2  A      1.46  1.54\n",
      "            B      0.57  0.15\n",
      "      id_3  A     -1.08  1.40\n",
      "            B      1.79 -0.57\n",
      "Cidx1                 A     B\n",
      "Ridx1 Ridx2 Cidx2            \n",
      "M     id_1  C      0.48 -0.18\n",
      "            D      0.58  1.41\n",
      "      id_2  C     -0.37 -0.96\n",
      "            D      0.28  0.38\n",
      "      id_3  C      0.03 -1.56\n",
      "            D      0.68 -0.57\n",
      "F     id_1  C     -0.24 -0.33\n",
      "            D      1.51  0.05\n",
      "      id_2  C      1.46  0.57\n",
      "            D      1.54  0.15\n",
      "      id_3  C     -1.08  1.79\n",
      "            D      1.40 -0.57\n",
      "Cidx1     A                                   B                              \n",
      "Cidx2     C                 D                 C                 D            \n",
      "Ridx2  id_1  id_2  id_3  id_1  id_2  id_3  id_1  id_2  id_3  id_1  id_2  id_3\n",
      "Ridx1                                                                        \n",
      "F     -0.24  1.46 -1.08  1.51  1.54  1.40 -0.33  0.57  1.79  0.05  0.15 -0.57\n",
      "M      0.48 -0.37  0.03  0.58  0.28  0.68 -0.18 -0.96 -1.56  1.41  0.38 -0.57\n",
      "Cidx1           A           B      \n",
      "Cidx2           C     D     C     D\n",
      "Ridx1 Ridx2                        \n",
      "M     id_1   0.48  0.58 -0.18  1.41\n",
      "      id_2  -0.37  0.28 -0.96  0.38\n",
      "      id_3   0.03  0.68 -1.56 -0.57\n",
      "F     id_1  -0.24  1.51 -0.33  0.05\n",
      "      id_2   1.46  1.54  0.57  0.15\n",
      "      id_3  -1.08  1.40  1.79 -0.57\n"
     ]
    }
   ],
   "source": [
    "import pandas as pd\n",
    "import numpy as np\n",
    "df4 = pd.DataFrame(np.round(np.random.randn(6, 4), 2),\n",
    "columns=[[\"A\", \"A\", \"B\", \"B\"], [\"C\", \"D\", \"C\", \"D\"]],\n",
    "index=[[\"M\", \"M\", \"M\", \"F\", \"F\", \"F\"], [\"id_\" + str(i + 1) for i in range(3)] * 2])\n",
    "df4.columns.names = [\"Cidx1\", \"Cidx2\"]\n",
    "df4.index.names = [\"Ridx1\", \"Ridx2\"]\n",
    "\n",
    "df=df4.stack(\"Cidx1\")\n",
    "print(df)\n",
    "\n",
    "df1=df4.stack(1)\n",
    "print(df1)\n",
    "\n",
    "df5= df4.unstack(\"Ridx2\")\n",
    "print(df5)\n",
    "\n",
    "df4.unstack(0)\n",
    "print(df4)"
   ]
  },
  {
   "cell_type": "code",
   "execution_count": 44,
   "id": "ignored-constant",
   "metadata": {
    "ExecuteTime": {
     "end_time": "2021-06-05T03:36:08.981518Z",
     "start_time": "2021-06-05T03:36:08.912607Z"
    }
   },
   "outputs": [
    {
     "name": "stdout",
     "output_type": "stream",
     "text": [
      "Cidx1           A           B      \n",
      "Cidx2           C     D     C     D\n",
      "Ridx1 Ridx2                        \n",
      "M     id_1   0.18 -0.46 -1.09  0.64\n",
      "      id_2  -0.39 -0.78  1.00 -1.93\n",
      "      id_3   0.25 -0.03 -0.14 -0.19\n",
      "F     id_1   0.45 -0.99 -0.23 -1.65\n",
      "      id_2  -0.64 -0.48  0.31 -0.78\n",
      "      id_3  -0.31 -0.37  1.12 -0.46\n",
      "-------------------------------------------\n",
      "Cidx2                 C     D\n",
      "Ridx1 Ridx2 Cidx1            \n",
      "M     id_1  A      0.18 -0.46\n",
      "            B     -1.09  0.64\n",
      "      id_2  A     -0.39 -0.78\n",
      "            B      1.00 -1.93\n",
      "      id_3  A      0.25 -0.03\n",
      "            B     -0.14 -0.19\n",
      "F     id_1  A      0.45 -0.99\n",
      "            B     -0.23 -1.65\n",
      "      id_2  A     -0.64 -0.48\n",
      "            B      0.31 -0.78\n",
      "      id_3  A     -0.31 -0.37\n",
      "            B      1.12 -0.46\n",
      "-------------------------------------------\n",
      "Cidx1                 A     B\n",
      "Ridx1 Ridx2 Cidx2            \n",
      "M     id_1  C      0.18 -1.09\n",
      "            D     -0.46  0.64\n",
      "      id_2  C     -0.39  1.00\n",
      "            D     -0.78 -1.93\n",
      "      id_3  C      0.25 -0.14\n",
      "            D     -0.03 -0.19\n",
      "F     id_1  C      0.45 -0.23\n",
      "            D     -0.99 -1.65\n",
      "      id_2  C     -0.64  0.31\n",
      "            D     -0.48 -0.78\n",
      "      id_3  C     -0.31  1.12\n",
      "            D     -0.37 -0.46\n",
      "-------------------------------------------\n",
      "Cidx1     A                                   B                              \n",
      "Cidx2     C                 D                 C                 D            \n",
      "Ridx2  id_1  id_2  id_3  id_1  id_2  id_3  id_1  id_2  id_3  id_1  id_2  id_3\n",
      "Ridx1                                                                        \n",
      "F      0.45 -0.64 -0.31 -0.99 -0.48 -0.37 -0.23  0.31  1.12 -1.65 -0.78 -0.46\n",
      "M      0.18 -0.39  0.25 -0.46 -0.78 -0.03 -1.09  1.00 -0.14  0.64 -1.93 -0.19\n",
      "-------------------------------------------\n",
      "Cidx1     A                                   B                              \n",
      "Cidx2     C                 D                 C                 D            \n",
      "Ridx2  id_1  id_2  id_3  id_1  id_2  id_3  id_1  id_2  id_3  id_1  id_2  id_3\n",
      "Ridx1                                                                        \n",
      "F      0.45 -0.64 -0.31 -0.99 -0.48 -0.37 -0.23  0.31  1.12 -1.65 -0.78 -0.46\n",
      "M      0.18 -0.39  0.25 -0.46 -0.78 -0.03 -1.09  1.00 -0.14  0.64 -1.93 -0.19\n"
     ]
    }
   ],
   "source": [
    "import pandas as pd\n",
    "import numpy as np\n",
    "df4 = pd.DataFrame(np.round(np.random.randn(6, 4), 2),\n",
    "columns=[[\"A\", \"A\", \"B\", \"B\"], [\"C\", \"D\", \"C\", \"D\"]],\n",
    "index=[[\"M\", \"M\", \"M\", \"F\", \"F\", \"F\"], [\"id_\" + str(i + 1) for i in range(3)] * 2])\n",
    "df4.columns.names = [\"Cidx1\", \"Cidx2\"]\n",
    "df4.index.names = [\"Ridx1\", \"Ridx2\"]\n",
    "print(df4)\n",
    "print(\"-------------------------------------------\")\n",
    "df=df4.stack(\"Cidx1\")\n",
    "print(df)\n",
    "print(\"-------------------------------------------\")\n",
    "df= df4.stack(1)\n",
    "print(df)\n",
    "print(\"-------------------------------------------\")\n",
    "df= df4.unstack(\"Ridx2\")\n",
    "print(df)\n",
    "print(\"-------------------------------------------\")\n",
    "df4.unstack(0)\n",
    "print(df)\n"
   ]
  },
  {
   "cell_type": "code",
   "execution_count": 45,
   "id": "surrounded-community",
   "metadata": {
    "ExecuteTime": {
     "end_time": "2021-06-05T03:36:10.884995Z",
     "start_time": "2021-06-05T03:36:10.817255Z"
    }
   },
   "outputs": [
    {
     "name": "stdout",
     "output_type": "stream",
     "text": [
      "Cidx1           A           B      \n",
      "Cidx2           C     D     C     D\n",
      "Ridx1 Ridx2                        \n",
      "M     id_1   0.43 -0.03  1.48  0.65\n",
      "      id_2  -0.36 -0.68 -0.35 -0.74\n",
      "      id_3  -0.68 -0.13  0.62  1.79\n",
      "F     id_1   0.17 -1.73  0.16 -0.86\n",
      "      id_2  -0.21  0.49 -0.84  0.38\n",
      "      id_3  -0.99  1.02  0.34 -1.25\n",
      "-------------------------------------------\n",
      "Cidx2                 C     D\n",
      "Ridx1 Ridx2 Cidx1            \n",
      "M     id_1  A      0.43 -0.03\n",
      "            B      1.48  0.65\n",
      "      id_2  A     -0.36 -0.68\n",
      "            B     -0.35 -0.74\n",
      "      id_3  A     -0.68 -0.13\n",
      "            B      0.62  1.79\n",
      "F     id_1  A      0.17 -1.73\n",
      "            B      0.16 -0.86\n",
      "      id_2  A     -0.21  0.49\n",
      "            B     -0.84  0.38\n",
      "      id_3  A     -0.99  1.02\n",
      "            B      0.34 -1.25\n",
      "-------------------------------------------\n",
      "Cidx1                 A     B\n",
      "Ridx1 Ridx2 Cidx2            \n",
      "M     id_1  C      0.43  1.48\n",
      "            D     -0.03  0.65\n",
      "      id_2  C     -0.36 -0.35\n",
      "            D     -0.68 -0.74\n",
      "      id_3  C     -0.68  0.62\n",
      "            D     -0.13  1.79\n",
      "F     id_1  C      0.17  0.16\n",
      "            D     -1.73 -0.86\n",
      "      id_2  C     -0.21 -0.84\n",
      "            D      0.49  0.38\n",
      "      id_3  C     -0.99  0.34\n",
      "            D      1.02 -1.25\n",
      "-------------------------------------------\n",
      "Cidx1     A                                   B                              \n",
      "Cidx2     C                 D                 C                 D            \n",
      "Ridx2  id_1  id_2  id_3  id_1  id_2  id_3  id_1  id_2  id_3  id_1  id_2  id_3\n",
      "Ridx1                                                                        \n",
      "F      0.17 -0.21 -0.99 -1.73  0.49  1.02  0.16 -0.84  0.34 -0.86  0.38 -1.25\n",
      "M      0.43 -0.36 -0.68 -0.03 -0.68 -0.13  1.48 -0.35  0.62  0.65 -0.74  1.79\n",
      "-------------------------------------------\n",
      "Cidx1     A                                   B                              \n",
      "Cidx2     C                 D                 C                 D            \n",
      "Ridx2  id_1  id_2  id_3  id_1  id_2  id_3  id_1  id_2  id_3  id_1  id_2  id_3\n",
      "Ridx1                                                                        \n",
      "F      0.17 -0.21 -0.99 -1.73  0.49  1.02  0.16 -0.84  0.34 -0.86  0.38 -1.25\n",
      "M      0.43 -0.36 -0.68 -0.03 -0.68 -0.13  1.48 -0.35  0.62  0.65 -0.74  1.79\n"
     ]
    }
   ],
   "source": [
    "import pandas as pd\n",
    "import numpy as np\n",
    "df4 = pd.DataFrame(np.round(np.random.randn(6, 4), 2),\n",
    "columns=[[\"A\", \"A\", \"B\", \"B\"], [\"C\", \"D\", \"C\", \"D\"]],\n",
    "index=[[\"M\", \"M\", \"M\", \"F\", \"F\", \"F\"], [\"id_\" + str(i + 1) for i in range(3)] * 2])\n",
    "df4.columns.names = [\"Cidx1\", \"Cidx2\"]\n",
    "df4.index.names = [\"Ridx1\", \"Ridx2\"]\n",
    "print(df4)            #그냥 df4\n",
    "print(\"-------------------------------------------\")\n",
    "df=df4.stack(\"Cidx1\")   #cdx1교차됨\n",
    "print(df)\n",
    "print(\"-------------------------------------------\")\n",
    "df= df4.stack(1)     #2번째 열인 cdx2교차됨\n",
    "print(df)\n",
    "print(\"-------------------------------------------\")\n",
    "df= df4.unstack(\"Ridx2\")\n",
    "print(df)\n",
    "print(\"-------------------------------------------\")\n",
    "df4.unstack(0)\n",
    "print(df)"
   ]
  },
  {
   "cell_type": "code",
   "execution_count": 46,
   "id": "affected-ribbon",
   "metadata": {
    "ExecuteTime": {
     "end_time": "2021-06-05T03:36:19.134783Z",
     "start_time": "2021-06-05T03:36:19.117578Z"
    }
   },
   "outputs": [],
   "source": [
    "import pandas as pd\n",
    "import numpy as np\n",
    "np.random.seed(0)\n",
    "df3 = pd.DataFrame(np.round(np.random.randn(5, 4), 2),\n",
    "columns=[[\"A\", \"A\", \"B\", \"B\"], [\"C1\", \"C2\", \"C1\", \"C2\"]])\n",
    "\n",
    "df3.loc[0, (\"B\", \"C1\")] = 100\n"
   ]
  },
  {
   "cell_type": "code",
   "execution_count": 47,
   "id": "organized-continuity",
   "metadata": {
    "ExecuteTime": {
     "end_time": "2021-06-05T03:36:21.914433Z",
     "start_time": "2021-06-05T03:36:21.881741Z"
    }
   },
   "outputs": [
    {
     "name": "stdout",
     "output_type": "stream",
     "text": [
      "      A           B      \n",
      "     C1    C2    C1    C2\n",
      "0  1.76  0.40  0.98  2.24\n",
      "1  1.87 -0.98  0.95 -0.15\n",
      "2 -0.10  0.41  0.14  1.45\n",
      "3  0.76  0.12  0.44  0.33\n",
      "4  1.49 -0.21  0.31 -0.85\n",
      "-------------------------------------------\n",
      "0    0.98\n",
      "1    0.95\n",
      "2    0.14\n",
      "3    0.44\n",
      "4    0.31\n",
      "Name: (B, C1), dtype: float64\n",
      "-------------------------------------------\n",
      "0.98\n",
      "-------------------------------------------\n",
      "      A             B      \n",
      "     C1    C2      C1    C2\n",
      "0  1.76  0.40  100.00  2.24\n",
      "1  1.87 -0.98    0.95 -0.15\n",
      "2 -0.10  0.41    0.14  1.45\n",
      "3  0.76  0.12    0.44  0.33\n",
      "4  1.49 -0.21    0.31 -0.85\n",
      "-------------------------------------------\n",
      "     C1    C2\n",
      "0  1.76  0.40\n",
      "1  1.87 -0.98\n",
      "2 -0.10  0.41\n",
      "3  0.76  0.12\n",
      "4  1.49 -0.21\n"
     ]
    }
   ],
   "source": [
    "import pandas as pd\n",
    "import numpy as np\n",
    "np.random.seed(0)\n",
    "df3 = pd.DataFrame(np.round(np.random.randn(5, 4), 2),\n",
    "columns=[[\"A\", \"A\", \"B\", \"B\"], [\"C1\", \"C2\", \"C1\", \"C2\"]])\n",
    "print(df3)\n",
    "print(\"-------------------------------------------\")\n",
    "print(df3[(\"B\", \"C1\")])  #c1, c2중 가장 상위인 c1만 출력\n",
    "print(\"-------------------------------------------\")\n",
    "print(df3.loc[0, (\"B\", \"C1\")])\n",
    "print(\"-------------------------------------------\")\n",
    "df3.loc[0, (\"B\", \"C1\")] = 100  #0, (\"B\", \"C1\") 에 100 지정\n",
    "print(df3)\n",
    "print(\"-------------------------------------------\")\n",
    "print(df3['A'])"
   ]
  },
  {
   "cell_type": "code",
   "execution_count": 48,
   "id": "presidential-inspector",
   "metadata": {
    "ExecuteTime": {
     "end_time": "2021-06-05T03:36:23.122249Z",
     "start_time": "2021-06-05T03:36:23.041889Z"
    }
   },
   "outputs": [
    {
     "name": "stdout",
     "output_type": "stream",
     "text": [
      "Cidx1           A           B      \n",
      "Cidx2           C     D     C     D\n",
      "Ridx1 Ridx2                        \n",
      "M     id_1  -2.55  0.65  0.86 -0.74\n",
      "      id_2   2.27 -1.45  0.05 -0.19\n",
      "      id_3   1.53  1.47  0.15  0.38\n",
      "F     id_1  -0.89 -1.98 -0.35  0.16\n",
      "      id_2   1.23  1.20 -0.39 -0.30\n",
      "      id_3  -1.05 -1.42 -1.71  1.95\n",
      "-------------------------------------------\n",
      "-2.55\n",
      "-------------------------------------------\n",
      "Ridx1  Ridx2\n",
      "M      id_1    -2.55\n",
      "       id_2     2.27\n",
      "       id_3     1.53\n",
      "F      id_1    -0.89\n",
      "       id_2     1.23\n",
      "       id_3    -1.05\n",
      "Name: (A, C), dtype: float64\n",
      "-------------------------------------------\n",
      "Cidx1           A           B      \n",
      "Cidx2           C     D     C     D\n",
      "Ridx1 Ridx2                        \n",
      "M     id_1  -2.55  0.65  0.86 -0.74\n",
      "      id_2   2.27 -1.45  0.05 -0.19\n",
      "      id_3   1.53  1.47  0.15  0.38\n",
      "F     id_1  -0.89 -1.98 -0.35  0.16\n",
      "      id_2   1.23  1.20 -0.39 -0.30\n",
      "      id_3  -1.05 -1.42 -1.71  1.95\n",
      "-------------------------------------------\n",
      "Cidx1     A           B      \n",
      "Cidx2     C     D     C     D\n",
      "Ridx2                        \n",
      "id_1  -2.55  0.65  0.86 -0.74\n",
      "id_2   2.27 -1.45  0.05 -0.19\n",
      "id_3   1.53  1.47  0.15  0.38\n",
      "-------------------------------------------\n",
      "Cidx1           A           B      \n",
      "Cidx2           C     D     C     D\n",
      "Ridx1 Ridx2                        \n",
      "M     id_1  -2.55  0.65  0.86 -0.74\n",
      "      id_2   2.27 -1.45  0.05 -0.19\n",
      "      id_3   1.53  1.47  0.15  0.38\n",
      "-------------------------------------------\n",
      "Cidx1           A           B      \n",
      "Cidx2           C     D     C     D\n",
      "Ridx1 Ridx2                        \n",
      "M     id_1  -2.55  0.65  0.86 -0.74\n",
      "F     id_1  -0.89 -1.98 -0.35  0.16\n",
      "-------------------------------------------\n",
      "Cidx1           A           B      \n",
      "Cidx2           C     D     C     D\n",
      "Ridx1 Ridx2                        \n",
      "M     id_1  -2.55  0.65  0.86 -0.74\n",
      "      id_2   2.27 -1.45  0.05 -0.19\n",
      "      id_3   1.53  1.47  0.15  0.38\n",
      "F     id_1  -0.89 -1.98 -0.35  0.16\n",
      "      id_2   1.23  1.20 -0.39 -0.30\n",
      "      id_3  -1.05 -1.42 -1.71  1.95\n",
      "All   All    0.54 -1.53 -1.39  1.26\n"
     ]
    }
   ],
   "source": [
    "import pandas as pd\n",
    "import numpy as np\n",
    "df4 = pd.DataFrame(np.round(np.random.randn(6, 4), 2),\n",
    "columns=[[\"A\", \"A\", \"B\", \"B\"], [\"C\", \"D\", \"C\", \"D\"]],\n",
    "index=[[\"M\", \"M\", \"M\", \"F\", \"F\", \"F\"], [\"id_\" + str(i + 1) for i in range(3)] * 2])\n",
    "df4.columns.names = [\"Cidx1\", \"Cidx2\"]\n",
    "df4.index.names = [\"Ridx1\", \"Ridx2\"]\n",
    "\n",
    "print(df4)\n",
    "print(\"-------------------------------------------\")\n",
    "print(df4.loc[(\"M\", \"id_1\"), (\"A\", \"C\")])\n",
    "print(\"-------------------------------------------\")\n",
    "print(df4.loc[:, (\"A\", \"C\")])\n",
    "print(\"-------------------------------------------\")\n",
    "print(df4)\n",
    "print(\"-------------------------------------------\")\n",
    "print(df4.loc[\"M\"])\n",
    "print(\"-------------------------------------------\")\n",
    "print(df4.loc[(\"M\", slice(None)), :])\n",
    "print(\"-------------------------------------------\")\n",
    "print(df4.loc[(slice(None), \"id_1\"), :])\n",
    "print(\"-------------------------------------------\")\n",
    "df4.loc[(\"All\", \"All\"), :] = df4.sum()\n",
    "print(df4)"
   ]
  },
  {
   "cell_type": "code",
   "execution_count": 49,
   "id": "rising-conviction",
   "metadata": {
    "ExecuteTime": {
     "end_time": "2021-06-05T03:36:24.137589Z",
     "start_time": "2021-06-05T03:36:24.086415Z"
    }
   },
   "outputs": [
    {
     "name": "stdout",
     "output_type": "stream",
     "text": [
      "Cidx1           A           B      \n",
      "Cidx2           C     D     C     D\n",
      "Ridx1 Ridx2                        \n",
      "M     id_1  -0.51 -0.44 -1.25  0.78\n",
      "      id_2  -1.61 -0.21 -0.90  0.39\n",
      "      id_3  -0.51 -1.18 -0.03  0.43\n",
      "F     id_1   0.07  0.30 -0.63 -0.36\n",
      "      id_2  -0.67 -0.36 -0.81 -1.73\n",
      "      id_3   0.18 -0.40 -1.63  0.46\n",
      "-------------------------------------------\n",
      "Cidx1           A           B      \n",
      "Cidx2           C     D     C     D\n",
      "Ridx2 Ridx1                        \n",
      "id_1  M     -0.51 -0.44 -1.25  0.78\n",
      "id_2  M     -1.61 -0.21 -0.90  0.39\n",
      "id_3  M     -0.51 -1.18 -0.03  0.43\n",
      "id_1  F      0.07  0.30 -0.63 -0.36\n",
      "id_2  F     -0.67 -0.36 -0.81 -1.73\n",
      "id_3  F      0.18 -0.40 -1.63  0.46\n",
      "-------------------------------------------\n",
      "Cidx2           C     D     C     D\n",
      "Cidx1           A     A     B     B\n",
      "Ridx1 Ridx2                        \n",
      "M     id_1  -0.51 -0.44 -1.25  0.78\n",
      "      id_2  -1.61 -0.21 -0.90  0.39\n",
      "      id_3  -0.51 -1.18 -0.03  0.43\n",
      "F     id_1   0.07  0.30 -0.63 -0.36\n",
      "      id_2  -0.67 -0.36 -0.81 -1.73\n",
      "      id_3   0.18 -0.40 -1.63  0.46\n",
      "-------------------------------------------\n",
      "Cidx2           C           D      \n",
      "Cidx1           A     B     A     B\n",
      "Ridx1 Ridx2                        \n",
      "M     id_1  -0.51 -1.25 -0.44  0.78\n",
      "      id_2  -1.61 -0.90 -0.21  0.39\n",
      "      id_3  -0.51 -0.03 -1.18  0.43\n",
      "F     id_1   0.07 -0.63  0.30 -0.36\n",
      "      id_2  -0.67 -0.81 -0.36 -1.73\n",
      "      id_3   0.18 -1.63 -0.40  0.46\n",
      "-------------------------------------------\n",
      "Cidx1           A           B      \n",
      "Cidx2           C     D     C     D\n",
      "Ridx2 Ridx1                        \n",
      "id_1  F      0.07  0.30 -0.63 -0.36\n",
      "      M     -0.51 -0.44 -1.25  0.78\n",
      "id_2  F     -0.67 -0.36 -0.81 -1.73\n",
      "      M     -1.61 -0.21 -0.90  0.39\n",
      "id_3  F      0.18 -0.40 -1.63  0.46\n",
      "      M     -0.51 -1.18 -0.03  0.43\n",
      "-------------------------------------------\n",
      "-------------------------------------------\n",
      "-------------------------------------------\n"
     ]
    }
   ],
   "source": [
    "import pandas as pd\n",
    "import numpy as np\n",
    "df4 = pd.DataFrame(np.round(np.random.randn(6, 4), 2),\n",
    "columns=[[\"A\", \"A\", \"B\", \"B\"], [\"C\", \"D\", \"C\", \"D\"]],\n",
    "index=[[\"M\", \"M\", \"M\", \"F\", \"F\", \"F\"], [\"id_\" + str(i + 1) for i in range(3)] * 2])\n",
    "df4.columns.names = [\"Cidx1\", \"Cidx2\"]\n",
    "df4.index.names = [\"Ridx1\", \"Ridx2\"]\n",
    "\n",
    "print(df4)\n",
    "print(\"-------------------------------------------\")\n",
    "df5 = df4.swaplevel(\"Ridx1\", \"Ridx2\")\n",
    "print(df5)\n",
    "print(\"-------------------------------------------\")\n",
    "df6 = df4.swaplevel(\"Cidx1\", \"Cidx2\", 1)\n",
    "print(df6)\n",
    "print(\"-------------------------------------------\")\n",
    "print(df6.sort_index(axis=1, level=0)) \n",
    "print(\"-------------------------------------------\")\n",
    "print(df5.sort_index(level=0))\n",
    "\n",
    "print(\"-------------------------------------------\")\n",
    "print(\"-------------------------------------------\")\n",
    "print(\"-------------------------------------------\")"
   ]
  },
  {
   "cell_type": "code",
   "execution_count": 50,
   "id": "collect-credits",
   "metadata": {
    "ExecuteTime": {
     "end_time": "2021-06-05T03:36:26.370243Z",
     "start_time": "2021-06-05T03:36:26.303227Z"
    },
    "scrolled": false
   },
   "outputs": [
    {
     "name": "stdout",
     "output_type": "stream",
     "text": [
      "   고객번호   이름\n",
      "0  1001   둘리\n",
      "1  1002  도우너\n",
      "2  1003   또치\n",
      "3  1004   길동\n",
      "4  1005   희동\n",
      "5  1006  마이콜\n",
      "6  1007   영희\n",
      "-------------------------------------------\n",
      "   고객번호      금액\n",
      "0  1001   10000\n",
      "1  1001   20000\n",
      "2  1005   15000\n",
      "3  1006    5000\n",
      "4  1008  100000\n",
      "5  1001   30000\n",
      "-------------------------------------------\n",
      "   고객번호   이름     금액\n",
      "0  1001   둘리  10000\n",
      "1  1001   둘리  20000\n",
      "2  1001   둘리  30000\n",
      "3  1005   희동  15000\n",
      "4  1006  마이콜   5000\n",
      "-------------------------------------------\n",
      "   고객번호   이름        금액\n",
      "0  1001   둘리   10000.0\n",
      "1  1001   둘리   20000.0\n",
      "2  1001   둘리   30000.0\n",
      "3  1002  도우너       NaN\n",
      "4  1003   또치       NaN\n",
      "5  1004   길동       NaN\n",
      "6  1005   희동   15000.0\n",
      "7  1006  마이콜    5000.0\n",
      "8  1007   영희       NaN\n",
      "9  1008  NaN  100000.0\n",
      "-------------------------------------------\n",
      "   고객번호   이름       금액\n",
      "0  1001   둘리  10000.0\n",
      "1  1001   둘리  20000.0\n",
      "2  1001   둘리  30000.0\n",
      "3  1002  도우너      NaN\n",
      "4  1003   또치      NaN\n",
      "5  1004   길동      NaN\n",
      "6  1005   희동  15000.0\n",
      "7  1006  마이콜   5000.0\n",
      "8  1007   영희      NaN\n",
      "-------------------------------------------\n",
      "   고객번호   이름      금액\n",
      "0  1001   둘리   10000\n",
      "1  1001   둘리   20000\n",
      "2  1005   희동   15000\n",
      "3  1006  마이콜    5000\n",
      "4  1008  NaN  100000\n",
      "5  1001   둘리   30000\n"
     ]
    }
   ],
   "source": [
    "import pandas as pd\n",
    "df1 = pd.DataFrame({ '고객번호': [1001, 1002, 1003, 1004, 1005, 1006, 1007], '이름': ['둘리', '도우너', '또치', '길동', '희동', '마이콜', '영희']\n",
    "}, columns=['고객번호', '이름'])\n",
    "print(df1)\n",
    "df2 = pd.DataFrame({ '고객번호': [1001, 1001, 1005, 1006, 1008, 1001], '금액': [10000, 20000, 15000, 5000, 100000, 30000]\n",
    "}, columns=['고객번호', '금액'])\n",
    "print(\"-------------------------------------------\")\n",
    "print(df2)\n",
    "print(\"-------------------------------------------\")\n",
    "print(pd.merge(df1, df2))\n",
    "print(\"-------------------------------------------\")\n",
    "print(pd.merge(df1, df2, how='outer'))\n",
    "print(\"-------------------------------------------\")\n",
    "print(pd.merge(df1, df2, how='left'))\n",
    "print(\"-------------------------------------------\")\n",
    "print(pd.merge(df1, df2, how='right'))"
   ]
  },
  {
   "cell_type": "code",
   "execution_count": 51,
   "id": "rough-glenn",
   "metadata": {
    "ExecuteTime": {
     "end_time": "2021-06-05T03:36:26.880348Z",
     "start_time": "2021-06-05T03:36:26.822342Z"
    }
   },
   "outputs": [
    {
     "name": "stdout",
     "output_type": "stream",
     "text": [
      "          품종  꽃잎길이\n",
      "0     setosa   1.4\n",
      "1     setosa   1.3\n",
      "2  virginica   1.5\n",
      "3  virginica   1.3\n",
      "-------------------------------------------\n",
      "           품종  꽃잎너비\n",
      "0      setosa   0.4\n",
      "1   virginica   0.3\n",
      "2   virginica   0.5\n",
      "3  versicolor   0.3\n",
      "-------------------------------------------\n",
      "          품종  꽃잎길이  꽃잎너비\n",
      "0     setosa   1.4   0.4\n",
      "1     setosa   1.3   0.4\n",
      "2  virginica   1.5   0.3\n",
      "3  virginica   1.5   0.5\n",
      "4  virginica   1.3   0.3\n",
      "5  virginica   1.3   0.5\n",
      "-------------------------------------------\n",
      "  고객명          날짜     데이터\n",
      "0  춘향  2018-01-01   20000\n",
      "1  춘향  2018-01-02   30000\n",
      "2  몽룡  2018-01-01  100000\n",
      "-------------------------------------------\n",
      "  고객명 데이터\n",
      "0  춘향  여자\n",
      "1  몽룡  남자\n",
      "-------------------------------------------\n",
      "  고객명          날짜   데이터_x 데이터_y\n",
      "0  춘향  2018-01-01   20000    여자\n",
      "1  춘향  2018-01-02   30000    여자\n",
      "2  몽룡  2018-01-01  100000    남자\n",
      "-------------------------------------------\n",
      "-------------------------------------------\n",
      "-------------------------------------------\n",
      "-------------------------------------------\n"
     ]
    }
   ],
   "source": [
    "import pandas as pd\n",
    "df1 = pd.DataFrame({\n",
    "'품종': ['setosa', 'setosa', 'virginica', 'virginica'], '꽃잎길이': [1.4, 1.3, 1.5, 1.3]},\n",
    "columns=['품종', '꽃잎길이'])\n",
    "print(df1)\n",
    "df2 = pd.DataFrame({\n",
    "'품종': ['setosa', 'virginica', 'virginica', 'versicolor'], '꽃잎너비': [0.4, 0.3, 0.5, 0.3]},\n",
    "columns=['품종', '꽃잎너비'])\n",
    "print(\"-------------------------------------------\")\n",
    "print(df2)\n",
    "print(\"-------------------------------------------\")\n",
    "print(pd.merge(df1, df2))\n",
    "print(\"-------------------------------------------\")\n",
    "import pandas as pd\n",
    "df1 = pd.DataFrame({\n",
    "'고객명': ['춘향', '춘향', '몽룡'], '날짜': ['2018-01-01', '2018-01-02', '2018-01-01'], '데이터': ['20000', '30000', '100000']})\n",
    "print(df1)\n",
    "df2 = pd.DataFrame({\n",
    "'고객명': ['춘향', '몽룡'], '데이터': ['여자', '남자']})\n",
    "print(\"-------------------------------------------\")\n",
    "print(df2)\n",
    "print(\"-------------------------------------------\")\n",
    "print(pd.merge(df1, df2, on='고객명'))\n",
    "print(\"-------------------------------------------\")\n",
    "print(\"-------------------------------------------\")\n",
    "print(\"-------------------------------------------\")\n",
    "print(\"-------------------------------------------\")"
   ]
  },
  {
   "cell_type": "code",
   "execution_count": 52,
   "id": "military-airport",
   "metadata": {
    "ExecuteTime": {
     "end_time": "2021-06-05T03:36:27.840036Z",
     "start_time": "2021-06-05T03:36:27.816305Z"
    }
   },
   "outputs": [
    {
     "name": "stdout",
     "output_type": "stream",
     "text": [
      "   이름  성적\n",
      "0  영희   1\n",
      "1  철수   2\n",
      "2  철수   3\n",
      "   성명  성적2\n",
      "0  영희    4\n",
      "1  영희    5\n",
      "2  철수    6\n",
      "   이름  성적  성명  성적2\n",
      "0  영희   1  영희    4\n",
      "1  영희   1  영희    5\n",
      "2  철수   2  철수    6\n",
      "3  철수   3  철수    6\n"
     ]
    }
   ],
   "source": [
    "import pandas as pd\n",
    "import numpy as np\n",
    "df1 = pd.DataFrame({ '이름': ['영희', '철수', '철수'], '성적': [1, 2, 3]} )\n",
    "print(df1)\n",
    "df2 = pd.DataFrame({ '성명': ['영희', '영희', '철수'], '성적2': [4, 5, 6]} )\n",
    "print(df2)\n",
    "print(pd.merge(df1, df2, left_on='이름', right_on='성명'))"
   ]
  },
  {
   "cell_type": "code",
   "execution_count": 53,
   "id": "short-psychology",
   "metadata": {
    "ExecuteTime": {
     "end_time": "2021-06-05T03:36:35.101539Z",
     "start_time": "2021-06-05T03:36:35.068097Z"
    }
   },
   "outputs": [
    {
     "name": "stdout",
     "output_type": "stream",
     "text": [
      "   도시    연도       인구\n",
      "0  서울  2000  9853972\n",
      "1  서울  2005  9762546\n",
      "2  서울  2010  9631482\n",
      "3  부산  2000  3655437\n",
      "4  부산  2005  3512547\n",
      "-------------------------------------------\n",
      "         데이터1  데이터2\n",
      "부산 2000     0     1\n",
      "   2005     2     3\n",
      "서울 2000     4     5\n",
      "   2005     6     7\n",
      "   2010     8     9\n",
      "   2015    10    11\n",
      "-------------------------------------------\n",
      "   도시    연도       인구  데이터1  데이터2\n",
      "0  서울  2000  9853972     4     5\n",
      "1  서울  2005  9762546     6     7\n",
      "2  서울  2010  9631482     8     9\n",
      "3  부산  2000  3655437     0     1\n",
      "4  부산  2005  3512547     2     3\n"
     ]
    }
   ],
   "source": [
    "df1 = pd.DataFrame({ '도시': ['서울', '서울', '서울', '부산', '부산'], '연도': [2000, 2005, 2010, 2000, 2005], '인구': [9853972, 9762546, 9631482, 3655437, 3512547]})\n",
    "print(df1)\n",
    "print(\"-------------------------------------------\")\n",
    "df2 = pd.DataFrame( np.arange(12).reshape((6, 2)),\n",
    "index=[['부산', '부산', '서울', '서울', '서울', '서울'],\n",
    "[2000, 2005, 2000, 2005, 2010, 2015]],\n",
    "columns=['데이터1', '데이터2'])\n",
    "print(df2)\n",
    "print(\"-------------------------------------------\")\n",
    "print(pd.merge(df1, df2, left_on=['도시', '연도'], right_index=True))"
   ]
  },
  {
   "cell_type": "code",
   "execution_count": 54,
   "id": "liquid-latin",
   "metadata": {
    "ExecuteTime": {
     "end_time": "2021-06-05T03:36:35.936918Z",
     "start_time": "2021-06-05T03:36:35.903253Z"
    }
   },
   "outputs": [
    {
     "name": "stdout",
     "output_type": "stream",
     "text": [
      "    서울   부산\n",
      "a  1.0  2.0\n",
      "c  3.0  4.0\n",
      "e  5.0  6.0\n",
      "-------------------------------------------\n",
      "     대구    광주\n",
      "b   7.0   8.0\n",
      "c   9.0  10.0\n",
      "d  11.0  12.0\n",
      "e  13.0  14.0\n",
      "-------------------------------------------\n",
      "    서울   부산    대구    광주\n",
      "a  1.0  2.0   NaN   NaN\n",
      "b  NaN  NaN   7.0   8.0\n",
      "c  3.0  4.0   9.0  10.0\n",
      "d  NaN  NaN  11.0  12.0\n",
      "e  5.0  6.0  13.0  14.0\n",
      "-------------------------------------------\n",
      "    서울   부산    대구    광주\n",
      "a  1.0  2.0   NaN   NaN\n",
      "b  NaN  NaN   7.0   8.0\n",
      "c  3.0  4.0   9.0  10.0\n",
      "d  NaN  NaN  11.0  12.0\n",
      "e  5.0  6.0  13.0  14.0\n"
     ]
    }
   ],
   "source": [
    "import pandas as pd\n",
    "import numpy as np\n",
    "df1 = pd.DataFrame(\n",
    "[[1., 2.], [3., 4.], [5., 6.]],\n",
    "index=['a', 'c', 'e'],\n",
    "columns=['서울', '부산'])\n",
    "print(df1)\n",
    "print(\"-------------------------------------------\")\n",
    "df2 = pd.DataFrame(\n",
    "[[7., 8.], [9., 10.], [11., 12.], [13, 14]],\n",
    "index=['b', 'c', 'd', 'e'],\n",
    "columns=['대구', '광주'])\n",
    "print(df2)\n",
    "print(\"-------------------------------------------\")\n",
    "print(pd.merge(df1, df2, how='outer', left_index=True, right_index=True))\n",
    "print(\"-------------------------------------------\")\n",
    "print(df1.join(df2, how='outer')) "
   ]
  },
  {
   "cell_type": "code",
   "execution_count": 55,
   "id": "western-fraud",
   "metadata": {
    "ExecuteTime": {
     "end_time": "2021-06-05T03:36:36.701208Z",
     "start_time": "2021-06-05T03:36:36.660970Z"
    },
    "scrolled": false
   },
   "outputs": [
    {
     "name": "stdout",
     "output_type": "stream",
     "text": [
      "A    0\n",
      "B    1\n",
      "dtype: int64\n",
      "-------------------------------------------\n",
      "A    2\n",
      "B    3\n",
      "C    4\n",
      "dtype: int64\n",
      "-------------------------------------------\n",
      "A    0\n",
      "B    1\n",
      "A    2\n",
      "B    3\n",
      "C    4\n",
      "dtype: int64\n",
      "-------------------------------------------\n",
      "   데이터1  데이터2\n",
      "a     0     1\n",
      "b     2     3\n",
      "c     4     5\n",
      "-------------------------------------------\n",
      "   데이터3  데이터4\n",
      "a     5     6\n",
      "c     7     8\n",
      "-------------------------------------------\n",
      "   데이터1  데이터2  데이터3  데이터4\n",
      "a     0     1   5.0   6.0\n",
      "b     2     3   NaN   NaN\n",
      "c     4     5   7.0   8.0\n"
     ]
    }
   ],
   "source": [
    "import pandas as pd\n",
    "s1 = pd.Series([0, 1], index=['A', 'B'])\n",
    "s2 = pd.Series([2, 3, 4], index=['A', 'B', 'C'])\n",
    "print(s1)\n",
    "print(\"-------------------------------------------\")\n",
    "print(s2)\n",
    "print(\"-------------------------------------------\")\n",
    "print(pd.concat([s1, s2]))\n",
    "print(\"-------------------------------------------\")\n",
    "df1 = pd.DataFrame( np.arange(6).reshape(3, 2), index=['a', 'b', 'c'], columns=['데이터1', '데이터2'])\n",
    "print(df1)\n",
    "print(\"-------------------------------------------\")\n",
    "df2 = pd.DataFrame( 5 + np.arange(4).reshape(2, 2), index=['a', 'c'], columns=['데이터3', '데이터4'])\n",
    "print(df2) \n",
    "print(\"-------------------------------------------\")\n",
    "print(pd.concat([df1, df2], axis=1))"
   ]
  },
  {
   "cell_type": "code",
   "execution_count": 56,
   "id": "noticed-chicken",
   "metadata": {
    "ExecuteTime": {
     "end_time": "2021-06-05T03:36:37.333179Z",
     "start_time": "2021-06-05T03:36:37.284589Z"
    }
   },
   "outputs": [
    {
     "name": "stdout",
     "output_type": "stream",
     "text": [
      "   도시    연도       인구   지역\n",
      "0  서울  2015  9904312  수도권\n",
      "1  서울  2010  9631482  수도권\n",
      "2  서울  2005  9762546  수도권\n",
      "3  부산  2015  3448737  경상권\n",
      "4  부산  2010  3393191  경상권\n",
      "5  부산  2005  3512547  경상권\n",
      "6  인천  2015  2890451  수도권\n",
      "7  인천  2010   263203  수도권\n",
      "-------------------------------------------\n",
      "연도       2005       2010       2015\n",
      "도시                                 \n",
      "부산  3512547.0  3393191.0  3448737.0\n",
      "서울  9762546.0  9631482.0  9904312.0\n",
      "인천        NaN   263203.0  2890451.0\n",
      "-------------------------------------------\n",
      "           인구                      \n",
      "연도       2005       2010       2015\n",
      "도시                                 \n",
      "부산  3512547.0  3393191.0  3448737.0\n",
      "서울  9762546.0  9631482.0  9904312.0\n",
      "인천        NaN   263203.0  2890451.0\n"
     ]
    }
   ],
   "source": [
    "import pandas as pd\n",
    "data = { \"도시\": [\"서울\", \"서울\", \"서울\", \"부산\", \"부산\", \"부산\", \"인천\", \"인천\"], \"연도\": [\"2015\", \"2010\", \"2005\", \"2015\", \"2010\", \"2005\", \"2015\", \"2010\"], \"인구\": [9904312, 9631482, 9762546, 3448737, 3393191, 3512547, 2890451, 263203], \"지역\": [\"수도권\", \"수도권\", \"수도권\", \"경상권\", \"경상권\", \"경상권\", \"수도권\", \"수도권\"]\n",
    "}\n",
    "columns = [\"도시\", \"연도\", \"인구\", \"지역\"]\n",
    "df1 = pd.DataFrame(data, columns=columns)\n",
    "print(df1)\n",
    "print(\"-------------------------------------------\")\n",
    "#행 인덱스 인수로는 \"도시\", 열 인덱스 인수로는 \"연도\", 데이터 이름으로 \"인구\"를 입력\n",
    "print(df1.pivot(\"도시\", \"연도\", \"인구\"))\n",
    "print(\"-------------------------------------------\")\n",
    "#피봇테이블은 set_index 명령과 unstack 명령을 사용해서 만들 수도 있다. \n",
    "print(df1.set_index([\"도시\", \"연도\"])[[\"인구\"]].unstack())"
   ]
  },
  {
   "cell_type": "code",
   "execution_count": 57,
   "id": "bottom-excess",
   "metadata": {
    "ExecuteTime": {
     "end_time": "2021-06-05T03:36:38.200123Z",
     "start_time": "2021-06-05T03:36:38.165342Z"
    }
   },
   "outputs": [
    {
     "name": "stdout",
     "output_type": "stream",
     "text": [
      "   도시    연도       인구   지역\n",
      "0  서울  2015  9904312  수도권\n",
      "1  서울  2010  9631482  수도권\n",
      "2  서울  2005  9762546  수도권\n",
      "3  부산  2015  3448737  경상권\n",
      "4  부산  2010  3393191  경상권\n",
      "5  부산  2005  3512547  경상권\n",
      "6  인천  2015  2890451  수도권\n",
      "7  인천  2010   263203  수도권\n",
      "연도           2005       2010       2015\n",
      "지역  도시                                 \n",
      "경상권 부산  3512547.0  3393191.0  3448737.0\n",
      "수도권 서울  9762546.0  9631482.0  9904312.0\n",
      "    인천        NaN   263203.0  2890451.0\n",
      "-------------------------------------------\n",
      "ValueError: Index contains duplicate entries, cannot reshape\n"
     ]
    }
   ],
   "source": [
    "import pandas as pd\n",
    "data = { \"도시\": [\"서울\", \"서울\", \"서울\", \"부산\", \"부산\", \"부산\", \"인천\", \"인천\"], \"연도\": [\"2015\", \"2010\", \"2005\", \"2015\", \"2010\", \"2005\", \"2015\", \"2010\"], \"인구\": [9904312, 9631482, 9762546, 3448737, 3393191, 3512547, 2890451, 263203], \"지역\": [\"수도권\", \"수도권\", \"수도권\", \"경상권\", \"경상권\", \"경상권\", \"수도권\", \"수도권\"]\n",
    "}\n",
    "columns = [\"도시\", \"연도\", \"인구\", \"지역\"]\n",
    "df1 = pd.DataFrame(data, columns=columns)\n",
    "print(df1)\n",
    "print(df1.pivot([\"지역\", \"도시\"], \"연도\", \"인구\"))\n",
    "print(\"-------------------------------------------\")\n",
    "try:\n",
    "    df1.pivot(\"지역\", \"연도\", \"인구\")\n",
    "except ValueError as e:\n",
    "    print(\"ValueError:\", e)"
   ]
  },
  {
   "cell_type": "code",
   "execution_count": 58,
   "id": "electrical-rental",
   "metadata": {
    "ExecuteTime": {
     "end_time": "2021-06-05T03:36:38.608338Z",
     "start_time": "2021-06-05T03:36:38.560300Z"
    }
   },
   "outputs": [
    {
     "name": "stdout",
     "output_type": "stream",
     "text": [
      "  key1 key2  data1  data2\n",
      "0    A  one      1     10\n",
      "1    A  two      2     20\n",
      "2    B  one      3     30\n",
      "3    B  two      4     40\n",
      "4    A  one      5     50\n",
      "-------------------------------------------\n",
      "<pandas.core.groupby.generic.DataFrameGroupBy object at 0x000001F117D14588>\n",
      "-------------------------------------------\n",
      "{'A': [0, 1, 4], 'B': [2, 3]}\n",
      "-------------------------------------------\n",
      "      data1  data2\n",
      "key1              \n",
      "A         8     80\n",
      "B         7     70\n",
      "-------------------------------------------\n",
      "key1\n",
      "A    8\n",
      "B    7\n",
      "Name: data1, dtype: int64\n",
      "-------------------------------------------\n",
      "key1\n",
      "A    8\n",
      "B    7\n",
      "Name: data1, dtype: int64\n",
      "-------------------------------------------\n",
      "key1\n",
      "A    8\n",
      "B    7\n",
      "Name: data1, dtype: int64\n",
      "-------------------------------------------\n"
     ]
    },
    {
     "data": {
      "text/html": [
       "<div>\n",
       "<style scoped>\n",
       "    .dataframe tbody tr th:only-of-type {\n",
       "        vertical-align: middle;\n",
       "    }\n",
       "\n",
       "    .dataframe tbody tr th {\n",
       "        vertical-align: top;\n",
       "    }\n",
       "\n",
       "    .dataframe thead th {\n",
       "        text-align: right;\n",
       "    }\n",
       "</style>\n",
       "<table border=\"1\" class=\"dataframe\">\n",
       "  <thead>\n",
       "    <tr style=\"text-align: right;\">\n",
       "      <th>연도</th>\n",
       "      <th>2005</th>\n",
       "      <th>2010</th>\n",
       "      <th>2015</th>\n",
       "    </tr>\n",
       "    <tr>\n",
       "      <th>지역</th>\n",
       "      <th></th>\n",
       "      <th></th>\n",
       "      <th></th>\n",
       "    </tr>\n",
       "  </thead>\n",
       "  <tbody>\n",
       "    <tr>\n",
       "      <th>경상권</th>\n",
       "      <td>3512547</td>\n",
       "      <td>3393191</td>\n",
       "      <td>3448737</td>\n",
       "    </tr>\n",
       "    <tr>\n",
       "      <th>수도권</th>\n",
       "      <td>9762546</td>\n",
       "      <td>9894685</td>\n",
       "      <td>12794763</td>\n",
       "    </tr>\n",
       "  </tbody>\n",
       "</table>\n",
       "</div>"
      ],
      "text/plain": [
       "연도      2005     2010      2015\n",
       "지역                             \n",
       "경상권  3512547  3393191   3448737\n",
       "수도권  9762546  9894685  12794763"
      ]
     },
     "execution_count": 58,
     "metadata": {},
     "output_type": "execute_result"
    }
   ],
   "source": [
    "import pandas as pd\n",
    "np.random.seed(0)\n",
    "df2 = pd.DataFrame({\n",
    "'key1': ['A', 'A', 'B', 'B', 'A'],\n",
    "'key2': ['one', 'two', 'one', 'two', 'one'],\n",
    "'data1': [1, 2, 3, 4, 5],\n",
    "'data2': [10, 20, 30, 40, 50]\n",
    "})\n",
    "print(df2)\n",
    "print(\"-------------------------------------------\")\n",
    "groups = df2.groupby(df2.key1) #그룹 A와 그룹 \n",
    "print(groups)\n",
    "print(\"-------------------------------------------\")\n",
    "print(groups.groups) #각 그룹 데이터의 인덱스를 저장한 \n",
    "print(\"-------------------------------------------\")\n",
    "print(groups.sum()) #A그룹과 B그룹 데이터의 합계\n",
    "print(\"-------------------------------------------\")\n",
    "print(df2.data1.groupby(df2.key1).sum())\n",
    "print(\"-------------------------------------------\")\n",
    "print(df2.groupby(df2.key1)[\"data1\"].sum()) # `GroupBy` 클래스 객체에서 data1만 선택하여 분석하\n",
    "print(\"-------------------------------------------\")\n",
    "print(df2.groupby(df2.key1).sum()[\"data1\"]) # 전체 데이터를 분석한 후 data1만 선택한 경\n",
    "print(\"-------------------------------------------\")\n",
    "df1[\"인구\"].groupby([df1[\"지역\"], df1[\"연도\"]]).sum().unstack(\"연도\")"
   ]
  },
  {
   "cell_type": "code",
   "execution_count": 59,
   "id": "automatic-height",
   "metadata": {
    "ExecuteTime": {
     "end_time": "2021-06-05T03:36:38.923515Z",
     "start_time": "2021-06-05T03:36:38.889565Z"
    }
   },
   "outputs": [
    {
     "data": {
      "text/html": [
       "<div>\n",
       "<style scoped>\n",
       "    .dataframe tbody tr th:only-of-type {\n",
       "        vertical-align: middle;\n",
       "    }\n",
       "\n",
       "    .dataframe tbody tr th {\n",
       "        vertical-align: top;\n",
       "    }\n",
       "\n",
       "    .dataframe thead th {\n",
       "        text-align: right;\n",
       "    }\n",
       "</style>\n",
       "<table border=\"1\" class=\"dataframe\">\n",
       "  <thead>\n",
       "    <tr style=\"text-align: right;\">\n",
       "      <th>key2</th>\n",
       "      <th>one</th>\n",
       "      <th>two</th>\n",
       "    </tr>\n",
       "    <tr>\n",
       "      <th>key1</th>\n",
       "      <th></th>\n",
       "      <th></th>\n",
       "    </tr>\n",
       "  </thead>\n",
       "  <tbody>\n",
       "    <tr>\n",
       "      <th>A</th>\n",
       "      <td>6</td>\n",
       "      <td>2</td>\n",
       "    </tr>\n",
       "    <tr>\n",
       "      <th>B</th>\n",
       "      <td>3</td>\n",
       "      <td>4</td>\n",
       "    </tr>\n",
       "  </tbody>\n",
       "</table>\n",
       "</div>"
      ],
      "text/plain": [
       "key2  one  two\n",
       "key1          \n",
       "A       6    2\n",
       "B       3    4"
      ]
     },
     "execution_count": 59,
     "metadata": {},
     "output_type": "execute_result"
    }
   ],
   "source": [
    "import pandas as pd\n",
    "np.random.seed(0)\n",
    "df2 = pd.DataFrame({\n",
    "'key1': ['A', 'A', 'B', 'B', 'A'],\n",
    "'key2': ['one', 'two', 'one', 'two', 'one'],\n",
    "'data1': [1, 2, 3, 4, 5],\n",
    "'data2': [10, 20, 30, 40, 50]\n",
    "})\n",
    "#복합 키 (key1, key2) 값에 따른 data1의 합계를 구하기\n",
    "df2.data1.groupby([df2.key1, df2.key2]).sum()\n",
    "df2.data1.groupby([df2[\"key1\"], df2[\"key2\"]]).sum().unstack(\"key2\")\n"
   ]
  },
  {
   "cell_type": "markdown",
   "id": "b003cb30",
   "metadata": {},
   "source": [
    "# Iris 데이터 실습"
   ]
  },
  {
   "cell_type": "code",
   "execution_count": 60,
   "id": "computational-depression",
   "metadata": {
    "ExecuteTime": {
     "end_time": "2021-06-05T03:36:39.304704Z",
     "start_time": "2021-06-05T03:36:39.188703Z"
    }
   },
   "outputs": [
    {
     "data": {
      "text/html": [
       "<div>\n",
       "<style scoped>\n",
       "    .dataframe tbody tr th:only-of-type {\n",
       "        vertical-align: middle;\n",
       "    }\n",
       "\n",
       "    .dataframe tbody tr th {\n",
       "        vertical-align: top;\n",
       "    }\n",
       "\n",
       "    .dataframe thead th {\n",
       "        text-align: right;\n",
       "    }\n",
       "</style>\n",
       "<table border=\"1\" class=\"dataframe\">\n",
       "  <thead>\n",
       "    <tr style=\"text-align: right;\">\n",
       "      <th></th>\n",
       "      <th>petal_length</th>\n",
       "      <th>petal_length_class</th>\n",
       "    </tr>\n",
       "  </thead>\n",
       "  <tbody>\n",
       "    <tr>\n",
       "      <th>140</th>\n",
       "      <td>5.6</td>\n",
       "      <td>중</td>\n",
       "    </tr>\n",
       "    <tr>\n",
       "      <th>141</th>\n",
       "      <td>5.1</td>\n",
       "      <td>소</td>\n",
       "    </tr>\n",
       "    <tr>\n",
       "      <th>142</th>\n",
       "      <td>5.1</td>\n",
       "      <td>소</td>\n",
       "    </tr>\n",
       "    <tr>\n",
       "      <th>143</th>\n",
       "      <td>5.9</td>\n",
       "      <td>대</td>\n",
       "    </tr>\n",
       "    <tr>\n",
       "      <th>144</th>\n",
       "      <td>5.7</td>\n",
       "      <td>중</td>\n",
       "    </tr>\n",
       "    <tr>\n",
       "      <th>145</th>\n",
       "      <td>5.2</td>\n",
       "      <td>소</td>\n",
       "    </tr>\n",
       "    <tr>\n",
       "      <th>146</th>\n",
       "      <td>5.0</td>\n",
       "      <td>소</td>\n",
       "    </tr>\n",
       "    <tr>\n",
       "      <th>147</th>\n",
       "      <td>5.2</td>\n",
       "      <td>소</td>\n",
       "    </tr>\n",
       "    <tr>\n",
       "      <th>148</th>\n",
       "      <td>5.4</td>\n",
       "      <td>중</td>\n",
       "    </tr>\n",
       "    <tr>\n",
       "      <th>149</th>\n",
       "      <td>5.1</td>\n",
       "      <td>소</td>\n",
       "    </tr>\n",
       "  </tbody>\n",
       "</table>\n",
       "</div>"
      ],
      "text/plain": [
       "     petal_length petal_length_class\n",
       "140           5.6                  중\n",
       "141           5.1                  소\n",
       "142           5.1                  소\n",
       "143           5.9                  대\n",
       "144           5.7                  중\n",
       "145           5.2                  소\n",
       "146           5.0                  소\n",
       "147           5.2                  소\n",
       "148           5.4                  중\n",
       "149           5.1                  소"
      ]
     },
     "execution_count": 60,
     "metadata": {},
     "output_type": "execute_result"
    }
   ],
   "source": [
    "import seaborn as sns\n",
    "iris = sns.load_dataset(\"iris\")\n",
    "#각 붓꽃 종별로 가장 큰 값과 가장 작은 값의 비율\n",
    "def peak_to_peak_ratio(x):\n",
    "    return x.max() / x.min()\n",
    "\n",
    "iris.groupby(iris.species).agg(peak_to_peak_ratio)\n",
    "iris.groupby(iris.species).describe().T\n",
    "#각 붓꽃 종별로 가장 꽃잎 길이(petal length)가 큰 3개의 데이터를 뽑아낼 수도 있다\n",
    "def top3_petal_length(df):\n",
    "    return df.sort_values(by=\"petal_length\", ascending=False)[:3]\n",
    "iris.groupby(iris.species).apply(top3_petal_length)\n",
    "#각 붓꽃 꽃잎길이가 해당 종 내에서 대/중/소 어느 것에 해당되는지에 대한 데이터프레임 생성\n",
    "def q3cut(s):\n",
    "    return pd.qcut(s, 3, labels=[\"소\", \"중\", \"대\"]).astype(str)\n",
    "iris[\"petal_length_class\"] = iris.groupby(iris.species).petal_length.transform(q3cut)\n",
    "iris[[\"petal_length\", \"petal_length_class\"]].tail(10)"
   ]
  },
  {
   "cell_type": "code",
   "execution_count": 61,
   "id": "impressed-petite",
   "metadata": {
    "ExecuteTime": {
     "end_time": "2021-06-05T03:36:39.520113Z",
     "start_time": "2021-06-05T03:36:39.496111Z"
    }
   },
   "outputs": [
    {
     "data": {
      "text/html": [
       "<div>\n",
       "<style scoped>\n",
       "    .dataframe tbody tr th:only-of-type {\n",
       "        vertical-align: middle;\n",
       "    }\n",
       "\n",
       "    .dataframe tbody tr th {\n",
       "        vertical-align: top;\n",
       "    }\n",
       "\n",
       "    .dataframe thead th {\n",
       "        text-align: right;\n",
       "    }\n",
       "</style>\n",
       "<table border=\"1\" class=\"dataframe\">\n",
       "  <thead>\n",
       "    <tr style=\"text-align: right;\">\n",
       "      <th></th>\n",
       "      <th>48</th>\n",
       "      <th>49</th>\n",
       "      <th>50</th>\n",
       "    </tr>\n",
       "  </thead>\n",
       "  <tbody>\n",
       "    <tr>\n",
       "      <th>0</th>\n",
       "      <td>1</td>\n",
       "      <td>2</td>\n",
       "      <td>3</td>\n",
       "    </tr>\n",
       "    <tr>\n",
       "      <th>1</th>\n",
       "      <td>4</td>\n",
       "      <td>5</td>\n",
       "      <td>6</td>\n",
       "    </tr>\n",
       "    <tr>\n",
       "      <th>2</th>\n",
       "      <td>7</td>\n",
       "      <td>8</td>\n",
       "      <td>9</td>\n",
       "    </tr>\n",
       "  </tbody>\n",
       "</table>\n",
       "</div>"
      ],
      "text/plain": [
       "   48  49  50\n",
       "0   1   2   3\n",
       "1   4   5   6\n",
       "2   7   8   9"
      ]
     },
     "metadata": {},
     "output_type": "display_data"
    },
    {
     "data": {
      "text/html": [
       "<div>\n",
       "<style scoped>\n",
       "    .dataframe tbody tr th:only-of-type {\n",
       "        vertical-align: middle;\n",
       "    }\n",
       "\n",
       "    .dataframe tbody tr th {\n",
       "        vertical-align: top;\n",
       "    }\n",
       "\n",
       "    .dataframe thead th {\n",
       "        text-align: right;\n",
       "    }\n",
       "</style>\n",
       "<table border=\"1\" class=\"dataframe\">\n",
       "  <thead>\n",
       "    <tr style=\"text-align: right;\">\n",
       "      <th></th>\n",
       "      <th>48</th>\n",
       "      <th>49</th>\n",
       "      <th>50</th>\n",
       "    </tr>\n",
       "  </thead>\n",
       "  <tbody>\n",
       "    <tr>\n",
       "      <th>0</th>\n",
       "      <td>1</td>\n",
       "      <td>2</td>\n",
       "      <td>3</td>\n",
       "    </tr>\n",
       "  </tbody>\n",
       "</table>\n",
       "</div>"
      ],
      "text/plain": [
       "   48  49  50\n",
       "0   1   2   3"
      ]
     },
     "metadata": {},
     "output_type": "display_data"
    }
   ],
   "source": [
    "df = pd.DataFrame(data=np.array([[1, 2, 3], [4, 5, 6], [7, 8, 9]]), columns=[48, 49, 50])\n",
    "display(df)\n",
    "a = pd.DataFrame(data=[[1,2,3]], columns=[48,49,50])\n",
    "display(a)"
   ]
  },
  {
   "cell_type": "code",
   "execution_count": 62,
   "id": "painful-appeal",
   "metadata": {
    "ExecuteTime": {
     "end_time": "2021-06-05T03:36:40.067617Z",
     "start_time": "2021-06-05T03:36:40.048016Z"
    }
   },
   "outputs": [
    {
     "name": "stdout",
     "output_type": "stream",
     "text": [
      "RangeIndex(start=0, stop=3, step=1)\n",
      "Index(['0', '1', '2'], dtype='object')\n"
     ]
    }
   ],
   "source": [
    "import pandas as pd\n",
    "\n",
    "df=pd.DataFrame({\"A\": [1,2,3], \"B\":[4,5,6]})\n",
    "\n",
    "df1 = df.rename(columns={\"A\":\"a\", \"B\":\"c\"})\n",
    "df2 = df.rename(index={0:\"x\", 1:\"y\", 2:\"z\"})\n",
    "\n",
    "print(df.index)\n",
    "print(df.rename(index=str).index)"
   ]
  },
  {
   "cell_type": "code",
   "execution_count": 63,
   "id": "sunrise-tunnel",
   "metadata": {
    "ExecuteTime": {
     "end_time": "2021-06-05T03:36:40.316166Z",
     "start_time": "2021-06-05T03:36:40.290446Z"
    }
   },
   "outputs": [
    {
     "data": {
      "text/html": [
       "<div>\n",
       "<style scoped>\n",
       "    .dataframe tbody tr th:only-of-type {\n",
       "        vertical-align: middle;\n",
       "    }\n",
       "\n",
       "    .dataframe tbody tr th {\n",
       "        vertical-align: top;\n",
       "    }\n",
       "\n",
       "    .dataframe thead th {\n",
       "        text-align: right;\n",
       "    }\n",
       "</style>\n",
       "<table border=\"1\" class=\"dataframe\">\n",
       "  <thead>\n",
       "    <tr style=\"text-align: right;\">\n",
       "      <th></th>\n",
       "      <th>A</th>\n",
       "      <th>B</th>\n",
       "      <th>C</th>\n",
       "      <th>D</th>\n",
       "    </tr>\n",
       "  </thead>\n",
       "  <tbody>\n",
       "    <tr>\n",
       "      <th>2</th>\n",
       "      <td>8</td>\n",
       "      <td>9</td>\n",
       "      <td>10</td>\n",
       "      <td>11</td>\n",
       "    </tr>\n",
       "  </tbody>\n",
       "</table>\n",
       "</div>"
      ],
      "text/plain": [
       "   A  B   C   D\n",
       "2  8  9  10  11"
      ]
     },
     "execution_count": 63,
     "metadata": {},
     "output_type": "execute_result"
    }
   ],
   "source": [
    "df = pd.DataFrame(np.arange(12).reshape(3,4),\n",
    "                  columns=['A','B','C','D'])\n",
    "df.drop(['B','C'], axis=1)\n",
    "df.drop(columns=['B','C'])\n",
    "\n",
    "df.drop([0,1])"
   ]
  },
  {
   "cell_type": "code",
   "execution_count": 64,
   "id": "proof-harassment",
   "metadata": {
    "ExecuteTime": {
     "end_time": "2021-06-05T03:36:40.584196Z",
     "start_time": "2021-06-05T03:36:40.541834Z"
    }
   },
   "outputs": [
    {
     "name": "stdout",
     "output_type": "stream",
     "text": [
      "                 big  small\n",
      "lama   speed    45.0   30.0\n",
      "       weight  200.0  100.0\n",
      "       length    1.5    1.0\n",
      "cow    speed    30.0   20.0\n",
      "       weight  250.0  150.0\n",
      "       length    1.5    0.8\n",
      "falcon speed   320.0  250.0\n",
      "       weight    1.0    0.8\n",
      "       length    0.3    0.2\n",
      "-------------------------------------------\n",
      "                 big\n",
      "lama   speed    45.0\n",
      "       weight  200.0\n",
      "       length    1.5\n",
      "falcon speed   320.0\n",
      "       weight    1.0\n",
      "       length    0.3\n",
      "-------------------------------------------\n",
      "                 big  small\n",
      "lama   speed    45.0   30.0\n",
      "       weight  200.0  100.0\n",
      "cow    speed    30.0   20.0\n",
      "       weight  250.0  150.0\n",
      "falcon speed   320.0  250.0\n",
      "       weight    1.0    0.8\n",
      "-------------------------------------------\n"
     ]
    }
   ],
   "source": [
    "midx = pd.MultiIndex(levels=[['lama', 'cow', 'falcon'],\n",
    "                             ['speed', 'weight', 'length']],\n",
    "                     codes=[[0, 0, 0, 1, 1, 1, 2, 2, 2],\n",
    "                            [0, 1, 2, 0, 1, 2, 0, 1, 2]])\n",
    "\n",
    "df = pd.DataFrame(index=midx, columns=['big', 'small'],\n",
    "                  data=[[45, 30], [200, 100], [1.5, 1], [30, 20],\n",
    "                        [250, 150], [1.5, 0.8], [320, 250],\n",
    "                        [1, 0.8], [0.3, 0.2]])\n",
    "\n",
    "print(df)\n",
    "print(\"-------------------------------------------\")\n",
    "df2 = df.drop(index='cow', columns='small')\n",
    "print(df2)\n",
    "print(\"-------------------------------------------\")\n",
    "df3 = df.drop(index='length', level=1)\n",
    "print(df3)\n",
    "print(\"-------------------------------------------\")\n"
   ]
  },
  {
   "cell_type": "code",
   "execution_count": 65,
   "id": "corrected-jackson",
   "metadata": {
    "ExecuteTime": {
     "end_time": "2021-06-05T03:36:42.342867Z",
     "start_time": "2021-06-05T03:36:42.284599Z"
    }
   },
   "outputs": [
    {
     "data": {
      "text/html": [
       "<div>\n",
       "<style scoped>\n",
       "    .dataframe tbody tr th:only-of-type {\n",
       "        vertical-align: middle;\n",
       "    }\n",
       "\n",
       "    .dataframe tbody tr th {\n",
       "        vertical-align: top;\n",
       "    }\n",
       "\n",
       "    .dataframe thead th {\n",
       "        text-align: right;\n",
       "    }\n",
       "</style>\n",
       "<table border=\"1\" class=\"dataframe\">\n",
       "  <thead>\n",
       "    <tr style=\"text-align: right;\">\n",
       "      <th></th>\n",
       "      <th>48</th>\n",
       "      <th>49</th>\n",
       "      <th>50</th>\n",
       "    </tr>\n",
       "  </thead>\n",
       "  <tbody>\n",
       "    <tr>\n",
       "      <th>0</th>\n",
       "      <td>1</td>\n",
       "      <td>2</td>\n",
       "      <td>3</td>\n",
       "    </tr>\n",
       "    <tr>\n",
       "      <th>1</th>\n",
       "      <td>4</td>\n",
       "      <td>5</td>\n",
       "      <td>6</td>\n",
       "    </tr>\n",
       "    <tr>\n",
       "      <th>2</th>\n",
       "      <td>7</td>\n",
       "      <td>8</td>\n",
       "      <td>9</td>\n",
       "    </tr>\n",
       "  </tbody>\n",
       "</table>\n",
       "</div>"
      ],
      "text/plain": [
       "   48  49  50\n",
       "0   1   2   3\n",
       "1   4   5   6\n",
       "2   7   8   9"
      ]
     },
     "metadata": {},
     "output_type": "display_data"
    },
    {
     "data": {
      "text/html": [
       "<div>\n",
       "<style scoped>\n",
       "    .dataframe tbody tr th:only-of-type {\n",
       "        vertical-align: middle;\n",
       "    }\n",
       "\n",
       "    .dataframe tbody tr th {\n",
       "        vertical-align: top;\n",
       "    }\n",
       "\n",
       "    .dataframe thead th {\n",
       "        text-align: right;\n",
       "    }\n",
       "</style>\n",
       "<table border=\"1\" class=\"dataframe\">\n",
       "  <thead>\n",
       "    <tr style=\"text-align: right;\">\n",
       "      <th></th>\n",
       "      <th>48</th>\n",
       "      <th>49</th>\n",
       "      <th>50</th>\n",
       "    </tr>\n",
       "  </thead>\n",
       "  <tbody>\n",
       "    <tr>\n",
       "      <th>0</th>\n",
       "      <td>1</td>\n",
       "      <td>2</td>\n",
       "      <td>3</td>\n",
       "    </tr>\n",
       "  </tbody>\n",
       "</table>\n",
       "</div>"
      ],
      "text/plain": [
       "   48  49  50\n",
       "0   1   2   3"
      ]
     },
     "metadata": {},
     "output_type": "display_data"
    },
    {
     "data": {
      "text/html": [
       "<div>\n",
       "<style scoped>\n",
       "    .dataframe tbody tr th:only-of-type {\n",
       "        vertical-align: middle;\n",
       "    }\n",
       "\n",
       "    .dataframe tbody tr th {\n",
       "        vertical-align: top;\n",
       "    }\n",
       "\n",
       "    .dataframe thead th {\n",
       "        text-align: right;\n",
       "    }\n",
       "</style>\n",
       "<table border=\"1\" class=\"dataframe\">\n",
       "  <thead>\n",
       "    <tr style=\"text-align: right;\">\n",
       "      <th></th>\n",
       "      <th>A</th>\n",
       "      <th>B</th>\n",
       "      <th>C</th>\n",
       "    </tr>\n",
       "  </thead>\n",
       "  <tbody>\n",
       "    <tr>\n",
       "      <th>0</th>\n",
       "      <td>1</td>\n",
       "      <td>2</td>\n",
       "      <td>3</td>\n",
       "    </tr>\n",
       "    <tr>\n",
       "      <th>1</th>\n",
       "      <td>4</td>\n",
       "      <td>5</td>\n",
       "      <td>6</td>\n",
       "    </tr>\n",
       "    <tr>\n",
       "      <th>2</th>\n",
       "      <td>7</td>\n",
       "      <td>8</td>\n",
       "      <td>9</td>\n",
       "    </tr>\n",
       "  </tbody>\n",
       "</table>\n",
       "</div>"
      ],
      "text/plain": [
       "   A  B  C\n",
       "0  1  2  3\n",
       "1  4  5  6\n",
       "2  7  8  9"
      ]
     },
     "metadata": {},
     "output_type": "display_data"
    },
    {
     "data": {
      "text/html": [
       "<div>\n",
       "<style scoped>\n",
       "    .dataframe tbody tr th:only-of-type {\n",
       "        vertical-align: middle;\n",
       "    }\n",
       "\n",
       "    .dataframe tbody tr th {\n",
       "        vertical-align: top;\n",
       "    }\n",
       "\n",
       "    .dataframe thead th {\n",
       "        text-align: right;\n",
       "    }\n",
       "</style>\n",
       "<table border=\"1\" class=\"dataframe\">\n",
       "  <thead>\n",
       "    <tr style=\"text-align: right;\">\n",
       "      <th></th>\n",
       "      <th>A</th>\n",
       "      <th>B</th>\n",
       "      <th>C</th>\n",
       "      <th>D</th>\n",
       "    </tr>\n",
       "  </thead>\n",
       "  <tbody>\n",
       "    <tr>\n",
       "      <th>0</th>\n",
       "      <td>1</td>\n",
       "      <td>2</td>\n",
       "      <td>3</td>\n",
       "      <td>5</td>\n",
       "    </tr>\n",
       "    <tr>\n",
       "      <th>1</th>\n",
       "      <td>4</td>\n",
       "      <td>5</td>\n",
       "      <td>6</td>\n",
       "      <td>6</td>\n",
       "    </tr>\n",
       "    <tr>\n",
       "      <th>2</th>\n",
       "      <td>7</td>\n",
       "      <td>8</td>\n",
       "      <td>9</td>\n",
       "      <td>7</td>\n",
       "    </tr>\n",
       "  </tbody>\n",
       "</table>\n",
       "</div>"
      ],
      "text/plain": [
       "   A  B  C  D\n",
       "0  1  2  3  5\n",
       "1  4  5  6  6\n",
       "2  7  8  9  7"
      ]
     },
     "metadata": {},
     "output_type": "display_data"
    },
    {
     "data": {
      "text/html": [
       "<div>\n",
       "<style scoped>\n",
       "    .dataframe tbody tr th:only-of-type {\n",
       "        vertical-align: middle;\n",
       "    }\n",
       "\n",
       "    .dataframe tbody tr th {\n",
       "        vertical-align: top;\n",
       "    }\n",
       "\n",
       "    .dataframe thead th {\n",
       "        text-align: right;\n",
       "    }\n",
       "</style>\n",
       "<table border=\"1\" class=\"dataframe\">\n",
       "  <thead>\n",
       "    <tr style=\"text-align: right;\">\n",
       "      <th></th>\n",
       "      <th>A</th>\n",
       "      <th>B</th>\n",
       "      <th>C</th>\n",
       "      <th>D</th>\n",
       "      <th>E</th>\n",
       "    </tr>\n",
       "  </thead>\n",
       "  <tbody>\n",
       "    <tr>\n",
       "      <th>0</th>\n",
       "      <td>1</td>\n",
       "      <td>2</td>\n",
       "      <td>3</td>\n",
       "      <td>5</td>\n",
       "      <td>5</td>\n",
       "    </tr>\n",
       "    <tr>\n",
       "      <th>1</th>\n",
       "      <td>4</td>\n",
       "      <td>5</td>\n",
       "      <td>6</td>\n",
       "      <td>6</td>\n",
       "      <td>6</td>\n",
       "    </tr>\n",
       "    <tr>\n",
       "      <th>2</th>\n",
       "      <td>7</td>\n",
       "      <td>8</td>\n",
       "      <td>9</td>\n",
       "      <td>7</td>\n",
       "      <td>7</td>\n",
       "    </tr>\n",
       "  </tbody>\n",
       "</table>\n",
       "</div>"
      ],
      "text/plain": [
       "   A  B  C  D  E\n",
       "0  1  2  3  5  5\n",
       "1  4  5  6  6  6\n",
       "2  7  8  9  7  7"
      ]
     },
     "metadata": {},
     "output_type": "display_data"
    }
   ],
   "source": [
    "df = pd.DataFrame(data=np.array([[1, 2, 3], [4, 5, 6], [7, 8, 9]]), columns=[48, 49, 50])\n",
    "display(df)\n",
    "a = pd.DataFrame(data=[[1,2,3]], columns=[48,49,50])\n",
    "display(a)\n",
    "\n",
    "df = pd.DataFrame(data=np.array([[1, 2, 3], [4, 5, 6], [7, 8, 9]]), columns=['A', 'B', 'C'])\n",
    "display(df)\n",
    "\n",
    "df.loc[:, 'D'] = pd.Series(['5', '6', '7'], index=df.index)\n",
    "display(df)\n",
    "\n",
    "df['E'] = pd.Series(['5', '6', '7'], index=df.index)\n",
    "display(df)"
   ]
  },
  {
   "cell_type": "code",
   "execution_count": 66,
   "id": "focused-stylus",
   "metadata": {
    "ExecuteTime": {
     "end_time": "2021-06-05T03:36:42.531169Z",
     "start_time": "2021-06-05T03:36:42.471918Z"
    }
   },
   "outputs": [
    {
     "data": {
      "text/html": [
       "<div>\n",
       "<style scoped>\n",
       "    .dataframe tbody tr th:only-of-type {\n",
       "        vertical-align: middle;\n",
       "    }\n",
       "\n",
       "    .dataframe tbody tr th {\n",
       "        vertical-align: top;\n",
       "    }\n",
       "\n",
       "    .dataframe thead th {\n",
       "        text-align: right;\n",
       "    }\n",
       "</style>\n",
       "<table border=\"1\" class=\"dataframe\">\n",
       "  <thead>\n",
       "    <tr style=\"text-align: right;\">\n",
       "      <th></th>\n",
       "      <th>48</th>\n",
       "      <th>49</th>\n",
       "      <th>50</th>\n",
       "    </tr>\n",
       "  </thead>\n",
       "  <tbody>\n",
       "    <tr>\n",
       "      <th>2.5</th>\n",
       "      <td>1</td>\n",
       "      <td>2</td>\n",
       "      <td>3</td>\n",
       "    </tr>\n",
       "    <tr>\n",
       "      <th>12.6</th>\n",
       "      <td>4</td>\n",
       "      <td>5</td>\n",
       "      <td>6</td>\n",
       "    </tr>\n",
       "    <tr>\n",
       "      <th>4.8</th>\n",
       "      <td>7</td>\n",
       "      <td>8</td>\n",
       "      <td>9</td>\n",
       "    </tr>\n",
       "    <tr>\n",
       "      <th>4.8</th>\n",
       "      <td>40</td>\n",
       "      <td>50</td>\n",
       "      <td>60</td>\n",
       "    </tr>\n",
       "    <tr>\n",
       "      <th>2.5</th>\n",
       "      <td>23</td>\n",
       "      <td>35</td>\n",
       "      <td>37</td>\n",
       "    </tr>\n",
       "  </tbody>\n",
       "</table>\n",
       "</div>"
      ],
      "text/plain": [
       "      48  49  50\n",
       "2.5    1   2   3\n",
       "12.6   4   5   6\n",
       "4.8    7   8   9\n",
       "4.8   40  50  60\n",
       "2.5   23  35  37"
      ]
     },
     "metadata": {},
     "output_type": "display_data"
    },
    {
     "data": {
      "text/html": [
       "<div>\n",
       "<style scoped>\n",
       "    .dataframe tbody tr th:only-of-type {\n",
       "        vertical-align: middle;\n",
       "    }\n",
       "\n",
       "    .dataframe tbody tr th {\n",
       "        vertical-align: top;\n",
       "    }\n",
       "\n",
       "    .dataframe thead th {\n",
       "        text-align: right;\n",
       "    }\n",
       "</style>\n",
       "<table border=\"1\" class=\"dataframe\">\n",
       "  <thead>\n",
       "    <tr style=\"text-align: right;\">\n",
       "      <th></th>\n",
       "      <th>index</th>\n",
       "      <th>48</th>\n",
       "      <th>49</th>\n",
       "      <th>50</th>\n",
       "    </tr>\n",
       "  </thead>\n",
       "  <tbody>\n",
       "    <tr>\n",
       "      <th>0</th>\n",
       "      <td>2.5</td>\n",
       "      <td>1</td>\n",
       "      <td>2</td>\n",
       "      <td>3</td>\n",
       "    </tr>\n",
       "    <tr>\n",
       "      <th>1</th>\n",
       "      <td>12.6</td>\n",
       "      <td>4</td>\n",
       "      <td>5</td>\n",
       "      <td>6</td>\n",
       "    </tr>\n",
       "    <tr>\n",
       "      <th>2</th>\n",
       "      <td>4.8</td>\n",
       "      <td>7</td>\n",
       "      <td>8</td>\n",
       "      <td>9</td>\n",
       "    </tr>\n",
       "    <tr>\n",
       "      <th>3</th>\n",
       "      <td>4.8</td>\n",
       "      <td>40</td>\n",
       "      <td>50</td>\n",
       "      <td>60</td>\n",
       "    </tr>\n",
       "    <tr>\n",
       "      <th>4</th>\n",
       "      <td>2.5</td>\n",
       "      <td>23</td>\n",
       "      <td>35</td>\n",
       "      <td>37</td>\n",
       "    </tr>\n",
       "  </tbody>\n",
       "</table>\n",
       "</div>"
      ],
      "text/plain": [
       "   index  48  49  50\n",
       "0    2.5   1   2   3\n",
       "1   12.6   4   5   6\n",
       "2    4.8   7   8   9\n",
       "3    4.8  40  50  60\n",
       "4    2.5  23  35  37"
      ]
     },
     "metadata": {},
     "output_type": "display_data"
    },
    {
     "data": {
      "text/html": [
       "<div>\n",
       "<style scoped>\n",
       "    .dataframe tbody tr th:only-of-type {\n",
       "        vertical-align: middle;\n",
       "    }\n",
       "\n",
       "    .dataframe tbody tr th {\n",
       "        vertical-align: top;\n",
       "    }\n",
       "\n",
       "    .dataframe thead th {\n",
       "        text-align: right;\n",
       "    }\n",
       "</style>\n",
       "<table border=\"1\" class=\"dataframe\">\n",
       "  <thead>\n",
       "    <tr style=\"text-align: right;\">\n",
       "      <th></th>\n",
       "      <th>48</th>\n",
       "      <th>49</th>\n",
       "      <th>50</th>\n",
       "    </tr>\n",
       "    <tr>\n",
       "      <th>index</th>\n",
       "      <th></th>\n",
       "      <th></th>\n",
       "      <th></th>\n",
       "    </tr>\n",
       "  </thead>\n",
       "  <tbody>\n",
       "    <tr>\n",
       "      <th>12.6</th>\n",
       "      <td>4</td>\n",
       "      <td>5</td>\n",
       "      <td>6</td>\n",
       "    </tr>\n",
       "    <tr>\n",
       "      <th>4.8</th>\n",
       "      <td>40</td>\n",
       "      <td>50</td>\n",
       "      <td>60</td>\n",
       "    </tr>\n",
       "    <tr>\n",
       "      <th>2.5</th>\n",
       "      <td>23</td>\n",
       "      <td>35</td>\n",
       "      <td>37</td>\n",
       "    </tr>\n",
       "  </tbody>\n",
       "</table>\n",
       "</div>"
      ],
      "text/plain": [
       "       48  49  50\n",
       "index            \n",
       "12.6    4   5   6\n",
       "4.8    40  50  60\n",
       "2.5    23  35  37"
      ]
     },
     "metadata": {},
     "output_type": "display_data"
    },
    {
     "data": {
      "text/html": [
       "<div>\n",
       "<style scoped>\n",
       "    .dataframe tbody tr th:only-of-type {\n",
       "        vertical-align: middle;\n",
       "    }\n",
       "\n",
       "    .dataframe tbody tr th {\n",
       "        vertical-align: top;\n",
       "    }\n",
       "\n",
       "    .dataframe thead th {\n",
       "        text-align: right;\n",
       "    }\n",
       "</style>\n",
       "<table border=\"1\" class=\"dataframe\">\n",
       "  <thead>\n",
       "    <tr style=\"text-align: right;\">\n",
       "      <th></th>\n",
       "      <th>A</th>\n",
       "      <th>B</th>\n",
       "      <th>C</th>\n",
       "    </tr>\n",
       "  </thead>\n",
       "  <tbody>\n",
       "    <tr>\n",
       "      <th>0</th>\n",
       "      <td>1</td>\n",
       "      <td>2</td>\n",
       "      <td>3</td>\n",
       "    </tr>\n",
       "    <tr>\n",
       "      <th>1</th>\n",
       "      <td>1</td>\n",
       "      <td>5</td>\n",
       "      <td>6</td>\n",
       "    </tr>\n",
       "    <tr>\n",
       "      <th>2</th>\n",
       "      <td>7</td>\n",
       "      <td>8</td>\n",
       "      <td>9</td>\n",
       "    </tr>\n",
       "  </tbody>\n",
       "</table>\n",
       "</div>"
      ],
      "text/plain": [
       "   A  B  C\n",
       "0  1  2  3\n",
       "1  1  5  6\n",
       "2  7  8  9"
      ]
     },
     "metadata": {},
     "output_type": "display_data"
    }
   ],
   "source": [
    "df = pd.DataFrame(data=np.array([[1, 2, 3], [4, 5, 6], [7, 8, 9], [40, 50, 60], [23, 35, 37]]), \n",
    "index= [2.5, 12.6, 4.8, 4.8, 2.5], \n",
    "columns=[48, 49, 50])\n",
    "display(df)\n",
    "df = df.reset_index()\n",
    "display(df)\n",
    "df = df.drop_duplicates(subset='index', keep='last').set_index('index')\n",
    "display(df)\n",
    "df = pd.DataFrame(data=np.array([[1, 2, 3], [1, 5, 6], [7, 8, 9]]), columns=['A', 'B', 'C'])\n",
    "display(df)"
   ]
  },
  {
   "cell_type": "code",
   "execution_count": 67,
   "id": "toxic-composite",
   "metadata": {
    "ExecuteTime": {
     "end_time": "2021-06-05T03:36:42.750188Z",
     "start_time": "2021-06-05T03:36:42.678170Z"
    }
   },
   "outputs": [
    {
     "data": {
      "text/html": [
       "<div>\n",
       "<style scoped>\n",
       "    .dataframe tbody tr th:only-of-type {\n",
       "        vertical-align: middle;\n",
       "    }\n",
       "\n",
       "    .dataframe tbody tr th {\n",
       "        vertical-align: top;\n",
       "    }\n",
       "\n",
       "    .dataframe thead th {\n",
       "        text-align: right;\n",
       "    }\n",
       "</style>\n",
       "<table border=\"1\" class=\"dataframe\">\n",
       "  <thead>\n",
       "    <tr style=\"text-align: right;\">\n",
       "      <th>연도</th>\n",
       "      <th>2005</th>\n",
       "      <th>2010</th>\n",
       "      <th>2015</th>\n",
       "      <th>합계</th>\n",
       "    </tr>\n",
       "    <tr>\n",
       "      <th>도시</th>\n",
       "      <th></th>\n",
       "      <th></th>\n",
       "      <th></th>\n",
       "      <th></th>\n",
       "    </tr>\n",
       "  </thead>\n",
       "  <tbody>\n",
       "    <tr>\n",
       "      <th>부산</th>\n",
       "      <td>3512547.0</td>\n",
       "      <td>3393191.0</td>\n",
       "      <td>3448737.0</td>\n",
       "      <td>3.451492e+06</td>\n",
       "    </tr>\n",
       "    <tr>\n",
       "      <th>서울</th>\n",
       "      <td>9762546.0</td>\n",
       "      <td>9631482.0</td>\n",
       "      <td>9904312.0</td>\n",
       "      <td>9.766113e+06</td>\n",
       "    </tr>\n",
       "    <tr>\n",
       "      <th>인천</th>\n",
       "      <td>NaN</td>\n",
       "      <td>263203.0</td>\n",
       "      <td>2890451.0</td>\n",
       "      <td>1.576827e+06</td>\n",
       "    </tr>\n",
       "    <tr>\n",
       "      <th>합계</th>\n",
       "      <td>6637546.5</td>\n",
       "      <td>4429292.0</td>\n",
       "      <td>5414500.0</td>\n",
       "      <td>5.350809e+06</td>\n",
       "    </tr>\n",
       "  </tbody>\n",
       "</table>\n",
       "</div>"
      ],
      "text/plain": [
       "연도       2005       2010       2015            합계\n",
       "도시                                               \n",
       "부산  3512547.0  3393191.0  3448737.0  3.451492e+06\n",
       "서울  9762546.0  9631482.0  9904312.0  9.766113e+06\n",
       "인천        NaN   263203.0  2890451.0  1.576827e+06\n",
       "합계  6637546.5  4429292.0  5414500.0  5.350809e+06"
      ]
     },
     "execution_count": 67,
     "metadata": {},
     "output_type": "execute_result"
    }
   ],
   "source": [
    "data = { \"도시\": [\"서울\", \"서울\", \"서울\", \"부산\", \"부산\", \"부산\", \"인천\", \"인천\"], \"연도\": [\"2015\", \"2010\", \"2005\", \"2015\", \"2010\", \"2005\", \"2015\", \"2010\"], \"인구\": [9904312, 9631482, 9762546, 3448737, 3393191, 3512547, 2890451, 263203], \"지역\": [\"수도권\", \"수도권\", \"수도권\", \"경상권\", \"경상권\", \"경상권\", \"수도권\", \"수도권\"] }\n",
    "columns = [\"도시\", \"연도\", \"인구\", \"지역\"]\n",
    "df1 = pd.DataFrame(data, columns=columns)\n",
    "df1.pivot_table(\"인구\", \"도시\", \"연도\", margins=True, margins_name=\"합계\")\n",
    "\n",
    "#df1.pivot_table(\"인구\", \"도시\", \"연도\", margins=False, margins_name=\"합계\")"
   ]
  },
  {
   "cell_type": "code",
   "execution_count": 68,
   "id": "finished-punishment",
   "metadata": {
    "ExecuteTime": {
     "end_time": "2021-06-05T03:36:42.912992Z",
     "start_time": "2021-06-05T03:36:42.879632Z"
    }
   },
   "outputs": [
    {
     "data": {
      "text/html": [
       "<div>\n",
       "<style scoped>\n",
       "    .dataframe tbody tr th:only-of-type {\n",
       "        vertical-align: middle;\n",
       "    }\n",
       "\n",
       "    .dataframe tbody tr th {\n",
       "        vertical-align: top;\n",
       "    }\n",
       "\n",
       "    .dataframe thead th {\n",
       "        text-align: right;\n",
       "    }\n",
       "</style>\n",
       "<table border=\"1\" class=\"dataframe\">\n",
       "  <thead>\n",
       "    <tr style=\"text-align: right;\">\n",
       "      <th></th>\n",
       "      <th></th>\n",
       "      <th>인구</th>\n",
       "    </tr>\n",
       "    <tr>\n",
       "      <th>연도</th>\n",
       "      <th>도시</th>\n",
       "      <th></th>\n",
       "    </tr>\n",
       "  </thead>\n",
       "  <tbody>\n",
       "    <tr>\n",
       "      <th rowspan=\"2\" valign=\"top\">2005</th>\n",
       "      <th>부산</th>\n",
       "      <td>3512547</td>\n",
       "    </tr>\n",
       "    <tr>\n",
       "      <th>서울</th>\n",
       "      <td>9762546</td>\n",
       "    </tr>\n",
       "    <tr>\n",
       "      <th rowspan=\"3\" valign=\"top\">2010</th>\n",
       "      <th>부산</th>\n",
       "      <td>3393191</td>\n",
       "    </tr>\n",
       "    <tr>\n",
       "      <th>서울</th>\n",
       "      <td>9631482</td>\n",
       "    </tr>\n",
       "    <tr>\n",
       "      <th>인천</th>\n",
       "      <td>263203</td>\n",
       "    </tr>\n",
       "    <tr>\n",
       "      <th rowspan=\"3\" valign=\"top\">2015</th>\n",
       "      <th>부산</th>\n",
       "      <td>3448737</td>\n",
       "    </tr>\n",
       "    <tr>\n",
       "      <th>서울</th>\n",
       "      <td>9904312</td>\n",
       "    </tr>\n",
       "    <tr>\n",
       "      <th>인천</th>\n",
       "      <td>2890451</td>\n",
       "    </tr>\n",
       "  </tbody>\n",
       "</table>\n",
       "</div>"
      ],
      "text/plain": [
       "              인구\n",
       "연도   도시         \n",
       "2005 부산  3512547\n",
       "     서울  9762546\n",
       "2010 부산  3393191\n",
       "     서울  9631482\n",
       "     인천   263203\n",
       "2015 부산  3448737\n",
       "     서울  9904312\n",
       "     인천  2890451"
      ]
     },
     "execution_count": 68,
     "metadata": {},
     "output_type": "execute_result"
    }
   ],
   "source": [
    "df1.pivot_table(\"인구\", index=[\"연도\", \"도시\"])"
   ]
  },
  {
   "cell_type": "code",
   "execution_count": 69,
   "id": "tight-microphone",
   "metadata": {
    "ExecuteTime": {
     "end_time": "2021-06-05T03:36:43.227632Z",
     "start_time": "2021-06-05T03:36:43.105863Z"
    }
   },
   "outputs": [
    {
     "data": {
      "text/html": [
       "<div>\n",
       "<style scoped>\n",
       "    .dataframe tbody tr th:only-of-type {\n",
       "        vertical-align: middle;\n",
       "    }\n",
       "\n",
       "    .dataframe tbody tr th {\n",
       "        vertical-align: top;\n",
       "    }\n",
       "\n",
       "    .dataframe thead th {\n",
       "        text-align: right;\n",
       "    }\n",
       "</style>\n",
       "<table border=\"1\" class=\"dataframe\">\n",
       "  <thead>\n",
       "    <tr style=\"text-align: right;\">\n",
       "      <th>smoker</th>\n",
       "      <th>Yes</th>\n",
       "      <th>No</th>\n",
       "      <th>All</th>\n",
       "    </tr>\n",
       "    <tr>\n",
       "      <th>sex</th>\n",
       "      <th></th>\n",
       "      <th></th>\n",
       "      <th></th>\n",
       "    </tr>\n",
       "  </thead>\n",
       "  <tbody>\n",
       "    <tr>\n",
       "      <th>Male</th>\n",
       "      <td>60</td>\n",
       "      <td>97</td>\n",
       "      <td>157</td>\n",
       "    </tr>\n",
       "    <tr>\n",
       "      <th>Female</th>\n",
       "      <td>33</td>\n",
       "      <td>54</td>\n",
       "      <td>87</td>\n",
       "    </tr>\n",
       "    <tr>\n",
       "      <th>All</th>\n",
       "      <td>93</td>\n",
       "      <td>151</td>\n",
       "      <td>244</td>\n",
       "    </tr>\n",
       "  </tbody>\n",
       "</table>\n",
       "</div>"
      ],
      "text/plain": [
       "smoker  Yes   No  All\n",
       "sex                  \n",
       "Male     60   97  157\n",
       "Female   33   54   87\n",
       "All      93  151  244"
      ]
     },
     "execution_count": 69,
     "metadata": {},
     "output_type": "execute_result"
    }
   ],
   "source": [
    "import seaborn as sns\n",
    "tips = sns.load_dataset(\"tips\")\n",
    "tips.tail() #식사 대금 대비 팁의 비율이 어떤 경우에 가장 높아지지는 찾음\n",
    "tips['tip_pct'] = tips['tip'] / tips['total_bill']\n",
    "tips.tail()\n",
    "tips.describe()\n",
    "\n",
    "#성별로 나누어 데이터 갯수를 카운트한다\n",
    "#tips.groupby(\"sex\").count()\n",
    "#tips.groupby(\"sex\").size()\n",
    "#tips.groupby([\"sex\", \"smoker\"]).size()\n",
    "tips.pivot_table(\"tip_pct\", \"sex\", \"smoker\", aggfunc=\"count\", margins=True)"
   ]
  },
  {
   "cell_type": "code",
   "execution_count": 70,
   "id": "experimental-fence",
   "metadata": {
    "ExecuteTime": {
     "end_time": "2021-06-05T03:36:43.506422Z",
     "start_time": "2021-06-05T03:36:43.311138Z"
    }
   },
   "outputs": [
    {
     "data": {
      "text/html": [
       "<div>\n",
       "<style scoped>\n",
       "    .dataframe tbody tr th:only-of-type {\n",
       "        vertical-align: middle;\n",
       "    }\n",
       "\n",
       "    .dataframe tbody tr th {\n",
       "        vertical-align: top;\n",
       "    }\n",
       "\n",
       "    .dataframe thead tr th {\n",
       "        text-align: left;\n",
       "    }\n",
       "\n",
       "    .dataframe thead tr:last-of-type th {\n",
       "        text-align: right;\n",
       "    }\n",
       "</style>\n",
       "<table border=\"1\" class=\"dataframe\">\n",
       "  <thead>\n",
       "    <tr>\n",
       "      <th></th>\n",
       "      <th></th>\n",
       "      <th colspan=\"2\" halign=\"left\">total_bill</th>\n",
       "    </tr>\n",
       "    <tr>\n",
       "      <th></th>\n",
       "      <th></th>\n",
       "      <th>mean</th>\n",
       "      <th>peak_to_peak</th>\n",
       "    </tr>\n",
       "    <tr>\n",
       "      <th>sex</th>\n",
       "      <th>smoker</th>\n",
       "      <th></th>\n",
       "      <th></th>\n",
       "    </tr>\n",
       "  </thead>\n",
       "  <tbody>\n",
       "    <tr>\n",
       "      <th rowspan=\"2\" valign=\"top\">Male</th>\n",
       "      <th>Yes</th>\n",
       "      <td>22.284500</td>\n",
       "      <td>43.56</td>\n",
       "    </tr>\n",
       "    <tr>\n",
       "      <th>No</th>\n",
       "      <td>19.791237</td>\n",
       "      <td>40.82</td>\n",
       "    </tr>\n",
       "    <tr>\n",
       "      <th rowspan=\"2\" valign=\"top\">Female</th>\n",
       "      <th>Yes</th>\n",
       "      <td>17.977879</td>\n",
       "      <td>41.23</td>\n",
       "    </tr>\n",
       "    <tr>\n",
       "      <th>No</th>\n",
       "      <td>18.105185</td>\n",
       "      <td>28.58</td>\n",
       "    </tr>\n",
       "  </tbody>\n",
       "</table>\n",
       "</div>"
      ],
      "text/plain": [
       "              total_bill             \n",
       "                    mean peak_to_peak\n",
       "sex    smoker                        \n",
       "Male   Yes     22.284500        43.56\n",
       "       No      19.791237        40.82\n",
       "Female Yes     17.977879        41.23\n",
       "       No      18.105185        28.58"
      ]
     },
     "execution_count": 70,
     "metadata": {},
     "output_type": "execute_result"
    }
   ],
   "source": [
    "#성별과 흡연 여부에 따른 평균 팁 비율\n",
    "tips.groupby(\"sex\")[[\"tip_pct\"]].mean()\n",
    "tips.groupby(\"smoker\")[[\"tip_pct\"]].mean()\n",
    "tips.pivot_table(\"tip_pct\", \"sex\")\n",
    "tips.pivot_table(\"tip_pct\", [\"sex\", \"smoker\"])\n",
    "tips.pivot_table(\"tip_pct\", \"sex\", \"smoker\")\n",
    "tips.groupby(\"sex\")[[\"tip_pct\"]].describe()\n",
    "\n",
    "tips.groupby(\"smoker\")[[\"tip_pct\"]].describe()\n",
    "tips.groupby([\"sex\", \"smoker\"])[[\"tip_pct\"]].describe()\n",
    "\n",
    "#각 그룹에서 가장 많은 팁과 가장 적은 팁의 차이 계산\n",
    "def peak_to_peak(x):\n",
    "    return x.max() - x.min()\n",
    "tips.groupby([\"sex\", \"smoker\"])[[\"tip\"]].agg(peak_to_peak)\n",
    "#여러 그룹연산을 동시 수행하려면 리스트를 이용\n",
    "tips.groupby([\"sex\", \"smoker\"]).agg([\"mean\", peak_to_peak])[[\"total_bill\"]]"
   ]
  },
  {
   "cell_type": "code",
   "execution_count": 71,
   "id": "generous-hawaiian",
   "metadata": {
    "ExecuteTime": {
     "end_time": "2021-06-05T03:36:43.666658Z",
     "start_time": "2021-06-05T03:36:43.601485Z"
    }
   },
   "outputs": [
    {
     "data": {
      "text/html": [
       "<div>\n",
       "<style scoped>\n",
       "    .dataframe tbody tr th:only-of-type {\n",
       "        vertical-align: middle;\n",
       "    }\n",
       "\n",
       "    .dataframe tbody tr th {\n",
       "        vertical-align: top;\n",
       "    }\n",
       "\n",
       "    .dataframe thead th {\n",
       "        text-align: right;\n",
       "    }\n",
       "</style>\n",
       "<table border=\"1\" class=\"dataframe\">\n",
       "  <thead>\n",
       "    <tr style=\"text-align: right;\">\n",
       "      <th></th>\n",
       "      <th></th>\n",
       "      <th>day</th>\n",
       "      <th>Thur</th>\n",
       "      <th>Fri</th>\n",
       "      <th>Sat</th>\n",
       "      <th>Sun</th>\n",
       "    </tr>\n",
       "    <tr>\n",
       "      <th>time</th>\n",
       "      <th>sex</th>\n",
       "      <th>smoker</th>\n",
       "      <th></th>\n",
       "      <th></th>\n",
       "      <th></th>\n",
       "      <th></th>\n",
       "    </tr>\n",
       "  </thead>\n",
       "  <tbody>\n",
       "    <tr>\n",
       "      <th rowspan=\"4\" valign=\"top\">Lunch</th>\n",
       "      <th rowspan=\"2\" valign=\"top\">Male</th>\n",
       "      <th>Yes</th>\n",
       "      <td>23</td>\n",
       "      <td>5</td>\n",
       "      <td>0</td>\n",
       "      <td>0</td>\n",
       "    </tr>\n",
       "    <tr>\n",
       "      <th>No</th>\n",
       "      <td>50</td>\n",
       "      <td>0</td>\n",
       "      <td>0</td>\n",
       "      <td>0</td>\n",
       "    </tr>\n",
       "    <tr>\n",
       "      <th rowspan=\"2\" valign=\"top\">Female</th>\n",
       "      <th>Yes</th>\n",
       "      <td>17</td>\n",
       "      <td>6</td>\n",
       "      <td>0</td>\n",
       "      <td>0</td>\n",
       "    </tr>\n",
       "    <tr>\n",
       "      <th>No</th>\n",
       "      <td>60</td>\n",
       "      <td>3</td>\n",
       "      <td>0</td>\n",
       "      <td>0</td>\n",
       "    </tr>\n",
       "    <tr>\n",
       "      <th rowspan=\"4\" valign=\"top\">Dinner</th>\n",
       "      <th rowspan=\"2\" valign=\"top\">Male</th>\n",
       "      <th>Yes</th>\n",
       "      <td>0</td>\n",
       "      <td>12</td>\n",
       "      <td>71</td>\n",
       "      <td>39</td>\n",
       "    </tr>\n",
       "    <tr>\n",
       "      <th>No</th>\n",
       "      <td>0</td>\n",
       "      <td>4</td>\n",
       "      <td>85</td>\n",
       "      <td>124</td>\n",
       "    </tr>\n",
       "    <tr>\n",
       "      <th rowspan=\"2\" valign=\"top\">Female</th>\n",
       "      <th>Yes</th>\n",
       "      <td>0</td>\n",
       "      <td>8</td>\n",
       "      <td>33</td>\n",
       "      <td>10</td>\n",
       "    </tr>\n",
       "    <tr>\n",
       "      <th>No</th>\n",
       "      <td>2</td>\n",
       "      <td>2</td>\n",
       "      <td>30</td>\n",
       "      <td>43</td>\n",
       "    </tr>\n",
       "  </tbody>\n",
       "</table>\n",
       "</div>"
      ],
      "text/plain": [
       "day                   Thur  Fri  Sat  Sun\n",
       "time   sex    smoker                     \n",
       "Lunch  Male   Yes       23    5    0    0\n",
       "              No        50    0    0    0\n",
       "       Female Yes       17    6    0    0\n",
       "              No        60    3    0    0\n",
       "Dinner Male   Yes        0   12   71   39\n",
       "              No         0    4   85  124\n",
       "       Female Yes        0    8   33   10\n",
       "              No         2    2   30   43"
      ]
     },
     "execution_count": 71,
     "metadata": {},
     "output_type": "execute_result"
    }
   ],
   "source": [
    "#데이터 열마다 다른 연산을 하고 싶다면 열 라벨과 연산 이름(또는 함수)를 딕셔너리로 넣는다. tips.groupby([\"sex\", \"smoker\"]).agg( {'tip_pct': 'mean', 'total_bill': peak_to_peak})\n",
    "tips.pivot_table(['tip_pct', 'size'], ['sex', 'day'], 'smoker')\n",
    "tips.pivot_table('size', ['time', 'sex', 'smoker'], 'day', aggfunc='sum', fill_value=0)"
   ]
  },
  {
   "cell_type": "code",
   "execution_count": 73,
   "id": "descending-acquisition",
   "metadata": {
    "ExecuteTime": {
     "end_time": "2021-06-05T03:36:52.235135Z",
     "start_time": "2021-06-05T03:36:52.001091Z"
    }
   },
   "outputs": [
    {
     "name": "stdout",
     "output_type": "stream",
     "text": [
      "[12, 8, 17, 18, 14, 32, 19, 26, 20, 24, 20, 11, 14, 14, 22, 12, 15, 17, 27, 21, 52, 78, 63, 74, 84, 68, 66, 65, 76, 84, 68, 66, 69, 60, 67, 59, 54, 63, 68, 45, 49, 47, 48, 42, 47, 41, 38, 48, 45, 71, 43, 60, 75, 57, 58, 61, 51, 51, 57, 54, 76, 85, 53, 55, 61, 70, 59, 51, 42, 30, 38, 38, 38, 29, 37, 23, 19, 25, 43, 31, 26, 22, 18, 18, 17, 16, 15, 12, 12, 7, 6, 6, 9, 5, 3, 1, 2, 4, 1, 0, 0]\n"
     ]
    },
    {
     "data": {
      "image/png": "[encoded data removed]",
      "text/plain": [
       "<Figure size 432x288 with 1 Axes>"
      ]
     },
     "metadata": {},
     "output_type": "display_data"
    }
   ],
   "source": [
    "import csv\n",
    "f = open('C:/workspace/basic/age.csv')\n",
    "data = csv.reader(f)\n",
    "\n",
    "result = []                  # 빈 리스트 만들기\n",
    "for row in data :\n",
    "    if '서울특별시 중구 필동(1114057000)' == row[0] :  # if  '필동' in row[0] :\n",
    "        #print(row)\n",
    "        for i in row[3:] :\n",
    "            #print(i)      #문자열\n",
    "            result.append(int(i)) # 해당 연령의 인구수 리스트에 순서대로 저장하기\n",
    "            \n",
    "print(result)                # 0세부터 100세 이상까지의 인구수 출력하기\n",
    "#print(len(result))\n",
    "\n",
    "import matplotlib.pyplot as plt\n",
    "plt.style.use('ggplot')      # 격자 무늬 스타일 지정\n",
    "plt.plot(result)\n",
    "plt.show()    "
   ]
  },
  {
   "cell_type": "code",
   "execution_count": null,
   "id": "e805859b",
   "metadata": {},
   "outputs": [],
   "source": []
  }
 ],
 "metadata": {
  "kernelspec": {
   "display_name": "Python 3",
   "language": "python",
   "name": "python3"
  },
  "language_info": {
   "codemirror_mode": {
    "name": "ipython",
    "version": 3
   },
   "file_extension": ".py",
   "mimetype": "text/x-python",
   "name": "python",
   "nbconvert_exporter": "python",
   "pygments_lexer": "ipython3",
   "version": "3.7.10"
  },
  "toc": {
   "base_numbering": 1,
   "nav_menu": {},
   "number_sections": true,
   "sideBar": true,
   "skip_h1_title": false,
   "title_cell": "Table of Contents",
   "title_sidebar": "Contents",
   "toc_cell": false,
   "toc_position": {},
   "toc_section_display": true,
   "toc_window_display": false
  }
 },
 "nbformat": 4,
 "nbformat_minor": 5
}
